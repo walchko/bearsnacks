{
 "cells": [
  {
   "cell_type": "markdown",
   "metadata": {},
   "source": [
    "![](https://images.pexels.com/photos/838981/pexels-photo-838981.jpeg?auto=compress&cs=tinysrgb&dpr=2&h=750&w=1260)\n",
    "\n",
    "# Jacobians\n",
    "\n",
    "Kevin Walchko, Phd\n",
    "\n",
    "---\n",
    "\n",
    "As an application, in the field of control engineering the use of Jacobian matrices allows the local (approximate) linearisation of non-linear systems around a given equilibrium point and so allows the use of linear systems techniques, such as the calculation of eigenvalues (and thus allows an indication of the type of the equilibrium point).\n",
    "\n",
    "Jacobians are also used in the estimation of the internal states of non-linear systems in the construction of the extended Kalman filter, and also if the extended Kalman filter is to be used to provide joint state and parameter estimates for a linear system (since this is a non-linear system analysis due to the products of what are then effectively inputs and outputs of the system).\n",
    "\n",
    "The Jacobian matrix of $f$ is defined to be an $m \\times n$ matrix, denoted by $J$, whose $(i,j)$th entry is $\\mathbf J_{ij} = \\frac{\\partial f_i}{\\partial x_j}$, or explicitly \n",
    "\n",
    "$$\n",
    "\\mathbf J = \\begin{bmatrix}\n",
    "    \\dfrac{\\partial \\mathbf{f}}{\\partial x_1} & \\cdots & \\dfrac{\\partial \\mathbf{f}}{\\partial x_n} \\end{bmatrix}\n",
    "= \\begin{bmatrix}\n",
    "    \\dfrac{\\partial f_1}{\\partial x_1} & \\cdots & \\dfrac{\\partial f_1}{\\partial x_n}\\\\\n",
    "    \\vdots & \\ddots & \\vdots\\\\\n",
    "    \\dfrac{\\partial f_m}{\\partial x_1} & \\cdots & \\dfrac{\\partial f_m}{\\partial x_n} \\end{bmatrix}\n",
    "$$\n",
    "\n",
    "## References\n",
    "\n",
    "- wikipedia: [Jacobian Matrix](https://en.wikipedia.org/wiki/Jacobian_matrix_and_determinant#Example_1)\n",
    "- stackexchange [Calculate Jacobian](https://stackoverflow.com/a/54954446/5374768)\n",
    "- math.stackexchance: [Jacobian uses](https://math.stackexchange.com/a/36648)"
   ]
  },
  {
   "cell_type": "markdown",
   "metadata": {},
   "source": [
    "## Example\n",
    "\n",
    "[Ref](https://en.wikipedia.org/wiki/Jacobian_matrix_and_determinant#Example_1)\n",
    "\n",
    "Given the following non-linear function, find the Jacobian and its determinant.\n",
    "\n",
    "$$\n",
    "\\mathbf f\\left(\\begin{bmatrix} x\\\\y\\end{bmatrix}\\right) = \\begin{bmatrix} f_1(x,y)\\\\f_2(x,y)\\end{bmatrix} =\n",
    "  \\begin{bmatrix}  x^2 y \\\\5 x + \\sin y \n",
    "  \\end{bmatrix}\n",
    "$$\n",
    "\n",
    "Then we have\n",
    "\n",
    "$$\n",
    "f_1(x, y) = x^2 y\n",
    "$$\n",
    "\n",
    "and\n",
    "\n",
    "$$f_2(x, y) = 5 x + \\sin y$$\n",
    "\n",
    "and the Jacobian matrix of $f$ is\n",
    "\n",
    "$$\n",
    "\\mathbf J_{\\mathbf f}(x, y) = \\begin{bmatrix}\n",
    "  \\dfrac{\\partial f_1}{\\partial x} & \\dfrac{\\partial f_1}{\\partial y}\\\\[1em]\n",
    "  \\dfrac{\\partial f_2}{\\partial x} & \\dfrac{\\partial f_2}{\\partial y} \\end{bmatrix}\n",
    "= \\begin{bmatrix}\n",
    "  2 x y & x^2    \\\\\n",
    "  5     & \\cos y \\end{bmatrix}\n",
    "$$\n",
    "\n",
    "and the Jacobian determinant is\n",
    "$\\det(\\mathbf J_{\\mathbf f}(x, y)) = 2 x y \\cos y - 5 x^2$"
   ]
  },
  {
   "cell_type": "code",
   "execution_count": 218,
   "metadata": {},
   "outputs": [],
   "source": [
    "import numpy as np\n",
    "from math import sin, cos"
   ]
  },
  {
   "cell_type": "code",
   "execution_count": 258,
   "metadata": {},
   "outputs": [],
   "source": [
    "def perf(x, a):\n",
    "    print(\"Result:\")\n",
    "    print(x, \"\\n\")\n",
    "    print(\"Error:\", np.linalg.norm(a-x))"
   ]
  },
  {
   "cell_type": "code",
   "execution_count": 155,
   "metadata": {},
   "outputs": [],
   "source": [
    "def func(x):\n",
    "    \"\"\"\n",
    "    Some cool non-linear function\n",
    "    f = [x**2y; 5x+sin(y)]\n",
    "    \"\"\"\n",
    "    f1 = x[0]**2*x[1]\n",
    "    f2 = 5*x[0]+sin(x[1])\n",
    "    \n",
    "    return np.array([f1,f2])"
   ]
  },
  {
   "cell_type": "code",
   "execution_count": 247,
   "metadata": {},
   "outputs": [],
   "source": [
    "# state\n",
    "x = np.array([5,2])"
   ]
  },
  {
   "cell_type": "code",
   "execution_count": 256,
   "metadata": {},
   "outputs": [
    {
     "name": "stdout",
     "output_type": "stream",
     "text": [
      "[[20.         25.        ]\n",
      " [ 5.         -0.41614684]]\n"
     ]
    }
   ],
   "source": [
    "def dfunc(x):\n",
    "    \"\"\"\n",
    "    The manually calculated Jacobian of the cool function\n",
    "    f = [x**2y; 5x+sin(y)]\n",
    "    \"\"\"\n",
    "    ret = [\n",
    "        [2*x[0]*x[1], x[0]**2],\n",
    "        [5, cos(x[1])]\n",
    "    ]\n",
    "    \n",
    "    return np.array(ret)\n",
    "\n",
    "# here is the answer we expect\n",
    "ans = dfunc(x)\n",
    "print(ans)"
   ]
  },
  {
   "cell_type": "markdown",
   "metadata": {},
   "source": [
    "## Jacobian Class\n",
    "\n",
    "These classes perform a *center* and *forward* numerical differentiation of a function to produce the Jacobian. The original method was found on-line and then I optimized to make it more efficient"
   ]
  },
  {
   "cell_type": "code",
   "execution_count": 242,
   "metadata": {},
   "outputs": [],
   "source": [
    "import attr\n",
    "\n",
    "@attr.s(slots=True)\n",
    "class Jacobian:\n",
    "    f=attr.ib() # function\n",
    "    \n",
    "    # cache some variables to save processing time\n",
    "    n=attr.ib(init=False, default=None)\n",
    "    jac=attr.ib(init=False, default=None)\n",
    "    \n",
    "    \n",
    "@attr.s(slots=True)\n",
    "class JacobianForward(Jacobian):\n",
    "    def __call__(self, x, dx=1e-8):\n",
    "        if self.n is None:\n",
    "            self.n = len(x)\n",
    "            self.jac = np.zeros((self.n, self.n))\n",
    "        func = self.f(x)\n",
    "        \n",
    "        for j in range(self.n):\n",
    "            Dxj = (abs(x[j])*dx if x[j] != 0 else dx)\n",
    "            d = np.zeros(self.n)\n",
    "            d[j] = Dxj\n",
    "            self.jac[:, j] = (self.f(x+d) - func)/Dxj\n",
    "        return self.jac\n",
    "    \n",
    "    \n",
    "@attr.s(slots=True)\n",
    "class JacobianCenter(Jacobian):\n",
    "    def __call__(self, x, dx=1e-8):\n",
    "        if self.n is None:\n",
    "            self.n = len(x)\n",
    "            self.jac = np.zeros((self.n, self.n))\n",
    "        for j in range(self.n):\n",
    "            Dxj = (abs(x[j])*dx if x[j] != 0 else dx)\n",
    "            d = np.zeros(self.n)\n",
    "            d[j] = Dxj\n",
    "            self.jac[:, j] = (self.f(x+d) - self.f(x-d))/(2*Dxj)\n",
    "        return self.jac\n",
    "    \n",
    "    \n",
    "@attr.s(slots=True)\n",
    "class JacobianCenterOriginal(Jacobian):\n",
    "    def __call__(self, x, dx=1e-8):\n",
    "        n = len(x)\n",
    "        jac = np.zeros((n, n))\n",
    "        for j in range(n):  # through columns to allow for vector addition\n",
    "            Dxj = (abs(x[j])*dx if x[j] != 0 else dx)\n",
    "            x_plus = [(xi if k != j else xi + Dxj) for k, xi in enumerate(x)]\n",
    "            x_minus = [(xi if k != j else xi - Dxj) for k, xi in enumerate(x)]\n",
    "            jac[:, j] = (self.f(x_plus) - self.f(x_minus))/(2*Dxj)\n",
    "        return jac"
   ]
  },
  {
   "cell_type": "code",
   "execution_count": 260,
   "metadata": {},
   "outputs": [
    {
     "name": "stdout",
     "output_type": "stream",
     "text": [
      "Result:\n",
      "[[19.99999988 25.00000011]\n",
      " [ 4.99999999 -0.41614685]] \n",
      "\n",
      "Error: 1.680392819408006e-07\n",
      "62.3 µs ± 3.11 µs per loop (mean ± std. dev. of 7 runs, 10000 loops each)\n"
     ]
    }
   ],
   "source": [
    "# original\n",
    "jj = JacobianCenterOriginal(func)\n",
    "perf(jj(x), ans)\n",
    "%timeit jj(x)"
   ]
  },
  {
   "cell_type": "code",
   "execution_count": 261,
   "metadata": {},
   "outputs": [
    {
     "name": "stdout",
     "output_type": "stream",
     "text": [
      "Result:\n",
      "[[19.99999988 25.00000011]\n",
      " [ 4.99999999 -0.41614685]] \n",
      "\n",
      "Error: 1.680392819408006e-07\n",
      "37 µs ± 2.86 µs per loop (mean ± std. dev. of 7 runs, 10000 loops each)\n"
     ]
    }
   ],
   "source": [
    "# center - same as original, but faster\n",
    "jj = JacobianCenter(func)\n",
    "perf(jj(x), ans)\n",
    "%timeit jj(x)"
   ]
  },
  {
   "cell_type": "code",
   "execution_count": 262,
   "metadata": {},
   "outputs": [
    {
     "name": "stdout",
     "output_type": "stream",
     "text": [
      "Result:\n",
      "[[19.99999995 24.99999994]\n",
      " [ 4.99999999 -0.41614676]] \n",
      "\n",
      "Error: 1.1102231361837889e-07\n",
      "34 µs ± 1.29 µs per loop (mean ± std. dev. of 7 runs, 10000 loops each)\n"
     ]
    }
   ],
   "source": [
    "# forward \n",
    "jj = JacobianForward(func)\n",
    "perf(jj(x), ans)\n",
    "%timeit jj(x)"
   ]
  },
  {
   "cell_type": "markdown",
   "metadata": {},
   "source": [
    "# Conclusion\n",
    "\n",
    "Based on the above, my optimizations produced less than a 2x increase (which is really good). I believe if the state vector was much larger, then the performance increase would improve.\n",
    "\n",
    "Also, there is little difference in the error, at least for this example, between the central and forward Jacobian. The forward Jacobian is just slightly faster, so depending on the situation, you can trad-off speed for accuracy. Again, the performance difference will increase as state space increases because forward avoids 1 call per state variable in the Jacobian loop."
   ]
  }
 ],
 "metadata": {
  "kernelspec": {
   "display_name": "Python 3 (ipykernel)",
   "language": "python",
   "name": "python3"
  },
  "language_info": {
   "codemirror_mode": {
    "name": "ipython",
    "version": 3
   },
   "file_extension": ".py",
   "mimetype": "text/x-python",
   "name": "python",
   "nbconvert_exporter": "python",
   "pygments_lexer": "ipython3",
   "version": "3.9.6"
  }
 },
 "nbformat": 4,
 "nbformat_minor": 4
}
