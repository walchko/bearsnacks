{
 "cells": [
  {
   "cell_type": "markdown",
   "id": "5d652a42-1631-45db-988c-c0ba13793c82",
   "metadata": {},
   "source": [
    "# Lex Fridman: Karpathy Lecture\n",
    "\n",
    "![](https://cs.stanford.edu/people/karpathy/me2.jpg)\n",
    "\n",
    "Andrej Karpathy\n",
    "\n",
    "Example NN (Alexnet - 2012):\n",
    "\n",
    "```\n",
    "input: 227x277x3\n",
    "\n",
    "Conv layer: 96 11x11 w/stride of 4\n",
    "output: (227-11)//4+1 = 55 => 55x55x96\n",
    "parameters to train: (11*11*3)*96 = 35k\n",
    "\n",
    "Pool layer: 3x3 w/stride of 2\n",
    "output: (55-3)//2+1 = 27 => 27x27x96\n",
    "parameters to train: 0\n",
    "\n",
    "...\n",
    "```\n",
    "\n",
    "Four things that hold us back but are getting better:\n",
    "\n",
    "1. Increasing amount of data available\n",
    "1. Compute: GPU speedup over CPU\n",
    "1. Algorithms\n",
    "    - Deeper: adding more layers\n",
    "    - Fancy regularization (dropout)\n",
    "    - Fancy nonlinearity (ReLU)\n",
    "1. Infrastructure: CUDA supporting efficient matrix ops\n",
    "\n",
    "Architectures\n",
    "\n",
    "- AlexNet 2012\n",
    "    - 8 layers\n",
    "- ZFNet 2013\n",
    "- GoogLeNet 2014\n",
    "    - 5M parameters\n",
    "    - low memory footprint\n",
    "- VGGNet 2014 (not the best)\n",
    "    - simple and uniform\n",
    "    - 138M parameters\n",
    "- ResNet 2015\n",
    "    - ultra-deep, 152 layers\n",
    "    - residual layers\n",
    "    - performance increases as more layers\n",
    "    - additions distribute gradents (grad decent back prop)\n",
    "    - reduce or remove pooling layers because they remove info and you want to learn as much as possible\n",
    "- 2016\n",
    "    - shallower and wider (more channels) also work better, *not* just deeper\n",
    "\n",
    "Frameworks\n",
    "\n",
    "1. Keras is a high level layer over Tensorflow\n",
    "1. Tensorflow if you need more control, but more complex\n",
    "1. Torch is light weight and good too\n",
    "\n",
    "## References\n",
    "\n",
    "- Lex Fridman: [Deep Learning for Computer Vision (Andrej Karpathy, OpenAI)](https://www.youtube.com/watch?v=u6aEYuemt0M)\n",
    "- [Keras.io](https://keras.io/)\n",
    "- https://arxiv-sanity.com or https://arxiv-sanity-lite.com/\n",
    "- [CS231n: Convolutional Neural Networks for Visual Recognition](http://cs231n.stanford.edu/)"
   ]
  },
  {
   "cell_type": "code",
   "execution_count": 7,
   "id": "7c192844-693d-4ca1-b54d-36dd72a56f8b",
   "metadata": {},
   "outputs": [],
   "source": [
    "import numpy as np\n",
    "from matplotlib import pyplot as plt\n",
    "from tensorflow.keras.applications.resnet50 import ResNet50\n",
    "from tensorflow.keras.preprocessing import image\n",
    "from tensorflow.keras.applications.resnet50 import preprocess_input, decode_predictions"
   ]
  },
  {
   "cell_type": "code",
   "execution_count": 25,
   "id": "daf57cbf-4c0f-4a53-b2ab-498efe848948",
   "metadata": {},
   "outputs": [
    {
     "name": "stdout",
     "output_type": "stream",
     "text": [
      "All possibilities: [[('n02504458', 'African_elephant', 0.88681036), ('n01871265', 'tusker', 0.04044406), ('n02504013', 'Indian_elephant', 0.034975458), ('n03743016', 'megalith', 0.014869816), ('n01704323', 'triceratops', 0.0076157046)]] \n",
      "\n",
      "Highest prediction: African_elephant at 89%\n"
     ]
    }
   ],
   "source": [
    "\"\"\"\n",
    "Find max prediction from a list of predictions. Data looks like:\n",
    "Predicted: [\n",
    "    [('n02504458', 'African_elephant', 0.88681036), ('n01871265', 'tusker', 0.04044406), \n",
    "    ('n02504013', 'Indian_elephant', 0.034975458), ('n03743016', 'megalith', 0.014869816), \n",
    "    ('n01704323', 'triceratops', 0.0076157046)]\n",
    "    ]\n",
    "\"\"\"\n",
    "findmax=lambda a:max(a[0],key=lambda item:item[2])\n",
    "\n",
    "model = ResNet50(weights=\"imagenet\")\n",
    "\n",
    "img = image.load_img(\"tiger.jpg\", target_size=(224,224))\n",
    "x = image.img_to_array(img)\n",
    "x = np.expand_dims(x,axis=0)\n",
    "x = preprocess_input(x)\n",
    "\n",
    "preds = model.predict(x)\n",
    "\n",
    "dec = decode_predictions(preds)\n",
    "ans = findmax(dec)\n",
    "print(f\"All possibilities: {dec} \\n\")\n",
    "print(f\"Highest prediction: {ans[1]} at {ans[2]*100:.0f}%\")"
   ]
  },
  {
   "cell_type": "code",
   "execution_count": null,
   "id": "f7063cd8-e577-4479-9588-3fd36e7a6df8",
   "metadata": {},
   "outputs": [],
   "source": []
  },
  {
   "cell_type": "code",
   "execution_count": null,
   "id": "ee58c16c-4ef7-4397-8fcf-011acd31d52d",
   "metadata": {},
   "outputs": [],
   "source": []
  }
 ],
 "metadata": {
  "kernelspec": {
   "display_name": "Python 3 (ipykernel)",
   "language": "python",
   "name": "python3"
  },
  "language_info": {
   "codemirror_mode": {
    "name": "ipython",
    "version": 3
   },
   "file_extension": ".py",
   "mimetype": "text/x-python",
   "name": "python",
   "nbconvert_exporter": "python",
   "pygments_lexer": "ipython3",
   "version": "3.9.10"
  }
 },
 "nbformat": 4,
 "nbformat_minor": 5
}
