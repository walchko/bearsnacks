{
 "cells": [
  {
   "cell_type": "markdown",
   "id": "informed-female",
   "metadata": {},
   "source": [
    "![](header.jpg)\n",
    "\n",
    "# The Airy Patter and Diffraction Limit\n",
    "\n",
    "Kevin J. Walchko, Phd\n",
    "\n",
    "13 Mar 2021\n",
    "\n",
    "---\n",
    "\n",
    "The airy pattern is how light impacts a focal plane array after passing through a camera lens' appature.\n",
    "\n",
    "![](airy2.jpg)\n",
    "\n",
    "This is important, because the resulting wave pattern looks like the sync function and deposites 84% of the energy at the main lobe. Ideally we want all of this energy to go into one pixel on the FPA, but there are trade offs camera designers make which imact the performance.\n",
    "\n",
    "<img src=\"airy.webp\" width=\"300px\">\n",
    "\n",
    "The first three dark rings occur at **radii** of 1.22, 2.23, and 3.24 $\\lambda$/D respecively.\n",
    "\n",
    "$$\n",
    "airy = 2 \\cdot 1.22 \\lambda \\frac {f}{D} = 2.44 \\lambda \\cdot f/\\#\n",
    "$$\n",
    "\n",
    "Every lens has an upper-performance limit dictated by the laws of physics and the Airy disk, known as the diffraction limit. This limit is the theoretical maximum resolving power of the lens given in line pairs per millimeter (lines/mm). A perfect lens, not limited by design, will still be diffraction limited.\n",
    "\n",
    "This limit is the point where two Airy patterns are no longer distinguishable from each other. The diffraction-limited resolution, often referred to as the cutoff frequency of a lens, is calculated using the lens f/# and the wavelength of light. \n",
    "\n",
    "$$\n",
    "\\zeta_c = \\frac {1}{\\lambda f/ \\#}\n",
    "$$\n",
    "\n",
    "When the diffraction limit is reached, the lens is incapable of resolving greater frequencies.\n",
    "\n",
    "## F-Number (f/#) or F-Stop\n",
    "\n",
    "The f/# is a ratio of focal length to appature such that you can think of it as a ratio or 1/# (from the f/# notation).\n",
    "\n",
    "![](dof2.jpg)\n",
    "\n",
    "Thus as seen above, the smaller the f/#, the larger the open appature, the more light that is allowed onto the focal plane. Additionally, the smaller an f/#, the smaller the depth of field is and how the image seems to be focused on one location while the rest of the image is out of focus. This can create some interesting images that focus a viewer attention to key areas. conversly, a larger f/# can bring the entire image into focus.\n",
    "\n",
    "| f/#   | DOF   | FPA Light | Moving Subject |\n",
    "|-------|-------|-----------|----------------|\n",
    "| small | small | large     | crisp          |\n",
    "| large | large | small     | blur           |\n",
    "\n",
    "The f-number N is:\n",
    "\n",
    "$$\n",
    "N = \\frac {f}{D}\n",
    "$$\n",
    "\n",
    "where $f$  is the focal length and D is the entrence appature. Some airy disk sizes calculated for various wavelengths and f/#'s.\n",
    "\n",
    "| Color  | $\\lambda$ | f/1.4 | f/2.8 | f/4  | f/8   | f/16  |\n",
    "|--------|-----------|-------|-------|------|-------|-------|\n",
    "| NIR    | 880       | 3.01  | 6.01  | 8.59 | 17.18 | 34.36 |\n",
    "| Red    | 660       | 2.25  | 4.51  | 6.44 | 12.88 | 25.77 |\n",
    "| Green  | 520       | 1.78  | 3.55  | 5.08 | 10.15 | 20.30 |\n",
    "| Blue   | 470       | 1.61  | 3.21  | 4.59 | 9.17  | 18.35 |\n",
    "| Violet | 405       | 1.38  | 2.77  | 3.95 | 7.91  | 15.81 |\n",
    "\n",
    "## References\n",
    "\n",
    "- Edmond Optics: [The Airy Disk and Diffraction Limit](https://www.edmundoptics.com/knowledge-center/application-notes/imaging/limitations-on-resolution-and-contrast-the-airy-disk/)\n",
    "- wikipedia: [f-number](https://en.wikipedia.org/wiki/F-number)"
   ]
  },
  {
   "cell_type": "code",
   "execution_count": 33,
   "id": "natural-computer",
   "metadata": {},
   "outputs": [],
   "source": [
    "from matplotlib import pyplot as plt\n",
    "from math import sin, cos, acos, pi"
   ]
  },
  {
   "cell_type": "code",
   "execution_count": 109,
   "id": "monetary-traveler",
   "metadata": {},
   "outputs": [
    {
     "data": {
      "image/png": "[encoded data removed]",
      "text/plain": [
       "<Figure size 432x288 with 1 Axes>"
      ]
     },
     "metadata": {
      "needs_background": "light"
     },
     "output_type": "display_data"
    }
   ],
   "source": [
    "def airyDisk(wavelength, fnumber):\n",
    "    \"\"\"\n",
    "    wavelenght: length of light wave in nano-meters (um)\n",
    "    fnumber: focal length over appature diameter (unitless)\n",
    "    \n",
    "    returns: 2.44*wavelength*fnumber\n",
    "    \"\"\"\n",
    "    return 2.44*wavelength*fnumber\n",
    "\n",
    "air = []\n",
    "fnum = []\n",
    "pix = []\n",
    "\n",
    "fw = 520e-9  # nm\n",
    "f = 3.04     # focal length [mm]\n",
    "D = 1.25     # appature diameter of camera [mm] \n",
    "pifnum = f/D # f-number\n",
    "pipixel  = 1.12e-6 # 1.12um pixel size\n",
    "\n",
    "for fn in range(1,10):\n",
    "    a = airyDisk(fw, fn) # um\n",
    "    air.append(a)\n",
    "    fnum.append(fn)\n",
    "    pix.append(pipixel)\n",
    "    \n",
    "# if this is right, then this has a Q of a 4 ... wtf?\n",
    "plt.plot(fnum, air)\n",
    "plt.plot(fnum, pix)\n",
    "plt.plot(pifnum, airyDisk(fw, pifnum), 'r^', label=\"Raspberry Pi Camera\")\n",
    "plt.grid(True)\n",
    "plt.legend()\n",
    "plt.xlabel(\"f/#\")\n",
    "plt.ylabel(\"Airy diameter [um]\")\n",
    "plt.title(f\"{pifnum} - why does this look wrong!!!\");"
   ]
  },
  {
   "cell_type": "code",
   "execution_count": 119,
   "id": "frozen-deputy",
   "metadata": {},
   "outputs": [
    {
     "name": "stdout",
     "output_type": "stream",
     "text": [
      "Pi Camera Quality Factor:  2.8\n"
     ]
    }
   ],
   "source": [
    "# isn't this a shit Q-factor?\n",
    "print(f\"Pi Camera Quality Factor: {airyDisk(fw, pifnum)/pipixel: 0.1f}\")"
   ]
  },
  {
   "cell_type": "code",
   "execution_count": null,
   "id": "foreign-legislature",
   "metadata": {},
   "outputs": [],
   "source": []
  },
  {
   "cell_type": "code",
   "execution_count": null,
   "id": "neural-tennessee",
   "metadata": {},
   "outputs": [],
   "source": []
  },
  {
   "cell_type": "code",
   "execution_count": 99,
   "id": "soviet-haven",
   "metadata": {},
   "outputs": [
    {
     "data": {
      "text/plain": [
       "3006.0799999999995"
      ]
     },
     "execution_count": 99,
     "metadata": {},
     "output_type": "execute_result"
    }
   ],
   "source": [
    "airyDisk(880, 1.4)"
   ]
  },
  {
   "cell_type": "code",
   "execution_count": 98,
   "id": "coordinated-floor",
   "metadata": {},
   "outputs": [
    {
     "data": {
      "text/plain": [
       "6012.159999999999"
      ]
     },
     "execution_count": 98,
     "metadata": {},
     "output_type": "execute_result"
    }
   ],
   "source": [
    "airyDisk(880,2.8)"
   ]
  },
  {
   "cell_type": "code",
   "execution_count": 126,
   "id": "female-intersection",
   "metadata": {},
   "outputs": [
    {
     "data": {
      "text/plain": [
       "1373626.3736263737"
      ]
     },
     "execution_count": 126,
     "metadata": {},
     "output_type": "execute_result"
    }
   ],
   "source": [
    "1/(1.4*520e-9)"
   ]
  },
  {
   "cell_type": "code",
   "execution_count": null,
   "id": "closed-canberra",
   "metadata": {},
   "outputs": [],
   "source": []
  }
 ],
 "metadata": {
  "kernelspec": {
   "display_name": "Python 3 (ipykernel)",
   "language": "python",
   "name": "python3"
  },
  "language_info": {
   "codemirror_mode": {
    "name": "ipython",
    "version": 3
   },
   "file_extension": ".py",
   "mimetype": "text/x-python",
   "name": "python",
   "nbconvert_exporter": "python",
   "pygments_lexer": "ipython3",
   "version": "3.9.6"
  }
 },
 "nbformat": 4,
 "nbformat_minor": 5
}
