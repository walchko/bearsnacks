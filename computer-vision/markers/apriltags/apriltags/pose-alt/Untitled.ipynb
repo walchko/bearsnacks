{
 "cells": [
  {
   "cell_type": "code",
   "execution_count": 51,
   "metadata": {},
   "outputs": [],
   "source": [
    "\"\"\"\n",
    "flags = (cv2.CALIB_ZERO_TANGENT_DIST |\n",
    "             cv2.CALIB_FIX_K1 |\n",
    "             cv2.CALIB_FIX_K2 |\n",
    "             cv2.CALIB_FIX_K3 |\n",
    "             cv2.CALIB_FIX_K4 |\n",
    "             cv2.CALIB_FIX_K5 |\n",
    "             cv2.CALIB_FIX_K6)\n",
    "\"\"\"\n",
    "\n",
    "import cv2\n",
    "import numpy as np\n",
    "# from apriltag import Detector as apriltag # not sure which library this is\n",
    "from pupil_apriltags import Detector\n",
    "from matplotlib import pyplot as plt\n",
    "from slurm import storage\n",
    "import os\n",
    "from pprint import pprint"
   ]
  },
  {
   "cell_type": "code",
   "execution_count": 52,
   "metadata": {},
   "outputs": [
    {
     "name": "stdout",
     "output_type": "stream",
     "text": [
      "{'multiple_tags_test': {'K': [338.563277422543,\n",
      "                              0.0,\n",
      "                              336.45495347495824,\n",
      "                              0.0,\n",
      "                              338.939280638548,\n",
      "                              230.486982216255,\n",
      "                              0.0,\n",
      "                              0.0,\n",
      "                              1.0],\n",
      "                        'files': ['test_image_multiple_01.png',\n",
      "                                  'test_image_multiple_02.png',\n",
      "                                  'test_image_multiple_03.png',\n",
      "                                  'test_image_multiple_04.png',\n",
      "                                  'test_image_multiple_05.png',\n",
      "                                  'test_image_multiple_06.png',\n",
      "                                  'test_image_multiple_07.png',\n",
      "                                  'test_image_multiple_08.png',\n",
      "                                  'test_image_multiple_09.png',\n",
      "                                  'test_image_multiple_10.png'],\n",
      "                        'height': 480,\n",
      "                        'tag_size': 0.065,\n",
      "                        'width': 640},\n",
      " 'rotation_test': {'K': [329.8729619143081,\n",
      "                         0.0,\n",
      "                         528.0,\n",
      "                         0.0,\n",
      "                         332.94611303946357,\n",
      "                         396.0,\n",
      "                         0.0,\n",
      "                         0.0,\n",
      "                         1.0],\n",
      "                   'files': ['test_image_rotation_0.png',\n",
      "                             'test_image_rotation_10.png',\n",
      "                             'test_image_rotation_20.png',\n",
      "                             'test_image_rotation_30.png',\n",
      "                             'test_image_rotation_40.png',\n",
      "                             'test_image_rotation_50.png',\n",
      "                             'test_image_rotation_60.png',\n",
      "                             'test_image_rotation_70.png',\n",
      "                             'test_image_rotation_-10.png',\n",
      "                             'test_image_rotation_-20.png',\n",
      "                             'test_image_rotation_-30.png',\n",
      "                             'test_image_rotation_-40.png',\n",
      "                             'test_image_rotation_-50.png',\n",
      "                             'test_image_rotation_-60.png',\n",
      "                             'test_image_rotation_-70.png'],\n",
      "                   'height': 792,\n",
      "                   'posx': 0.3,\n",
      "                   'posy': 0.0,\n",
      "                   'posz': 0.05,\n",
      "                   'rotx': 0.0,\n",
      "                   'roty': 0.0,\n",
      "                   'rotz': 'Variable',\n",
      "                   'tag_size': 0.065,\n",
      "                   'width': 1056},\n",
      " 'sample_test': {'K': [336.7755634193813,\n",
      "                       0.0,\n",
      "                       333.3575643300718,\n",
      "                       0.0,\n",
      "                       336.02729840829176,\n",
      "                       212.77376312080065,\n",
      "                       0.0,\n",
      "                       0.0,\n",
      "                       1.0],\n",
      "                 'file': 'test_image.png',\n",
      "                 'height': 480,\n",
      "                 'tag_size': 0.065,\n",
      "                 'width': 640}}\n"
     ]
    }
   ],
   "source": [
    "yml = storage.read(\"../test_info.yaml\")\n",
    "pprint(yml)"
   ]
  },
  {
   "cell_type": "code",
   "execution_count": 16,
   "metadata": {},
   "outputs": [],
   "source": [
    "imgs = []\n",
    "angles = {}\n",
    "files = yml['rotation_test']['files']\n",
    "for i, f in enumerate(files):\n",
    "    im = cv2.imread(\"../test_files/\" + f,0)\n",
    "    imgs.append(im)\n",
    "    \n",
    "    b=os.path.basename(files[i]).split('.')[0]\n",
    "    a = int(b.split('_')[-1])\n",
    "    angles[i] = a"
   ]
  },
  {
   "cell_type": "code",
   "execution_count": 45,
   "metadata": {},
   "outputs": [
    {
     "data": {
      "image/png": "[encoded data removed]",
      "text/plain": [
       "<Figure size 432x288 with 1 Axes>"
      ]
     },
     "metadata": {
      "needs_background": "light"
     },
     "output_type": "display_data"
    }
   ],
   "source": [
    "i=14\n",
    "plt.imshow(imgs[i], cmap=\"gray\")\n",
    "plt.grid(True)\n",
    "plt.title(os.path.basename(f\"{files[i]}: {angles[i]} deg  {imgs[i].shape}\"));"
   ]
  },
  {
   "cell_type": "code",
   "execution_count": 21,
   "metadata": {},
   "outputs": [],
   "source": [
    "# detector.nThreads = 4,        Number of threads to use\n",
    "# detector.quad_decimate = 1.0, Decimate input image by this factor\n",
    "# detector.quad_sigma = 0.0,    Apply low-pass blur to input; negative sharpens\n",
    "# detector.refine_edges = 1,    Set to 1 to spend more time to align edges of tags\n",
    "# detector.refine_decode = 0,   Set to 1 to spend more time to decode tags\n",
    "# detector.refine_pose = 0,     Set to 1 to spend more time to precisely localize tags\n",
    "d = Detector(families='tag36h11',\n",
    "        nthreads=1,\n",
    "        quad_decimate=1.0,\n",
    "        quad_sigma=0.0,\n",
    "        refine_edges=1,\n",
    "        decode_sharpening=0.25,\n",
    "        debug=0)"
   ]
  },
  {
   "cell_type": "code",
   "execution_count": 22,
   "metadata": {},
   "outputs": [
    {
     "name": "stdout",
     "output_type": "stream",
     "text": [
      "[329.8729619143081, 528.0, 332.94611303946357, 396.0]\n",
      "Tags found: 1\n",
      "[Detection object:\n",
      "tag_family = b'tag36h11'\n",
      "tag_id = 76\n",
      "hamming = 0\n",
      "decision_margin = 42.0277099609375\n",
      "homography = [[-5.98529923e+01  1.73025935e+01  5.29297347e+02]\n",
      " [-4.26855367e+01  6.35083929e+01  3.39641759e+02]\n",
      " [-1.44262206e-01  3.35816675e-02  1.00000000e+00]]\n",
      "center = [529.29734657 339.64175934]\n",
      "corners = [[514.88397217 378.51849365]\n",
      " [547.32519531 405.32635498]\n",
      " [549.9463501  283.94586182]\n",
      " [514.86248779 287.04824829]]\n",
      "pose_R = [[-0.0797116   0.11050615 -0.99067374]\n",
      " [ 0.22090559  0.97108294  0.09054636]\n",
      " [-0.97203229  0.21162777  0.101818  ]]\n",
      "pose_t = [[ 0.19303457]\n",
      " [-0.03470979]\n",
      " [ 0.32300965]]\n",
      "pose_err = 8.64942304846899e-06\n",
      "]\n"
     ]
    }
   ],
   "source": [
    "K = yml['rotation_test']['K']\n",
    "tag_size = yml['rotation_test']['tag_size']\n",
    "\n",
    "params = [K[0],K[2],K[4],K[5]]\n",
    "print(params)\n",
    "\n",
    "# To get pose:\n",
    "#     estimate_tag_pose = True\n",
    "#     camera_params = [fx, fy, cx, cy]\n",
    "#     tag_size = float (in meters)\n",
    "tags = d.detect(imgs[i], \n",
    "                estimate_tag_pose=True, \n",
    "                camera_params=params, \n",
    "                tag_size=tag_size)\n",
    "print(f\"Tags found: {len(tags)}\")\n",
    "print(tags)"
   ]
  },
  {
   "cell_type": "code",
   "execution_count": 23,
   "metadata": {},
   "outputs": [],
   "source": [
    "import math\n",
    "\n",
    "# Checks if a matrix is a valid rotation matrix.\n",
    "def isRotationMatrix(R) :\n",
    "    Rt = np.transpose(R)\n",
    "    shouldBeIdentity = np.dot(Rt, R)\n",
    "    I = np.identity(3, dtype = R.dtype)\n",
    "    n = np.linalg.norm(I - shouldBeIdentity)\n",
    "    return n < 1e-6\n",
    "\n",
    "\n",
    "# Calculates rotation matrix to euler angles\n",
    "# The result is the same as MATLAB except the order\n",
    "# of the euler angles ( x and z are swapped ).\n",
    "def rotationMatrixToEulerAngles(R) :\n",
    "\n",
    "    assert(isRotationMatrix(R))\n",
    "    \n",
    "    sy = math.sqrt(R[0,0] * R[0,0] +  R[1,0] * R[1,0])\n",
    "    \n",
    "    singular = sy < 1e-6\n",
    "\n",
    "    if  not singular :\n",
    "        x = math.atan2(R[2,1] , R[2,2])\n",
    "        y = math.atan2(-R[2,0], sy)\n",
    "        z = math.atan2(R[1,0], R[0,0])\n",
    "    else :\n",
    "        x = math.atan2(-R[1,2], R[1,1])\n",
    "        y = math.atan2(-R[2,0], sy)\n",
    "        z = 0\n",
    "\n",
    "    return np.array([x, y, z])"
   ]
  },
  {
   "cell_type": "code",
   "execution_count": 28,
   "metadata": {},
   "outputs": [],
   "source": [
    "r2d = 180/math.pi"
   ]
  },
  {
   "cell_type": "code",
   "execution_count": 29,
   "metadata": {},
   "outputs": [
    {
     "name": "stdout",
     "output_type": "stream",
     "text": [
      "[ 64.30693909  76.4173824  109.84147831]\n"
     ]
    }
   ],
   "source": [
    "h = tags[0].pose_R\n",
    "euler = rotationMatrixToEulerAngles(h)\n",
    "print(euler*r2d)"
   ]
  },
  {
   "cell_type": "code",
   "execution_count": 49,
   "metadata": {},
   "outputs": [
    {
     "name": "stdout",
     "output_type": "stream",
     "text": [
      "[329.87296191   0.         528.           0.         332.94611304\n",
      " 396.           0.           0.           1.        ]\n"
     ]
    }
   ],
   "source": [
    "hh = tags[0].homography\n",
    "# print(hh)\n",
    "print(np.array(K))"
   ]
  },
  {
   "cell_type": "code",
   "execution_count": 48,
   "metadata": {},
   "outputs": [
    {
     "name": "stdout",
     "output_type": "stream",
     "text": [
      "[[329.87296191   0.         528.        ]\n",
      " [  0.         332.94611304 396.        ]\n",
      " [  0.           0.           1.        ]]\n"
     ]
    }
   ],
   "source": [
    "kk = np.array(K).reshape((3,3))\n",
    "print(kk)\n",
    "ret, rots, trans, norms = cv2.decomposeHomographyMat(hh, kk)\n",
    "# print(trans)\n",
    "# print(norms)"
   ]
  },
  {
   "cell_type": "code",
   "execution_count": 36,
   "metadata": {},
   "outputs": [
    {
     "data": {
      "text/plain": [
       "[array([[-0.59139823, -0.701613  , -0.39747619],\n",
       "        [-0.72216117,  0.24150346,  0.64819698],\n",
       "        [-0.35879156,  0.67038442, -0.64950238]]),\n",
       " array([[-0.59139823, -0.701613  , -0.39747619],\n",
       "        [-0.72216117,  0.24150346,  0.64819698],\n",
       "        [-0.35879156,  0.67038442, -0.64950238]]),\n",
       " array([[ 3.37079444e-01,  3.58088964e-04,  9.41476139e-01],\n",
       "        [ 2.40919612e-01,  9.66671548e-01, -8.66248224e-02],\n",
       "        [-9.10129215e-01,  2.56019513e-01,  3.25758837e-01]]),\n",
       " array([[ 3.37079444e-01,  3.58088964e-04,  9.41476139e-01],\n",
       "        [ 2.40919612e-01,  9.66671548e-01, -8.66248224e-02],\n",
       "        [-9.10129215e-01,  2.56019513e-01,  3.25758837e-01]])]"
      ]
     },
     "execution_count": 36,
     "metadata": {},
     "output_type": "execute_result"
    }
   ],
   "source": [
    "rots"
   ]
  },
  {
   "cell_type": "code",
   "execution_count": 42,
   "metadata": {},
   "outputs": [
    {
     "data": {
      "text/plain": [
       "array([38.16441858, 65.52321426, 35.55439736])"
      ]
     },
     "execution_count": 42,
     "metadata": {},
     "output_type": "execute_result"
    }
   ],
   "source": [
    "rotationMatrixToEulerAngles(rots[2])*180/np.pi"
   ]
  },
  {
   "cell_type": "code",
   "execution_count": 56,
   "metadata": {},
   "outputs": [
    {
     "data": {
      "text/plain": [
       "1.4545454545454546"
      ]
     },
     "execution_count": 56,
     "metadata": {},
     "output_type": "execute_result"
    }
   ],
   "source": [
    "16/11"
   ]
  },
  {
   "cell_type": "code",
   "execution_count": 54,
   "metadata": {},
   "outputs": [
    {
     "data": {
      "text/plain": [
       "0.8333333333333334"
      ]
     },
     "execution_count": 54,
     "metadata": {},
     "output_type": "execute_result"
    }
   ],
   "source": [
    "20/24"
   ]
  },
  {
   "cell_type": "code",
   "execution_count": 55,
   "metadata": {},
   "outputs": [
    {
     "data": {
      "text/plain": [
       "1.2"
      ]
     },
     "execution_count": 55,
     "metadata": {},
     "output_type": "execute_result"
    }
   ],
   "source": [
    "24/20"
   ]
  },
  {
   "cell_type": "code",
   "execution_count": null,
   "metadata": {},
   "outputs": [],
   "source": []
  }
 ],
 "metadata": {
  "kernelspec": {
   "display_name": "Python 3 (ipykernel)",
   "language": "python",
   "name": "python3"
  },
  "language_info": {
   "codemirror_mode": {
    "name": "ipython",
    "version": 3
   },
   "file_extension": ".py",
   "mimetype": "text/x-python",
   "name": "python",
   "nbconvert_exporter": "python",
   "pygments_lexer": "ipython3",
   "version": "3.9.10"
  }
 },
 "nbformat": 4,
 "nbformat_minor": 4
}
