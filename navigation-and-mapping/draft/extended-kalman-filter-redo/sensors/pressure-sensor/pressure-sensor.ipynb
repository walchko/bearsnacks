{
 "cells": [
  {
   "cell_type": "markdown",
   "metadata": {},
   "source": [
    "![]()\n",
    "\n",
    "# Pressure Sensor\n",
    "\n",
    "Kevin J. Walchko, Phd\n",
    "\n",
    "12 July 2020\n",
    "\n",
    "---\n",
    "\n",
    "<img src=\"https://cdn-shop.adafruit.com/970x728/4633-03.jpg\" width=\"50%\"/>\n",
    "\n",
    "A pressure sensor is a good way guage your altitude. Generally, inertial sensors will drift which causes a random walk in your position. Another sensor is needed to help tie your system's output down and prevent it from \"drifting off into space\".\n",
    "\n",
    "$$\n",
    "altitude_{m} = 0.3048*145366.45*(1 - \\frac{P_{sta}}{1013.25})^{0.190284}\n",
    "$$\n",
    "\n",
    "where $P_{sta}$ is the pressure at sea level or where ever your datum is set to.\n",
    "\n",
    "\n",
    "## References\n",
    "\n",
    "- Adafruit: [LPS22 Pressure Sensor](https://www.adafruit.com/product/4633)\n",
    "- [Pressure Altitude](pressure-altitude.pdf)"
   ]
  },
  {
   "cell_type": "code",
   "execution_count": null,
   "metadata": {},
   "outputs": [],
   "source": []
  }
 ],
 "metadata": {
  "kernelspec": {
   "display_name": "Python 3",
   "language": "python",
   "name": "python3"
  },
  "language_info": {
   "codemirror_mode": {
    "name": "ipython",
    "version": 3
   },
   "file_extension": ".py",
   "mimetype": "text/x-python",
   "name": "python",
   "nbconvert_exporter": "python",
   "pygments_lexer": "ipython3",
   "version": "3.9.1"
  }
 },
 "nbformat": 4,
 "nbformat_minor": 4
}
