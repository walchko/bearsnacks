{
 "cells": [
  {
   "cell_type": "markdown",
   "metadata": {},
   "source": [
    "![]()\n",
    "\n",
    "# Adafruit BNO055 IMU\n",
    "\n",
    "Kevin J. Walchko, PhD\n",
    "\n",
    "2016-03-27\n",
    "\n",
    "---\n",
    "\n",
    "![](https://cdn-shop.adafruit.com/970x728/4646-00.jpg)\n",
    "\n",
    "## Warning\n",
    "\n",
    "Adafruit's [Absolute Orientation\n",
    "IMU](https://www.adafruit.com/products/2472) includes a Attitude Heading\n",
    "Reference System (AHRS) which always determines the orientation of the\n",
    "IMU. It has both serial and I2C output and a serial port output. This\n",
    "sensor has two issues:\n",
    "\n",
    "1.  For I2C, it often does clock stretching which the RPi doesn't like,\n",
    "    so you have to use the serial port\n",
    "2.  On the RPi v3, the hardware serial port is attached to the bluetooth\n",
    "    module, so you either have to turn off bluetooth or use a\n",
    "    usb-to-serial converter. Also, you have to tell the RPi to not\n",
    "    connect a login terminal to the serial port.\n",
    "\n",
    "Also note, the imu is built for cell phones and uses either the Andriod\n",
    "or Windows phone coordinate system. This results in the AHRS reporting\n",
    "values different from traditional aerospace coordinate systems.\n",
    "\n",
    "|       | Phone  | INS    |\n",
    "| ----- | ------ | ------ |\n",
    "| Roll  | y-axis | x-axis |\n",
    "| Pitch | x-axis | y-axis |\n",
    "\n",
    "## Specs\n",
    "\n",
    "The BNO055 can output the following sensor data:\n",
    "\n",
    "- Default Address: `0x28` or can be changed to `0x29` via the ADR pin\n",
    "- Absolute Orientation (Euler Vector, 100Hz) Three axis orientation data based on a 360° sphere\n",
    "- Absolute Orientation (Quaterion, 100Hz) Four point quaternion output for more accurate data manipulation\n",
    "- Angular Velocity Vector (100Hz) Three axis of 'rotation speed' in (rad/s)\n",
    "- Acceleration Vector (100Hz) Three axis of acceleration (gravity + linear motion) in (m/s^2)\n",
    "- Magnetic Field Strength Vector (20Hz) Three axis of magnetic field sensing in micro Tesla (uT)\n",
    "- Linear Acceleration Vector (100Hz) Three axis of linear acceleration data (acceleration minus gravity) in (m/s^2)\n",
    "- Gravity Vector (100Hz) Three axis of gravitational acceleration (minus any movement) in (m/s^2)\n",
    "- Temperature (1Hz) Ambient temperature in degrees Celsius\n",
    "\n",
    "## Install\n",
    "\n",
    "```\n",
    "pip install adafruit-circuitpython-bno055\n",
    "```\n",
    "\n",
    "## References\n",
    "\n",
    "- Adafruit: [BNO055 IMU](https://www.adafruit.com/product/4646)\n",
    "- Adafruit Learn: [Adafruit BNO055 Absolute Orientation Sensor](https://learn.adafruit.com/adafruit-bno055-absolute-orientation-sensor?view=all)\n",
    "- [datasheet](https://cdn-learn.adafruit.com/assets/assets/000/036/832/original/BST_BNO055_DS000_14.pdf)"
   ]
  },
  {
   "cell_type": "code",
   "execution_count": null,
   "metadata": {},
   "outputs": [],
   "source": [
    "import serial\n",
    "import adafruit_bno055\n",
    "uart = serial.Serial(\"/dev/serial0\")\n",
    "sensor = adafruit_bno055.BNO055_UART(uart)"
   ]
  }
 ],
 "metadata": {
  "kernelspec": {
   "display_name": "Python 3 (ipykernel)",
   "language": "python",
   "name": "python3"
  },
  "language_info": {
   "codemirror_mode": {
    "name": "ipython",
    "version": 3
   },
   "file_extension": ".py",
   "mimetype": "text/x-python",
   "name": "python",
   "nbconvert_exporter": "python",
   "pygments_lexer": "ipython3",
   "version": "3.9.10"
  }
 },
 "nbformat": 4,
 "nbformat_minor": 4
}
