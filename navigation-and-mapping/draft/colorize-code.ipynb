{
 "cells": [
  {
   "cell_type": "code",
   "execution_count": 48,
   "id": "31b3aff7-6c48-4220-a88d-6594036bf8cc",
   "metadata": {},
   "outputs": [],
   "source": [
    "from IPython.display import HTML, display\n",
    "\n",
    "from IPython.utils import openpy\n",
    "from pathlib import Path\n",
    "\n",
    "from pygments import highlight\n",
    "from pygments.lexers import PythonLexer\n",
    "from pygments.formatters import HtmlFormatter\n",
    "\n",
    "def getCode(url=None, imp=None, file=None):\n",
    "    if imp is not None:\n",
    "        py = inspect.getsource(imp)\n",
    "    elif url is not None:\n",
    "        py = openpy.read_py_url(url)\n",
    "    elif file is not None:\n",
    "        py = openpy.read_py_file(str(file))\n",
    "    display(HTML(highlight(py, PythonLexer(), HtmlFormatter())))"
   ]
  },
  {
   "cell_type": "code",
   "execution_count": 67,
   "id": "44c400a6-b3ac-4973-9e22-05650e79415b",
   "metadata": {},
   "outputs": [
    {
     "data": {
      "text/html": [
       "<div class=\"highlight\"><pre><span></span><span class=\"kn\">import</span> <span class=\"nn\">numpy</span> <span class=\"k\">as</span> <span class=\"nn\">np</span>\n",
       "<span class=\"kn\">from</span> <span class=\"nn\">numpy</span> <span class=\"kn\">import</span> <span class=\"n\">pi</span><span class=\"p\">,</span><span class=\"n\">sqrt</span>\n",
       "<span class=\"kn\">from</span> <span class=\"nn\">.constants</span> <span class=\"kn\">import</span> <span class=\"n\">Earth</span>\n",
       "\n",
       "<span class=\"c1\"># Add some SMAD calculations here</span>\n",
       "\n",
       "<span class=\"k\">def</span> <span class=\"nf\">period</span><span class=\"p\">(</span><span class=\"n\">a</span><span class=\"p\">):</span>\n",
       "    <span class=\"c1\"># a [km] -&gt; period [sec]</span>\n",
       "    <span class=\"k\">return</span> <span class=\"mi\">2</span><span class=\"o\">*</span><span class=\"n\">pi</span><span class=\"o\">*</span><span class=\"n\">sqrt</span><span class=\"p\">(</span><span class=\"n\">a</span><span class=\"o\">**</span><span class=\"mi\">3</span><span class=\"o\">/</span><span class=\"n\">Earth</span><span class=\"o\">.</span><span class=\"n\">mu</span><span class=\"p\">)</span>\n",
       "\n",
       "<span class=\"k\">def</span> <span class=\"nf\">dnode</span><span class=\"p\">(</span><span class=\"n\">period</span><span class=\"p\">):</span>\n",
       "    <span class=\"sd\">&quot;&quot;&quot;</span>\n",
       "<span class=\"sd\">    Orbit nodal precession on each rev. Orbits below GEO move (drift) Westerly</span>\n",
       "<span class=\"sd\">    while orbits above GEO move Easterly. Orbits at GEO are stationary, 0 deg drift.</span>\n",
       "<span class=\"sd\">    Use siderial day rotation for better accuracy.</span>\n",
       "\n",
       "<span class=\"sd\">    Arg:</span>\n",
       "<span class=\"sd\">    period [sec]</span>\n",
       "<span class=\"sd\">    Return:</span>\n",
       "<span class=\"sd\">    node precession (dn) [deg]</span>\n",
       "<span class=\"sd\">    &quot;&quot;&quot;</span>\n",
       "    <span class=\"k\">return</span> <span class=\"mi\">360</span> <span class=\"o\">-</span> <span class=\"mi\">360</span><span class=\"o\">/</span><span class=\"p\">(</span><span class=\"mi\">23</span><span class=\"o\">*</span><span class=\"mi\">3600</span><span class=\"o\">+</span><span class=\"mi\">56</span><span class=\"o\">*</span><span class=\"mi\">60</span><span class=\"o\">+</span><span class=\"mi\">4</span><span class=\"p\">)</span><span class=\"o\">*</span><span class=\"n\">period</span>\n",
       "</pre></div>\n"
      ],
      "text/plain": [
       "<IPython.core.display.HTML object>"
      ]
     },
     "metadata": {},
     "output_type": "display_data"
    }
   ],
   "source": [
    "url = \"https://raw.githubusercontent.com/nimbus-bp-1729/doop/master/doop/smad.py\"\n",
    "getCode(url=url)"
   ]
  },
  {
   "cell_type": "code",
   "execution_count": 68,
   "id": "bda145f3-f100-465d-aea8-7515cbc1bf8b",
   "metadata": {},
   "outputs": [
    {
     "data": {
      "text/html": [
       "<div class=\"highlight\"><pre><span></span><span class=\"kn\">import</span> <span class=\"nn\">numpy</span> <span class=\"k\">as</span> <span class=\"nn\">np</span>\n",
       "<span class=\"kn\">from</span> <span class=\"nn\">numpy</span> <span class=\"kn\">import</span> <span class=\"n\">pi</span><span class=\"p\">,</span><span class=\"n\">sqrt</span>\n",
       "<span class=\"kn\">from</span> <span class=\"nn\">.constants</span> <span class=\"kn\">import</span> <span class=\"n\">Earth</span>\n",
       "\n",
       "<span class=\"c1\"># Add some SMAD calculations here</span>\n",
       "\n",
       "<span class=\"k\">def</span> <span class=\"nf\">period</span><span class=\"p\">(</span><span class=\"n\">a</span><span class=\"p\">):</span>\n",
       "    <span class=\"c1\"># a [km] -&gt; period [sec]</span>\n",
       "    <span class=\"k\">return</span> <span class=\"mi\">2</span><span class=\"o\">*</span><span class=\"n\">pi</span><span class=\"o\">*</span><span class=\"n\">sqrt</span><span class=\"p\">(</span><span class=\"n\">a</span><span class=\"o\">**</span><span class=\"mi\">3</span><span class=\"o\">/</span><span class=\"n\">Earth</span><span class=\"o\">.</span><span class=\"n\">mu</span><span class=\"p\">)</span>\n",
       "\n",
       "<span class=\"k\">def</span> <span class=\"nf\">dnode</span><span class=\"p\">(</span><span class=\"n\">period</span><span class=\"p\">):</span>\n",
       "    <span class=\"sd\">&quot;&quot;&quot;</span>\n",
       "<span class=\"sd\">    Orbit nodal precession on each rev. Orbits below GEO move (drift) Westerly</span>\n",
       "<span class=\"sd\">    while orbits above GEO move Easterly. Orbits at GEO are stationary, 0 deg drift.</span>\n",
       "<span class=\"sd\">    Use siderial day rotation for better accuracy.</span>\n",
       "\n",
       "<span class=\"sd\">    Arg:</span>\n",
       "<span class=\"sd\">    period [sec]</span>\n",
       "<span class=\"sd\">    Return:</span>\n",
       "<span class=\"sd\">    node precession (dn) [deg]</span>\n",
       "<span class=\"sd\">    &quot;&quot;&quot;</span>\n",
       "    <span class=\"k\">return</span> <span class=\"mi\">360</span> <span class=\"o\">-</span> <span class=\"mi\">360</span><span class=\"o\">/</span><span class=\"p\">(</span><span class=\"mi\">23</span><span class=\"o\">*</span><span class=\"mi\">3600</span><span class=\"o\">+</span><span class=\"mi\">56</span><span class=\"o\">*</span><span class=\"mi\">60</span><span class=\"o\">+</span><span class=\"mi\">4</span><span class=\"p\">)</span><span class=\"o\">*</span><span class=\"n\">period</span>\n",
       "</pre></div>\n"
      ],
      "text/plain": [
       "<IPython.core.display.HTML object>"
      ]
     },
     "metadata": {},
     "output_type": "display_data"
    }
   ],
   "source": [
    "p = Path.home() / \"github/doop/doop/smad.py\"\n",
    "getCode(file=p)"
   ]
  },
  {
   "cell_type": "code",
   "execution_count": 69,
   "id": "92e373cc-99bf-4a49-9e75-b5dda6900ad6",
   "metadata": {},
   "outputs": [
    {
     "data": {
      "text/html": [
       "<div class=\"highlight\"><pre><span></span><span class=\"kn\">from</span> <span class=\"nn\">math</span> <span class=\"kn\">import</span> <span class=\"n\">pi</span><span class=\"p\">,</span> <span class=\"nb\">pow</span>\n",
       "<span class=\"kn\">from</span> <span class=\"nn\">datetime</span> <span class=\"kn\">import</span> <span class=\"n\">datetime</span><span class=\"p\">,</span> <span class=\"n\">timedelta</span><span class=\"p\">,</span> <span class=\"n\">timezone</span>\n",
       "<span class=\"kn\">from</span> <span class=\"nn\">doop.constants</span> <span class=\"kn\">import</span> <span class=\"n\">Earth</span>\n",
       "<span class=\"kn\">from</span> <span class=\"nn\">collections</span> <span class=\"kn\">import</span> <span class=\"n\">namedtuple</span>\n",
       "\n",
       "<span class=\"kn\">from</span> <span class=\"nn\">enum</span> <span class=\"kn\">import</span> <span class=\"n\">IntFlag</span>\n",
       "\n",
       "<span class=\"n\">ID</span> <span class=\"o\">=</span> <span class=\"n\">namedtuple</span><span class=\"p\">(</span><span class=\"s2\">&quot;ID&quot;</span><span class=\"p\">,</span> <span class=\"s2\">&quot;launch_year launch_number piece&quot;</span><span class=\"p\">)</span>\n",
       "<span class=\"n\">Object</span> <span class=\"o\">=</span> <span class=\"n\">namedtuple</span><span class=\"p\">(</span><span class=\"s2\">&quot;Object&quot;</span><span class=\"p\">,</span> <span class=\"s2\">&quot;name number classification&quot;</span><span class=\"p\">)</span>\n",
       "\n",
       "<span class=\"n\">EphemerisType</span> <span class=\"o\">=</span> <span class=\"n\">IntFlag</span><span class=\"p\">(</span><span class=\"s2\">&quot;EphemerisType&quot;</span><span class=\"p\">,</span><span class=\"s2\">&quot;SGP SGP4 SDP4 SGP8 SDP8&quot;</span><span class=\"p\">)</span>\n",
       "\n",
       "<span class=\"n\">TLE</span> <span class=\"o\">=</span> <span class=\"n\">namedtuple</span><span class=\"p\">(</span><span class=\"s2\">&quot;TLE&quot;</span><span class=\"p\">,</span>\n",
       "        <span class=\"s1\">&#39;object &#39;</span>\n",
       "        <span class=\"s1\">&#39;id &#39;</span>\n",
       "        <span class=\"s1\">&#39;coe &#39;</span>\n",
       "        <span class=\"s1\">&#39;ballistic_coeffecient &#39;</span>\n",
       "        <span class=\"s1\">&#39;bstar &#39;</span>\n",
       "        <span class=\"s1\">&#39;line1 line2&#39;</span>\n",
       "    <span class=\"p\">)</span>\n",
       "\n",
       "<span class=\"n\">OE</span> <span class=\"o\">=</span> <span class=\"n\">namedtuple</span><span class=\"p\">(</span><span class=\"s2\">&quot;OE&quot;</span><span class=\"p\">,</span> <span class=\"s2\">&quot;a e i raan w v&quot;</span><span class=\"p\">)</span>\n",
       "\n",
       "<span class=\"k\">def</span> <span class=\"nf\">fix_classification</span><span class=\"p\">(</span><span class=\"n\">x</span><span class=\"p\">):</span>\n",
       "    <span class=\"k\">if</span> <span class=\"n\">x</span> <span class=\"o\">==</span> <span class=\"s2\">&quot;U&quot;</span><span class=\"p\">:</span>\n",
       "        <span class=\"k\">return</span> <span class=\"s2\">&quot;Unclassified&quot;</span>\n",
       "    <span class=\"k\">elif</span> <span class=\"n\">x</span> <span class=\"o\">==</span> <span class=\"s2\">&quot;C&quot;</span><span class=\"p\">:</span>\n",
       "        <span class=\"k\">return</span> <span class=\"s2\">&quot;Classified&quot;</span>\n",
       "    <span class=\"k\">elif</span> <span class=\"n\">x</span> <span class=\"o\">==</span> <span class=\"s2\">&quot;S&quot;</span><span class=\"p\">:</span>\n",
       "        <span class=\"k\">return</span> <span class=\"s2\">&quot;Secret&quot;</span>\n",
       "    <span class=\"k\">raise</span> <span class=\"ne\">Exception</span><span class=\"p\">(</span><span class=\"sa\">f</span><span class=\"s2\">&quot;Invalid classification: </span><span class=\"si\">{</span><span class=\"n\">x</span><span class=\"si\">}</span><span class=\"s2\">&quot;</span><span class=\"p\">)</span>\n",
       "\n",
       "<span class=\"k\">def</span> <span class=\"nf\">fix_sci</span><span class=\"p\">(</span><span class=\"n\">x</span><span class=\"p\">):</span>\n",
       "    <span class=\"sd\">&quot;&quot;&quot;</span>\n",
       "<span class=\"sd\">    TLE have a shorthand for storing scientific numbers, just fixing it</span>\n",
       "<span class=\"sd\">    &quot;&quot;&quot;</span>\n",
       "    <span class=\"c1\"># leading +/- can trip this up</span>\n",
       "    <span class=\"k\">if</span> <span class=\"n\">x</span><span class=\"p\">[</span><span class=\"mi\">0</span><span class=\"p\">]</span> <span class=\"o\">==</span> <span class=\"s1\">&#39;+&#39;</span> <span class=\"ow\">or</span> <span class=\"n\">x</span><span class=\"p\">[</span><span class=\"mi\">0</span><span class=\"p\">]</span> <span class=\"o\">==</span> <span class=\"s1\">&#39;-&#39;</span><span class=\"p\">:</span>\n",
       "        <span class=\"n\">xx</span> <span class=\"o\">=</span> <span class=\"n\">x</span><span class=\"p\">[</span><span class=\"mi\">1</span><span class=\"p\">:]</span>\n",
       "    <span class=\"k\">else</span><span class=\"p\">:</span>\n",
       "        <span class=\"n\">xx</span> <span class=\"o\">=</span> <span class=\"n\">x</span>\n",
       "\n",
       "    <span class=\"n\">s</span> <span class=\"o\">=</span> <span class=\"n\">xx</span><span class=\"o\">.</span><span class=\"n\">split</span><span class=\"p\">(</span><span class=\"s2\">&quot;-&quot;</span><span class=\"p\">)</span>\n",
       "    <span class=\"n\">ss</span> <span class=\"o\">=</span> <span class=\"n\">xx</span><span class=\"o\">.</span><span class=\"n\">split</span><span class=\"p\">(</span><span class=\"s2\">&quot;+&quot;</span><span class=\"p\">)</span>\n",
       "    <span class=\"k\">if</span> <span class=\"nb\">len</span><span class=\"p\">(</span><span class=\"n\">s</span><span class=\"p\">)</span> <span class=\"o\">==</span> <span class=\"mi\">2</span><span class=\"p\">:</span>\n",
       "        <span class=\"n\">x</span> <span class=\"o\">=</span> <span class=\"nb\">float</span><span class=\"p\">(</span><span class=\"n\">s</span><span class=\"p\">[</span><span class=\"mi\">0</span><span class=\"p\">]</span> <span class=\"o\">+</span> <span class=\"s2\">&quot;e-&quot;</span> <span class=\"o\">+</span> <span class=\"n\">s</span><span class=\"p\">[</span><span class=\"mi\">1</span><span class=\"p\">])</span>\n",
       "    <span class=\"k\">elif</span> <span class=\"nb\">len</span><span class=\"p\">(</span><span class=\"n\">ss</span><span class=\"p\">)</span> <span class=\"o\">==</span> <span class=\"mi\">2</span><span class=\"p\">:</span>\n",
       "        <span class=\"n\">s</span> <span class=\"o\">=</span> <span class=\"n\">ss</span>\n",
       "        <span class=\"n\">x</span> <span class=\"o\">=</span> <span class=\"nb\">float</span><span class=\"p\">(</span><span class=\"n\">s</span><span class=\"p\">[</span><span class=\"mi\">0</span><span class=\"p\">]</span> <span class=\"o\">+</span> <span class=\"s2\">&quot;e+&quot;</span> <span class=\"o\">+</span> <span class=\"n\">s</span><span class=\"p\">[</span><span class=\"mi\">1</span><span class=\"p\">])</span>\n",
       "    <span class=\"k\">else</span><span class=\"p\">:</span>\n",
       "        <span class=\"n\">x</span> <span class=\"o\">=</span> <span class=\"nb\">float</span><span class=\"p\">(</span><span class=\"n\">xx</span><span class=\"p\">)</span>\n",
       "    <span class=\"k\">return</span> <span class=\"n\">x</span>\n",
       "\n",
       "<span class=\"k\">def</span> <span class=\"nf\">fix_dec</span><span class=\"p\">(</span><span class=\"n\">x</span><span class=\"p\">):</span>\n",
       "    <span class=\"sd\">&quot;&quot;&quot;</span>\n",
       "<span class=\"sd\">    TLE formate assumes a leading decimal point, just putting it back in</span>\n",
       "<span class=\"sd\">    &quot;&quot;&quot;</span>\n",
       "    <span class=\"k\">if</span> <span class=\"n\">x</span><span class=\"p\">[</span><span class=\"mi\">0</span><span class=\"p\">]</span> <span class=\"o\">==</span> <span class=\"s2\">&quot;-&quot;</span><span class=\"p\">:</span>\n",
       "        <span class=\"n\">ret</span> <span class=\"o\">=</span> <span class=\"nb\">float</span><span class=\"p\">(</span><span class=\"s2\">&quot;-0.&quot;</span> <span class=\"o\">+</span> <span class=\"n\">x</span><span class=\"p\">[</span><span class=\"mi\">1</span><span class=\"p\">:])</span>\n",
       "    <span class=\"k\">else</span><span class=\"p\">:</span>\n",
       "        <span class=\"n\">ret</span> <span class=\"o\">=</span> <span class=\"nb\">float</span><span class=\"p\">(</span><span class=\"s2\">&quot;0.&quot;</span> <span class=\"o\">+</span> <span class=\"n\">x</span><span class=\"p\">)</span>\n",
       "    <span class=\"k\">return</span> <span class=\"n\">ret</span>\n",
       "\n",
       "<span class=\"k\">def</span> <span class=\"nf\">fix_year</span><span class=\"p\">(</span><span class=\"n\">year</span><span class=\"p\">:</span><span class=\"nb\">int</span><span class=\"p\">):</span>\n",
       "    <span class=\"c1\"># FIXME: need a better solution :)</span>\n",
       "    <span class=\"k\">return</span> <span class=\"mi\">2000</span><span class=\"o\">+</span><span class=\"n\">year</span> <span class=\"k\">if</span> <span class=\"n\">year</span> <span class=\"o\">&lt;</span> <span class=\"mi\">60</span> <span class=\"k\">else</span> <span class=\"mi\">1900</span><span class=\"o\">+</span><span class=\"n\">year</span>\n",
       "\n",
       "<span class=\"k\">def</span> <span class=\"nf\">fix_epoch</span><span class=\"p\">(</span><span class=\"n\">day</span><span class=\"p\">:</span><span class=\"nb\">float</span><span class=\"p\">,</span> <span class=\"n\">year</span><span class=\"p\">:</span><span class=\"nb\">int</span><span class=\"p\">):</span>\n",
       "    <span class=\"sd\">&quot;&quot;&quot;https://ubuntuforums.org/archive/index.php/t-2032246.html&quot;&quot;&quot;</span>\n",
       "    <span class=\"c1\"># print(f&quot;day {day} year {year}&quot;)</span>\n",
       "    <span class=\"n\">yr</span> <span class=\"o\">=</span> <span class=\"n\">fix_year</span><span class=\"p\">(</span><span class=\"n\">year</span><span class=\"p\">)</span>\n",
       "    <span class=\"k\">return</span> <span class=\"n\">datetime</span><span class=\"p\">(</span><span class=\"n\">year</span><span class=\"o\">=</span><span class=\"n\">yr</span><span class=\"p\">,</span> <span class=\"n\">month</span><span class=\"o\">=</span><span class=\"mi\">1</span><span class=\"p\">,</span> <span class=\"n\">day</span><span class=\"o\">=</span><span class=\"mi\">1</span><span class=\"p\">,</span> <span class=\"n\">tzinfo</span><span class=\"o\">=</span><span class=\"n\">timezone</span><span class=\"o\">.</span><span class=\"n\">utc</span><span class=\"p\">)</span> <span class=\"o\">+</span> <span class=\"n\">timedelta</span><span class=\"p\">(</span><span class=\"n\">days</span><span class=\"o\">=</span><span class=\"n\">day</span><span class=\"o\">-</span><span class=\"mi\">1</span><span class=\"p\">)</span>\n",
       "\n",
       "\n",
       "<span class=\"k\">def</span> <span class=\"nf\">parse_tle</span><span class=\"p\">(</span><span class=\"n\">tle</span><span class=\"p\">:</span><span class=\"nb\">str</span><span class=\"p\">):</span>\n",
       "    <span class=\"sd\">&quot;&quot;&quot;</span>\n",
       "<span class=\"sd\">    Format</span>\n",
       "<span class=\"sd\">    https://en.wikipedia.org/wiki/Two-line_element_set</span>\n",
       "<span class=\"sd\">    https://celestrak.com/NORAD/documentation/tle-fmt.php</span>\n",
       "<span class=\"sd\">    https://spaceflight.nasa.gov/realdata/sightings/SSapplications/Post/JavaSSOP/SSOP_Help/tle_def.html</span>\n",
       "\n",
       "<span class=\"sd\">    AAAAAAAAAAAAAAAAAAAAAAAA</span>\n",
       "<span class=\"sd\">    1 NNNNNU NNNNNAAA NNNNN.NNNNNNNN +.NNNNNNNN +NNNNN-N +NNNNN-N N NNNNN</span>\n",
       "<span class=\"sd\">    2 NNNNN NNN.NNNN NNN.NNNN NNNNNNN NNN.NNNN NNN.NNNN NN.NNNNNNNNNNNNNN</span>\n",
       "\n",
       "<span class=\"sd\">    ISS (ZARYA)</span>\n",
       "<span class=\"sd\">    1 25544U 98067A   20060.61908565  .00000737  00000-0  21434-4 0  9993</span>\n",
       "<span class=\"sd\">    2 25544  51.6436 165.6500 0005418 332.6966 228.1099 15.49204316215186</span>\n",
       "\n",
       "<span class=\"sd\">    TLE are in ECI frame</span>\n",
       "<span class=\"sd\">    &quot;&quot;&quot;</span>\n",
       "    <span class=\"c1\"># name, onel, twol = tle.split(&quot;\\n&quot;)</span>\n",
       "    <span class=\"n\">tle</span><span class=\"o\">.</span><span class=\"n\">strip</span><span class=\"p\">()</span>\n",
       "    <span class=\"k\">if</span> <span class=\"n\">tle</span><span class=\"p\">[</span><span class=\"o\">-</span><span class=\"mi\">1</span><span class=\"p\">]</span> <span class=\"o\">==</span> <span class=\"s2\">&quot;</span><span class=\"se\">\\n</span><span class=\"s2\">&quot;</span><span class=\"p\">:</span>\n",
       "        <span class=\"n\">tle</span> <span class=\"o\">=</span> <span class=\"n\">tle</span><span class=\"p\">[:</span><span class=\"o\">-</span><span class=\"mi\">1</span><span class=\"p\">]</span>\n",
       "\n",
       "    <span class=\"n\">tmp</span> <span class=\"o\">=</span> <span class=\"n\">tle</span><span class=\"o\">.</span><span class=\"n\">split</span><span class=\"p\">(</span><span class=\"s2\">&quot;</span><span class=\"se\">\\n</span><span class=\"s2\">&quot;</span><span class=\"p\">)</span>\n",
       "    <span class=\"k\">if</span> <span class=\"nb\">len</span><span class=\"p\">(</span><span class=\"n\">tmp</span><span class=\"p\">)</span> <span class=\"o\">==</span> <span class=\"mi\">2</span><span class=\"p\">:</span>\n",
       "        <span class=\"n\">name</span> <span class=\"o\">=</span> <span class=\"s2\">&quot;unknown&quot;</span>\n",
       "        <span class=\"n\">onel</span> <span class=\"o\">=</span> <span class=\"n\">tmp</span><span class=\"p\">[</span><span class=\"mi\">0</span><span class=\"p\">]</span>\n",
       "        <span class=\"n\">twol</span> <span class=\"o\">=</span> <span class=\"n\">tmp</span><span class=\"p\">[</span><span class=\"mi\">1</span><span class=\"p\">]</span>\n",
       "    <span class=\"k\">elif</span> <span class=\"nb\">len</span><span class=\"p\">(</span><span class=\"n\">tmp</span><span class=\"p\">)</span> <span class=\"o\">&gt;=</span> <span class=\"mi\">3</span><span class=\"p\">:</span>\n",
       "        <span class=\"n\">name</span><span class=\"p\">,</span> <span class=\"n\">onel</span><span class=\"p\">,</span> <span class=\"n\">twol</span> <span class=\"o\">=</span> <span class=\"n\">tmp</span><span class=\"p\">[:</span><span class=\"mi\">3</span><span class=\"p\">]</span>\n",
       "    <span class=\"k\">else</span><span class=\"p\">:</span>\n",
       "        <span class=\"nb\">print</span><span class=\"p\">(</span><span class=\"n\">tmp</span><span class=\"p\">)</span>\n",
       "        <span class=\"k\">raise</span> <span class=\"ne\">Exception</span><span class=\"p\">(</span><span class=\"sa\">f</span><span class=\"s2\">&quot;tle_parse: too many lines: </span><span class=\"si\">{</span><span class=\"nb\">len</span><span class=\"p\">(</span><span class=\"n\">tmp</span><span class=\"p\">)</span><span class=\"si\">}</span><span class=\"s2\">&quot;</span><span class=\"p\">)</span>\n",
       "\n",
       "    <span class=\"n\">one</span> <span class=\"o\">=</span> <span class=\"n\">onel</span><span class=\"o\">.</span><span class=\"n\">split</span><span class=\"p\">()</span>\n",
       "    <span class=\"n\">two</span> <span class=\"o\">=</span> <span class=\"n\">twol</span><span class=\"o\">.</span><span class=\"n\">split</span><span class=\"p\">()</span>\n",
       "    <span class=\"c1\"># print(f&quot;name: {name}\\n one: {one}\\n two: {two}\\n&quot;)</span>\n",
       "\n",
       "    <span class=\"n\">cat</span> <span class=\"o\">=</span> <span class=\"nb\">str</span><span class=\"p\">(</span><span class=\"n\">one</span><span class=\"p\">[</span><span class=\"mi\">1</span><span class=\"p\">])</span><span class=\"o\">.</span><span class=\"n\">strip</span><span class=\"p\">()</span>\n",
       "    <span class=\"n\">cl</span> <span class=\"o\">=</span> <span class=\"n\">fix_classification</span><span class=\"p\">(</span><span class=\"n\">cat</span><span class=\"p\">[</span><span class=\"o\">-</span><span class=\"mi\">1</span><span class=\"p\">])</span>\n",
       "    <span class=\"n\">obj</span> <span class=\"o\">=</span> <span class=\"n\">Object</span><span class=\"p\">(</span><span class=\"n\">name</span><span class=\"o\">.</span><span class=\"n\">strip</span><span class=\"p\">(),</span> <span class=\"nb\">int</span><span class=\"p\">(</span><span class=\"n\">cat</span><span class=\"p\">[:</span><span class=\"o\">-</span><span class=\"mi\">1</span><span class=\"p\">]),</span><span class=\"n\">cl</span><span class=\"p\">)</span>\n",
       "\n",
       "    <span class=\"n\">yr</span> <span class=\"o\">=</span> <span class=\"n\">fix_year</span><span class=\"p\">(</span><span class=\"nb\">int</span><span class=\"p\">(</span><span class=\"n\">one</span><span class=\"p\">[</span><span class=\"mi\">2</span><span class=\"p\">][:</span><span class=\"mi\">2</span><span class=\"p\">]))</span>\n",
       "    <span class=\"n\">piece</span> <span class=\"o\">=</span> <span class=\"nb\">str</span><span class=\"p\">(</span><span class=\"n\">one</span><span class=\"p\">[</span><span class=\"mi\">2</span><span class=\"p\">][</span><span class=\"o\">-</span><span class=\"mi\">1</span><span class=\"p\">])</span>\n",
       "    <span class=\"n\">num</span> <span class=\"o\">=</span> <span class=\"nb\">str</span><span class=\"p\">(</span><span class=\"n\">one</span><span class=\"p\">[</span><span class=\"mi\">2</span><span class=\"p\">][</span><span class=\"mi\">2</span><span class=\"p\">:</span><span class=\"o\">-</span><span class=\"mi\">1</span><span class=\"p\">])</span>\n",
       "    <span class=\"nb\">id</span> <span class=\"o\">=</span> <span class=\"n\">ID</span><span class=\"p\">(</span><span class=\"n\">yr</span><span class=\"p\">,</span> <span class=\"n\">num</span><span class=\"p\">,</span> <span class=\"n\">piece</span><span class=\"p\">)</span>\n",
       "\n",
       "    <span class=\"n\">yr</span> <span class=\"o\">=</span> <span class=\"nb\">int</span><span class=\"p\">(</span><span class=\"n\">one</span><span class=\"p\">[</span><span class=\"mi\">3</span><span class=\"p\">][:</span><span class=\"mi\">2</span><span class=\"p\">])</span>\n",
       "    <span class=\"n\">day</span> <span class=\"o\">=</span> <span class=\"nb\">float</span><span class=\"p\">(</span><span class=\"n\">one</span><span class=\"p\">[</span><span class=\"mi\">3</span><span class=\"p\">][</span><span class=\"mi\">2</span><span class=\"p\">:])</span>\n",
       "    <span class=\"c1\"># print(&quot;epoch&quot;, fix_epoch(day, yr))</span>\n",
       "\n",
       "    <span class=\"n\">n</span> <span class=\"o\">=</span> <span class=\"nb\">float</span><span class=\"p\">(</span><span class=\"n\">two</span><span class=\"p\">[</span><span class=\"mi\">7</span><span class=\"p\">][:</span><span class=\"mi\">11</span><span class=\"p\">])</span>  <span class=\"c1\"># mean motion, or period of orbit</span>\n",
       "    <span class=\"n\">u</span> <span class=\"o\">=</span> <span class=\"n\">Earth</span><span class=\"o\">.</span><span class=\"n\">mu</span>\n",
       "\n",
       "    <span class=\"n\">a</span> <span class=\"o\">=</span> <span class=\"nb\">pow</span><span class=\"p\">(</span><span class=\"n\">u</span><span class=\"p\">,</span><span class=\"mi\">1</span><span class=\"o\">/</span><span class=\"mi\">3</span><span class=\"p\">)</span><span class=\"o\">/</span><span class=\"nb\">pow</span><span class=\"p\">(</span><span class=\"mi\">2</span><span class=\"o\">*</span><span class=\"n\">n</span><span class=\"o\">*</span><span class=\"n\">pi</span><span class=\"o\">/</span><span class=\"mi\">86400</span><span class=\"p\">,</span> <span class=\"mi\">2</span><span class=\"o\">/</span><span class=\"mi\">3</span><span class=\"p\">)</span>\n",
       "    <span class=\"n\">e</span> <span class=\"o\">=</span> <span class=\"n\">fix_dec</span><span class=\"p\">(</span><span class=\"n\">two</span><span class=\"p\">[</span><span class=\"mi\">4</span><span class=\"p\">])</span>\n",
       "    <span class=\"n\">i</span> <span class=\"o\">=</span> <span class=\"nb\">float</span><span class=\"p\">(</span><span class=\"n\">two</span><span class=\"p\">[</span><span class=\"mi\">2</span><span class=\"p\">])</span>\n",
       "    <span class=\"n\">raan</span> <span class=\"o\">=</span> <span class=\"nb\">float</span><span class=\"p\">(</span><span class=\"n\">two</span><span class=\"p\">[</span><span class=\"mi\">3</span><span class=\"p\">])</span>\n",
       "    <span class=\"n\">w</span> <span class=\"o\">=</span> <span class=\"nb\">float</span><span class=\"p\">(</span><span class=\"n\">two</span><span class=\"p\">[</span><span class=\"mi\">5</span><span class=\"p\">])</span>\n",
       "    <span class=\"n\">v</span> <span class=\"o\">=</span> <span class=\"nb\">float</span><span class=\"p\">(</span><span class=\"n\">two</span><span class=\"p\">[</span><span class=\"mi\">6</span><span class=\"p\">])</span>\n",
       "\n",
       "    <span class=\"c1\"># classic orbital elements: a e i raan w v</span>\n",
       "    <span class=\"n\">coe</span> <span class=\"o\">=</span> <span class=\"n\">OE</span><span class=\"p\">(</span><span class=\"n\">a</span><span class=\"p\">,</span><span class=\"n\">e</span><span class=\"p\">,</span><span class=\"n\">i</span><span class=\"p\">,</span><span class=\"n\">raan</span><span class=\"p\">,</span><span class=\"n\">w</span><span class=\"p\">,</span><span class=\"n\">v</span><span class=\"p\">)</span>\n",
       "\n",
       "    <span class=\"n\">d</span> <span class=\"o\">=</span> <span class=\"nb\">int</span><span class=\"p\">(</span><span class=\"n\">one</span><span class=\"p\">[</span><span class=\"mi\">7</span><span class=\"p\">])</span>\n",
       "    <span class=\"k\">if</span> <span class=\"n\">d</span> <span class=\"o\">&gt;</span> <span class=\"mi\">0</span><span class=\"p\">:</span>\n",
       "        <span class=\"nb\">print</span><span class=\"p\">(</span><span class=\"n\">EphemerisType</span><span class=\"p\">(</span><span class=\"n\">d</span><span class=\"p\">))</span>\n",
       "    <span class=\"c1\"># else:</span>\n",
       "    <span class=\"c1\">#     print(f&quot;unknown ephemeris type: {d}&quot;)</span>\n",
       "\n",
       "    <span class=\"k\">return</span> <span class=\"n\">TLE</span><span class=\"p\">(</span>\n",
       "            <span class=\"n\">obj</span><span class=\"p\">,</span>\n",
       "            <span class=\"nb\">id</span><span class=\"p\">,</span>\n",
       "            <span class=\"n\">coe</span><span class=\"p\">,</span>\n",
       "            <span class=\"c1\"># float(two[63:68]), # rev num at epoch - this number isn&#39;t useful/accurate</span>\n",
       "            <span class=\"nb\">float</span><span class=\"p\">(</span><span class=\"n\">one</span><span class=\"p\">[</span><span class=\"mi\">4</span><span class=\"p\">]),</span> <span class=\"c1\"># ballistic coeff</span>\n",
       "            <span class=\"n\">fix_sci</span><span class=\"p\">(</span><span class=\"n\">one</span><span class=\"p\">[</span><span class=\"mi\">6</span><span class=\"p\">]),</span> <span class=\"c1\"># bstar</span>\n",
       "            <span class=\"c1\"># n, # mean motion</span>\n",
       "            <span class=\"c1\"># fix_sci(one[44:52]), # 2nd der mean motion</span>\n",
       "            <span class=\"n\">onel</span><span class=\"p\">,</span>\n",
       "            <span class=\"n\">twol</span>\n",
       "        <span class=\"p\">)</span>\n",
       "</pre></div>\n"
      ],
      "text/plain": [
       "<IPython.core.display.HTML object>"
      ]
     },
     "metadata": {},
     "output_type": "display_data"
    }
   ],
   "source": [
    "url = \"https://raw.githubusercontent.com/nimbus-bp-1729/doop/master/doop/tle.py\"\n",
    "getCode(url)"
   ]
  },
  {
   "cell_type": "markdown",
   "id": "2db17484-50ec-4b08-9815-3c2bc97f3f91",
   "metadata": {},
   "source": [
    "## Not Perfect"
   ]
  },
  {
   "cell_type": "code",
   "execution_count": 53,
   "id": "28314d20-195a-4027-b590-a6bb0337eb45",
   "metadata": {},
   "outputs": [
    {
     "data": {
      "text/html": [
       "<div class=\"highlight\"><pre><span></span><span class=\"k\">class</span> <span class=\"nc\">AnsiFore</span><span class=\"p\">(</span><span class=\"n\">AnsiCodes</span><span class=\"p\">):</span>\n",
       "    <span class=\"n\">BLACK</span>           <span class=\"o\">=</span> <span class=\"mi\">30</span>\n",
       "    <span class=\"n\">RED</span>             <span class=\"o\">=</span> <span class=\"mi\">31</span>\n",
       "    <span class=\"n\">GREEN</span>           <span class=\"o\">=</span> <span class=\"mi\">32</span>\n",
       "    <span class=\"n\">YELLOW</span>          <span class=\"o\">=</span> <span class=\"mi\">33</span>\n",
       "    <span class=\"n\">BLUE</span>            <span class=\"o\">=</span> <span class=\"mi\">34</span>\n",
       "    <span class=\"n\">MAGENTA</span>         <span class=\"o\">=</span> <span class=\"mi\">35</span>\n",
       "    <span class=\"n\">CYAN</span>            <span class=\"o\">=</span> <span class=\"mi\">36</span>\n",
       "    <span class=\"n\">WHITE</span>           <span class=\"o\">=</span> <span class=\"mi\">37</span>\n",
       "    <span class=\"n\">RESET</span>           <span class=\"o\">=</span> <span class=\"mi\">39</span>\n",
       "\n",
       "    <span class=\"c1\"># These are fairly well supported, but not part of the standard.</span>\n",
       "    <span class=\"n\">LIGHTBLACK_EX</span>   <span class=\"o\">=</span> <span class=\"mi\">90</span>\n",
       "    <span class=\"n\">LIGHTRED_EX</span>     <span class=\"o\">=</span> <span class=\"mi\">91</span>\n",
       "    <span class=\"n\">LIGHTGREEN_EX</span>   <span class=\"o\">=</span> <span class=\"mi\">92</span>\n",
       "    <span class=\"n\">LIGHTYELLOW_EX</span>  <span class=\"o\">=</span> <span class=\"mi\">93</span>\n",
       "    <span class=\"n\">LIGHTBLUE_EX</span>    <span class=\"o\">=</span> <span class=\"mi\">94</span>\n",
       "    <span class=\"n\">LIGHTMAGENTA_EX</span> <span class=\"o\">=</span> <span class=\"mi\">95</span>\n",
       "    <span class=\"n\">LIGHTCYAN_EX</span>    <span class=\"o\">=</span> <span class=\"mi\">96</span>\n",
       "    <span class=\"n\">LIGHTWHITE_EX</span>   <span class=\"o\">=</span> <span class=\"mi\">97</span>\n",
       "</pre></div>\n"
      ],
      "text/plain": [
       "<IPython.core.display.HTML object>"
      ]
     },
     "metadata": {},
     "output_type": "display_data"
    }
   ],
   "source": [
    "from colorama.ansi import AnsiFore # can't find Fore\n",
    "getCode(imp=AnsiFore)"
   ]
  },
  {
   "cell_type": "code",
   "execution_count": 66,
   "id": "31b99375-a563-47b3-8680-73c579dab514",
   "metadata": {},
   "outputs": [
    {
     "ename": "TypeError",
     "evalue": "module, class, method, function, traceback, frame, or code object was expected, got ufunc",
     "output_type": "error",
     "traceback": [
      "\u001b[0;31m---------------------------------------------------------------------------\u001b[0m",
      "\u001b[0;31mTypeError\u001b[0m                                 Traceback (most recent call last)",
      "Input \u001b[0;32mIn [66]\u001b[0m, in \u001b[0;36m<cell line: 2>\u001b[0;34m()\u001b[0m\n\u001b[1;32m      1\u001b[0m \u001b[38;5;28;01mimport\u001b[39;00m \u001b[38;5;21;01mnumpy\u001b[39;00m\n\u001b[0;32m----> 2\u001b[0m \u001b[43mgetCode\u001b[49m\u001b[43m(\u001b[49m\u001b[43mimp\u001b[49m\u001b[38;5;241;43m=\u001b[39;49m\u001b[43mnp\u001b[49m\u001b[38;5;241;43m.\u001b[39;49m\u001b[43mcos\u001b[49m\u001b[43m)\u001b[49m\n",
      "Input \u001b[0;32mIn [48]\u001b[0m, in \u001b[0;36mgetCode\u001b[0;34m(url, imp, file)\u001b[0m\n\u001b[1;32m     10\u001b[0m \u001b[38;5;28;01mdef\u001b[39;00m \u001b[38;5;21mgetCode\u001b[39m(url\u001b[38;5;241m=\u001b[39m\u001b[38;5;28;01mNone\u001b[39;00m, imp\u001b[38;5;241m=\u001b[39m\u001b[38;5;28;01mNone\u001b[39;00m, file\u001b[38;5;241m=\u001b[39m\u001b[38;5;28;01mNone\u001b[39;00m):\n\u001b[1;32m     11\u001b[0m     \u001b[38;5;28;01mif\u001b[39;00m imp \u001b[38;5;129;01mis\u001b[39;00m \u001b[38;5;129;01mnot\u001b[39;00m \u001b[38;5;28;01mNone\u001b[39;00m:\n\u001b[0;32m---> 12\u001b[0m         py \u001b[38;5;241m=\u001b[39m \u001b[43minspect\u001b[49m\u001b[38;5;241;43m.\u001b[39;49m\u001b[43mgetsource\u001b[49m\u001b[43m(\u001b[49m\u001b[43mimp\u001b[49m\u001b[43m)\u001b[49m\n\u001b[1;32m     13\u001b[0m     \u001b[38;5;28;01melif\u001b[39;00m url \u001b[38;5;129;01mis\u001b[39;00m \u001b[38;5;129;01mnot\u001b[39;00m \u001b[38;5;28;01mNone\u001b[39;00m:\n\u001b[1;32m     14\u001b[0m         py \u001b[38;5;241m=\u001b[39m openpy\u001b[38;5;241m.\u001b[39mread_py_url(url)\n",
      "File \u001b[0;32m/usr/local/Cellar/python@3.9/3.9.10/Frameworks/Python.framework/Versions/3.9/lib/python3.9/inspect.py:1024\u001b[0m, in \u001b[0;36mgetsource\u001b[0;34m(object)\u001b[0m\n\u001b[1;32m   1018\u001b[0m \u001b[38;5;28;01mdef\u001b[39;00m \u001b[38;5;21mgetsource\u001b[39m(\u001b[38;5;28mobject\u001b[39m):\n\u001b[1;32m   1019\u001b[0m     \u001b[38;5;124;03m\"\"\"Return the text of the source code for an object.\u001b[39;00m\n\u001b[1;32m   1020\u001b[0m \n\u001b[1;32m   1021\u001b[0m \u001b[38;5;124;03m    The argument may be a module, class, method, function, traceback, frame,\u001b[39;00m\n\u001b[1;32m   1022\u001b[0m \u001b[38;5;124;03m    or code object.  The source code is returned as a single string.  An\u001b[39;00m\n\u001b[1;32m   1023\u001b[0m \u001b[38;5;124;03m    OSError is raised if the source code cannot be retrieved.\"\"\"\u001b[39;00m\n\u001b[0;32m-> 1024\u001b[0m     lines, lnum \u001b[38;5;241m=\u001b[39m \u001b[43mgetsourcelines\u001b[49m\u001b[43m(\u001b[49m\u001b[38;5;28;43mobject\u001b[39;49m\u001b[43m)\u001b[49m\n\u001b[1;32m   1025\u001b[0m     \u001b[38;5;28;01mreturn\u001b[39;00m \u001b[38;5;124m'\u001b[39m\u001b[38;5;124m'\u001b[39m\u001b[38;5;241m.\u001b[39mjoin(lines)\n",
      "File \u001b[0;32m/usr/local/Cellar/python@3.9/3.9.10/Frameworks/Python.framework/Versions/3.9/lib/python3.9/inspect.py:1006\u001b[0m, in \u001b[0;36mgetsourcelines\u001b[0;34m(object)\u001b[0m\n\u001b[1;32m    998\u001b[0m \u001b[38;5;124;03m\"\"\"Return a list of source lines and starting line number for an object.\u001b[39;00m\n\u001b[1;32m    999\u001b[0m \n\u001b[1;32m   1000\u001b[0m \u001b[38;5;124;03mThe argument may be a module, class, method, function, traceback, frame,\u001b[39;00m\n\u001b[0;32m   (...)\u001b[0m\n\u001b[1;32m   1003\u001b[0m \u001b[38;5;124;03moriginal source file the first line of code was found.  An OSError is\u001b[39;00m\n\u001b[1;32m   1004\u001b[0m \u001b[38;5;124;03mraised if the source code cannot be retrieved.\"\"\"\u001b[39;00m\n\u001b[1;32m   1005\u001b[0m \u001b[38;5;28mobject\u001b[39m \u001b[38;5;241m=\u001b[39m unwrap(\u001b[38;5;28mobject\u001b[39m)\n\u001b[0;32m-> 1006\u001b[0m lines, lnum \u001b[38;5;241m=\u001b[39m \u001b[43mfindsource\u001b[49m\u001b[43m(\u001b[49m\u001b[38;5;28;43mobject\u001b[39;49m\u001b[43m)\u001b[49m\n\u001b[1;32m   1008\u001b[0m \u001b[38;5;28;01mif\u001b[39;00m istraceback(\u001b[38;5;28mobject\u001b[39m):\n\u001b[1;32m   1009\u001b[0m     \u001b[38;5;28mobject\u001b[39m \u001b[38;5;241m=\u001b[39m \u001b[38;5;28mobject\u001b[39m\u001b[38;5;241m.\u001b[39mtb_frame\n",
      "File \u001b[0;32m/usr/local/Cellar/python@3.9/3.9.10/Frameworks/Python.framework/Versions/3.9/lib/python3.9/inspect.py:817\u001b[0m, in \u001b[0;36mfindsource\u001b[0;34m(object)\u001b[0m\n\u001b[1;32m    809\u001b[0m \u001b[38;5;28;01mdef\u001b[39;00m \u001b[38;5;21mfindsource\u001b[39m(\u001b[38;5;28mobject\u001b[39m):\n\u001b[1;32m    810\u001b[0m     \u001b[38;5;124;03m\"\"\"Return the entire source file and starting line number for an object.\u001b[39;00m\n\u001b[1;32m    811\u001b[0m \n\u001b[1;32m    812\u001b[0m \u001b[38;5;124;03m    The argument may be a module, class, method, function, traceback, frame,\u001b[39;00m\n\u001b[1;32m    813\u001b[0m \u001b[38;5;124;03m    or code object.  The source code is returned as a list of all the lines\u001b[39;00m\n\u001b[1;32m    814\u001b[0m \u001b[38;5;124;03m    in the file and the line number indexes a line in that list.  An OSError\u001b[39;00m\n\u001b[1;32m    815\u001b[0m \u001b[38;5;124;03m    is raised if the source code cannot be retrieved.\"\"\"\u001b[39;00m\n\u001b[0;32m--> 817\u001b[0m     file \u001b[38;5;241m=\u001b[39m \u001b[43mgetsourcefile\u001b[49m\u001b[43m(\u001b[49m\u001b[38;5;28;43mobject\u001b[39;49m\u001b[43m)\u001b[49m\n\u001b[1;32m    818\u001b[0m     \u001b[38;5;28;01mif\u001b[39;00m file:\n\u001b[1;32m    819\u001b[0m         \u001b[38;5;66;03m# Invalidate cache if needed.\u001b[39;00m\n\u001b[1;32m    820\u001b[0m         linecache\u001b[38;5;241m.\u001b[39mcheckcache(file)\n",
      "File \u001b[0;32m/usr/local/Cellar/python@3.9/3.9.10/Frameworks/Python.framework/Versions/3.9/lib/python3.9/inspect.py:697\u001b[0m, in \u001b[0;36mgetsourcefile\u001b[0;34m(object)\u001b[0m\n\u001b[1;32m    693\u001b[0m \u001b[38;5;28;01mdef\u001b[39;00m \u001b[38;5;21mgetsourcefile\u001b[39m(\u001b[38;5;28mobject\u001b[39m):\n\u001b[1;32m    694\u001b[0m     \u001b[38;5;124;03m\"\"\"Return the filename that can be used to locate an object's source.\u001b[39;00m\n\u001b[1;32m    695\u001b[0m \u001b[38;5;124;03m    Return None if no way can be identified to get the source.\u001b[39;00m\n\u001b[1;32m    696\u001b[0m \u001b[38;5;124;03m    \"\"\"\u001b[39;00m\n\u001b[0;32m--> 697\u001b[0m     filename \u001b[38;5;241m=\u001b[39m \u001b[43mgetfile\u001b[49m\u001b[43m(\u001b[49m\u001b[38;5;28;43mobject\u001b[39;49m\u001b[43m)\u001b[49m\n\u001b[1;32m    698\u001b[0m     all_bytecode_suffixes \u001b[38;5;241m=\u001b[39m importlib\u001b[38;5;241m.\u001b[39mmachinery\u001b[38;5;241m.\u001b[39mDEBUG_BYTECODE_SUFFIXES[:]\n\u001b[1;32m    699\u001b[0m     all_bytecode_suffixes \u001b[38;5;241m+\u001b[39m\u001b[38;5;241m=\u001b[39m importlib\u001b[38;5;241m.\u001b[39mmachinery\u001b[38;5;241m.\u001b[39mOPTIMIZED_BYTECODE_SUFFIXES[:]\n",
      "File \u001b[0;32m/usr/local/Cellar/python@3.9/3.9.10/Frameworks/Python.framework/Versions/3.9/lib/python3.9/inspect.py:677\u001b[0m, in \u001b[0;36mgetfile\u001b[0;34m(object)\u001b[0m\n\u001b[1;32m    675\u001b[0m \u001b[38;5;28;01mif\u001b[39;00m iscode(\u001b[38;5;28mobject\u001b[39m):\n\u001b[1;32m    676\u001b[0m     \u001b[38;5;28;01mreturn\u001b[39;00m \u001b[38;5;28mobject\u001b[39m\u001b[38;5;241m.\u001b[39mco_filename\n\u001b[0;32m--> 677\u001b[0m \u001b[38;5;28;01mraise\u001b[39;00m \u001b[38;5;167;01mTypeError\u001b[39;00m(\u001b[38;5;124m'\u001b[39m\u001b[38;5;124mmodule, class, method, function, traceback, frame, or \u001b[39m\u001b[38;5;124m'\u001b[39m\n\u001b[1;32m    678\u001b[0m                 \u001b[38;5;124m'\u001b[39m\u001b[38;5;124mcode object was expected, got \u001b[39m\u001b[38;5;132;01m{}\u001b[39;00m\u001b[38;5;124m'\u001b[39m\u001b[38;5;241m.\u001b[39mformat(\n\u001b[1;32m    679\u001b[0m                 \u001b[38;5;28mtype\u001b[39m(\u001b[38;5;28mobject\u001b[39m)\u001b[38;5;241m.\u001b[39m\u001b[38;5;18m__name__\u001b[39m))\n",
      "\u001b[0;31mTypeError\u001b[0m: module, class, method, function, traceback, frame, or code object was expected, got ufunc"
     ]
    }
   ],
   "source": [
    "import numpy\n",
    "getCode(imp=np.cos)"
   ]
  },
  {
   "cell_type": "code",
   "execution_count": 70,
   "id": "d6b37470-1ba5-4ccd-b7d5-5f1df2518bb8",
   "metadata": {},
   "outputs": [
    {
     "data": {
      "text/plain": [
       "3.7416573867739413"
      ]
     },
     "execution_count": 70,
     "metadata": {},
     "output_type": "execute_result"
    }
   ],
   "source": [
    "np.linalg.norm((1,2,3,))"
   ]
  },
  {
   "cell_type": "code",
   "execution_count": null,
   "id": "6488e9bd-2c15-4bfe-9f70-6666dba90f83",
   "metadata": {},
   "outputs": [],
   "source": []
  }
 ],
 "metadata": {
  "kernelspec": {
   "display_name": "Python 3 (ipykernel)",
   "language": "python",
   "name": "python3"
  },
  "language_info": {
   "codemirror_mode": {
    "name": "ipython",
    "version": 3
   },
   "file_extension": ".py",
   "mimetype": "text/x-python",
   "name": "python",
   "nbconvert_exporter": "python",
   "pygments_lexer": "ipython3",
   "version": "3.10.5"
  }
 },
 "nbformat": 4,
 "nbformat_minor": 5
}
