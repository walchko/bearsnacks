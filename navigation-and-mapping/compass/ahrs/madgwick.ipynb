{
 "cells": [
  {
   "cell_type": "markdown",
   "metadata": {},
   "source": [
    "![](header.jpg)\n",
    "\n",
    "# Madgwick\n",
    "\n",
    "Kevin J. Walchko, Phd\n",
    "\n",
    "3 Jan 2021\n",
    "\n",
    "---\n",
    "\n",
    "## References\n",
    "\n",
    "- [Madgwick, *An efficient orientation filter for inertial and inertial/magnetic sensor arrays*](madgwick.pdf)"
   ]
  },
  {
   "cell_type": "markdown",
   "metadata": {},
   "source": [
    "## Quaternion Basics\n",
    "\n",
    "Here we will use Hamiltonian (right-handed) quaternions throughout this work. The notation on the quaternion frames is $^{From}_{To}q$.\n",
    "\n",
    "$$\n",
    "^A_Bq = \\begin{bmatrix} q_1 & q_2 & q_3 & q_4 \\end{bmatrix} =\\begin{bmatrix} w & x & y & z \\end{bmatrix}\\\\\n",
    "^A_Cq = {}^B_Cq \\otimes {}^A_Bq \\\\\n",
    "^A_Bq^* = {}^B_Aq = \\begin{bmatrix} q_1 & -q_2 & -q_3 & -q_4 \\end{bmatrix} \\\\\n",
    "^A_Bq^* \\otimes {}^A_Bq = \\begin{bmatrix} 1 & 0 & 0 & 0 \\end{bmatrix} \\\\\n",
    "^Bv = {}^A_Bq \\otimes {}^Av \\otimes {}^A_Bq^* \n",
    "$$"
   ]
  },
  {
   "cell_type": "markdown",
   "metadata": {},
   "source": [
    "# Filter Equations\n",
    "\n",
    "Madgwick did a great job designing this filter, but I find his paper hard to follow, especially with several typos in the mathematics. So I tried to boil it down to the useful equations.\n",
    "\n",
    "![](marg.png)\n",
    "\n",
    "## Definitions\n",
    "\n",
    "| Symbol | Definition |\n",
    "|---|:---|\n",
    "| $S$        | Sensor Frame |\n",
    "| $E$        | Earth Frame |\n",
    "| $||x||$    | Norm of $x$ |\n",
    "| $f_{g,b}$  | Objective function|\n",
    "| $J_{g,b}$  | Jacobian of the objective funtion based on the gravity and magnetic field references   |\n",
    "| $\\nabla f$ | Gradient of the cost function which is composed of Jacobian and the objective function: $J^T_g f_g + J^T_{g,b} f_{g,b}$ |\n",
    "| $\\omega_t$ | Raw gyro values [rad/sec]|\n",
    "| $\\omega_c$ | Corrected gyro values free of biases [rad/sec] |\n",
    "| $a_t$      | Accelerometer values [$m/sec^2$] |\n",
    "| $m_t$      | magnetometer values [uT]|\n",
    "| $\\zeta$    | Gain for drift estimation |\n",
    "| $\\beta$    | Gain for filter or learning rate based on gradient feedback |\n",
    "| $^S_Eq_t$  | Orientation at current time step |\n",
    "| $^Eb_t$    | Magnetic field reference at current time step which is derived from $m_t$ |\n",
    "| $^Eg$      | Gravitational reference at current time step [$m/sec^2$] |\n",
    "\n",
    "\n",
    "## Initialize\n",
    "\n",
    "$$\n",
    "^S_Eq_t = \\begin{bmatrix} 1 & 0 & 0 & 0 \\end{bmatrix} \\\\\n",
    "^{S}\\omega_{b,t} = \\begin{bmatrix} 0 & 0 & 0 \\end{bmatrix}^T\n",
    "$$\n",
    "\n",
    "## Loop\n",
    "\n",
    "1. Get accelerometer ($^Sa_t$), magnetometer ($^Sm_t$), and gyroscope ($^S\\omega_t$) from the IMU\n",
    "1. Normalize $^Sa_t$ and $^Sm_t$\n",
    "1. Make sure the gyro is converted, if necessary, to rads/sec and not deg/sec\n",
    "1. Calculate time step $\\Delta t$ from last sample time\n",
    "1. Calculate the reference magnetic field based on the magnetometer\n",
    "    1. Find alignment [45]: $^{E}\\hat h_t = ^{S}_{E}\\hat q_{est,t-1} \\otimes ^S \\hat m_t \\otimes ^{S}_{E}\\hat q^{*}_{est,t-1}$\n",
    "    1. Create quaternion representation [46]: $^{E}\\hat b_t = \\begin{bmatrix} 0 & \\sqrt{h^2_x + h^2_y} & 0 & h_z \\end{bmatrix}$\n",
    "1. Calculate the gradient $\\nabla f$ and normalize to get $\\frac{\\nabla f}{|| \\nabla f||}$, the formulation of $\\Delta f$ is discussed below in the gradient section\n",
    "1. Calculate the gyro bias:\n",
    "    1. Estimate the error [47]: $^{S}\\omega_{\\epsilon,t} = 2^S_E\\hat q^{*}_{est,t-1} \\otimes \\frac{\\nabla f}{|| \\nabla f||}$\n",
    "    1. Integrate (discrete time) to get the current bias estimate [48]: $^{S}\\omega_{b,t} = \\zeta \\sum ^{S}\\omega_{\\epsilon,t} \\Delta t$\n",
    "        1. $\\zeta$ is the drift rate (rad/s/s) $\\sqrt{\\frac{3}{4}} \\dot \\omega_{\\zeta}$\n",
    "    1. Correct the raw gyro values [49]: $^{S}\\omega_{c,t} = ^{S}\\omega_{t} - ^{S}\\omega_{b,t}$\n",
    "1. Update orientation based on corrected gyros [12]: $^{S}_{E}\\dot q_{\\omega,t} = \\frac{1}{2} ^{S}_{E}\\hat q_{est,t-1} \\otimes ^{S}\\omega_{c,t}$\n",
    "1. Correct the orientation rate using the estimated error [43]: $^{S}_{E}\\dot q_{est,t} = ^{S}_{E}\\dot q_{\\omega,t} - \\beta \\frac{\\nabla f}{|| \\nabla f||}$\n",
    "    1. Now $\\beta$ is based on the error (rad/s) of  the gyro, you can use: $\\sqrt{\\frac{3}{4}} \\omega_{\\beta}$\n",
    "1. Integrate (discrete time) the orientation rate to get the updated orientation [42]: $^{S}_{E}\\hat q_{est,t} = ^{S}_{E}\\hat q_{est,t-1} + ^{S}_{E}\\dot q_{est,t} \\Delta t$\n",
    "\n",
    "## Gradient\n",
    "\n",
    "For the MARG, the gradient uses [21] and [22]. By substituting in values for gravity ($^Eg = \\begin{bmatrix} 0 & 0 & 1 \\end{bmatrix}$) and the magnetic field reference, the equation simplify down to [25],[26],[29],[30]:\n",
    "\n",
    "$$\n",
    "\\nabla f = J^T_g f_g + J^T_{g,b} f_{g,b} \\\\\n",
    "f_g = \\begin{bmatrix}\n",
    "    2(q_2q_4-q_1q_3)-a_x \\\\\n",
    "    2(q_1q_2+q_3q_4)-a_y \\\\\n",
    "    2(0.5-q_2^2-q_3^2)-a_z\n",
    "\\end{bmatrix} \\\\\n",
    "J_g = \\begin{bmatrix}\n",
    "    -2q_3 &  2q_4 & -2q_1 & 2q_2 \\\\\n",
    "     2q_2 &  2q_1 &  2q_4 & 2q_3 \\\\\n",
    "        0 & -4q_2 & -4q_3 &    0\n",
    "\\end{bmatrix} \\\\\n",
    "f_{g,b} = \\begin{bmatrix}\n",
    "    2b_x(0.5-q_3^2-q_4^2)+2b_z(q_2q_4-q_1q_3)-m_x \\\\\n",
    "      2b_x(q_2q_3-q_1q_4)+2b_z(q_1q_2+q_3q_4)-m_y \\\\\n",
    "     2b_x(q_1q_3+q_2q_4)+2b_z(0.5-q_2^2-q3^2)-m_z\n",
    "\\end{bmatrix} \\\\\n",
    "J_{g,b} = \\begin{bmatrix}\n",
    "            -2b_zq_3 &            2b_zq_4 & -4b_xq_3-2b_zq_1 & -4b_xq_4+2b_zq_2 \\\\\n",
    "    -2b_xq_4+2b_zq_2 &    2b_xq_3+2b_zq_1 &  2b_xq_2+2b_zq_4 & -2b_xq_1+2b_zq_3 \\\\\n",
    "             2b_xq_3 &    2b_xq_4-4b_zq_2 &  2b_xq_1-4b_zq_3 &          2b_xq_2\n",
    "\\end{bmatrix} \\\\\n",
    "$$\n",
    "\n",
    "where $b = b_t$, $a = a_t$, $m = m_t$, and $q = ^{S}_{E}\\hat q_{est,t-1}$."
   ]
  },
  {
   "cell_type": "markdown",
   "metadata": {},
   "source": [
    "# Get Data"
   ]
  },
  {
   "cell_type": "code",
   "execution_count": 1,
   "metadata": {},
   "outputs": [
    {
     "name": "stdout",
     "output_type": "stream",
     "text": [
      "the-collector: 0.8.7\n"
     ]
    }
   ],
   "source": [
    "import numpy as np # matrix manipulations\n",
    "from numpy.linalg import norm\n",
    "\n",
    "import the_collector # read data\n",
    "print(f\"the-collector: {the_collector.__version__}\")\n",
    "\n",
    "from the_collector import BagIt\n",
    "from the_collector import Json, Pickle\n",
    "\n",
    "from squaternion import Quaternion\n",
    "\n",
    "import pandas as pd\n",
    "\n",
    "from matplotlib import pyplot as plt \n",
    "\n",
    "from math import sqrt, atan2, asin, pi\n",
    "from math import radians as deg2rad\n",
    "from math import degrees as rad2deg"
   ]
  },
  {
   "cell_type": "code",
   "execution_count": 2,
   "metadata": {},
   "outputs": [
    {
     "name": "stdout",
     "output_type": "stream",
     "text": [
      "total 49816\r\n",
      "drwxr-xr-x  4 kevin  staff   128B Jan  3 10:27 \u001b[34marchive\u001b[m\u001b[m\r\n",
      "-rw-r--r--  1 kevin  staff    82K Jan  5 20:28 attitude-heading-reference-system-2.ipynb\r\n",
      "-rw-r--r--  1 kevin  staff    69K Jan  5 21:13 attitude-heading-reference-system-3.ipynb\r\n",
      "-rw-r--r--  1 kevin  staff    75K Jan  3 22:28 attitude-heading-reference-system.ipynb\r\n",
      "-rwx------  1 kevin  staff    11M Nov 23  2017 \u001b[31mimu-1-2.json\u001b[m\u001b[m\r\n",
      "-rwx------  1 kevin  staff    11M Apr 20  2020 \u001b[31mimu-1-2.json-gz.bag\u001b[m\u001b[m\r\n",
      "-rw-r--r--  1 kevin  staff   140K May  4  2019 imu-rpi.2019-05-04-20:47:18.445193.pickle.bag\r\n",
      "-rw-r--r--@ 1 kevin  staff    82K Jan  3 21:57 imu.png\r\n",
      "-rw-r--r--@ 1 kevin  staff   1.5M Jul 11  2017 madgwick.pdf\r\n",
      "-rw-r--r--@ 1 kevin  staff    71K Oct 19 07:24 marg.png\r\n",
      "-rw-r--r--@ 1 kevin  staff   554K Jan 27  2018 sensor_data.mp4\r\n"
     ]
    }
   ],
   "source": [
    "!ls -lh"
   ]
  },
  {
   "cell_type": "code",
   "execution_count": 3,
   "metadata": {},
   "outputs": [
    {
     "name": "stdout",
     "output_type": "stream",
     "text": [
      ">> Reading[json-gz]: imu-1-2.json-gz.bag\n",
      "Bag keys:\n",
      "--------------------------------------------------\n",
      "        gyro: 585    \n",
      "      camera: 585    \n",
      "       accel: 585    \n",
      "         mag: 585    \n",
      "     b64keys: 1      \n"
     ]
    }
   ],
   "source": [
    "def bag_info(bag):\n",
    "    print('Bag keys:')\n",
    "    print('-'*50)\n",
    "    for k in bag.keys():\n",
    "        print(f'  {k:>10}: {len(bag[k]):<7}')\n",
    "\n",
    "        \n",
    "def get(data):\n",
    "    ret = []\n",
    "    ts = []\n",
    "    for d,t in data:\n",
    "        ret.append(d)\n",
    "        ts.append(t)\n",
    "    return np.array(ret), ts\n",
    "\n",
    "\n",
    "if 0:\n",
    "    bag = BagIt(Pickle)\n",
    "    fname = \"imu-rpi.2019-05-04-20:47:18.445193.pickle.bag\"\n",
    "    data = bag.read(fname)\n",
    "else:\n",
    "    bag = the_collector.BagIt(Json)\n",
    "    bag.packer.compress(True)\n",
    "    fname = \"imu-1-2.json-gz.bag\"\n",
    "    data = bag.read(fname)\n",
    "\n",
    "# print(f\">> Bagit keys: {data.keys()}\")\n",
    "bag_info(data)\n",
    "\n",
    "accel, stamp = get(data[\"accel\"])\n",
    "gyro, _ = get(data[\"gyro\"])\n",
    "mag, stamp = get(data[\"mag\"])"
   ]
  },
  {
   "cell_type": "markdown",
   "metadata": {},
   "source": [
    "# Run AHRS\n",
    "\n",
    "Now the AHRS uses all of the sensors in the IMU. The code is shown below:"
   ]
  },
  {
   "cell_type": "code",
   "execution_count": 4,
   "metadata": {},
   "outputs": [],
   "source": [
    "# this seems wrong, give different answer than Wikipedia\n",
    "# also, his quaternions are different [c(t/2), -r*s(t/2), ...], why negative?\n",
    "from math import atan2, asin, pi\n",
    "def euler(q):\n",
    "    q1,q2,q3,q4 = q\n",
    "    r2d = 180/pi\n",
    "    y = atan2(2*q2*q3-2*q1*q4,2*q1**2+2*q2**2-1) * r2d\n",
    "    p = -asin(2*q2*q4+2*q1*q3) * r2d\n",
    "    r = atan2(2*q3*q4-2*q1*q2,2*q1**2+2*q4**2-1) * r2d\n",
    "\n",
    "    # adafruit\n",
    "#     q0,q1,q2,q3 = q\n",
    "#     r = atan2(q0 * q1 + q2 * q3, 0.5 - q1 * q1 - q2 * q2) * r2d\n",
    "#     p = asin(-2.0 * (q1 * q3 - q0 * q2)) * r2d\n",
    "#     y = atan2(q1 * q2 + q0 * q3, 0.5 - q2 * q2 - q3 * q3) * r2d\n",
    "    return (r,p,y,)"
   ]
  },
  {
   "cell_type": "markdown",
   "metadata": {},
   "source": [
    "# Doff\n",
    "\n",
    "Ground truth:\n",
    "\n",
    "- CW ~390, greater than 1 full rotation\n",
    "- CCW ~410, back pass the starting point some\n",
    "- Back to start + ~30, ended CW more than the starting point"
   ]
  },
  {
   "cell_type": "code",
   "execution_count": 38,
   "metadata": {},
   "outputs": [],
   "source": [
    "class MARG:\n",
    "    def __init__(self, B, Z):\n",
    "        self.wb = np.array([0,0,0])\n",
    "        self.q = Quaternion()\n",
    "        self.wcomp = True\n",
    "        self.B = B\n",
    "        self.zeta = Z\n",
    "        self.qwe = Quaternion(0,0,0,0)\n",
    "\n",
    "#     def comp(self, del_f, dt):\n",
    "#         q = self.q\n",
    "#         qwe = 2.0*q.conjugate*del_f # 47\n",
    "#         qwe = qwe.normalize\n",
    "#         self.wb = self.wb + self.zeta*np.array(qwe[1:])*dt # 48\n",
    "#         return self.wb\n",
    "    \n",
    "    def comp(self, del_f, dt):\n",
    "        q = self.q\n",
    "        qwe = 2.0*q.conjugate*del_f # 47\n",
    "#         print(qwe)\n",
    "        self.qwe = self.qwe + qwe.normalize*dt\n",
    "        self.wb = self.wb + self.zeta*np.array(self.qwe[1:]) # 48\n",
    "        return self.wb\n",
    "\n",
    "    def calc_b(self,m):\n",
    "        # wiki: v' = q.v.q*\n",
    "        q = self.q\n",
    "        h = q*Quaternion(0,m[0],m[1],m[2])*q.conjugate # 45\n",
    "        return (sqrt(h.x**2+h.y**2),0,h.z)             # 46\n",
    "\n",
    "    def grad(self,a,m):\n",
    "        ax,ay,az = a\n",
    "        mx,my,mz = m\n",
    "        bx,by,bz = self.calc_b(m) # calc Earth magnetic field reference\n",
    "        q1,q2,q3,q4 = self.q\n",
    "\n",
    "        fg = np.array([\n",
    "            [2*(q2*q4-q1*q3)-ax],\n",
    "            [2*(q1*q2+q3*q4)-ay],\n",
    "            [2*(0.5-q2**2-q3**2)-az]\n",
    "        ]) # 25\n",
    "        Jg = np.array([\n",
    "            [-2*q3,  2*q4, -2*q1, 2*q2],\n",
    "            [ 2*q2,  2*q1,  2*q4, 2*q3],\n",
    "            [    0, -4*q2, -4*q3,    0]\n",
    "        ]) # 26\n",
    "\n",
    "        fb = np.array([\n",
    "            [2*bx*(0.5-q3**2-q4**2)+2*bz*(q2*q4-q1*q3)-mx],\n",
    "            [    2*bx*(q2*q3-q1*q4)+2*bz*(q1*q2+q3*q4)-my],\n",
    "            [2*bx*(q1*q3+q2*q4)+2*bz*(0.5-q2**2-q3**2)-mz]\n",
    "        ]) # 29\n",
    "        Jb = np.array([\n",
    "            [        -2*bz*q3,         2*bz*q4, -4*bx*q3-2*bz*q1, -4*bx*q4+2*bz*q2],\n",
    "            [-2*bx*q4+2*bz*q2, 2*bx*q3+2*bz*q1,  2*bx*q2+2*bz*q4, -2*bx*q1+2*bz*q3],\n",
    "            [         2*bx*q3, 2*bx*q4-4*bz*q2,  2*bx*q1-4*bz*q3,          2*bx*q2]\n",
    "        ]) # 30\n",
    "    \n",
    "        aa = np.vstack((Jg,Jb))  # [6x4]\n",
    "        bb = np.vstack((fg,fb))  # [6x1]\n",
    "        cc = (aa.T @ bb).ravel() # [4x6]*[6x1] = [4x1]\n",
    "#         print(cc)\n",
    "        self.q = Quaternion(*cc).normalize \n",
    "        return self.q\n",
    "\n",
    "    def update(self,a,g,m,dt):\n",
    "        a = a/norm(a)\n",
    "        m = m/norm(m)\n",
    "        w = g\n",
    "        q = self.q\n",
    "\n",
    "        del_f = self.grad(a,m)   # gradient decent algorithm\n",
    "\n",
    "        if self.wcomp:\n",
    "            wb = self.comp(del_f,dt) # calculate bias\n",
    "            w = w - wb               # 49\n",
    "        \n",
    "        qdw = 0.5*q*Quaternion(0,*w) # \n",
    "        qdot = qdw - self.B*del_f # filter\n",
    "        q = q + qdot*dt    # integrate\n",
    "        self.q = q.normalize\n",
    "        return self.q"
   ]
  },
  {
   "cell_type": "code",
   "execution_count": 60,
   "metadata": {},
   "outputs": [],
   "source": [
    "# going to create a new DataFrame from Euler angles\n",
    "e = {\"roll\":[], \"pitch\":[],\"yaw\":[],\"time\":[]}\n",
    "\n",
    "start = stamp[0]\n",
    "last = stamp[0]-0.1 # starting time stamp\n",
    "tt = 0               # Test time\n",
    "\n",
    "Z = sqrt(3/4)*.0\n",
    "B = sqrt(3/4)*.0 # gyro measurement error rad/s\n",
    "filt = MARG(B, Z)\n",
    "filt.wcomp = True\n",
    "wes = []\n",
    "\n",
    "for a, g, m, ts in zip(accel, gyro, mag, stamp):\n",
    "    dt = ts - last # calculate time step\n",
    "    \n",
    "    q = filt.update(a,g*np.pi/180,m,dt)  # get orientation\n",
    "    wes.append(filt.wb) # save gyro bias est for plotting\n",
    "    r,p,y = q.to_euler(degrees=True)  # convert to euler\n",
    "#     r,p,y = euler(q) # madgwick's appears wrong!\n",
    "    e[\"roll\"].append(r)\n",
    "    e[\"pitch\"].append(p)\n",
    "    e[\"yaw\"].append(y)\n",
    "    \n",
    "    e[\"time\"].append(ts-start) # keep track of test time\n",
    "    last = ts  # save previous time stamp\n",
    "\n",
    "euler2 = pd.DataFrame(e)"
   ]
  },
  {
   "cell_type": "code",
   "execution_count": 61,
   "metadata": {},
   "outputs": [
    {
     "data": {
      "image/png": "[encoded data removed]",
      "text/plain": [
       "<Figure size 432x288 with 3 Axes>"
      ]
     },
     "metadata": {
      "needs_background": "light"
     },
     "output_type": "display_data"
    }
   ],
   "source": [
    "euler2.plot(\n",
    "    x=\"time\", \n",
    "    subplots=True, \n",
    "    grid=True, \n",
    "    title=\"Euler Angles [deg]\"\n",
    ");"
   ]
  },
  {
   "cell_type": "code",
   "execution_count": 62,
   "metadata": {},
   "outputs": [
    {
     "name": "stdout",
     "output_type": "stream",
     "text": [
      "[0. 0. 0.]\n"
     ]
    },
    {
     "data": {
      "image/png": "[encoded data removed]",
      "text/plain": [
       "<Figure size 432x288 with 1 Axes>"
      ]
     },
     "metadata": {
      "needs_background": "light"
     },
     "output_type": "display_data"
    }
   ],
   "source": [
    "print(filt.wb)\n",
    "plt.plot(wes)\n",
    "plt.grid(True);"
   ]
  }
 ],
 "metadata": {
  "kernelspec": {
   "display_name": "Python 3 (ipykernel)",
   "language": "python",
   "name": "python3"
  },
  "language_info": {
   "codemirror_mode": {
    "name": "ipython",
    "version": 3
   },
   "file_extension": ".py",
   "mimetype": "text/x-python",
   "name": "python",
   "nbconvert_exporter": "python",
   "pygments_lexer": "ipython3",
   "version": "3.11.3"
  }
 },
 "nbformat": 4,
 "nbformat_minor": 4
}
