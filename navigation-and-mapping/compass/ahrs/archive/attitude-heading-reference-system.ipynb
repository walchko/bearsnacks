{
 "cells": [
  {
   "cell_type": "markdown",
   "metadata": {},
   "source": [
    "![](https://images.pexels.com/photos/3701276/pexels-photo-3701276.jpeg?auto=compress&cs=tinysrgb&dpr=2&h=750&w=1260)\n",
    "\n",
    "# Digital Compasses\n",
    "\n",
    "Kevin J. Walchko, Phd\n",
    "\n",
    "---"
   ]
  },
  {
   "cell_type": "markdown",
   "metadata": {},
   "source": [
    "# Tilt Compensated Compass\n",
    "\n",
    "Here we are using just the acceration and magnetometer data from the IMU to convert into Euler angles. This ignores the gyro readings. The code to calculate this is shown below:\n",
    "\n",
    "```python\n",
    "# normalize these these values\n",
    "mx, my, mz = normalize3(*mag)\n",
    "ax, ay, az = normalize3(*accel)\n",
    "\n",
    "pitch = asin(-ax)\n",
    "\n",
    "if abs(pitch) >= pi/2:\n",
    "    roll = 0.0\n",
    "else:\n",
    "    roll = asin(ay/cos(pitch))\n",
    "\n",
    "# mx, my, mz => magnetometer readins\n",
    "x = mx*cos(pitch)+mz*sin(pitch)\n",
    "y = mx*sin(roll)*sin(pitch)+my*cos(roll)-mz*sin(roll)*cos(pitch)\n",
    "heading = atan2(y, x)\n",
    "\n",
    "# wrap heading between 0 and 360 degrees\n",
    "if heading > 2*pi:\n",
    "    heading -= 2*pi\n",
    "elif heading < 0:\n",
    "    heading += 2*pi\n",
    "\n",
    "# convert the results to either degrees or quaternion\n",
    "if self.angle_units == Angle.degrees:\n",
    "    roll    *= RAD2DEG\n",
    "    pitch   *= RAD2DEG\n",
    "    heading *= RAD2DEG\n",
    "elif self.angle_units == Angle.quaternion:\n",
    "    return Quaternion.from_euler(roll, pitch, heading)\n",
    "\n",
    "return (roll, pitch, heading,)\n",
    "```"
   ]
  },
  {
   "cell_type": "markdown",
   "metadata": {},
   "source": [
    "# AHRS\n",
    "\n",
    "An **attitude and heading reference system** (AHRS) consists of sensors on three axes that provide attitude information for aircraft, including roll, pitch and yaw. These are sometimes referred to as MARG (Magnetic, Angular Rate, and Gravity) sensors and consist of either solid-state or microelectromechanical systems (MEMS) gyroscopes, accelerometers and magnetometers. They are designed to replace traditional mechanical gyroscopic flight instruments.\n",
    "\n",
    "```python\n",
    "class AHRS(object):\n",
    "\tdef __init__(self, q=None):\n",
    "\t\tif q is None:\n",
    "\t\t\tq = (1, 0, 0, 0)\n",
    "\t\tq = normalize_q(q)\n",
    "\t\tself.q = q\n",
    "\n",
    "\tdef updateAGM(self, a, m, g, beta, dt):\n",
    "\t\t\"\"\"\n",
    "\t\tq - current quaternion\n",
    "\t\ta - acceleration [g's], this will be normalize\n",
    "\t\tm - magnetometer readings [uT], this will be normalized\n",
    "\t\tg - gyro readings [rad/sec]\n",
    "\t\tbeta - function of sensor noise\n",
    "\t\tdt - time step [sec]\n",
    "\t\t\"\"\"\n",
    "\t\tq0, q1, q2, q3 = self.q\n",
    "\t\tgx, gy, gz = (deg2rad(x) for x in g)\n",
    "\t\tax, ay, az = a\n",
    "\t\tmx, my, mz = m\n",
    "\n",
    "\t\t# Rate of change of quaternion from gyroscope\n",
    "\t\tqDot1 = 0.5 * (-q1 * gx - q2 * gy - q3 * gz)\n",
    "\t\tqDot2 = 0.5 * (q0 * gx + q2 * gz - q3 * gy)\n",
    "\t\tqDot3 = 0.5 * (q0 * gy - q1 * gz + q3 * gx)\n",
    "\t\tqDot4 = 0.5 * (q0 * gz + q1 * gy - q2 * gx)\n",
    "\n",
    "\t\tax, ay, az = normalize(ax, ay, az)\n",
    "\t\tmx, my, mz = normalize(mx, my, mz)\n",
    "\n",
    "\t\t# Auxiliary variables to avoid repeated arithmetic\n",
    "\t\t_2q0mx = 2.0 * q0 * mx\n",
    "\t\t_2q0my = 2.0 * q0 * my\n",
    "\t\t_2q0mz = 2.0 * q0 * mz\n",
    "\t\t_2q1mx = 2.0 * q1 * mx\n",
    "\t\t_2q0 = 2.0 * q0\n",
    "\t\t_2q1 = 2.0 * q1\n",
    "\t\t_2q2 = 2.0 * q2\n",
    "\t\t_2q3 = 2.0 * q3\n",
    "\t\t_2q0q2 = 2.0 * q0 * q2\n",
    "\t\t_2q2q3 = 2.0 * q2 * q3\n",
    "\t\tq0q0 = q0 * q0\n",
    "\t\tq0q1 = q0 * q1\n",
    "\t\tq0q2 = q0 * q2\n",
    "\t\tq0q3 = q0 * q3\n",
    "\t\tq1q1 = q1 * q1\n",
    "\t\tq1q2 = q1 * q2\n",
    "\t\tq1q3 = q1 * q3\n",
    "\t\tq2q2 = q2 * q2\n",
    "\t\tq2q3 = q2 * q3\n",
    "\t\tq3q3 = q3 * q3\n",
    "\n",
    "\t\t# Reference direction of Earth's magnetic field\n",
    "\t\thx = mx * q0q0 - _2q0my * q3 + _2q0mz * q2 + mx * q1q1 + _2q1 * my * q2 + _2q1 * mz * q3 - mx * q2q2 - mx * q3q3\n",
    "\t\thy = _2q0mx * q3 + my * q0q0 - _2q0mz * q1 + _2q1mx * q2 - my * q1q1 + my * q2q2 + _2q2 * mz * q3 - my * q3q3\n",
    "\t\t_2bx = sqrt(hx * hx + hy * hy)\n",
    "\t\t_2bz = -_2q0mx * q2 + _2q0my * q1 + mz * q0q0 + _2q1mx * q3 - mz * q1q1 + _2q2 * my * q3 - mz * q2q2 + mz * q3q3\n",
    "\t\t_4bx = 2.0 * _2bx\n",
    "\t\t_4bz = 2.0 * _2bz\n",
    "\n",
    "\t\t# Gradient decent algorithm corrective step\n",
    "\t\ts0 = -_2q2 * (2.0 * q1q3 - _2q0q2 - ax) + _2q1 * (2.0 * q0q1 + _2q2q3 - ay) - _2bz * q2 * (_2bx * (0.5 - q2q2 - q3q3) + _2bz * (q1q3 - q0q2) - mx) + (-_2bx * q3 + _2bz * q1) * (_2bx * (q1q2 - q0q3) + _2bz * (q0q1 + q2q3) - my) + _2bx * q2 * (_2bx * (q0q2 + q1q3) + _2bz * (0.5 - q1q1 - q2q2) - mz)\n",
    "\t\ts1 = _2q3 * (2.0 * q1q3 - _2q0q2 - ax) + _2q0 * (2.0 * q0q1 + _2q2q3 - ay) - 4.0 * q1 * (1 - 2.0 * q1q1 - 2.0 * q2q2 - az) + _2bz * q3 * (_2bx * (0.5 - q2q2 - q3q3) + _2bz * (q1q3 - q0q2) - mx) + (_2bx * q2 + _2bz * q0) * (_2bx * (q1q2 - q0q3) + _2bz * (q0q1 + q2q3) - my) + (_2bx * q3 - _4bz * q1) * (_2bx * (q0q2 + q1q3) + _2bz * (0.5 - q1q1 - q2q2) - mz)\n",
    "\t\ts2 = -_2q0 * (2.0 * q1q3 - _2q0q2 - ax) + _2q3 * (2.0 * q0q1 + _2q2q3 - ay) - 4.0 * q2 * (1 - 2.0 * q1q1 - 2.0 * q2q2 - az) + (-_4bx * q2 - _2bz * q0) * (_2bx * (0.5 - q2q2 - q3q3) + _2bz * (q1q3 - q0q2) - mx) + (_2bx * q1 + _2bz * q3) * (_2bx * (q1q2 - q0q3) + _2bz * (q0q1 + q2q3) - my) + (_2bx * q0 - _4bz * q2) * (_2bx * (q0q2 + q1q3) + _2bz * (0.5 - q1q1 - q2q2) - mz)\n",
    "\t\ts3 = _2q1 * (2.0 * q1q3 - _2q0q2 - ax) + _2q2 * (2.0 * q0q1 + _2q2q3 - ay) + (-_4bx * q3 + _2bz * q1) * (_2bx * (0.5 - q2q2 - q3q3) + _2bz * (q1q3 - q0q2) - mx) + (-_2bx * q0 + _2bz * q2) * (_2bx * (q1q2 - q0q3) + _2bz * (q0q1 + q2q3) - my) + _2bx * q1 * (_2bx * (q0q2 + q1q3) + _2bz * (0.5 - q1q1 - q2q2) - mz)\n",
    "\n",
    "\t\ts0, s1, s2, s3 = normalize_q((s0, s1, s2, s3))\n",
    "\n",
    "\t\t# Apply feedback step\n",
    "\t\tqDot1 -= beta * s0\n",
    "\t\tqDot2 -= beta * s1\n",
    "\t\tqDot3 -= beta * s2\n",
    "\t\tqDot4 -= beta * s3\n",
    "\n",
    "\t\tq0 += qDot1 * dt\n",
    "\t\tq1 += qDot2 * dt\n",
    "\t\tq2 += qDot3 * dt\n",
    "\t\tq3 += qDot4 * dt\n",
    "\n",
    "\t\tq0, q1, q2, q3 = normalize_q((q0, q1, q2, q3))\n",
    "\n",
    "\t\tself.q = (q0, q1, q2, q3)\n",
    "\n",
    "\t\treturn (q0, q1, q2, q3)\n",
    "\n",
    "\tdef updateAG(self, q, a, g, beta, dt):\n",
    "\t\tq0, q1, q2, q3 = q\n",
    "\t\tgx, gy, gz = (deg2rad(x) for x in g)\n",
    "\t\tax, ay, az = a\n",
    "\n",
    "\t\t# Rate of change of quaternion from gyroscope\n",
    "\t\tqDot1 = 0.5 * (-q1 * gx - q2 * gy - q3 * gz)\n",
    "\t\tqDot2 = 0.5 * (q0 * gx + q2 * gz - q3 * gy)\n",
    "\t\tqDot3 = 0.5 * (q0 * gy - q1 * gz + q3 * gx)\n",
    "\t\tqDot4 = 0.5 * (q0 * gz + q1 * gy - q2 * gx)\n",
    "\n",
    "\t\t# Compute feedback only if accelerometer measurement valid (avoids NaN in accelerometer normalisation)\n",
    "\t\tax, ay, az = normalize(ax, ay, az)\n",
    "\n",
    "\t\t# Auxiliary variables to avoid repeated arithmetic\n",
    "\t\t_2q0 = 2.0 * q0\n",
    "\t\t_2q1 = 2.0 * q1\n",
    "\t\t_2q2 = 2.0 * q2\n",
    "\t\t_2q3 = 2.0 * q3\n",
    "\t\t_4q0 = 4.0 * q0\n",
    "\t\t_4q1 = 4.0 * q1\n",
    "\t\t_4q2 = 4.0 * q2\n",
    "\t\t_8q1 = 8.0 * q1\n",
    "\t\t_8q2 = 8.0 * q2\n",
    "\t\tq0q0 = q0 * q0\n",
    "\t\tq1q1 = q1 * q1\n",
    "\t\tq2q2 = q2 * q2\n",
    "\t\tq3q3 = q3 * q3\n",
    "\n",
    "\t\t# Gradient decent algorithm corrective step\n",
    "\t\ts0 = _4q0 * q2q2 + _2q2 * ax + _4q0 * q1q1 - _2q1 * ay\n",
    "\t\ts1 = _4q1 * q3q3 - _2q3 * ax + 4.0 * q0q0 * q1 - _2q0 * ay - _4q1 + _8q1 * q1q1 + _8q1 * q2q2 + _4q1 * az\n",
    "\t\ts2 = 4.0 * q0q0 * q2 + _2q0 * ax + _4q2 * q3q3 - _2q3 * ay - _4q2 + _8q2 * q1q1 + _8q2 * q2q2 + _4q2 * az\n",
    "\t\ts3 = 4.0 * q1q1 * q3 - _2q1 * ax + 4.0 * q2q2 * q3 - _2q2 * ay\n",
    "\n",
    "\t\ts0, s1, s2, s3 = normalize_q((s0, s1, s2, s3))\n",
    "\n",
    "\t\t# Apply feedback step\n",
    "\t\tqDot1 -= beta * s0\n",
    "\t\tqDot2 -= beta * s1\n",
    "\t\tqDot3 -= beta * s2\n",
    "\t\tqDot4 -= beta * s3\n",
    "\n",
    "\t\t# Integrate rate of change of quaternion to yield quaternion\n",
    "\t\tq0 += qDot1 * dt\n",
    "\t\tq1 += qDot2 * dt\n",
    "\t\tq2 += qDot3 * dt\n",
    "\t\tq3 += qDot4 * dt\n",
    "\n",
    "\t\tq0, q1, q2, q3 = normalize_q((q0, q1, q2, q3))\n",
    "\n",
    "\t\tself.q = (q0, q1, q2, q3)\n",
    "\n",
    "\t\treturn (q0, q1, q2, q3)\n",
    "```"
   ]
  },
  {
   "cell_type": "markdown",
   "metadata": {},
   "source": [
    "# Get Data"
   ]
  },
  {
   "cell_type": "code",
   "execution_count": 1,
   "metadata": {},
   "outputs": [
    {
     "name": "stdout",
     "output_type": "stream",
     "text": [
      "the-collector: 0.8.7\n"
     ]
    }
   ],
   "source": [
    "import cv2         # opencv itself\n",
    "import numpy as np # matrix manipulations\n",
    "\n",
    "import the_collector # read data\n",
    "print(f\"the-collector: {the_collector.__version__}\")\n",
    "\n",
    "from the_collector import BagIt\n",
    "from the_collector import Json, Pickle\n",
    "\n",
    "from squaternion import Quaternion\n",
    "\n",
    "import pandas as pd\n",
    "\n",
    "from math import sqrt, atan2, asin, pi\n",
    "from math import radians as deg2rad\n",
    "from math import degrees as rad2deg"
   ]
  },
  {
   "cell_type": "code",
   "execution_count": 2,
   "metadata": {},
   "outputs": [],
   "source": [
    "%matplotlib inline\n",
    "from matplotlib import pyplot as plt "
   ]
  },
  {
   "cell_type": "code",
   "execution_count": 3,
   "metadata": {},
   "outputs": [
    {
     "name": "stdout",
     "output_type": "stream",
     "text": [
      "total 46448\r\n",
      "-rw-r--r--  1 kevin  staff   204K Jun 28 22:17 attitude-heading-reference-system.ipynb\r\n",
      "-rwx------  1 kevin  staff    11M Nov 23  2017 \u001b[31mimu-1-2.json\u001b[m\u001b[m\r\n",
      "-rwx------  1 kevin  staff    11M Apr 20 14:18 \u001b[31mimu-1-2.json-gz\u001b[m\u001b[m\r\n",
      "-rw-r--r--  1 kevin  staff   140K May  4  2019 imu-rpi.2019-05-04-20:47:18.445193.pickle.bag\r\n",
      "-rw-r--r--  1 kevin  staff   554K Jan 27  2018 sensor_data.mp4\r\n"
     ]
    }
   ],
   "source": [
    "!ls -lh"
   ]
  },
  {
   "cell_type": "code",
   "execution_count": 13,
   "metadata": {},
   "outputs": [
    {
     "name": "stdout",
     "output_type": "stream",
     "text": [
      ">> Reading[json-gz]: imu-1-2.json-gz.bag\n",
      "Bag keys:\n",
      "--------------------------------------------------\n",
      "        gyro: 585    \n",
      "      camera: 585    \n",
      "       accel: 585    \n",
      "         mag: 585    \n",
      "     b64keys: 1      \n"
     ]
    }
   ],
   "source": [
    "def bag_info(bag):\n",
    "    print('Bag keys:')\n",
    "    print('-'*50)\n",
    "    for k in bag.keys():\n",
    "        print(f'  {k:>10}: {len(bag[k]):<7}')\n",
    "\n",
    "# bag = BagIt(Pickle)\n",
    "# fname = \"imu-rpi.2019-05-04-20:47:18.445193.pickle.bag\"\n",
    "# data = bag.read(fname)\n",
    "\n",
    "bag = the_collector.BagIt(Json)\n",
    "bag.packer.compress(True)\n",
    "fname = \"imu-1-2.json-gz.bag\"\n",
    "data = bag.read(fname)\n",
    "# print(f\">> Bagit keys: {data.keys()}\")\n",
    "bag_info(data)"
   ]
  },
  {
   "cell_type": "code",
   "execution_count": 14,
   "metadata": {},
   "outputs": [
    {
     "data": {
      "text/html": [
       "<div>\n",
       "<style scoped>\n",
       "    .dataframe tbody tr th:only-of-type {\n",
       "        vertical-align: middle;\n",
       "    }\n",
       "\n",
       "    .dataframe tbody tr th {\n",
       "        vertical-align: top;\n",
       "    }\n",
       "\n",
       "    .dataframe thead th {\n",
       "        text-align: right;\n",
       "    }\n",
       "</style>\n",
       "<table border=\"1\" class=\"dataframe\">\n",
       "  <thead>\n",
       "    <tr style=\"text-align: right;\">\n",
       "      <th></th>\n",
       "      <th>x</th>\n",
       "      <th>y</th>\n",
       "      <th>z</th>\n",
       "      <th>ts</th>\n",
       "    </tr>\n",
       "  </thead>\n",
       "  <tbody>\n",
       "    <tr>\n",
       "      <th>count</th>\n",
       "      <td>585.000000</td>\n",
       "      <td>585.000000</td>\n",
       "      <td>585.000000</td>\n",
       "      <td>5.850000e+02</td>\n",
       "    </tr>\n",
       "    <tr>\n",
       "      <th>mean</th>\n",
       "      <td>0.057937</td>\n",
       "      <td>-0.048492</td>\n",
       "      <td>1.029675</td>\n",
       "      <td>1.511460e+09</td>\n",
       "    </tr>\n",
       "    <tr>\n",
       "      <th>std</th>\n",
       "      <td>0.030124</td>\n",
       "      <td>0.027924</td>\n",
       "      <td>0.032455</td>\n",
       "      <td>7.380804e+00</td>\n",
       "    </tr>\n",
       "    <tr>\n",
       "      <th>min</th>\n",
       "      <td>-0.044408</td>\n",
       "      <td>-0.143228</td>\n",
       "      <td>0.874008</td>\n",
       "      <td>1.511460e+09</td>\n",
       "    </tr>\n",
       "    <tr>\n",
       "      <th>25%</th>\n",
       "      <td>0.040748</td>\n",
       "      <td>-0.061488</td>\n",
       "      <td>1.021628</td>\n",
       "      <td>1.511460e+09</td>\n",
       "    </tr>\n",
       "    <tr>\n",
       "      <th>50%</th>\n",
       "      <td>0.055632</td>\n",
       "      <td>-0.050020</td>\n",
       "      <td>1.029436</td>\n",
       "      <td>1.511460e+09</td>\n",
       "    </tr>\n",
       "    <tr>\n",
       "      <th>75%</th>\n",
       "      <td>0.069296</td>\n",
       "      <td>-0.035624</td>\n",
       "      <td>1.037000</td>\n",
       "      <td>1.511460e+09</td>\n",
       "    </tr>\n",
       "    <tr>\n",
       "      <th>max</th>\n",
       "      <td>0.185928</td>\n",
       "      <td>0.116876</td>\n",
       "      <td>1.224880</td>\n",
       "      <td>1.511460e+09</td>\n",
       "    </tr>\n",
       "  </tbody>\n",
       "</table>\n",
       "</div>"
      ],
      "text/plain": [
       "                x           y           z            ts\n",
       "count  585.000000  585.000000  585.000000  5.850000e+02\n",
       "mean     0.057937   -0.048492    1.029675  1.511460e+09\n",
       "std      0.030124    0.027924    0.032455  7.380804e+00\n",
       "min     -0.044408   -0.143228    0.874008  1.511460e+09\n",
       "25%      0.040748   -0.061488    1.021628  1.511460e+09\n",
       "50%      0.055632   -0.050020    1.029436  1.511460e+09\n",
       "75%      0.069296   -0.035624    1.037000  1.511460e+09\n",
       "max      0.185928    0.116876    1.224880  1.511460e+09"
      ]
     },
     "execution_count": 14,
     "metadata": {},
     "output_type": "execute_result"
    }
   ],
   "source": [
    "# data is an array of IMU messages\n",
    "def get(bag, key):\n",
    "    data = {\"x\":[], \"y\":[],\"z\":[],\"ts\":[]}\n",
    "    for (x,y,z),ts in bag[key]:\n",
    "        data[\"x\"].append(x)\n",
    "        data[\"y\"].append(y)\n",
    "        data[\"z\"].append(z)\n",
    "        data[\"ts\"].append(ts)\n",
    "    return data\n",
    "\n",
    "adf = pd.DataFrame(get(data, \"accel\"))\n",
    "gdf = pd.DataFrame(get(data, \"gyro\"))\n",
    "mdf = pd.DataFrame(get(data, \"mag\"))\n",
    "adf.describe()"
   ]
  },
  {
   "cell_type": "markdown",
   "metadata": {},
   "source": [
    "## Calibrate Data\n",
    "\n",
    "The bias was found in another application for this data"
   ]
  },
  {
   "cell_type": "code",
   "execution_count": 15,
   "metadata": {},
   "outputs": [],
   "source": [
    "# cm = apply_calibration(mag, bias)\n",
    "def remove_bias(ddf, off=0.0):\n",
    "    df = pd.DataFrame()\n",
    "    for key in [\"x\",\"y\",\"z\"]:\n",
    "        df[key]=ddf[key] - ddf[key].mean() + off\n",
    "    df[\"ts\"] = ddf[\"ts\"]\n",
    "    return df\n",
    "\n",
    "deg2rad = pi/180\n",
    "\n",
    "madf = remove_bias(adf, off=1.0) # account for gravity\n",
    "mgdf = remove_bias(gdf)\n",
    "mmdf = remove_bias(mdf)"
   ]
  },
  {
   "cell_type": "code",
   "execution_count": 16,
   "metadata": {},
   "outputs": [
    {
     "data": {
      "text/html": [
       "<div>\n",
       "<style scoped>\n",
       "    .dataframe tbody tr th:only-of-type {\n",
       "        vertical-align: middle;\n",
       "    }\n",
       "\n",
       "    .dataframe tbody tr th {\n",
       "        vertical-align: top;\n",
       "    }\n",
       "\n",
       "    .dataframe thead th {\n",
       "        text-align: right;\n",
       "    }\n",
       "</style>\n",
       "<table border=\"1\" class=\"dataframe\">\n",
       "  <thead>\n",
       "    <tr style=\"text-align: right;\">\n",
       "      <th></th>\n",
       "      <th>x</th>\n",
       "      <th>y</th>\n",
       "      <th>z</th>\n",
       "      <th>ts</th>\n",
       "    </tr>\n",
       "  </thead>\n",
       "  <tbody>\n",
       "    <tr>\n",
       "      <th>count</th>\n",
       "      <td>585.000000</td>\n",
       "      <td>585.000000</td>\n",
       "      <td>585.000000</td>\n",
       "      <td>5.850000e+02</td>\n",
       "    </tr>\n",
       "    <tr>\n",
       "      <th>mean</th>\n",
       "      <td>1.000000</td>\n",
       "      <td>1.000000</td>\n",
       "      <td>1.000000</td>\n",
       "      <td>1.511460e+09</td>\n",
       "    </tr>\n",
       "    <tr>\n",
       "      <th>std</th>\n",
       "      <td>0.030124</td>\n",
       "      <td>0.027924</td>\n",
       "      <td>0.032455</td>\n",
       "      <td>7.380804e+00</td>\n",
       "    </tr>\n",
       "    <tr>\n",
       "      <th>min</th>\n",
       "      <td>0.897655</td>\n",
       "      <td>0.905264</td>\n",
       "      <td>0.844333</td>\n",
       "      <td>1.511460e+09</td>\n",
       "    </tr>\n",
       "    <tr>\n",
       "      <th>25%</th>\n",
       "      <td>0.982811</td>\n",
       "      <td>0.987004</td>\n",
       "      <td>0.991953</td>\n",
       "      <td>1.511460e+09</td>\n",
       "    </tr>\n",
       "    <tr>\n",
       "      <th>50%</th>\n",
       "      <td>0.997695</td>\n",
       "      <td>0.998472</td>\n",
       "      <td>0.999761</td>\n",
       "      <td>1.511460e+09</td>\n",
       "    </tr>\n",
       "    <tr>\n",
       "      <th>75%</th>\n",
       "      <td>1.011359</td>\n",
       "      <td>1.012868</td>\n",
       "      <td>1.007325</td>\n",
       "      <td>1.511460e+09</td>\n",
       "    </tr>\n",
       "    <tr>\n",
       "      <th>max</th>\n",
       "      <td>1.127991</td>\n",
       "      <td>1.165368</td>\n",
       "      <td>1.195205</td>\n",
       "      <td>1.511460e+09</td>\n",
       "    </tr>\n",
       "  </tbody>\n",
       "</table>\n",
       "</div>"
      ],
      "text/plain": [
       "                x           y           z            ts\n",
       "count  585.000000  585.000000  585.000000  5.850000e+02\n",
       "mean     1.000000    1.000000    1.000000  1.511460e+09\n",
       "std      0.030124    0.027924    0.032455  7.380804e+00\n",
       "min      0.897655    0.905264    0.844333  1.511460e+09\n",
       "25%      0.982811    0.987004    0.991953  1.511460e+09\n",
       "50%      0.997695    0.998472    0.999761  1.511460e+09\n",
       "75%      1.011359    1.012868    1.007325  1.511460e+09\n",
       "max      1.127991    1.165368    1.195205  1.511460e+09"
      ]
     },
     "execution_count": 16,
     "metadata": {},
     "output_type": "execute_result"
    }
   ],
   "source": [
    "madf.describe()"
   ]
  },
  {
   "cell_type": "code",
   "execution_count": 17,
   "metadata": {},
   "outputs": [
    {
     "data": {
      "text/html": [
       "<div>\n",
       "<style scoped>\n",
       "    .dataframe tbody tr th:only-of-type {\n",
       "        vertical-align: middle;\n",
       "    }\n",
       "\n",
       "    .dataframe tbody tr th {\n",
       "        vertical-align: top;\n",
       "    }\n",
       "\n",
       "    .dataframe thead th {\n",
       "        text-align: right;\n",
       "    }\n",
       "</style>\n",
       "<table border=\"1\" class=\"dataframe\">\n",
       "  <thead>\n",
       "    <tr style=\"text-align: right;\">\n",
       "      <th></th>\n",
       "      <th>x</th>\n",
       "      <th>y</th>\n",
       "      <th>z</th>\n",
       "      <th>ts</th>\n",
       "    </tr>\n",
       "  </thead>\n",
       "  <tbody>\n",
       "    <tr>\n",
       "      <th>count</th>\n",
       "      <td>5.850000e+02</td>\n",
       "      <td>5.850000e+02</td>\n",
       "      <td>5.850000e+02</td>\n",
       "      <td>5.850000e+02</td>\n",
       "    </tr>\n",
       "    <tr>\n",
       "      <th>mean</th>\n",
       "      <td>4.858412e-17</td>\n",
       "      <td>-4.858412e-17</td>\n",
       "      <td>-3.109384e-15</td>\n",
       "      <td>1.511460e+09</td>\n",
       "    </tr>\n",
       "    <tr>\n",
       "      <th>std</th>\n",
       "      <td>1.887518e+00</td>\n",
       "      <td>2.045853e+00</td>\n",
       "      <td>6.274507e+01</td>\n",
       "      <td>7.380803e+00</td>\n",
       "    </tr>\n",
       "    <tr>\n",
       "      <th>min</th>\n",
       "      <td>-1.580984e+01</td>\n",
       "      <td>-7.995980e+00</td>\n",
       "      <td>-1.380545e+02</td>\n",
       "      <td>1.511460e+09</td>\n",
       "    </tr>\n",
       "    <tr>\n",
       "      <th>25%</th>\n",
       "      <td>-6.223424e-01</td>\n",
       "      <td>-8.553552e-01</td>\n",
       "      <td>-5.001545e+01</td>\n",
       "      <td>1.511460e+09</td>\n",
       "    </tr>\n",
       "    <tr>\n",
       "      <th>50%</th>\n",
       "      <td>-5.154915e-03</td>\n",
       "      <td>4.019765e-03</td>\n",
       "      <td>-6.170139e-01</td>\n",
       "      <td>1.511460e+09</td>\n",
       "    </tr>\n",
       "    <tr>\n",
       "      <th>75%</th>\n",
       "      <td>7.995326e-01</td>\n",
       "      <td>7.071448e-01</td>\n",
       "      <td>4.905486e+01</td>\n",
       "      <td>1.511460e+09</td>\n",
       "    </tr>\n",
       "    <tr>\n",
       "      <th>max</th>\n",
       "      <td>9.979220e+00</td>\n",
       "      <td>1.094933e+01</td>\n",
       "      <td>1.147580e+02</td>\n",
       "      <td>1.511460e+09</td>\n",
       "    </tr>\n",
       "  </tbody>\n",
       "</table>\n",
       "</div>"
      ],
      "text/plain": [
       "                  x             y             z            ts\n",
       "count  5.850000e+02  5.850000e+02  5.850000e+02  5.850000e+02\n",
       "mean   4.858412e-17 -4.858412e-17 -3.109384e-15  1.511460e+09\n",
       "std    1.887518e+00  2.045853e+00  6.274507e+01  7.380803e+00\n",
       "min   -1.580984e+01 -7.995980e+00 -1.380545e+02  1.511460e+09\n",
       "25%   -6.223424e-01 -8.553552e-01 -5.001545e+01  1.511460e+09\n",
       "50%   -5.154915e-03  4.019765e-03 -6.170139e-01  1.511460e+09\n",
       "75%    7.995326e-01  7.071448e-01  4.905486e+01  1.511460e+09\n",
       "max    9.979220e+00  1.094933e+01  1.147580e+02  1.511460e+09"
      ]
     },
     "execution_count": 17,
     "metadata": {},
     "output_type": "execute_result"
    }
   ],
   "source": [
    "mgdf.describe()"
   ]
  },
  {
   "cell_type": "code",
   "execution_count": 18,
   "metadata": {},
   "outputs": [
    {
     "data": {
      "text/html": [
       "<div>\n",
       "<style scoped>\n",
       "    .dataframe tbody tr th:only-of-type {\n",
       "        vertical-align: middle;\n",
       "    }\n",
       "\n",
       "    .dataframe tbody tr th {\n",
       "        vertical-align: top;\n",
       "    }\n",
       "\n",
       "    .dataframe thead th {\n",
       "        text-align: right;\n",
       "    }\n",
       "</style>\n",
       "<table border=\"1\" class=\"dataframe\">\n",
       "  <thead>\n",
       "    <tr style=\"text-align: right;\">\n",
       "      <th></th>\n",
       "      <th>x</th>\n",
       "      <th>y</th>\n",
       "      <th>z</th>\n",
       "      <th>ts</th>\n",
       "    </tr>\n",
       "  </thead>\n",
       "  <tbody>\n",
       "    <tr>\n",
       "      <th>count</th>\n",
       "      <td>5.850000e+02</td>\n",
       "      <td>5.850000e+02</td>\n",
       "      <td>5.850000e+02</td>\n",
       "      <td>5.850000e+02</td>\n",
       "    </tr>\n",
       "    <tr>\n",
       "      <th>mean</th>\n",
       "      <td>7.773459e-15</td>\n",
       "      <td>-7.773459e-16</td>\n",
       "      <td>3.352304e-15</td>\n",
       "      <td>1.511460e+09</td>\n",
       "    </tr>\n",
       "    <tr>\n",
       "      <th>std</th>\n",
       "      <td>1.440214e+01</td>\n",
       "      <td>1.656534e+01</td>\n",
       "      <td>1.332731e+00</td>\n",
       "      <td>7.380803e+00</td>\n",
       "    </tr>\n",
       "    <tr>\n",
       "      <th>min</th>\n",
       "      <td>-1.715231e+01</td>\n",
       "      <td>-2.323282e+01</td>\n",
       "      <td>-4.406667e+00</td>\n",
       "      <td>1.511460e+09</td>\n",
       "    </tr>\n",
       "    <tr>\n",
       "      <th>25%</th>\n",
       "      <td>-9.652308e+00</td>\n",
       "      <td>-1.553282e+01</td>\n",
       "      <td>-1.106667e+00</td>\n",
       "      <td>1.511460e+09</td>\n",
       "    </tr>\n",
       "    <tr>\n",
       "      <th>50%</th>\n",
       "      <td>-7.552308e+00</td>\n",
       "      <td>1.671795e-01</td>\n",
       "      <td>9.333333e-02</td>\n",
       "      <td>1.511460e+09</td>\n",
       "    </tr>\n",
       "    <tr>\n",
       "      <th>75%</th>\n",
       "      <td>7.847692e+00</td>\n",
       "      <td>1.786718e+01</td>\n",
       "      <td>1.093333e+00</td>\n",
       "      <td>1.511460e+09</td>\n",
       "    </tr>\n",
       "    <tr>\n",
       "      <th>max</th>\n",
       "      <td>3.124769e+01</td>\n",
       "      <td>2.416718e+01</td>\n",
       "      <td>3.193333e+00</td>\n",
       "      <td>1.511460e+09</td>\n",
       "    </tr>\n",
       "  </tbody>\n",
       "</table>\n",
       "</div>"
      ],
      "text/plain": [
       "                  x             y             z            ts\n",
       "count  5.850000e+02  5.850000e+02  5.850000e+02  5.850000e+02\n",
       "mean   7.773459e-15 -7.773459e-16  3.352304e-15  1.511460e+09\n",
       "std    1.440214e+01  1.656534e+01  1.332731e+00  7.380803e+00\n",
       "min   -1.715231e+01 -2.323282e+01 -4.406667e+00  1.511460e+09\n",
       "25%   -9.652308e+00 -1.553282e+01 -1.106667e+00  1.511460e+09\n",
       "50%   -7.552308e+00  1.671795e-01  9.333333e-02  1.511460e+09\n",
       "75%    7.847692e+00  1.786718e+01  1.093333e+00  1.511460e+09\n",
       "max    3.124769e+01  2.416718e+01  3.193333e+00  1.511460e+09"
      ]
     },
     "execution_count": 18,
     "metadata": {},
     "output_type": "execute_result"
    }
   ],
   "source": [
    "mmdf.describe()"
   ]
  },
  {
   "cell_type": "code",
   "execution_count": 19,
   "metadata": {},
   "outputs": [],
   "source": [
    "from ins_nav import TiltCompensatedCompass\n",
    "\n",
    "comp = TiltCompensatedCompass()\n",
    "\n",
    "\n",
    "# get some iterators for each DataFrame\n",
    "accel = madf.itertuples(index=False)\n",
    "mag = mmdf.itertuples(index=False)\n",
    "\n",
    "# going to create a new DataFrame from Euler angles\n",
    "e = {\"roll\":[], \"pitch\":[],\"yaw\":[],\"tt\":[]}\n",
    "\n",
    "last = madf[\"ts\"][0] # starting time stamp\n",
    "dt = 0.1             # time step\n",
    "t0 = madf[\"ts\"][0]   # starting time stamp\n",
    "\n",
    "for aa, mm in zip(accel, mag):\n",
    "    # data stored as ((x,y,z), timestamp), break appart\n",
    "    a = aa[:3]\n",
    "    m = mm[:3]\n",
    "    ts = aa[3]\n",
    "    r,p,y = comp.compensate(a,m)\n",
    "    e[\"roll\"].append(r)\n",
    "    e[\"pitch\"].append(p)\n",
    "    e[\"yaw\"].append(y)\n",
    "    e[\"tt\"].append(ts - t0)\n",
    "    \n",
    "euler = pd.DataFrame(e)"
   ]
  },
  {
   "cell_type": "code",
   "execution_count": 20,
   "metadata": {},
   "outputs": [
    {
     "data": {
      "image/png": "[encoded data removed]",
      "text/plain": [
       "<Figure size 432x288 with 3 Axes>"
      ]
     },
     "metadata": {
      "needs_background": "light"
     },
     "output_type": "display_data"
    }
   ],
   "source": [
    "euler.plot(x=\"tt\", subplots=True, grid=True, title=\"Euler Angles [deg]\");"
   ]
  },
  {
   "cell_type": "markdown",
   "metadata": {},
   "source": [
    "# Run AHRS\n",
    "\n",
    "Now the AHRS uses all of the sensors in the IMU. The code is shown below:"
   ]
  },
  {
   "cell_type": "code",
   "execution_count": 21,
   "metadata": {},
   "outputs": [],
   "source": [
    "import importlib\n",
    "import ins_nav"
   ]
  },
  {
   "cell_type": "code",
   "execution_count": 22,
   "metadata": {},
   "outputs": [],
   "source": [
    "ahrs = ins_nav.AHRS()\n",
    "beta = 1.0\n",
    "\n",
    "# get some iterators for each DataFrame\n",
    "accel = madf.itertuples(index=False)\n",
    "gyro = mgdf.itertuples(index=False)\n",
    "mag = mmdf.itertuples(index=False)\n",
    "\n",
    "# going to create a new DataFrame from Euler angles\n",
    "e = {\"roll\":[], \"pitch\":[],\"yaw\":[],\"tt\":[]}\n",
    "\n",
    "last = madf[\"ts\"][0] # starting time stamp\n",
    "tt = 0               # Test time\n",
    "\n",
    "for aa, mm, gg in zip(accel, mag, gyro):\n",
    "    # data stored as ((x,y,z), timestamp), break appart\n",
    "    a = aa[:3]\n",
    "    m = mm[:3]\n",
    "    g = gg[:3]\n",
    "    \n",
    "    dt = aa[3] - last # calculate time step\n",
    "    \n",
    "    q = ahrs.updateAGM(a,m,g,beta,dt,degrees=True)  # get orientation\n",
    "    r,p,y = q.to_euler(degrees=True)   # convert to euler\n",
    "#     r,p,y = quat2euler(q)\n",
    "    e[\"roll\"].append(r)\n",
    "    e[\"pitch\"].append(p)\n",
    "    e[\"yaw\"].append(y)\n",
    "    \n",
    "    # keep track of test time\n",
    "    tt += dt\n",
    "    e[\"tt\"].append(tt)\n",
    "    \n",
    "    last = aa[3]  # save previous time stamp\n",
    "\n",
    "euler = pd.DataFrame(e)"
   ]
  },
  {
   "cell_type": "code",
   "execution_count": 23,
   "metadata": {
    "scrolled": true
   },
   "outputs": [
    {
     "data": {
      "image/png": "[encoded data removed]",
      "text/plain": [
       "<Figure size 432x288 with 3 Axes>"
      ]
     },
     "metadata": {
      "needs_background": "light"
     },
     "output_type": "display_data"
    }
   ],
   "source": [
    "# The compass heading appears to go in the opposite dirction compared to the previous plot\n",
    "euler.plot(x=\"tt\", subplots=True, grid=True, title=\"Euler Angles [deg]\");"
   ]
  },
  {
   "cell_type": "markdown",
   "metadata": {},
   "source": [
    "# Ground Truth\n",
    "\n",
    "During the process, I grabbed camera images that we can put into a movie and \"see\" what is going on. Hopefully you can visually match what is happending to what is plotted above."
   ]
  },
  {
   "cell_type": "code",
   "execution_count": 24,
   "metadata": {},
   "outputs": [],
   "source": [
    "# # simple function to save a video\n",
    "# import platform\n",
    "# def videoWrite(frames, fname='out.mp4'):\n",
    "#     frame_height, frame_width, _ = frames[0].shape\n",
    "    \n",
    "#     # pick a good encoder for the current OS\n",
    "#     sys = platform.system()\n",
    "#     if sys in ['Darwin']:\n",
    "#         fourcc = 'avc1'\n",
    "#     else:\n",
    "#         fourcc = 'mjpg'\n",
    "        \n",
    "#     out = cv2.VideoWriter(\n",
    "#         fname,\n",
    "#         cv2.VideoWriter_fourcc(*fourcc), \n",
    "#         30, \n",
    "#         (frame_width,frame_height))\n",
    "#     for frame in frames:\n",
    "#         out.write(frame)\n",
    "#     out.release()"
   ]
  },
  {
   "cell_type": "code",
   "execution_count": 25,
   "metadata": {},
   "outputs": [],
   "source": [
    "# frames = []\n",
    "# for f, ts in cal['camera']:\n",
    "#     frames.append(f)\n",
    "\n",
    "# videoWrite(frames, 'sensor_data.mp4')"
   ]
  },
  {
   "cell_type": "code",
   "execution_count": 26,
   "metadata": {},
   "outputs": [
    {
     "data": {
      "text/html": [
       "<video src=\"sensor_data.mp4\" controls  >\n",
       "      Your browser does not support the <code>video</code> element.\n",
       "    </video>"
      ],
      "text/plain": [
       "<IPython.core.display.Video object>"
      ]
     },
     "execution_count": 26,
     "metadata": {},
     "output_type": "execute_result"
    }
   ],
   "source": [
    "from IPython.display import Video\n",
    "Video(\"sensor_data.mp4\")"
   ]
  },
  {
   "cell_type": "markdown",
   "metadata": {},
   "source": [
    "I think the yaw appears to track me spinning the IMU around in circles. However, I think the roll\\pitch don't look right. I am not sure what is going on there."
   ]
  },
  {
   "cell_type": "markdown",
   "metadata": {},
   "source": [
    "# Images\n",
    "\n",
    "This bag has some imagery."
   ]
  },
  {
   "cell_type": "code",
   "execution_count": 27,
   "metadata": {},
   "outputs": [
    {
     "name": "stdout",
     "output_type": "stream",
     "text": [
      "Fount 585 images\n"
     ]
    }
   ],
   "source": [
    "import base64\n",
    "\n",
    "frames = []\n",
    "for f, ts in data['camera']:\n",
    "    ss = base64.b64decode(f)\n",
    "    nparr = np.frombuffer(ss, np.uint8)\n",
    "    im = cv2.imdecode(nparr, cv2.IMREAD_COLOR)\n",
    "    im = cv2.cvtColor(im,cv2.COLOR_BGR2RGB)\n",
    "    frames.append(im)\n",
    "    \n",
    "print(f\"Fount {len(frames)} images\")"
   ]
  },
  {
   "cell_type": "code",
   "execution_count": 28,
   "metadata": {},
   "outputs": [
    {
     "data": {
      "image/png": "[encoded data removed]",
      "text/plain": [
       "<Figure size 432x288 with 1 Axes>"
      ]
     },
     "metadata": {
      "needs_background": "light"
     },
     "output_type": "display_data"
    }
   ],
   "source": [
    "index = 320\n",
    "img = frames[index]\n",
    "plt.imshow(img)\n",
    "plt.title(f\"Image.shape: {img.shape}\");"
   ]
  },
  {
   "cell_type": "code",
   "execution_count": null,
   "metadata": {},
   "outputs": [],
   "source": []
  },
  {
   "cell_type": "code",
   "execution_count": null,
   "metadata": {},
   "outputs": [],
   "source": []
  },
  {
   "cell_type": "code",
   "execution_count": 1,
   "metadata": {},
   "outputs": [
    {
     "data": {
      "text/plain": [
       "25.0"
      ]
     },
     "execution_count": 1,
     "metadata": {},
     "output_type": "execute_result"
    }
   ],
   "source": [
    "1/0.04"
   ]
  },
  {
   "cell_type": "code",
   "execution_count": null,
   "metadata": {},
   "outputs": [],
   "source": []
  }
 ],
 "metadata": {
  "kernelspec": {
   "display_name": "Python 3",
   "language": "python",
   "name": "python3"
  },
  "language_info": {
   "codemirror_mode": {
    "name": "ipython",
    "version": 3
   },
   "file_extension": ".py",
   "mimetype": "text/x-python",
   "name": "python",
   "nbconvert_exporter": "python",
   "pygments_lexer": "ipython3",
   "version": "3.8.6"
  }
 },
 "nbformat": 4,
 "nbformat_minor": 2
}
