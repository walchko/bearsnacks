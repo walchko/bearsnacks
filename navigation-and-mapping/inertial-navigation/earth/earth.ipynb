{
 "cells": [
  {
   "cell_type": "markdown",
   "id": "75262953-72af-41ec-adeb-1c91b9c2c02d",
   "metadata": {},
   "source": [
    "![](../../header1.jpg)\n",
    "\n",
    "# Mapping the Earth\n",
    "\n",
    "Kevin Walchko\n",
    "\n",
    "---"
   ]
  },
  {
   "cell_type": "markdown",
   "id": "56c4a31c-bca4-4d4a-ae39-5a15c9edad0b",
   "metadata": {},
   "source": [
    "GPS gives us the location of our position anywhere on Earth (provided we can \"see\" the satellites). However, those coordinates are our location on a sphere and they are in degrees ... it would be better if we could convert them to a local coordinate in something more useful like meters.\n",
    "\n",
    "## Local Tangent Plane\n",
    "\n",
    "The first step is to define a plane at your current GPS location. The plane is defined such that it is tangent to the surface of a sphere.\n",
    "\n",
    "![](https://upload.wikimedia.org/wikipedia/commons/thumb/7/73/ECEF_ENU_Longitude_Latitude_relationships.svg/220px-ECEF_ENU_Longitude_Latitude_relationships.svg.png)\n",
    "\n",
    "This is all well and good, but the Earth is not a sphere, it is an obleque shape where the equitorial radius of the Earth is larger than the polar radius. Said another way, the width from one side of the Earth to the other at the equator is larger than the width from the North to South pole. The reallity is the Earth is old and has gotten kind of fat around its equator ... it happens to everyone.\n",
    "\n",
    "## Local Frames\n",
    "\n",
    "- **NED:** North, East, Down. This is liked because all rotations about an axis (righthand rule) are seen as positive. The negative to this frame is down is posative since the z-axis points down. This is similar to the aerospace body frame seen on aircraft.\n",
    "- **ENU:** East, North, Up. This is liked because up is up, but unlike NED, the positive direction for pitch and yaw are both counter clockwise which some don't like.\n",
    "\n",
    "# References\n",
    "\n",
    "- [Earth's ellisoid](https://en.wikipedia.org/wiki/Earth_ellipsoid)\n",
    "- [World Geodetic System](https://en.wikipedia.org/wiki/World_Geodetic_System#A_new_World_Geodetic_System:_WGS_84)\n",
    "- [World Magnetic Model](https://en.wikipedia.org/wiki/World_Magnetic_Model)\n",
    "- [World Gravitational Model](https://en.wikipedia.org/wiki/Earth_Gravitational_Model)"
   ]
  },
  {
   "cell_type": "code",
   "execution_count": 1,
   "id": "e7df57f4-9e9c-4b50-97b5-11c1d5cb7d0d",
   "metadata": {},
   "outputs": [],
   "source": [
    "# reload library\n",
    "%load_ext autoreload\n",
    "%autoreload 2"
   ]
  },
  {
   "cell_type": "code",
   "execution_count": 2,
   "id": "9813bfc0-3a99-4924-9426-dd7ab6dd2c6c",
   "metadata": {},
   "outputs": [],
   "source": [
    "import numpy as np\n",
    "from numpy.linalg import norm\n",
    "from numpy import arcsin, cos, sin, pi, sqrt, arcsin as asin, arctan2 as atan2\n",
    "from matplotlib import pyplot as plt\n",
    "\n",
    "np.set_printoptions(precision=3)\n",
    "np.set_printoptions(suppress=True)"
   ]
  },
  {
   "cell_type": "code",
   "execution_count": 21,
   "id": "9a81f222-1334-427d-87db-eff09510b1ea",
   "metadata": {},
   "outputs": [],
   "source": [
    "from ins_nav import NavigationFrame\n",
    "from ins_nav import WGS84\n",
    "\n",
    "from jtb import getCodeImport"
   ]
  },
  {
   "cell_type": "code",
   "execution_count": 4,
   "id": "7919ca4a-e4b2-40ae-a3a3-41f5c4a0973e",
   "metadata": {},
   "outputs": [],
   "source": [
    "# GPS locations for places on the Earth\n",
    "lyon = (45.7597, 4.8422, 0) # (lat, lon, alt)\n",
    "paris = (48.8567, 2.3508, 0)\n",
    "newyork = (40.730610, -73.935242, 0)\n",
    "\n",
    "deg2rad = np.pi/180\n",
    "rad2deg = 180/np.pi"
   ]
  },
  {
   "cell_type": "code",
   "execution_count": 12,
   "id": "29995212-4018-4fe8-813e-c93f5b6ff436",
   "metadata": {},
   "outputs": [],
   "source": [
    "wgs = WGS84()"
   ]
  },
  {
   "cell_type": "code",
   "execution_count": 13,
   "id": "046d7516-9e66-4e80-b2fd-a12e64c9f835",
   "metadata": {},
   "outputs": [
    {
     "name": "stdout",
     "output_type": "stream",
     "text": [
      "Max radius differnce: 21.38 km\n",
      "US is about 40 deg latitude: 9.802 m/s^2\n"
     ]
    },
    {
     "data": {
      "image/png": "[encoded data removed]",
      "text/plain": [
       "<Figure size 432x288 with 2 Axes>"
      ]
     },
     "metadata": {
      "needs_background": "light"
     },
     "output_type": "display_data"
    }
   ],
   "source": [
    "lats = np.arange(-90,90,1)\n",
    "\n",
    "print(f\"Max radius differnce: {(wgs.radius(0) - wgs.radius(90))/1000:.2f} km\")\n",
    "print(f\"US is about 40 deg latitude: {wgs.gravity(40):.3f} m/s^2\")\n",
    "\n",
    "# not thrilled, but in order to plot clearly, I subtracted\n",
    "# off the radius at the pole. Thus you can see it better\n",
    "earth_r = (wgs.radius(lats) - wgs.radius(90)) / 1000\n",
    "\n",
    "fig, ax1 = plt.subplots()\n",
    "\n",
    "ax1.plot(lats,earth_r, 'r-',label=\"Radius [km]\")\n",
    "ax1.axis('equal')\n",
    "ax1.set_ylabel(\"Radius [km]\", color='r')\n",
    "ax1.set_xlabel(\"Latitude [deg]\")\n",
    "\n",
    "# higher gravity the closer to the center of the Earth,\n",
    "# poles are closer than equator, so higher gravity at poles\n",
    "ax2 = ax1.twinx()\n",
    "ax2.plot(lats, wgs.gravity(lats), 'b-', label=\"Gravity [m/s^2]\")\n",
    "ax2.set_ylabel(\"Gravity [m/s^2]\", color='b')\n",
    "ax1.grid(True);"
   ]
  },
  {
   "cell_type": "code",
   "execution_count": 15,
   "id": "4d6b97a0-6258-4cc2-874d-0e0f3329ef63",
   "metadata": {},
   "outputs": [
    {
     "name": "stdout",
     "output_type": "stream",
     "text": [
      "ECEF: [4200910.643  172456.785 4780088.659] [4200910.643  172456.785 4780088.659]\n",
      "ECEF diff: [0. 0. 0.]\n",
      "--------------\n",
      "lla: (48.8567, 2.3508, 0) [48.857  2.351  0.   ]\n",
      "lla diff: [0. 0. 0.]\n"
     ]
    }
   ],
   "source": [
    "pecef = wgs.llh2ecef(paris)\n",
    "\n",
    "fr = NavigationFrame(paris)\n",
    "enu = fr.ecef2enu(pecef)\n",
    "pecef2 = fr.enu2ecef(enu)\n",
    "paris2 = wgs.ecef2llh(pecef2)\n",
    "print(\"ECEF:\", pecef, pecef2)\n",
    "print(\"ECEF diff:\", pecef - pecef2)\n",
    "print(\"--------------\")\n",
    "print(\"lla:\", paris, paris2)\n",
    "print(\"lla diff:\", paris - paris2)"
   ]
  },
  {
   "cell_type": "code",
   "execution_count": 16,
   "id": "fa037567-e140-4bd9-8f10-cf5248762845",
   "metadata": {},
   "outputs": [
    {
     "name": "stdout",
     "output_type": "stream",
     "text": [
      "Delta: 374.16573867739413\n",
      "ECEF: [4201010.643  172656.785 4780388.659] [4201010.643  172589.999 4780388.659]\n",
      "ENU [195.73  115.962 297.056] 374.16573867420504\n"
     ]
    }
   ],
   "source": [
    "pecef = wgs.llh2ecef(paris)\n",
    "pecef += [100,200,300]\n",
    "\n",
    "fr = NavigationFrame(paris)\n",
    "enu = fr.ecef2enu(pecef)\n",
    "pecef2 = fr.enu2ecef(enu)\n",
    "\n",
    "print(\"Delta:\", norm([100,200,300]))\n",
    "print(\"ECEF:\", pecef, pecef2)\n",
    "print(\"ENU\", enu, norm(enu))"
   ]
  },
  {
   "cell_type": "code",
   "execution_count": 17,
   "id": "d52228c9-054f-43d3-b588-f7a9a7d85777",
   "metadata": {},
   "outputs": [
    {
     "name": "stdout",
     "output_type": "stream",
     "text": [
      "5831.2\n"
     ]
    }
   ],
   "source": [
    "# google says 5,834 km New York to Paris\n",
    "print(f\"{wgs.haversine(newyork, paris) / 1000:.1f}\")"
   ]
  },
  {
   "cell_type": "code",
   "execution_count": 18,
   "id": "6e2853ac-c40f-4ef8-82fc-36f7a111262e",
   "metadata": {},
   "outputs": [
    {
     "name": "stdout",
     "output_type": "stream",
     "text": [
      "radius(90) diff: 0.0\n",
      "radius(0) diff 0.0\n"
     ]
    }
   ],
   "source": [
    "# this should match our equatorial and polar radius of the Earth equation\n",
    "# said another way, the difference should be 0 if they match (or really small)\n",
    "print(\"radius(90) diff:\", wgs.radius(90) - wgs.b)\n",
    "print(\"radius(0) diff\", wgs.radius(0) - wgs.a)"
   ]
  },
  {
   "cell_type": "markdown",
   "id": "d32316e1-e92c-4b55-aa2c-d068341f5f82",
   "metadata": {},
   "source": [
    "# Appendix A: NavigationFrame"
   ]
  },
  {
   "cell_type": "code",
   "execution_count": 22,
   "id": "92e33edf-9269-4575-9b1f-7a5b2afd3846",
   "metadata": {},
   "outputs": [
    {
     "data": {
      "text/html": [
       "<div class=\"highlight\"><pre><span></span><span class=\"k\">class</span> <span class=\"nc\">NavigationFrame</span><span class=\"p\">:</span>\n",
       "    <span class=\"sd\">&quot;&quot;&quot;</span>\n",
       "<span class=\"sd\">    Converts between ENU &lt;-&gt; ECEF &lt;-&gt; NED</span>\n",
       "\n",
       "<span class=\"sd\">    All of these frames are useful for navigation either globally (ECEF)</span>\n",
       "<span class=\"sd\">    or locally (NED, ENU).</span>\n",
       "\n",
       "<span class=\"sd\">    Geodetic coordinates: latitude, longitude which are reported by GPS</span>\n",
       "\n",
       "<span class=\"sd\">    ECEF: a geocentric coordinate system, which is just a 3D cartesian</span>\n",
       "<span class=\"sd\">          spatial reference system with the origin at the Earth&#39;s</span>\n",
       "<span class=\"sd\">          center of mass.</span>\n",
       "\n",
       "<span class=\"sd\">    ref: https://en.wikipedia.org/wiki/Earth-centered,_Earth-fixed_coordinate_system</span>\n",
       "<span class=\"sd\">    &quot;&quot;&quot;</span>\n",
       "\n",
       "    <span class=\"k\">def</span> <span class=\"fm\">__init__</span><span class=\"p\">(</span><span class=\"bp\">self</span><span class=\"p\">,</span> <span class=\"n\">llref</span><span class=\"p\">):</span>\n",
       "        <span class=\"sd\">&quot;&quot;&quot;</span>\n",
       "<span class=\"sd\">        llref: (lat, lon) of reference frame origin, a third element</span>\n",
       "<span class=\"sd\">                altitude can also be included (lat, lon, alt) otherwise</span>\n",
       "<span class=\"sd\">                the altitude is assumed to be 0.</span>\n",
       "<span class=\"sd\">        &quot;&quot;&quot;</span>\n",
       "        <span class=\"bp\">self</span><span class=\"o\">.</span><span class=\"n\">latr</span> <span class=\"o\">=</span> <span class=\"n\">llref</span><span class=\"p\">[</span><span class=\"mi\">0</span><span class=\"p\">]</span><span class=\"o\">*</span><span class=\"n\">deg2rad</span>\n",
       "        <span class=\"bp\">self</span><span class=\"o\">.</span><span class=\"n\">lonr</span> <span class=\"o\">=</span> <span class=\"n\">llref</span><span class=\"p\">[</span><span class=\"mi\">1</span><span class=\"p\">]</span><span class=\"o\">*</span><span class=\"n\">deg2rad</span>\n",
       "        <span class=\"bp\">self</span><span class=\"o\">.</span><span class=\"n\">ecefr</span> <span class=\"o\">=</span> <span class=\"bp\">self</span><span class=\"o\">.</span><span class=\"n\">__llh2ecef</span><span class=\"p\">(</span><span class=\"n\">llref</span><span class=\"p\">)</span>\n",
       "\n",
       "    <span class=\"k\">def</span> <span class=\"nf\">__llh2ecef</span><span class=\"p\">(</span><span class=\"bp\">self</span><span class=\"p\">,</span> <span class=\"n\">lla</span><span class=\"p\">):</span>\n",
       "        <span class=\"sd\">&quot;&quot;&quot;</span>\n",
       "<span class=\"sd\">        Geodetic coordinates are a type of curvilinear orthogonal coordinate</span>\n",
       "<span class=\"sd\">        system used in geodesy based on a reference ellipsoid. They include</span>\n",
       "<span class=\"sd\">        geodetic latitude (north/south) phi, longitude (east/west) lambda, and</span>\n",
       "<span class=\"sd\">        ellipsoidal height h (also known as geodetic height). The triad</span>\n",
       "<span class=\"sd\">        is also known as Earth ellipsoidal coordinates</span>\n",
       "<span class=\"sd\">        https://en.wikipedia.org/wiki/Geodetic_coordinates</span>\n",
       "\n",
       "<span class=\"sd\">        llh: latitude (phi), longitude(lambda), height (or altitude) (H) in [deg, deg, m]</span>\n",
       "<span class=\"sd\">        ecef: Earth Centered Earth Fixed in [m, m, m]</span>\n",
       "\n",
       "<span class=\"sd\">        ref: https://en.wikipedia.org/wiki/Geographic_coordinate_conversion</span>\n",
       "<span class=\"sd\">        &quot;&quot;&quot;</span>\n",
       "        <span class=\"n\">lat</span> <span class=\"o\">=</span> <span class=\"n\">lla</span><span class=\"p\">[</span><span class=\"mi\">0</span><span class=\"p\">]</span> <span class=\"o\">*</span><span class=\"n\">deg2rad</span>\n",
       "        <span class=\"n\">lon</span> <span class=\"o\">=</span> <span class=\"n\">lla</span><span class=\"p\">[</span><span class=\"mi\">1</span><span class=\"p\">]</span> <span class=\"o\">*</span> <span class=\"n\">deg2rad</span>\n",
       "\n",
       "        <span class=\"k\">if</span> <span class=\"nb\">len</span><span class=\"p\">(</span><span class=\"n\">lla</span><span class=\"p\">)</span> <span class=\"o\">==</span> <span class=\"mi\">2</span><span class=\"p\">:</span>\n",
       "            <span class=\"n\">H</span> <span class=\"o\">=</span> <span class=\"mi\">0</span>\n",
       "        <span class=\"k\">else</span><span class=\"p\">:</span>\n",
       "            <span class=\"n\">H</span> <span class=\"o\">=</span> <span class=\"n\">lla</span><span class=\"p\">[</span><span class=\"mi\">2</span><span class=\"p\">]</span>\n",
       "\n",
       "        <span class=\"n\">a</span>  <span class=\"o\">=</span> <span class=\"mf\">6378137.0</span>        <span class=\"c1\"># Semi major axis of Earth [m]</span>\n",
       "        <span class=\"n\">e2</span> <span class=\"o\">=</span> <span class=\"mf\">0.00669437999014</span> <span class=\"c1\"># Eccentricity of Earth ellipsoid squared</span>\n",
       "        <span class=\"n\">n</span> <span class=\"o\">=</span> <span class=\"n\">a</span> <span class=\"o\">/</span> <span class=\"n\">sqrt</span><span class=\"p\">(</span><span class=\"mf\">1.0</span> <span class=\"o\">-</span> <span class=\"n\">e2</span> <span class=\"o\">*</span> <span class=\"n\">sin</span><span class=\"p\">(</span><span class=\"n\">lat</span><span class=\"p\">)</span><span class=\"o\">**</span><span class=\"mi\">2</span><span class=\"p\">)</span>\n",
       "\n",
       "        <span class=\"n\">x</span> <span class=\"o\">=</span> <span class=\"p\">(</span><span class=\"n\">n</span> <span class=\"o\">+</span> <span class=\"n\">H</span><span class=\"p\">)</span> <span class=\"o\">*</span> <span class=\"n\">cos</span><span class=\"p\">(</span><span class=\"n\">lat</span><span class=\"p\">)</span> <span class=\"o\">*</span> <span class=\"n\">cos</span><span class=\"p\">(</span><span class=\"n\">lon</span><span class=\"p\">)</span>\n",
       "        <span class=\"n\">y</span> <span class=\"o\">=</span> <span class=\"p\">(</span><span class=\"n\">n</span> <span class=\"o\">+</span> <span class=\"n\">H</span><span class=\"p\">)</span> <span class=\"o\">*</span> <span class=\"n\">cos</span><span class=\"p\">(</span><span class=\"n\">lat</span><span class=\"p\">)</span> <span class=\"o\">*</span> <span class=\"n\">sin</span><span class=\"p\">(</span><span class=\"n\">lon</span><span class=\"p\">)</span>\n",
       "        <span class=\"n\">z</span> <span class=\"o\">=</span> <span class=\"p\">((</span><span class=\"mi\">1</span> <span class=\"o\">-</span> <span class=\"n\">e2</span><span class=\"p\">)</span> <span class=\"o\">*</span> <span class=\"n\">n</span> <span class=\"o\">+</span> <span class=\"n\">H</span><span class=\"p\">)</span> <span class=\"o\">*</span> <span class=\"n\">sin</span><span class=\"p\">(</span><span class=\"n\">lat</span><span class=\"p\">)</span>\n",
       "\n",
       "        <span class=\"k\">return</span> <span class=\"n\">np</span><span class=\"o\">.</span><span class=\"n\">array</span><span class=\"p\">([</span><span class=\"n\">x</span><span class=\"p\">,</span> <span class=\"n\">y</span><span class=\"p\">,</span> <span class=\"n\">z</span><span class=\"p\">])</span>\n",
       "\n",
       "    <span class=\"k\">def</span> <span class=\"nf\">ecef2enu</span><span class=\"p\">(</span><span class=\"bp\">self</span><span class=\"p\">,</span> <span class=\"n\">ecef</span><span class=\"p\">):</span>\n",
       "        <span class=\"sd\">&quot;&quot;&quot;</span>\n",
       "<span class=\"sd\">        ref: https://en.wikipedia.org/wiki/Geographic_coordinate_conversion#From_ECEF_to_ENU</span>\n",
       "<span class=\"sd\">        &quot;&quot;&quot;</span>\n",
       "        <span class=\"n\">lat</span> <span class=\"o\">=</span> <span class=\"bp\">self</span><span class=\"o\">.</span><span class=\"n\">latr</span>\n",
       "        <span class=\"n\">lon</span> <span class=\"o\">=</span> <span class=\"bp\">self</span><span class=\"o\">.</span><span class=\"n\">lonr</span>\n",
       "        <span class=\"n\">ref</span> <span class=\"o\">=</span> <span class=\"bp\">self</span><span class=\"o\">.</span><span class=\"n\">ecefr</span>\n",
       "\n",
       "        <span class=\"n\">slat</span> <span class=\"o\">=</span> <span class=\"n\">sin</span><span class=\"p\">(</span><span class=\"n\">lat</span><span class=\"p\">);</span> <span class=\"n\">clat</span> <span class=\"o\">=</span> <span class=\"n\">cos</span><span class=\"p\">(</span><span class=\"n\">lat</span><span class=\"p\">)</span>\n",
       "        <span class=\"n\">slon</span> <span class=\"o\">=</span> <span class=\"n\">sin</span><span class=\"p\">(</span><span class=\"n\">lon</span><span class=\"p\">);</span> <span class=\"n\">clon</span> <span class=\"o\">=</span> <span class=\"n\">cos</span><span class=\"p\">(</span><span class=\"n\">lon</span><span class=\"p\">)</span>\n",
       "\n",
       "        <span class=\"c1\"># FIXME: get rid of trig calls</span>\n",
       "        <span class=\"n\">r</span> <span class=\"o\">=</span> <span class=\"n\">np</span><span class=\"o\">.</span><span class=\"n\">array</span><span class=\"p\">([</span>\n",
       "            <span class=\"p\">[</span><span class=\"o\">-</span><span class=\"n\">sin</span><span class=\"p\">(</span><span class=\"n\">lon</span><span class=\"p\">),</span>                    <span class=\"n\">cos</span><span class=\"p\">(</span><span class=\"n\">lon</span><span class=\"p\">),</span>        <span class=\"mi\">0</span><span class=\"p\">],</span>\n",
       "            <span class=\"p\">[</span><span class=\"o\">-</span><span class=\"n\">sin</span><span class=\"p\">(</span><span class=\"n\">lat</span><span class=\"p\">)</span><span class=\"o\">*</span><span class=\"n\">cos</span><span class=\"p\">(</span><span class=\"n\">lon</span><span class=\"p\">),</span> <span class=\"o\">-</span><span class=\"n\">sin</span><span class=\"p\">(</span><span class=\"n\">lat</span><span class=\"p\">)</span><span class=\"o\">*</span><span class=\"n\">sin</span><span class=\"p\">(</span><span class=\"n\">lon</span><span class=\"p\">),</span> <span class=\"n\">cos</span><span class=\"p\">(</span><span class=\"n\">lat</span><span class=\"p\">)],</span>\n",
       "            <span class=\"p\">[</span> <span class=\"n\">cos</span><span class=\"p\">(</span><span class=\"n\">lat</span><span class=\"p\">)</span><span class=\"o\">*</span><span class=\"n\">cos</span><span class=\"p\">(</span><span class=\"n\">lon</span><span class=\"p\">),</span>  <span class=\"n\">cos</span><span class=\"p\">(</span><span class=\"n\">lat</span><span class=\"p\">)</span><span class=\"o\">*</span><span class=\"n\">sin</span><span class=\"p\">(</span><span class=\"n\">lon</span><span class=\"p\">),</span> <span class=\"n\">sin</span><span class=\"p\">(</span><span class=\"n\">lat</span><span class=\"p\">)]</span>\n",
       "        <span class=\"p\">])</span>\n",
       "\n",
       "        <span class=\"k\">return</span> <span class=\"n\">r</span><span class=\"o\">.</span><span class=\"n\">dot</span><span class=\"p\">(</span><span class=\"n\">ecef</span> <span class=\"o\">-</span> <span class=\"n\">ref</span><span class=\"p\">)</span>\n",
       "\n",
       "    <span class=\"k\">def</span> <span class=\"nf\">enu2ecef</span><span class=\"p\">(</span><span class=\"bp\">self</span><span class=\"p\">,</span> <span class=\"n\">enu</span><span class=\"p\">):</span>\n",
       "        <span class=\"sd\">&quot;&quot;&quot;</span>\n",
       "<span class=\"sd\">        ref: https://en.wikipedia.org/wiki/Geographic_coordinate_conversion#From_ENU_to_ECEF</span>\n",
       "<span class=\"sd\">        &quot;&quot;&quot;</span>\n",
       "        <span class=\"n\">lat</span> <span class=\"o\">=</span> <span class=\"bp\">self</span><span class=\"o\">.</span><span class=\"n\">latr</span>\n",
       "        <span class=\"n\">lon</span> <span class=\"o\">=</span> <span class=\"bp\">self</span><span class=\"o\">.</span><span class=\"n\">lonr</span>\n",
       "        <span class=\"n\">ref</span> <span class=\"o\">=</span> <span class=\"bp\">self</span><span class=\"o\">.</span><span class=\"n\">ecefr</span>\n",
       "\n",
       "        <span class=\"n\">slat</span> <span class=\"o\">=</span> <span class=\"n\">sin</span><span class=\"p\">(</span><span class=\"n\">lat</span><span class=\"p\">);</span> <span class=\"n\">clat</span> <span class=\"o\">=</span> <span class=\"n\">cos</span><span class=\"p\">(</span><span class=\"n\">lat</span><span class=\"p\">)</span>\n",
       "        <span class=\"n\">slon</span> <span class=\"o\">=</span> <span class=\"n\">sin</span><span class=\"p\">(</span><span class=\"n\">lon</span><span class=\"p\">);</span> <span class=\"n\">clon</span> <span class=\"o\">=</span> <span class=\"n\">cos</span><span class=\"p\">(</span><span class=\"n\">lon</span><span class=\"p\">)</span>\n",
       "\n",
       "        <span class=\"n\">r</span> <span class=\"o\">=</span> <span class=\"n\">np</span><span class=\"o\">.</span><span class=\"n\">array</span><span class=\"p\">([</span>\n",
       "            <span class=\"p\">[</span><span class=\"o\">-</span><span class=\"n\">slon</span><span class=\"p\">,</span> <span class=\"o\">-</span><span class=\"n\">slat</span><span class=\"o\">*</span><span class=\"n\">clon</span><span class=\"p\">,</span> <span class=\"n\">clat</span><span class=\"o\">*</span><span class=\"n\">clon</span><span class=\"p\">],</span>\n",
       "            <span class=\"p\">[</span> <span class=\"n\">clat</span><span class=\"p\">,</span> <span class=\"o\">-</span><span class=\"n\">slat</span><span class=\"o\">*</span><span class=\"n\">slon</span><span class=\"p\">,</span> <span class=\"n\">clat</span><span class=\"o\">*</span><span class=\"n\">slon</span><span class=\"p\">],</span>\n",
       "            <span class=\"p\">[</span>    <span class=\"mi\">0</span><span class=\"p\">,</span>       <span class=\"n\">clat</span><span class=\"p\">,</span>      <span class=\"n\">slat</span><span class=\"p\">]</span>\n",
       "        <span class=\"p\">])</span>\n",
       "\n",
       "        <span class=\"k\">return</span> <span class=\"n\">r</span><span class=\"o\">.</span><span class=\"n\">dot</span><span class=\"p\">(</span><span class=\"n\">enu</span><span class=\"p\">)</span> <span class=\"o\">+</span> <span class=\"n\">ref</span>\n",
       "\n",
       "    <span class=\"k\">def</span> <span class=\"nf\">ecef2ned</span><span class=\"p\">(</span><span class=\"bp\">self</span><span class=\"p\">,</span> <span class=\"n\">ecef</span><span class=\"p\">):</span>\n",
       "        <span class=\"sd\">&quot;&quot;&quot;</span>\n",
       "<span class=\"sd\">        llh: latitude (phi), longitude(lambda), height (or altitude) (H) in [deg, deg, m]</span>\n",
       "<span class=\"sd\">        ecef: Earth Centered Earth Fixed in [m, m, m]</span>\n",
       "<span class=\"sd\">        ned: North, East, Down in [m, m, m]</span>\n",
       "\n",
       "<span class=\"sd\">        ref: https://en.wikipedia.org/wiki/Local_tangent_plane_coordinates</span>\n",
       "<span class=\"sd\">        &quot;&quot;&quot;</span>\n",
       "        <span class=\"n\">lat</span> <span class=\"o\">=</span> <span class=\"bp\">self</span><span class=\"o\">.</span><span class=\"n\">latr</span>\n",
       "        <span class=\"n\">lon</span> <span class=\"o\">=</span> <span class=\"bp\">self</span><span class=\"o\">.</span><span class=\"n\">lonr</span>\n",
       "        <span class=\"n\">ref</span> <span class=\"o\">=</span> <span class=\"bp\">self</span><span class=\"o\">.</span><span class=\"n\">ecefr</span>\n",
       "\n",
       "        <span class=\"n\">slat</span> <span class=\"o\">=</span> <span class=\"n\">sin</span><span class=\"p\">(</span><span class=\"n\">lat</span><span class=\"p\">);</span> <span class=\"n\">clat</span> <span class=\"o\">=</span> <span class=\"n\">cos</span><span class=\"p\">(</span><span class=\"n\">lat</span><span class=\"p\">)</span>\n",
       "        <span class=\"n\">slon</span> <span class=\"o\">=</span> <span class=\"n\">sin</span><span class=\"p\">(</span><span class=\"n\">lon</span><span class=\"p\">);</span> <span class=\"n\">clon</span> <span class=\"o\">=</span> <span class=\"n\">cos</span><span class=\"p\">(</span><span class=\"n\">lon</span><span class=\"p\">)</span>\n",
       "\n",
       "        <span class=\"c1\">#     R = np.array(</span>\n",
       "        <span class=\"c1\">#         [</span>\n",
       "        <span class=\"c1\">#             [-np.sin(lat)*np.cos(lon), -np.sin(lat)*np.sin(lon), np.cos(lat)],</span>\n",
       "        <span class=\"c1\">#             [-np.sin(lon), np.cos(lon), 0],</span>\n",
       "        <span class=\"c1\">#             [-np.cos(lat)*np.cos(lon), -np.cos(lat)*np.sin(lon), -np.sin(lat)]</span>\n",
       "        <span class=\"c1\">#         ]</span>\n",
       "        <span class=\"c1\">#     )</span>\n",
       "\n",
       "        <span class=\"c1\"># FIXME: get rid of transpose</span>\n",
       "        <span class=\"n\">r</span> <span class=\"o\">=</span> <span class=\"n\">np</span><span class=\"o\">.</span><span class=\"n\">array</span><span class=\"p\">([</span>\n",
       "            <span class=\"p\">[</span><span class=\"o\">-</span><span class=\"n\">slat</span><span class=\"o\">*</span><span class=\"n\">clon</span><span class=\"p\">,</span> <span class=\"o\">-</span><span class=\"n\">slon</span><span class=\"p\">,</span> <span class=\"o\">-</span><span class=\"n\">clat</span><span class=\"o\">*</span><span class=\"n\">clon</span><span class=\"p\">],</span>\n",
       "            <span class=\"p\">[</span><span class=\"o\">-</span><span class=\"n\">slat</span><span class=\"o\">*</span><span class=\"n\">slon</span><span class=\"p\">,</span>  <span class=\"n\">clon</span><span class=\"p\">,</span> <span class=\"o\">-</span><span class=\"n\">clat</span><span class=\"o\">*</span><span class=\"n\">slon</span><span class=\"p\">],</span>\n",
       "            <span class=\"p\">[</span>      <span class=\"n\">clat</span><span class=\"p\">,</span>     <span class=\"mi\">0</span><span class=\"p\">,</span>      <span class=\"o\">-</span><span class=\"n\">slat</span><span class=\"p\">]</span>\n",
       "        <span class=\"p\">])</span><span class=\"o\">.</span><span class=\"n\">T</span>\n",
       "\n",
       "        <span class=\"k\">return</span> <span class=\"n\">r</span><span class=\"o\">.</span><span class=\"n\">dot</span><span class=\"p\">(</span><span class=\"n\">ecef</span> <span class=\"o\">-</span> <span class=\"n\">ref</span><span class=\"p\">)</span>\n",
       "\n",
       "    <span class=\"k\">def</span> <span class=\"nf\">ned2ecef</span><span class=\"p\">(</span><span class=\"bp\">self</span><span class=\"p\">,</span> <span class=\"n\">ned</span><span class=\"p\">):</span>\n",
       "        <span class=\"sd\">&quot;&quot;&quot;</span>\n",
       "<span class=\"sd\">        llh: latitude (phi), longitude(lambda), height (or altitude) (H) in [deg, deg, m]</span>\n",
       "<span class=\"sd\">        ecef: Earth Centered Earth Fixed in [m, m, m]</span>\n",
       "<span class=\"sd\">        ned: North, East, Down in [m, m, m]</span>\n",
       "\n",
       "<span class=\"sd\">        ref: https://en.wikipedia.org/wiki/Local_tangent_plane_coordinates</span>\n",
       "<span class=\"sd\">        &quot;&quot;&quot;</span>\n",
       "        <span class=\"n\">lat</span> <span class=\"o\">=</span> <span class=\"bp\">self</span><span class=\"o\">.</span><span class=\"n\">latr</span>\n",
       "        <span class=\"n\">lon</span> <span class=\"o\">=</span> <span class=\"bp\">self</span><span class=\"o\">.</span><span class=\"n\">lonr</span>\n",
       "        <span class=\"n\">ref</span> <span class=\"o\">=</span> <span class=\"bp\">self</span><span class=\"o\">.</span><span class=\"n\">ecefr</span>\n",
       "\n",
       "        <span class=\"n\">slat</span> <span class=\"o\">=</span> <span class=\"n\">sin</span><span class=\"p\">(</span><span class=\"n\">lat</span><span class=\"p\">);</span> <span class=\"n\">clat</span> <span class=\"o\">=</span> <span class=\"n\">cos</span><span class=\"p\">(</span><span class=\"n\">lat</span><span class=\"p\">)</span>\n",
       "        <span class=\"n\">slon</span> <span class=\"o\">=</span> <span class=\"n\">sin</span><span class=\"p\">(</span><span class=\"n\">lon</span><span class=\"p\">);</span> <span class=\"n\">clon</span> <span class=\"o\">=</span> <span class=\"n\">cos</span><span class=\"p\">(</span><span class=\"n\">lon</span><span class=\"p\">)</span>\n",
       "\n",
       "        <span class=\"n\">r</span> <span class=\"o\">=</span> <span class=\"n\">np</span><span class=\"o\">.</span><span class=\"n\">array</span><span class=\"p\">([</span>\n",
       "            <span class=\"p\">[</span><span class=\"o\">-</span><span class=\"n\">slat</span><span class=\"o\">*</span><span class=\"n\">clon</span><span class=\"p\">,</span> <span class=\"o\">-</span><span class=\"n\">slon</span><span class=\"p\">,</span> <span class=\"o\">-</span><span class=\"n\">clat</span><span class=\"o\">*</span><span class=\"n\">clon</span><span class=\"p\">],</span>\n",
       "            <span class=\"p\">[</span><span class=\"o\">-</span><span class=\"n\">slat</span><span class=\"o\">*</span><span class=\"n\">slon</span><span class=\"p\">,</span>  <span class=\"n\">clon</span><span class=\"p\">,</span> <span class=\"o\">-</span><span class=\"n\">clat</span><span class=\"o\">*</span><span class=\"n\">slon</span><span class=\"p\">],</span>\n",
       "            <span class=\"p\">[</span>      <span class=\"n\">clat</span><span class=\"p\">,</span>     <span class=\"mi\">0</span><span class=\"p\">,</span>      <span class=\"o\">-</span><span class=\"n\">slat</span><span class=\"p\">]</span>\n",
       "        <span class=\"p\">])</span>\n",
       "\n",
       "        <span class=\"k\">return</span> <span class=\"n\">r</span><span class=\"o\">.</span><span class=\"n\">dot</span><span class=\"p\">(</span><span class=\"n\">ned</span><span class=\"p\">)</span> <span class=\"o\">+</span> <span class=\"n\">ref</span>\n",
       "</pre></div>\n"
      ],
      "text/plain": [
       "<IPython.core.display.HTML object>"
      ]
     },
     "metadata": {},
     "output_type": "display_data"
    }
   ],
   "source": [
    "getCodeImport(NavigationFrame)"
   ]
  },
  {
   "cell_type": "markdown",
   "id": "718393d9-625d-4c84-ad96-46721240145a",
   "metadata": {},
   "source": [
    "# Appendix B: WGS84"
   ]
  },
  {
   "cell_type": "code",
   "execution_count": 23,
   "id": "8776c1b5-f23c-453b-8452-38185d621dd3",
   "metadata": {},
   "outputs": [
    {
     "data": {
      "text/html": [
       "<div class=\"highlight\"><pre><span></span><span class=\"k\">class</span> <span class=\"nc\">WGS84</span><span class=\"p\">:</span>\n",
       "    <span class=\"sd\">&quot;&quot;&quot;</span>\n",
       "<span class=\"sd\">    WGS84 is used in GPS which are geodetic coordinates.</span>\n",
       "\n",
       "<span class=\"sd\">    Geodetic coordinates are a type of curvilinear orthogonal coordinate</span>\n",
       "<span class=\"sd\">    system used in geodesy based on a reference ellipsoid. They include</span>\n",
       "<span class=\"sd\">    geodetic latitude (north/south) phi, longitude (east/west) lambda, and</span>\n",
       "<span class=\"sd\">    ellipsoidal height h (also known as geodetic height). The triad</span>\n",
       "<span class=\"sd\">    is also known as Earth ellipsoidal coordinates</span>\n",
       "<span class=\"sd\">    https://en.wikipedia.org/wiki/Geodetic_coordinates</span>\n",
       "\n",
       "<span class=\"sd\">    https://en.wikipedia.org/wiki/Earth_radius</span>\n",
       "<span class=\"sd\">    https://en.wikipedia.org/wiki/Earth_ellipsoid</span>\n",
       "<span class=\"sd\">    https://en.wikipedia.org/wiki/World_Geodetic_System#A_new_World_Geodetic_System:_WGS_84</span>\n",
       "\n",
       "<span class=\"sd\">    rf: inverse flattening</span>\n",
       "<span class=\"sd\">    f: flattening</span>\n",
       "<span class=\"sd\">    a: equitorial radius or semi-major axis [m]</span>\n",
       "<span class=\"sd\">    b: polar radius or semi-minor axis [m]</span>\n",
       "<span class=\"sd\">    e: eccentricity of Earth ellipsoid</span>\n",
       "<span class=\"sd\">    r: spherical radius [m]</span>\n",
       "<span class=\"sd\">    rotation_period: Earth&#39;s rotation rate [seconds]</span>\n",
       "<span class=\"sd\">    rate: Rotation rate of Earth [rad/s]</span>\n",
       "<span class=\"sd\">    sf: Schuller frequency</span>\n",
       "<span class=\"sd\">    &quot;&quot;&quot;</span>\n",
       "\n",
       "    <span class=\"k\">def</span> <span class=\"fm\">__init__</span><span class=\"p\">(</span><span class=\"bp\">self</span><span class=\"p\">):</span>\n",
       "        <span class=\"bp\">self</span><span class=\"o\">.</span><span class=\"n\">rf</span> <span class=\"o\">=</span> <span class=\"mf\">298.257223563</span>\n",
       "        <span class=\"bp\">self</span><span class=\"o\">.</span><span class=\"n\">f</span> <span class=\"o\">=</span> <span class=\"mi\">1</span><span class=\"o\">/</span><span class=\"bp\">self</span><span class=\"o\">.</span><span class=\"n\">rf</span>\n",
       "        <span class=\"bp\">self</span><span class=\"o\">.</span><span class=\"n\">a</span> <span class=\"o\">=</span> <span class=\"mf\">6378137.0</span>\n",
       "        <span class=\"bp\">self</span><span class=\"o\">.</span><span class=\"n\">b</span> <span class=\"o\">=</span> <span class=\"bp\">self</span><span class=\"o\">.</span><span class=\"n\">a</span> <span class=\"o\">-</span> <span class=\"bp\">self</span><span class=\"o\">.</span><span class=\"n\">a</span> <span class=\"o\">*</span> <span class=\"bp\">self</span><span class=\"o\">.</span><span class=\"n\">f</span>\n",
       "        <span class=\"bp\">self</span><span class=\"o\">.</span><span class=\"n\">e</span> <span class=\"o\">=</span> <span class=\"n\">np</span><span class=\"o\">.</span><span class=\"n\">sqrt</span><span class=\"p\">(</span><span class=\"mi\">1</span> <span class=\"o\">-</span> <span class=\"p\">(</span><span class=\"bp\">self</span><span class=\"o\">.</span><span class=\"n\">b</span> <span class=\"o\">**</span> <span class=\"mi\">2</span> <span class=\"o\">/</span> <span class=\"bp\">self</span><span class=\"o\">.</span><span class=\"n\">a</span> <span class=\"o\">**</span> <span class=\"mi\">2</span><span class=\"p\">))</span>\n",
       "        <span class=\"bp\">self</span><span class=\"o\">.</span><span class=\"n\">r</span> <span class=\"o\">=</span> <span class=\"p\">(</span><span class=\"mi\">2</span><span class=\"o\">*</span><span class=\"bp\">self</span><span class=\"o\">.</span><span class=\"n\">a</span> <span class=\"o\">+</span> <span class=\"bp\">self</span><span class=\"o\">.</span><span class=\"n\">b</span><span class=\"p\">)</span> <span class=\"o\">/</span> <span class=\"mi\">3</span>\n",
       "        <span class=\"bp\">self</span><span class=\"o\">.</span><span class=\"n\">rotation_period</span> <span class=\"o\">=</span> <span class=\"mi\">23</span><span class=\"o\">*</span><span class=\"mi\">3600</span> <span class=\"o\">+</span> <span class=\"mi\">56</span><span class=\"o\">*</span><span class=\"mi\">60</span> <span class=\"o\">+</span> <span class=\"mf\">4.09053</span>\n",
       "\n",
       "        <span class=\"bp\">self</span><span class=\"o\">.</span><span class=\"n\">rate</span> <span class=\"o\">=</span> <span class=\"mf\">7.2921157e-5</span>  <span class=\"c1\"># Rotation rate of Earth [rad/s]</span>\n",
       "        <span class=\"bp\">self</span><span class=\"o\">.</span><span class=\"n\">sf</span> <span class=\"o\">=</span> <span class=\"mf\">1.2383e-3</span>       <span class=\"c1\"># Schuller frequency</span>\n",
       "\n",
       "    <span class=\"k\">def</span> <span class=\"nf\">gravity</span><span class=\"p\">(</span><span class=\"bp\">self</span><span class=\"p\">,</span> <span class=\"n\">lat</span><span class=\"p\">):</span>\n",
       "        <span class=\"sd\">&quot;&quot;&quot;</span>\n",
       "<span class=\"sd\">        Based off the Oxford reference for the gravity formula at sealevel.</span>\n",
       "<span class=\"sd\">        https://www.oxfordreference.com/view/10.1093/oi/authority.20110803100007626</span>\n",
       "\n",
       "<span class=\"sd\">        Also the WGS84 has a newer model, but it is more computationally</span>\n",
       "<span class=\"sd\">        intensive and only differs from this one by 0.68 um/s^2</span>\n",
       "<span class=\"sd\">        https://en.wikipedia.org/wiki/Gravity_of_Earth</span>\n",
       "\n",
       "<span class=\"sd\">        lat: latitude [decimal deg], North is positive and South is negative</span>\n",
       "<span class=\"sd\">        &quot;&quot;&quot;</span>\n",
       "        <span class=\"n\">lat</span> <span class=\"o\">=</span> <span class=\"n\">lat</span><span class=\"o\">*</span><span class=\"n\">deg2rad</span>\n",
       "        <span class=\"n\">G0</span> <span class=\"o\">=</span> <span class=\"mf\">9.7803253359</span>              <span class=\"c1\"># Gravity [m/sec^2]</span>\n",
       "        <span class=\"k\">return</span> <span class=\"n\">G0</span><span class=\"o\">*</span><span class=\"p\">(</span><span class=\"mi\">1</span> <span class=\"o\">+</span> <span class=\"mf\">0.0053024</span><span class=\"o\">*</span><span class=\"n\">sin</span><span class=\"p\">(</span><span class=\"n\">lat</span><span class=\"p\">)</span><span class=\"o\">**</span><span class=\"mi\">2</span> <span class=\"o\">-</span> <span class=\"mf\">0.0000058</span><span class=\"o\">*</span><span class=\"n\">sin</span><span class=\"p\">(</span><span class=\"mi\">2</span><span class=\"o\">*</span><span class=\"n\">lat</span><span class=\"p\">)</span><span class=\"o\">**</span><span class=\"mi\">2</span><span class=\"p\">)</span>\n",
       "\n",
       "    <span class=\"k\">def</span> <span class=\"nf\">haversine</span><span class=\"p\">(</span><span class=\"bp\">self</span><span class=\"p\">,</span> <span class=\"n\">a</span><span class=\"p\">,</span> <span class=\"n\">b</span><span class=\"p\">):</span>\n",
       "        <span class=\"sd\">&quot;&quot;&quot;</span>\n",
       "<span class=\"sd\">        Returns the haversine (or great circle) distance between</span>\n",
       "<span class=\"sd\">        2 sets of GPS coordinates. This appears to work really well.</span>\n",
       "\n",
       "<span class=\"sd\">        a: (lat, lon) in deg</span>\n",
       "<span class=\"sd\">        b: (lat, lon) in deg</span>\n",
       "<span class=\"sd\">        &quot;&quot;&quot;</span>\n",
       "        <span class=\"n\">lat</span> <span class=\"o\">=</span> <span class=\"n\">b</span><span class=\"p\">[</span><span class=\"mi\">0</span><span class=\"p\">]</span><span class=\"o\">*</span><span class=\"n\">deg2rad</span>\n",
       "        <span class=\"c1\"># R = 6371008.8</span>\n",
       "        <span class=\"n\">R</span> <span class=\"o\">=</span> <span class=\"bp\">self</span><span class=\"o\">.</span><span class=\"n\">r</span>\n",
       "        <span class=\"n\">dlat</span> <span class=\"o\">=</span> <span class=\"p\">(</span><span class=\"n\">b</span><span class=\"p\">[</span><span class=\"mi\">0</span><span class=\"p\">]</span> <span class=\"o\">-</span> <span class=\"n\">a</span><span class=\"p\">[</span><span class=\"mi\">0</span><span class=\"p\">])</span><span class=\"o\">*</span><span class=\"n\">deg2rad</span>\n",
       "        <span class=\"n\">dlon</span> <span class=\"o\">=</span> <span class=\"p\">(</span><span class=\"n\">b</span><span class=\"p\">[</span><span class=\"mi\">1</span><span class=\"p\">]</span> <span class=\"o\">-</span> <span class=\"n\">a</span><span class=\"p\">[</span><span class=\"mi\">1</span><span class=\"p\">])</span><span class=\"o\">*</span><span class=\"n\">deg2rad</span>\n",
       "        <span class=\"n\">m</span> <span class=\"o\">=</span> <span class=\"n\">sin</span><span class=\"p\">(</span><span class=\"n\">dlat</span><span class=\"o\">*</span><span class=\"mf\">0.5</span><span class=\"p\">)</span><span class=\"o\">**</span><span class=\"mi\">2</span> <span class=\"o\">+</span> <span class=\"n\">cos</span><span class=\"p\">(</span><span class=\"n\">a</span><span class=\"p\">[</span><span class=\"mi\">0</span><span class=\"p\">]</span><span class=\"o\">*</span><span class=\"n\">deg2rad</span><span class=\"p\">)</span> <span class=\"o\">*</span> <span class=\"n\">cos</span><span class=\"p\">(</span><span class=\"n\">b</span><span class=\"p\">[</span><span class=\"mi\">0</span><span class=\"p\">]</span><span class=\"o\">*</span><span class=\"n\">deg2rad</span><span class=\"p\">)</span> <span class=\"o\">*</span> <span class=\"n\">sin</span><span class=\"p\">(</span><span class=\"n\">dlon</span><span class=\"o\">*</span><span class=\"mf\">0.5</span><span class=\"p\">)</span><span class=\"o\">**</span><span class=\"mi\">2</span>\n",
       "        <span class=\"k\">return</span> <span class=\"n\">R</span><span class=\"o\">*</span><span class=\"mi\">2</span><span class=\"o\">*</span><span class=\"n\">asin</span><span class=\"p\">(</span><span class=\"nb\">min</span><span class=\"p\">(</span><span class=\"mi\">1</span><span class=\"p\">,</span> <span class=\"n\">sqrt</span><span class=\"p\">(</span><span class=\"n\">m</span><span class=\"p\">)))</span>\n",
       "\n",
       "    <span class=\"k\">def</span> <span class=\"nf\">radius</span><span class=\"p\">(</span><span class=\"bp\">self</span><span class=\"p\">,</span> <span class=\"n\">lat</span><span class=\"p\">):</span>\n",
       "        <span class=\"sd\">&quot;&quot;&quot;</span>\n",
       "<span class=\"sd\">        Returns the geocentric radius based on WGS84</span>\n",
       "\n",
       "<span class=\"sd\">        lat: latitude in deg</span>\n",
       "<span class=\"sd\">        &quot;&quot;&quot;</span>\n",
       "        <span class=\"n\">a</span> <span class=\"o\">=</span> <span class=\"bp\">self</span><span class=\"o\">.</span><span class=\"n\">a</span>\n",
       "        <span class=\"n\">b</span> <span class=\"o\">=</span> <span class=\"bp\">self</span><span class=\"o\">.</span><span class=\"n\">b</span>\n",
       "        <span class=\"n\">lat</span> <span class=\"o\">=</span> <span class=\"n\">lat</span><span class=\"o\">*</span><span class=\"n\">deg2rad</span>\n",
       "        <span class=\"n\">num</span> <span class=\"o\">=</span> <span class=\"p\">(</span><span class=\"n\">a</span><span class=\"o\">**</span><span class=\"mi\">2</span> <span class=\"o\">*</span> <span class=\"n\">cos</span><span class=\"p\">(</span><span class=\"n\">lat</span><span class=\"p\">))</span><span class=\"o\">**</span><span class=\"mi\">2</span> <span class=\"o\">+</span> <span class=\"p\">(</span><span class=\"n\">b</span><span class=\"o\">**</span><span class=\"mi\">2</span> <span class=\"o\">*</span> <span class=\"n\">sin</span><span class=\"p\">(</span><span class=\"n\">lat</span><span class=\"p\">))</span><span class=\"o\">**</span><span class=\"mi\">2</span>\n",
       "        <span class=\"n\">den</span> <span class=\"o\">=</span> <span class=\"p\">(</span><span class=\"n\">a</span> <span class=\"o\">*</span> <span class=\"n\">cos</span><span class=\"p\">(</span><span class=\"n\">lat</span><span class=\"p\">))</span><span class=\"o\">**</span><span class=\"mi\">2</span> <span class=\"o\">+</span> <span class=\"p\">(</span><span class=\"n\">b</span> <span class=\"o\">*</span> <span class=\"n\">sin</span><span class=\"p\">(</span><span class=\"n\">lat</span><span class=\"p\">))</span><span class=\"o\">**</span><span class=\"mi\">2</span>\n",
       "        <span class=\"k\">return</span> <span class=\"n\">sqrt</span><span class=\"p\">(</span><span class=\"n\">num</span> <span class=\"o\">/</span> <span class=\"n\">den</span><span class=\"p\">)</span>\n",
       "\n",
       "    <span class=\"k\">def</span> <span class=\"nf\">llh2ecef</span><span class=\"p\">(</span><span class=\"bp\">self</span><span class=\"p\">,</span> <span class=\"n\">lla</span><span class=\"p\">):</span>\n",
       "        <span class=\"sd\">&quot;&quot;&quot;</span>\n",
       "<span class=\"sd\">        llh: latitude (phi), longitude(lambda), height (or altitude) (H) in [deg, deg, m]</span>\n",
       "<span class=\"sd\">        ecef: Earth Centered Earth Fixed in [m, m, m]</span>\n",
       "\n",
       "<span class=\"sd\">        ref: https://en.wikipedia.org/wiki/Geographic_coordinate_conversion</span>\n",
       "<span class=\"sd\">        &quot;&quot;&quot;</span>\n",
       "        <span class=\"n\">lat</span> <span class=\"o\">=</span> <span class=\"n\">lla</span><span class=\"p\">[</span><span class=\"mi\">0</span><span class=\"p\">]</span> <span class=\"o\">*</span><span class=\"n\">deg2rad</span>\n",
       "        <span class=\"n\">lon</span> <span class=\"o\">=</span> <span class=\"n\">lla</span><span class=\"p\">[</span><span class=\"mi\">1</span><span class=\"p\">]</span> <span class=\"o\">*</span> <span class=\"n\">deg2rad</span>\n",
       "\n",
       "        <span class=\"k\">if</span> <span class=\"nb\">len</span><span class=\"p\">(</span><span class=\"n\">lla</span><span class=\"p\">)</span> <span class=\"o\">==</span> <span class=\"mi\">2</span><span class=\"p\">:</span>\n",
       "            <span class=\"n\">H</span> <span class=\"o\">=</span> <span class=\"mi\">0</span>\n",
       "        <span class=\"k\">else</span><span class=\"p\">:</span>\n",
       "            <span class=\"n\">H</span> <span class=\"o\">=</span> <span class=\"n\">lla</span><span class=\"p\">[</span><span class=\"mi\">2</span><span class=\"p\">]</span>\n",
       "\n",
       "        <span class=\"n\">e2</span> <span class=\"o\">=</span> <span class=\"bp\">self</span><span class=\"o\">.</span><span class=\"n\">e</span><span class=\"o\">**</span><span class=\"mi\">2</span>\n",
       "        <span class=\"n\">n</span> <span class=\"o\">=</span> <span class=\"bp\">self</span><span class=\"o\">.</span><span class=\"n\">a</span> <span class=\"o\">/</span> <span class=\"n\">sqrt</span><span class=\"p\">(</span><span class=\"mf\">1.0</span> <span class=\"o\">-</span> <span class=\"n\">e2</span> <span class=\"o\">*</span> <span class=\"n\">sin</span><span class=\"p\">(</span><span class=\"n\">lat</span><span class=\"p\">)</span><span class=\"o\">**</span><span class=\"mi\">2</span><span class=\"p\">)</span>\n",
       "\n",
       "        <span class=\"n\">x</span> <span class=\"o\">=</span> <span class=\"p\">(</span><span class=\"n\">n</span> <span class=\"o\">+</span> <span class=\"n\">H</span><span class=\"p\">)</span> <span class=\"o\">*</span> <span class=\"n\">cos</span><span class=\"p\">(</span><span class=\"n\">lat</span><span class=\"p\">)</span> <span class=\"o\">*</span> <span class=\"n\">cos</span><span class=\"p\">(</span><span class=\"n\">lon</span><span class=\"p\">)</span>\n",
       "        <span class=\"n\">y</span> <span class=\"o\">=</span> <span class=\"p\">(</span><span class=\"n\">n</span> <span class=\"o\">+</span> <span class=\"n\">H</span><span class=\"p\">)</span> <span class=\"o\">*</span> <span class=\"n\">cos</span><span class=\"p\">(</span><span class=\"n\">lat</span><span class=\"p\">)</span> <span class=\"o\">*</span> <span class=\"n\">sin</span><span class=\"p\">(</span><span class=\"n\">lon</span><span class=\"p\">)</span>\n",
       "        <span class=\"n\">z</span> <span class=\"o\">=</span> <span class=\"p\">((</span><span class=\"mi\">1</span> <span class=\"o\">-</span> <span class=\"n\">e2</span><span class=\"p\">)</span> <span class=\"o\">*</span> <span class=\"n\">n</span> <span class=\"o\">+</span> <span class=\"n\">H</span><span class=\"p\">)</span> <span class=\"o\">*</span> <span class=\"n\">sin</span><span class=\"p\">(</span><span class=\"n\">lat</span><span class=\"p\">)</span>\n",
       "        <span class=\"k\">return</span> <span class=\"n\">np</span><span class=\"o\">.</span><span class=\"n\">array</span><span class=\"p\">([</span><span class=\"n\">x</span><span class=\"p\">,</span> <span class=\"n\">y</span><span class=\"p\">,</span> <span class=\"n\">z</span><span class=\"p\">])</span>\n",
       "\n",
       "    <span class=\"k\">def</span> <span class=\"nf\">ecef2llh</span><span class=\"p\">(</span><span class=\"bp\">self</span><span class=\"p\">,</span> <span class=\"n\">ecef</span><span class=\"p\">):</span>\n",
       "        <span class=\"sd\">&quot;&quot;&quot;</span>\n",
       "<span class=\"sd\">        llh: latitude (phi), longitude(lambda), height (or altitude) (H) in [deg, deg, m]</span>\n",
       "<span class=\"sd\">        ecef: Earth Centered Earth Fixed in [m, m, m]</span>\n",
       "\n",
       "<span class=\"sd\">        https://en.wikipedia.org/wiki/Geographic_coordinate_conversion#From_ECEF_to_geodetic_coordinates</span>\n",
       "<span class=\"sd\">        &quot;&quot;&quot;</span>\n",
       "        <span class=\"n\">x</span><span class=\"p\">,</span><span class=\"n\">y</span><span class=\"p\">,</span><span class=\"n\">z</span> <span class=\"o\">=</span> <span class=\"n\">ecef</span>\n",
       "\n",
       "        <span class=\"n\">a</span> <span class=\"o\">=</span> <span class=\"bp\">self</span><span class=\"o\">.</span><span class=\"n\">a</span>\n",
       "        <span class=\"n\">a2</span> <span class=\"o\">=</span> <span class=\"bp\">self</span><span class=\"o\">.</span><span class=\"n\">a</span><span class=\"o\">**</span><span class=\"mi\">2</span>\n",
       "        <span class=\"n\">b2</span> <span class=\"o\">=</span> <span class=\"bp\">self</span><span class=\"o\">.</span><span class=\"n\">b</span><span class=\"o\">**</span><span class=\"mi\">2</span>\n",
       "        <span class=\"n\">e2</span> <span class=\"o\">=</span> <span class=\"bp\">self</span><span class=\"o\">.</span><span class=\"n\">e</span><span class=\"o\">**</span><span class=\"mi\">2</span>\n",
       "        <span class=\"n\">er2</span> <span class=\"o\">=</span> <span class=\"p\">(</span><span class=\"n\">a</span><span class=\"o\">**</span><span class=\"mi\">2</span> <span class=\"o\">-</span> <span class=\"n\">b2</span><span class=\"p\">)</span> <span class=\"o\">/</span> <span class=\"n\">b2</span>\n",
       "        <span class=\"n\">z2</span> <span class=\"o\">=</span> <span class=\"n\">z</span><span class=\"o\">**</span><span class=\"mi\">2</span>\n",
       "\n",
       "        <span class=\"n\">p2</span> <span class=\"o\">=</span> <span class=\"n\">x</span><span class=\"o\">**</span><span class=\"mi\">2</span> <span class=\"o\">+</span> <span class=\"n\">y</span><span class=\"o\">**</span><span class=\"mi\">2</span>\n",
       "        <span class=\"n\">p</span> <span class=\"o\">=</span> <span class=\"n\">sqrt</span><span class=\"p\">(</span><span class=\"n\">p2</span><span class=\"p\">)</span>\n",
       "\n",
       "        <span class=\"n\">F</span> <span class=\"o\">=</span> <span class=\"mi\">54</span> <span class=\"o\">*</span> <span class=\"n\">b2</span> <span class=\"o\">*</span> <span class=\"n\">z2</span>\n",
       "        <span class=\"n\">G</span> <span class=\"o\">=</span> <span class=\"n\">p2</span> <span class=\"o\">+</span> <span class=\"p\">(</span><span class=\"mi\">1</span><span class=\"o\">-</span><span class=\"n\">e2</span><span class=\"p\">)</span><span class=\"o\">*</span><span class=\"n\">z2</span> <span class=\"o\">-</span> <span class=\"n\">e2</span><span class=\"o\">*</span><span class=\"p\">(</span><span class=\"n\">a2</span><span class=\"o\">-</span><span class=\"n\">b2</span><span class=\"p\">)</span>\n",
       "        <span class=\"n\">c</span> <span class=\"o\">=</span> <span class=\"p\">(</span><span class=\"n\">e2</span><span class=\"o\">**</span><span class=\"mi\">2</span> <span class=\"o\">*</span> <span class=\"n\">F</span> <span class=\"o\">*</span> <span class=\"n\">p2</span><span class=\"p\">)</span> <span class=\"o\">/</span> <span class=\"n\">G</span><span class=\"o\">**</span><span class=\"mi\">3</span>\n",
       "        <span class=\"n\">s</span> <span class=\"o\">=</span> <span class=\"nb\">pow</span><span class=\"p\">(</span><span class=\"mi\">1</span><span class=\"o\">+</span><span class=\"n\">c</span><span class=\"o\">+</span><span class=\"n\">sqrt</span><span class=\"p\">(</span><span class=\"n\">c</span><span class=\"o\">**</span><span class=\"mi\">2</span> <span class=\"o\">+</span> <span class=\"mi\">2</span><span class=\"o\">*</span><span class=\"n\">c</span><span class=\"p\">),</span> <span class=\"mi\">1</span><span class=\"o\">/</span><span class=\"mi\">3</span><span class=\"p\">)</span>\n",
       "        <span class=\"n\">k</span> <span class=\"o\">=</span> <span class=\"n\">s</span><span class=\"o\">+</span><span class=\"mi\">1</span><span class=\"o\">+</span><span class=\"mi\">1</span><span class=\"o\">/</span><span class=\"n\">s</span>\n",
       "        <span class=\"n\">P</span> <span class=\"o\">=</span> <span class=\"n\">F</span> <span class=\"o\">/</span> <span class=\"p\">(</span><span class=\"mi\">3</span> <span class=\"o\">*</span> <span class=\"n\">k</span><span class=\"o\">**</span><span class=\"mi\">2</span> <span class=\"o\">*</span> <span class=\"n\">G</span><span class=\"o\">**</span><span class=\"mi\">2</span><span class=\"p\">)</span>\n",
       "        <span class=\"n\">Q</span> <span class=\"o\">=</span> <span class=\"n\">sqrt</span><span class=\"p\">(</span><span class=\"mi\">1</span><span class=\"o\">+</span> <span class=\"mi\">2</span><span class=\"o\">*</span> <span class=\"n\">e2</span><span class=\"o\">**</span><span class=\"mi\">2</span> <span class=\"o\">*</span> <span class=\"n\">P</span><span class=\"p\">)</span>\n",
       "        <span class=\"n\">ro</span> <span class=\"o\">=</span> <span class=\"o\">-</span><span class=\"p\">(</span><span class=\"n\">P</span> <span class=\"o\">*</span> <span class=\"n\">e2</span> <span class=\"o\">*</span> <span class=\"n\">p</span><span class=\"p\">)</span> <span class=\"o\">/</span> <span class=\"p\">(</span><span class=\"mi\">1</span> <span class=\"o\">+</span> <span class=\"n\">Q</span><span class=\"p\">)</span> <span class=\"o\">+</span> <span class=\"n\">sqrt</span><span class=\"p\">(</span><span class=\"mf\">0.5</span><span class=\"o\">*</span><span class=\"n\">a2</span> <span class=\"o\">*</span> <span class=\"p\">(</span><span class=\"mi\">1</span><span class=\"o\">+</span><span class=\"mi\">1</span><span class=\"o\">/</span><span class=\"n\">Q</span><span class=\"p\">)</span> <span class=\"o\">-</span> <span class=\"n\">P</span><span class=\"o\">*</span><span class=\"p\">(</span><span class=\"mi\">1</span><span class=\"o\">-</span><span class=\"n\">e2</span><span class=\"p\">)</span><span class=\"o\">*</span><span class=\"n\">z2</span> <span class=\"o\">/</span> <span class=\"p\">(</span><span class=\"n\">Q</span><span class=\"o\">+</span><span class=\"n\">Q</span><span class=\"o\">**</span><span class=\"mi\">2</span><span class=\"p\">)</span> <span class=\"o\">-</span> <span class=\"mf\">0.5</span> <span class=\"o\">*</span> <span class=\"n\">P</span> <span class=\"o\">*</span><span class=\"n\">p2</span><span class=\"p\">)</span>\n",
       "        <span class=\"n\">U</span> <span class=\"o\">=</span> <span class=\"n\">sqrt</span><span class=\"p\">((</span><span class=\"n\">p</span><span class=\"o\">-</span><span class=\"n\">e2</span><span class=\"o\">*</span><span class=\"n\">ro</span><span class=\"p\">)</span><span class=\"o\">**</span><span class=\"mi\">2</span> <span class=\"o\">+</span> <span class=\"n\">z2</span><span class=\"p\">)</span>\n",
       "        <span class=\"n\">V</span> <span class=\"o\">=</span> <span class=\"n\">sqrt</span><span class=\"p\">((</span><span class=\"n\">p</span><span class=\"o\">-</span><span class=\"n\">e2</span><span class=\"o\">*</span><span class=\"n\">ro</span><span class=\"p\">)</span><span class=\"o\">**</span><span class=\"mi\">2</span> <span class=\"o\">+</span> <span class=\"p\">(</span><span class=\"mi\">1</span><span class=\"o\">-</span><span class=\"n\">e2</span><span class=\"p\">)</span> <span class=\"o\">*</span> <span class=\"n\">z2</span><span class=\"p\">)</span>\n",
       "        <span class=\"n\">zo</span> <span class=\"o\">=</span> <span class=\"n\">b2</span><span class=\"o\">*</span><span class=\"n\">z</span> <span class=\"o\">/</span> <span class=\"p\">(</span><span class=\"n\">a</span><span class=\"o\">*</span><span class=\"n\">V</span><span class=\"p\">)</span>\n",
       "        <span class=\"n\">h</span> <span class=\"o\">=</span> <span class=\"n\">U</span> <span class=\"o\">*</span> <span class=\"p\">(</span><span class=\"mi\">1</span> <span class=\"o\">-</span> <span class=\"n\">b2</span> <span class=\"o\">/</span> <span class=\"p\">(</span><span class=\"n\">a</span><span class=\"o\">*</span><span class=\"n\">V</span><span class=\"p\">))</span>\n",
       "        <span class=\"n\">lat</span> <span class=\"o\">=</span> <span class=\"n\">arctan2</span><span class=\"p\">(</span><span class=\"n\">z</span><span class=\"o\">+</span><span class=\"n\">er2</span><span class=\"o\">*</span><span class=\"n\">zo</span><span class=\"p\">,</span> <span class=\"n\">p</span><span class=\"p\">)</span> <span class=\"o\">*</span><span class=\"n\">rad2deg</span>\n",
       "        <span class=\"n\">lon</span> <span class=\"o\">=</span> <span class=\"n\">arctan2</span><span class=\"p\">(</span><span class=\"n\">y</span><span class=\"p\">,</span> <span class=\"n\">x</span><span class=\"p\">)</span> <span class=\"o\">*</span> <span class=\"n\">rad2deg</span>\n",
       "\n",
       "        <span class=\"k\">return</span> <span class=\"n\">np</span><span class=\"o\">.</span><span class=\"n\">array</span><span class=\"p\">([</span><span class=\"n\">lat</span><span class=\"p\">,</span> <span class=\"n\">lon</span><span class=\"p\">,</span> <span class=\"n\">h</span><span class=\"p\">])</span>\n",
       "</pre></div>\n"
      ],
      "text/plain": [
       "<IPython.core.display.HTML object>"
      ]
     },
     "metadata": {},
     "output_type": "display_data"
    }
   ],
   "source": [
    "getCodeImport(WGS84)"
   ]
  },
  {
   "cell_type": "code",
   "execution_count": null,
   "id": "a5af1dae-88b6-4efc-b4d2-763da1d8046a",
   "metadata": {},
   "outputs": [],
   "source": []
  }
 ],
 "metadata": {
  "kernelspec": {
   "display_name": "Python 3 (ipykernel)",
   "language": "python",
   "name": "python3"
  },
  "language_info": {
   "codemirror_mode": {
    "name": "ipython",
    "version": 3
   },
   "file_extension": ".py",
   "mimetype": "text/x-python",
   "name": "python",
   "nbconvert_exporter": "python",
   "pygments_lexer": "ipython3",
   "version": "3.10.5"
  }
 },
 "nbformat": 4,
 "nbformat_minor": 5
}
