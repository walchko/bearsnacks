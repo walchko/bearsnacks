{
 "cells": [
  {
   "cell_type": "markdown",
   "metadata": {},
   "source": [
    "![](https://images.pexels.com/photos/1167160/pexels-photo-1167160.jpeg?auto=compress&cs=tinysrgb&dpr=2&h=750&w=1260)\n",
    "\n",
    "# Euler Angles and Quaternions for Rigid Body Rotations\n",
    "\n",
    "Kevin J. Walchko, Phd\n",
    "\n",
    "1 Nov 2020\n",
    "\n",
    "---\n",
    "\n",
    "Unit quaternions provide a convenient mathematical notation for representing orientations and rotations of objects in three dimensions. Compared to Euler angles they are able to avoid the problem of gimbal lock and are more compact than rotation matrices.\n",
    "\n",
    "This document will start off talking about Euler angles (because they are more\n",
    "intuitive to the reader) and then move into quaternions. The goal of this document is:\n",
    "\n",
    "- be brief, it is not meant to be a disertation\n",
    "- be clear in the explanation of rotations\n",
    "    - use references for support or for further detailed discussion\n",
    "\n",
    "### Table of Contents\n",
    "\n",
    "- Euler Angles and Rotations\n",
    "- Quaternions\n",
    "- Appendix A: Quaternion Symbolic Derivation\n",
    "- Appendix B: Euler angle symbolic derivation\n",
    "- Appendix C: Definitions\n",
    "\n",
    "## References\n",
    "\n",
    "- MIT 16333: [Lecture 3]()\n",
    "- Simo Sarkka, [Notes on Quaternions](../quaternion.pdf)\n",
    "- Sympy docs: [Quaternions](https://www.tutorialspoint.com/sympy/sympy_quaternion.htm)\n",
    "- [Quaternion Integration](https://www.ashwinnarayan.com/post/how-to-integrate-quaternions/)\n",
    "- Wikipedia: [Convert Between Quaternions and Euler Angles](https://en.wikipedia.org/wiki/Conversion_between_quaternions_and_Euler_angles)\n",
    "- Wikipedia: [Euler Angle Definitions](https://en.wikipedia.org/wiki/Euler_angles#Conventions_2)\n",
    "- Wikipedia: [Gimbal Lock](https://en.wikipedia.org/wiki/Gimbal_lock)\n",
    "- Wikipedia: [Aircraft Axes](https://en.wikipedia.org/wiki/Aircraft_principal_axes)"
   ]
  },
  {
   "cell_type": "code",
   "execution_count": 1,
   "metadata": {},
   "outputs": [],
   "source": [
    "# reload library\n",
    "%load_ext autoreload\n",
    "%autoreload 2"
   ]
  },
  {
   "cell_type": "code",
   "execution_count": 2,
   "metadata": {},
   "outputs": [],
   "source": [
    "# for real mathematics\n",
    "from squaternion import Quaternion\n",
    "from math import pi\n",
    "from math import sqrt, atan2, asin, acos\n",
    "import numpy as np\n",
    "from numpy.testing import assert_allclose\n",
    "np.set_printoptions(precision=1)\n",
    "np.set_printoptions(suppress=True)\n",
    "from colorama import Fore"
   ]
  },
  {
   "cell_type": "markdown",
   "metadata": {},
   "source": [
    "# 1.0 Euler Angles\n",
    "\n",
    "## 1.1 Euler Angles and Rigid Body Rotations\n",
    "\n",
    "The fundamental terms most  people understand in 3D space are: roll ($\\phi$), pitch ($\\theta$), yaw ($\\psi$). The fundamental rotation matricies are:\n",
    "\n",
    "$$\n",
    "R_1(\\phi) =\n",
    "\\left[ \\begin{matrix}\n",
    "1 & 0 & 0 \\\\\n",
    "0 & c_{\\phi} & s_{\\phi} \\\\\n",
    "0 & -s_{\\phi} & c_{\\phi} \\end{matrix} \\right] \\\\\n",
    "R_2(\\theta) =\n",
    "\\left[ \\begin{matrix}\n",
    "c_{\\theta} & 0 & -s_{\\theta} \\\\\n",
    "0 & 1 & 0 \\\\\n",
    "s_{\\theta} & 0 & c_{\\theta} \\end{matrix} \\right] \\\\\n",
    "R_3(\\psi) =\n",
    "\\left[ \\begin{matrix}\n",
    "c_{\\psi} & s_{\\psi} & 0  \\\\\n",
    "-s_{\\psi} & c_{\\psi} & 0 \\\\\n",
    "0 & 0 & 1 \\end{matrix} \\right]\n",
    "$$\n",
    "\n",
    "Unfortunately, there **isn't** consistent notation used in the \n",
    "engineering community, so becareful! I use $R_{zyx}(rot_z,rot_y,rot_x)$ and $R_{xyz}(rot_x,rot_y,rot_z)$, both axis and angles are in order of operation from left to right.\n",
    "\n",
    "The standard aerospace rotation sequence is:\n",
    "\n",
    "![](https://upload.wikimedia.org/wikipedia/commons/thumb/5/53/Taitbrianzyx.svg/400px-Taitbrianzyx.svg.png)\n",
    "\n",
    "> Tait–Bryan angles. z-y′-x″ sequence (intrinsic rotations; N coincides with y’). The angle rotation sequence is ψ, θ, φ. Note that in this case ψ > 90° and θ is a negative angle.\n",
    "\n",
    "*Warning*, the wikipedia diagram above uses X,Y,Z for body frame and x,y,z for fixed global frame ... I do the opposite. \n",
    "\n",
    "1. Body and global fixed frames are aligned\n",
    "    - Typically the global fixed frame is the static inertial frame\n",
    "    - Global fixed frame $\\begin{bmatrix}X & Y & Z\\end{bmatrix}^T$\n",
    "    - Body frame $\\begin{bmatrix}x & y & z\\end{bmatrix}^T$\n",
    "1. Rotate body frame by $\\psi$ about z-axis\n",
    "1. Rotate body frame by $\\theta$ about new y'-axis\n",
    "1. Rotate body frame by $\\phi$ about new x''-axis\n",
    "\n",
    "*Note:* Names of reference frames that are inter changable:\n",
    "\n",
    "- body = local\n",
    "- navigation = fixed = global = inertial\n",
    "\n",
    "This sequence can be represented by the following:\n",
    "\n",
    "$$\n",
    "R_{321} = R_1(\\phi) R_2(\\theta) R_3(\\psi) = R^b_G\n",
    "$$\n",
    "\n",
    "Notice the subscript 321, that indicates the order z, y, and then x. Now multiplying those matricies together gives:\n",
    "\n",
    "$$\n",
    "R(x)R(y)R(z) = R_{321} = \n",
    "\\left[\\begin{matrix}\\cos{\\left(y \\right)} \\cos{\\left(z \\right)} & \\sin{\\left(z \\right)} \\cos{\\left(y \\right)} & - \\sin{\\left(y \\right)}\\\\\\sin{\\left(x \\right)} \\sin{\\left(y \\right)} \\cos{\\left(z \\right)} - \\sin{\\left(z \\right)} \\cos{\\left(x \\right)} & \\sin{\\left(x \\right)} \\sin{\\left(y \\right)} \\sin{\\left(z \\right)} + \\cos{\\left(x \\right)} \\cos{\\left(z \\right)} & \\sin{\\left(x \\right)} \\cos{\\left(y \\right)}\\\\\\sin{\\left(x \\right)} \\sin{\\left(z \\right)} + \\sin{\\left(y \\right)} \\cos{\\left(x \\right)} \\cos{\\left(z \\right)} & - \\sin{\\left(x \\right)} \\cos{\\left(z \\right)} + \\sin{\\left(y \\right)} \\sin{\\left(z \\right)} \\cos{\\left(x \\right)} & \\cos{\\left(x \\right)} \\cos{\\left(y \\right)}\\end{matrix}\\right]\n",
    "$$\n",
    "\n",
    "Using this matrix now allows us to transform a vector in the fixed inertial frame to the rotating body frame.\n",
    "\n",
    "$$\n",
    "\\begin{bmatrix}x & y & z\\end{bmatrix}^b = R_{321} \\begin{bmatrix}X & Y & Z\\end{bmatrix}^n\n",
    "$$\n",
    "\n",
    "- Generally:\n",
    "    - Fixed to body: $x^b = R(\\phi)R(\\theta)R(\\psi) x^n = R_{321} x^n$\n",
    "    - Body to fixed: $x^n = R_{321}^{-1} x^b = R_{321}^{T} x^b$\n",
    "\n",
    "## 1.2 Recovering the Euler Angles\n",
    "\n",
    "- Conversion from rotation matrix (e.g., $R_{321}$) to Euler is:\n",
    "    - $R = R_{321}^T = R^G_b$\n",
    "    - Roll: $\\phi = atan2(R_{32}, R_{33})$\n",
    "    - Pitch: $\\theta = -asin(R_{31})$, $\\theta \\neq \\pm 90$\n",
    "    - Yaw: $\\psi = atan2(R_{21}, R_{11})$"
   ]
  },
  {
   "cell_type": "markdown",
   "metadata": {},
   "source": [
    "## 1.3 Inverse Rotations\n",
    "\n",
    "The inverse is:\n",
    "\n",
    "$$\n",
    "v^b = R_{321} v^n = R^b_n v^n \\\\\n",
    "v^n = R_{321}^T v^b = R^n_b v^b\n",
    "$$\n",
    "\n",
    "Thus, to move back and forth between reference frames, say body to navigation frame, it can be a simple transpose of the rotation matrix. Now, order matters in this process.\n",
    "\n",
    "$$\n",
    "R_{321}(\\psi,\\theta,\\phi) \\neq R_{123}(\\phi,\\theta,\\psi)^T\n",
    "$$\n",
    "\n",
    "The correct way is:\n",
    "\n",
    "$$\n",
    "R_{321}(\\psi,\\theta,\\phi) = R_{123}(-\\phi,-\\theta,-\\psi)^T \\\\\n",
    "R_{321}^T = R_z(-\\psi)R_y(-\\theta)R_x(-\\phi) = R_{123}(-\\phi,-\\theta,-\\psi)\n",
    "$$\n",
    "\n",
    "Again, becareful of notation. I use $R_{zyx}(rot_z,rot_y,rot_x)$ and $R_{xyz}(rot_x,rot_y,rot_z)$ but not all authors use that notation. Both axis and angles are in order of operation from left to right."
   ]
  },
  {
   "cell_type": "markdown",
   "metadata": {},
   "source": [
    "### 1.3.1 Deeper Dive into Euler Matrix Inverse\n",
    "\n",
    "Let's dive a little deeper into the above. Here, let's do a simple derivation of what the inverse means and perform it  a couple different ways.\n",
    "\n",
    "So we know the following is true from mathematics:\n",
    "\n",
    "$$\n",
    "R(a)^{-1} = R(a)^T \\\\\n",
    "(AB)^T = B^TA^T\n",
    "$$\n",
    "\n",
    "But let's show the details a little more to prove it by moving individual matrices to the other side of the equation. First let's define what $R_{123}$ is:\n",
    "\n",
    "$$\n",
    "R_{123} (c,b,a) = R_3(a) R_2(b) R_1(c)\n",
    "$$\n",
    "\n",
    "Now let's derive the inverse o f$R_{321}$:\n",
    "\n",
    "$$\n",
    "\\begin{align*}\n",
    "                                 A &= R_{321}(a,b,c) B \\\\\n",
    "                                 A &= R_{1}(c) R_{2}(b) R_{3}(a) B \\\\\n",
    "                      R_{1}(c)^T A &= R_{2}(b) R_{3}(a) B \\\\\n",
    "           R_{2}(b)^T R_{1}(c)^T A &= R_{3}(a) B \\\\\n",
    "R_{3}(a)^T R_{2}(b)^T R_{1}(c)^T A &= B\n",
    "\\end{align*}\n",
    "$$\n",
    "\n",
    "See how the inverse (or transpose) of $R_{321}$ is not equal to $R_{123}$? or we could use the transpose property above ($(AB)^T = B^TA^T$):\n",
    "\n",
    "$$\n",
    "\\begin{align*}\n",
    "                                 A &= R_{321}(a,b,c) B \\\\\n",
    "                R_{321}(a,b,c)^T A &= B \\\\\n",
    "  [R_{1}(c) R_{2}(b) R_{3}(a)]^T A &= B \\\\\n",
    "R_{3}(a)^T R_{2}(b)^T R_{1}(c)^T A &= B \\\\\n",
    "                  R_{123}(c,b,a) A &= B\n",
    "\\end{align*}\n",
    "$$\n",
    "\n",
    "Notice how the inverse of $R_{321}(a,b,c)$ is $R_{123}(c,b,a)$ with the values swapped around.\n",
    "Thus, from above, we can state:\n",
    "\n",
    "$$\n",
    "\\begin{align*}\n",
    "R_{321}(a,b,c)^{-1} &= R_{321}(a,b,c)^T \\\\\n",
    "             &= R_{3}(a)^T R_{2}(b)^T R_{1}(c)^T \\\\\n",
    "             &= R_{123}(c,b,a)\n",
    "\\end{align*}\n",
    "$$\n",
    "\n",
    "So does this disagree with the above section ... no. Notice the $R_{123}$ is composed of $R_{m}(m)^T$ components which is equal to $R_{m}(-m)$ because the frame is inversed, the angle negative in a non-inversed frame. The easiest way to think of this is, you can represent any rotation by an axis/angle pair. If I invert the rotation, all I have done is flipped the axis and rotated by a positive angel **or** I have left the axis alone and rotated by a negative angle."
   ]
  },
  {
   "cell_type": "markdown",
   "metadata": {},
   "source": [
    "# 2.0 Quaternions\n",
    "\n",
    "Quaternions are another way to represent rotations but with an extra degree of freedom. \n",
    "\n",
    "$$\n",
    "\\mathbb{R^4} \\Leftrightarrow \\mathbb{R^3}\n",
    "$$\n",
    "\n",
    "Basically, a rigid body can be rotated angle $\\mu$ about an arbitrary moving/fixed axis ($\\hat e$) in space. This axis and angle rotation can be represented by a quaternion. Quaternions are composed of a real component (w) and an imaginary component (x,y,z) which has 3 elements. Thus quaternions use 4 variables to represent 3 rotational elements or 3 degrees of freedom (think Euler: roll, pitch, and yaw). This redundant variable allows them to avoid issues seen in Euler angles. \n",
    "\n",
    "The only problem with them is you have to be able to visualize 3D rotations in 4D space ... good luck! Thus, for humans to visualize them, we typically transform them back to Euler angles. However, the issues we see in Euler angles (gimbal lock) can reappear when we transform them. Note, the gimbal lock only is an issue in Euler angles, quaternions are fine, it is just the transformation to Euler that can have an issue.\n",
    "\n",
    "## 2.1 Definition\n",
    "\n",
    "An issue with quaternions, is not all authors agree on how to write quaternions. Two common conventions are:\n",
    "\n",
    "|                  | Hamilton             | JPL                  |\n",
    "|------------------|:---------------------|:---------------------|\n",
    "| Order            | $[q_w, q_{xyz}]$     | $[q_{xyz}, q_{w}]$   |\n",
    "| Algebra          | ij=k (right handed)  | ij=k (left handed)   |\n",
    "| Default Rotation | From local to global | From global to local |\n",
    "| Notation         | $q=q^G_L$            | $q=q^L_G$            |\n",
    "\n",
    "- **Hamilton:** $x^G = q \\otimes x^L \\otimes q^*$\n",
    "- **JPL:** $x^L = q \\otimes x^G \\otimes q^*$\n",
    "\n",
    "For the remainder of this work, we will use the **Hamilton** definition of quaternions.\n",
    "\n",
    "$$\n",
    "q = \\begin{bmatrix} w & x & y & z \\end{bmatrix}  = \\begin{bmatrix} q_0 & q_1 & q_2 & q_3 \\end{bmatrix} \\\\\n",
    "q_{x,y,z} = \\hat e \\sin( \\frac{\\mu}{2} ) \\\\\n",
    "q_w = \\cos(\\frac{\\mu}{2} )\n",
    "$$\n",
    "\n",
    "## 2.2 Basic Mathematics\n",
    "\n",
    "There are a lot of mathematical things you can do with quaternions, but I won't cover all of that here. I will just cover the most common operations needed for the work I do (robotics, satellites, navigation, etc). \n",
    "\n",
    "Quaternion multiplication ($\\otimes$) is:\n",
    "\n",
    "$$\n",
    "q \\otimes p =\n",
    "\\begin{bmatrix}\n",
    "    q_w & -q_x & -q_y & -q_z \\\\\n",
    "    q_x &  q_w & -q_z &  q_y \\\\\n",
    "    q_y &  q_z &  q_w & -q_x \\\\\n",
    "    q_z & -q_y &  q_x &  q_w\n",
    "\\end{bmatrix} \\cdot p = Q(q) \\cdot p \\\\\n",
    "$$\n",
    "\n",
    "Now, this is not the only way to write quaternion multiplication. You can also rearrange this:\n",
    "\n",
    "$$\n",
    "q \\otimes p = P(p)q \\\\\n",
    "P(p) =\n",
    "\\begin{bmatrix}\n",
    "    p_w & -p_x & -p_y & -p_z \\\\\n",
    "    p_x &  p_w &  p_z & -p_y \\\\\n",
    "    p_y & -p_z &  p_w &  p_x \\\\\n",
    "    p_z &  p_y & -p_x &  p_w\n",
    "\\end{bmatrix}\n",
    "$$\n",
    "\n",
    "Quaternion differential equation using angular velocity ($\\omega$) and quaternion multiplication is:\n",
    "\n",
    "$$\n",
    "\\dot q = \\frac{1}{2} q \\otimes w \\\\\n",
    "w = \\begin{bmatrix} 0 & \\omega_b \\end{bmatrix}^T\n",
    "$$\n",
    "\n",
    "Or use the standard matrix and vector multiplication representation of quaternion multiplication shown above to rewrite this as:\n",
    "\n",
    "$$\n",
    "\\dot q = \\frac{1}{2} W q \\\\\n",
    "W =\n",
    "\\begin{bmatrix}\n",
    "    0   & -w_x & -w_y & -w_z \\\\\n",
    "    w_x &    0 &  w_z & -w_y \\\\\n",
    "    w_y & -w_z &    0 &  w_x \\\\\n",
    "    w_z &  w_y & -w_x &    0\n",
    "\\end{bmatrix}\n",
    "$$\n",
    "\n",
    "For discrete timeframes:\n",
    "\n",
    "$$\n",
    "q_{k+1} = exp(\\frac{1}{2} w \\Delta T) \\otimes q_k \\\\\n",
    "q_{k+1} = q_k + (\\frac{1}{2} w \\Delta T) \\otimes q_k \n",
    "$$"
   ]
  },
  {
   "cell_type": "markdown",
   "metadata": {},
   "source": [
    "## 2.3 Simple Quaternions\n",
    "\n",
    "Generally I don't need all of the capabilities (or complexity) of quaternion math libraries. Basically I just need a way to convert between Euler and Quaternion representations and have a nice way to print them out.\n",
    "\n",
    "[squaterion](https://pypi.org/project/squaternion/) is a quaterion library. You can install it with:\n",
    "\n",
    "```\n",
    "pip3 install squaternion\n",
    "```"
   ]
  },
  {
   "cell_type": "code",
   "execution_count": 3,
   "metadata": {},
   "outputs": [
    {
     "name": "stdout",
     "output_type": "stream",
     "text": [
      "Default quaternion: Quaternion(w=1.0, x=0.0, y=0.0, z=0.0)\n",
      "\n",
      "Non-normalized quaternion: Quaternion(w=1, x=2, y=3, z=4)\n",
      "Return a normalize quaternion:\n",
      "  Quaternion(w=0.18257418583505536, x=0.3651483716701107, y=0.5477225575051661, z=0.7302967433402214)\n",
      "Conjugate: Quaternion(w=1, x=-2, y=-3, z=-4)\n"
     ]
    }
   ],
   "source": [
    "# create a simple quaterion with no rotation\n",
    "q = Quaternion()\n",
    "print(f\"Default quaternion: {q}\\n\")\n",
    "\n",
    "# My quaternions are immutable so they allways return\n",
    "# a new quaternion without changing the original\n",
    "q = Quaternion(1,2,3,4)\n",
    "print(f\"Non-normalized quaternion: {q}\")\n",
    "print(f\"Return a normalize quaternion:\\n  {q.normalize}\")\n",
    "print(f\"Conjugate: {q.conjugate}\")"
   ]
  },
  {
   "cell_type": "markdown",
   "metadata": {},
   "source": [
    "## 2.4 Quaternion to Euler"
   ]
  },
  {
   "cell_type": "code",
   "execution_count": 4,
   "metadata": {},
   "outputs": [
    {
     "name": "stdout",
     "output_type": "stream",
     "text": [
      "(30.000000000000004, -60.00000000000001, 90.00000000000003)\n"
     ]
    }
   ],
   "source": [
    "q = Quaternion.from_euler(30,-60,90,degrees=True)\n",
    "print(q.to_euler(degrees=True))"
   ]
  },
  {
   "cell_type": "code",
   "execution_count": 5,
   "metadata": {},
   "outputs": [],
   "source": [
    "# r = set_r(-45,34,90)\n",
    "# print(\"R321 = \")\n",
    "# r"
   ]
  },
  {
   "cell_type": "code",
   "execution_count": 7,
   "metadata": {},
   "outputs": [
    {
     "name": "stdout",
     "output_type": "stream",
     "text": [
      "Euler: (-44.999999999999986, 34.0, 89.99999999999999) deg\n"
     ]
    }
   ],
   "source": [
    "# remember, R321 and q go in opposite directions, so we\n",
    "# need to take the conjugate (transpose equivelent) of\n",
    "# our quaternion to create the matrix\n",
    "q = Quaternion.from_euler(-45,34,90, degrees=True)\n",
    "print(f\"Euler: {q.to_euler(degrees=True)} deg\")\n",
    "qq = q.conjugate\n",
    "# print(\"R321 = \")\n",
    "# Matrix(qq.to_rot())"
   ]
  },
  {
   "cell_type": "markdown",
   "metadata": {},
   "source": [
    "# Setup Symbolics"
   ]
  },
  {
   "cell_type": "code",
   "execution_count": 13,
   "metadata": {},
   "outputs": [],
   "source": [
    "# for symbolic mathematics\n",
    "import sympy\n",
    "from sympy import symbols, sin, cos, pi, simplify\n",
    "from sympy import latex\n",
    "from sympy import Matrix\n",
    "from sympy.algebras.quaternion import Quaternion as sQuaternion"
   ]
  },
  {
   "cell_type": "markdown",
   "metadata": {},
   "source": [
    "---\n",
    "\n",
    "# Appendix A: Derive 321 Quaternion\n",
    "\n",
    "https://www.autonomousrobotslab.com/frame-rotations-and-representations.html\n",
    "\n",
    "Here we are going to use the `sympy` toolbox and its `Quaternion` (renamed `sQuaternion` to deconflict) and prove some things.\n",
    "\n",
    "- `sQuaternion` is composed of [a,b,c,d] instead of [w,x,y,z]"
   ]
  },
  {
   "cell_type": "code",
   "execution_count": 9,
   "metadata": {},
   "outputs": [],
   "source": [
    "r,p,y = symbols(\"r p y\")"
   ]
  },
  {
   "cell_type": "code",
   "execution_count": 11,
   "metadata": {},
   "outputs": [],
   "source": [
    "def qmult(q,r):\n",
    "    # performs quaternion multiplication\n",
    "    # eqn 13\n",
    "    # [a b c d] = [w x y z]\n",
    "    w = q.a*r.a - q.b*r.b - q.c*r.c - q.d*r.d\n",
    "    x = q.b*r.a + q.a*r.b - q.d*r.c + q.c*r.d\n",
    "    y = q.c*r.a + q.d*r.b + q.a*r.c - q.b*r.d\n",
    "    z = q.d*r.a - q.c*r.b + q.b*r.c + q.a*r.d\n",
    "    return sQuaternion(w,x,y,z)\n",
    "\n",
    "def from_euler(roll, pitch, yaw, degrees=False):\n",
    "    # creates a quaternion from Euler angles\n",
    "    if degrees:\n",
    "        deg2rad = np.pi/180\n",
    "        roll  *= deg2rad\n",
    "        pitch *= deg2rad\n",
    "        yaw   *= deg2rad\n",
    "    cy = cos(yaw * 0.5)\n",
    "    sy = sin(yaw * 0.5)\n",
    "    cr = cos(roll * 0.5)\n",
    "    sr = sin(roll * 0.5)\n",
    "    cp = cos(pitch * 0.5)\n",
    "    sp = sin(pitch * 0.5)\n",
    "\n",
    "    w = cy * cr * cp + sy * sr * sp\n",
    "    x = cy * sr * cp - sy * cr * sp\n",
    "    y = cy * cr * sp + sy * sr * cp\n",
    "    z = sy * cr * cp - cy * sr * sp\n",
    "\n",
    "    return sQuaternion(w, x, y, z)\n",
    "\n",
    "def qclose(a,b):\n",
    "    def to_tuple(a):\n",
    "        return (float(a.a), float(a.b), float(a.c), float(a.d))\n",
    "    aa = to_tuple(a)\n",
    "    bb = to_tuple(b)\n",
    "    ans = np.allclose(aa,bb)\n",
    "    if ans:\n",
    "        print(f\"{Fore.GREEN}{ans}{Fore.RESET}\")\n",
    "    else:\n",
    "        print(f\"{Fore.RED}{ans}{Fore.RESET}\")"
   ]
  },
  {
   "cell_type": "markdown",
   "metadata": {},
   "source": [
    "## Quaternion Representation of R321\n",
    "\n",
    "Now, remember, rotation matrix $R_{321}$ transforms a vector from global frame to body fixed frame. Since we are using Hamilton quaternions, they perform the *opposite* transfrom, from body fixed to global frame. Thus we really don't want ZXY order, but rather XYZ order ... however, we will show both and the inverse. \n",
    "\n",
    "$$\n",
    "R_{321} = R_x R_y R_z = q_{yaw} \\otimes q_{pitch} \\otimes q_{roll} \\\\\n",
    "q_{321} = q_{yaw} \\otimes q_{pitch} \\otimes q_{roll} \\\\\n",
    "q_{321} = q_{roll}^* \\otimes q_{pitch}^* \\otimes q_{yaw}^* \n",
    "$$\n",
    "\n",
    "Now, you can do the inverse like this:\n",
    "\n",
    "$$\n",
    "q_{123} = q_{roll} \\otimes q_{pitch} \\otimes q_{yaw} \\\\\n",
    "q_{321} = q_{123}^*\n",
    "$$\n",
    "\n",
    "Remember to insert **negative roll, pitch, and yaw** for the above $q_{123}^*$."
   ]
  },
  {
   "cell_type": "code",
   "execution_count": 14,
   "metadata": {},
   "outputs": [
    {
     "name": "stdout",
     "output_type": "stream",
     "text": [
      "Basic: 1 + 0*i + 0*j + 0*k\n",
      "Another basic: 1 + 2*i + 3*j + 4*k\n",
      "Conjugate: 1 + (-2)*i + (-3)*j + (-4)*k\n",
      "Conjugate: sqrt(30)/30 + sqrt(30)/15*i + sqrt(30)/10*j + 2*sqrt(30)/15*k\n",
      "Conjugate: sqrt(30)/30 + sqrt(30)/15*i + sqrt(30)/10*j + 2*sqrt(30)/15*k\n"
     ]
    }
   ],
   "source": [
    "q = sQuaternion(1,0,0,0); print(f\"Basic: {q}\")\n",
    "q = sQuaternion(1,2,3,4); print(f\"Another basic: {q}\")\n",
    "print(f\"Conjugate: {q.conjugate()}\")\n",
    "print(f\"Conjugate: {q.normalize().evalf()}\")\n",
    "print(f\"Conjugate: {sympy.N(q.normalize())}\")"
   ]
  },
  {
   "cell_type": "code",
   "execution_count": 15,
   "metadata": {},
   "outputs": [
    {
     "name": "stdout",
     "output_type": "stream",
     "text": [
      "cos(0.5*r) + sin(0.5*r)*i + 0*j + 0*k\n",
      "cos(0.5*p) + 0*i + sin(0.5*p)*j + 0*k\n",
      "cos(0.5*y) + 0*i + 0*j + sin(0.5*y)*k\n"
     ]
    }
   ],
   "source": [
    "# individual quaternion rotations for roll, pitch, and yaw:\n",
    "qr = from_euler(r,0,0); print(qr)\n",
    "qp = from_euler(0,p,0); print(qp)\n",
    "qy = from_euler(0,0,y); print(qy)"
   ]
  },
  {
   "cell_type": "code",
   "execution_count": 16,
   "metadata": {},
   "outputs": [
    {
     "data": {
      "text/latex": [
       "$\\displaystyle \\left(\\sin{\\left(0.5 p \\right)} \\sin{\\left(0.5 r \\right)} \\sin{\\left(0.5 y \\right)} + \\cos{\\left(0.5 p \\right)} \\cos{\\left(0.5 r \\right)} \\cos{\\left(0.5 y \\right)}\\right) + \\left(- \\sin{\\left(0.5 p \\right)} \\sin{\\left(0.5 y \\right)} \\cos{\\left(0.5 r \\right)} + \\sin{\\left(0.5 r \\right)} \\cos{\\left(0.5 p \\right)} \\cos{\\left(0.5 y \\right)}\\right) i + \\left(\\sin{\\left(0.5 p \\right)} \\cos{\\left(0.5 r \\right)} \\cos{\\left(0.5 y \\right)} + \\sin{\\left(0.5 r \\right)} \\sin{\\left(0.5 y \\right)} \\cos{\\left(0.5 p \\right)}\\right) j + \\left(- \\sin{\\left(0.5 p \\right)} \\sin{\\left(0.5 r \\right)} \\cos{\\left(0.5 y \\right)} + \\sin{\\left(0.5 y \\right)} \\cos{\\left(0.5 p \\right)} \\cos{\\left(0.5 r \\right)}\\right) k$"
      ],
      "text/plain": [
       "(sin(0.5*p)*sin(0.5*r)*sin(0.5*y) + cos(0.5*p)*cos(0.5*r)*cos(0.5*y)) + (-sin(0.5*p)*sin(0.5*y)*cos(0.5*r) + sin(0.5*r)*cos(0.5*p)*cos(0.5*y))*i + (sin(0.5*p)*cos(0.5*r)*cos(0.5*y) + sin(0.5*r)*sin(0.5*y)*cos(0.5*p))*j + (-sin(0.5*p)*sin(0.5*r)*cos(0.5*y) + sin(0.5*y)*cos(0.5*p)*cos(0.5*r))*k"
      ]
     },
     "execution_count": 16,
     "metadata": {},
     "output_type": "execute_result"
    }
   ],
   "source": [
    "# first representation above: q321 = qy x qp x qr\n",
    "q321 = simplify(qy.mul(qp.mul(qr)))\n",
    "q321"
   ]
  },
  {
   "cell_type": "markdown",
   "metadata": {},
   "source": [
    "So we end up with:\n",
    "\n",
    "$$\n",
    "q_r = \\cos{\\left(0.5 r \\right)} + \\sin{\\left(0.5 r \\right)} i + 0 j + 0 k \\\\\n",
    "q_p = \\cos{\\left(0.5 p \\right)} + 0 i + \\sin{\\left(0.5 p \\right)} j + 0 k \\\\\n",
    "q_y = \\cos{\\left(0.5 y \\right)} + 0 i + 0 j + \\sin{\\left(0.5 y \\right)} k\n",
    "$$\n",
    "\n",
    "Or shown another way:\n",
    "\n",
    "$$\n",
    "q_r = \\begin{bmatrix} \\cos(0.5 r) & \\sin(0.5r) & 0 & 0 \\end{bmatrix} \\\\\n",
    "q_p = \\begin{bmatrix} \\cos(0.5 p) & 0 & \\sin(0.5p) & 0 \\end{bmatrix} \\\\\n",
    "q_y = \\begin{bmatrix} \\cos(0.5 y) & 0 & 0 & \\sin(0.5y) \\end{bmatrix} \\\\\n",
    "$$\n",
    "\n",
    "Now multiplying them together:\n",
    "\n",
    "$$\n",
    "q_{321} = q_y \\otimes q_p \\otimes q_r \\\\\n",
    "q_{321} = q_r^* \\otimes q_p^* \\otimes q_y^* \\\\\n",
    "q_{321} = \\left(\\sin{\\left(0.5 p \\right)} \\sin{\\left(0.5 r \\right)} \\sin{\\left(0.5 y \\right)} + \\cos{\\left(0.5 p \\right)} \\cos{\\left(0.5 r \\right)} \\cos{\\left(0.5 y \\right)}\\right) + \\left(- \\sin{\\left(0.5 p \\right)} \\sin{\\left(0.5 y \\right)} \\cos{\\left(0.5 r \\right)} + \\sin{\\left(0.5 r \\right)} \\cos{\\left(0.5 p \\right)} \\cos{\\left(0.5 y \\right)}\\right) i + \\left(\\sin{\\left(0.5 p \\right)} \\cos{\\left(0.5 r \\right)} \\cos{\\left(0.5 y \\right)} + \\sin{\\left(0.5 r \\right)} \\sin{\\left(0.5 y \\right)} \\cos{\\left(0.5 p \\right)}\\right) j + \\left(- \\sin{\\left(0.5 p \\right)} \\sin{\\left(0.5 r \\right)} \\cos{\\left(0.5 y \\right)} + \\sin{\\left(0.5 y \\right)} \\cos{\\left(0.5 p \\right)} \\cos{\\left(0.5 r \\right)}\\right) k\n",
    "$$"
   ]
  },
  {
   "cell_type": "markdown",
   "metadata": {},
   "source": [
    "## Inverse $q_{321}$\n",
    "\n",
    "Like with Euler, order matters."
   ]
  },
  {
   "cell_type": "code",
   "execution_count": 17,
   "metadata": {},
   "outputs": [
    {
     "data": {
      "text/latex": [
       "$\\displaystyle \\left(- \\sin{\\left(0.5 p \\right)} \\sin{\\left(0.5 r \\right)} \\sin{\\left(0.5 y \\right)} + \\cos{\\left(0.5 p \\right)} \\cos{\\left(0.5 r \\right)} \\cos{\\left(0.5 y \\right)}\\right) + \\left(\\sin{\\left(0.5 p \\right)} \\sin{\\left(0.5 y \\right)} \\cos{\\left(0.5 r \\right)} + \\sin{\\left(0.5 r \\right)} \\cos{\\left(0.5 p \\right)} \\cos{\\left(0.5 y \\right)}\\right) i + \\left(\\sin{\\left(0.5 p \\right)} \\cos{\\left(0.5 r \\right)} \\cos{\\left(0.5 y \\right)} - \\sin{\\left(0.5 r \\right)} \\sin{\\left(0.5 y \\right)} \\cos{\\left(0.5 p \\right)}\\right) j + \\left(\\sin{\\left(0.5 p \\right)} \\sin{\\left(0.5 r \\right)} \\cos{\\left(0.5 y \\right)} + \\sin{\\left(0.5 y \\right)} \\cos{\\left(0.5 p \\right)} \\cos{\\left(0.5 r \\right)}\\right) k$"
      ],
      "text/plain": [
       "(-sin(0.5*p)*sin(0.5*r)*sin(0.5*y) + cos(0.5*p)*cos(0.5*r)*cos(0.5*y)) + (sin(0.5*p)*sin(0.5*y)*cos(0.5*r) + sin(0.5*r)*cos(0.5*p)*cos(0.5*y))*i + (sin(0.5*p)*cos(0.5*r)*cos(0.5*y) - sin(0.5*r)*sin(0.5*y)*cos(0.5*p))*j + (sin(0.5*p)*sin(0.5*r)*cos(0.5*y) + sin(0.5*y)*cos(0.5*p)*cos(0.5*r))*k"
      ]
     },
     "execution_count": 17,
     "metadata": {},
     "output_type": "execute_result"
    }
   ],
   "source": [
    "# here is the inverse order of 321\n",
    "q123=qmult(qr, qmult(qp, qy))\n",
    "q123"
   ]
  },
  {
   "cell_type": "code",
   "execution_count": 18,
   "metadata": {},
   "outputs": [
    {
     "name": "stdout",
     "output_type": "stream",
     "text": [
      "0.951548524643789 + 0.0381345764748501*i + 0.189307857412*j + 0.23929833774473*k\n"
     ]
    }
   ],
   "source": [
    "# REFERENCE\n",
    "# Make the R321 representation via a quaternion\n",
    "qa = from_euler(10,20,30,True); print(qa)"
   ]
  },
  {
   "cell_type": "code",
   "execution_count": 19,
   "metadata": {},
   "outputs": [
    {
     "name": "stdout",
     "output_type": "stream",
     "text": [
      "Quaternion(w=0.9515485246437886, x=0.03813457647485015, y=0.189307857412, z=0.2392983377447303)\n",
      "\u001b[32mTrue\u001b[39m\n"
     ]
    }
   ],
   "source": [
    "# WORKS\n",
    "# create a quaternion from squaternion, convert it into a sympy\n",
    "# sQuaternion so we can compare to the above quaternion\n",
    "sq = Quaternion.from_euler(10,20,30,True); print(sq)\n",
    "sqq = sQuaternion(*sq) \n",
    "qclose(qa, sqq)"
   ]
  },
  {
   "cell_type": "code",
   "execution_count": 20,
   "metadata": {},
   "outputs": [
    {
     "name": "stdout",
     "output_type": "stream",
     "text": [
      "0.951548524643788 + 0.0381345764748501*i + 0.189307857412*j + 0.23929833774473*k\n",
      "\u001b[32mTrue\u001b[39m\n"
     ]
    }
   ],
   "source": [
    "# WORKS\n",
    "# q321 == from_euler\n",
    "qaa = q321.subs(r,10*np.pi/180).subs(p,20*np.pi/180).subs(y,30*np.pi/180)\n",
    "print(qaa)\n",
    "qclose(qa, qaa)"
   ]
  },
  {
   "cell_type": "code",
   "execution_count": 21,
   "metadata": {},
   "outputs": [
    {
     "name": "stdout",
     "output_type": "stream",
     "text": [
      "0.943714364147489 + (-0.127679440695781)*i + (-0.144878125417369)*j + (-0.268535822751569)*k\n",
      "\u001b[31mFalse\u001b[39m\n"
     ]
    }
   ],
   "source": [
    "# FAIL\n",
    "# q321 != q123*\n",
    "qaa = q123.subs(r,10*np.pi/180).subs(p,20*np.pi/180).subs(y,30*np.pi/180).conjugate()\n",
    "print(qaa)\n",
    "qclose(qa, qaa)"
   ]
  },
  {
   "cell_type": "code",
   "execution_count": 22,
   "metadata": {},
   "outputs": [
    {
     "name": "stdout",
     "output_type": "stream",
     "text": [
      "0.951548524643788 + 0.0381345764748501*i + 0.189307857412*j + 0.23929833774473*k\n",
      "\u001b[32mTrue\u001b[39m\n"
     ]
    }
   ],
   "source": [
    "# WORKS\n",
    "# Just like we showed above with R321 and R123, we had to\n",
    "# use the opposite (negative) angles\n",
    "qaa = q123.subs(r,-10*np.pi/180).subs(p,-20*np.pi/180).subs(y,-30*np.pi/180).conjugate()\n",
    "print(qaa)\n",
    "qclose(qa, qaa)"
   ]
  },
  {
   "cell_type": "markdown",
   "metadata": {},
   "source": [
    "### $q_{321}$ Using Conjugates\n",
    "\n",
    "This will do: $q_{321} = q_{roll}^* \\otimes q_{pitch}^* \\otimes q_{yaw}^*$"
   ]
  },
  {
   "cell_type": "code",
   "execution_count": 23,
   "metadata": {},
   "outputs": [
    {
     "name": "stdout",
     "output_type": "stream",
     "text": [
      "(sin(0.5*p)*sin(0.5*r)*sin(0.5*y) + cos(0.5*p)*cos(0.5*r)*cos(0.5*y)) + (sin(0.5*p)*sin(0.5*y)*cos(0.5*r) - sin(0.5*r)*cos(0.5*p)*cos(0.5*y))*i + (-sin(0.5*p)*cos(0.5*r)*cos(0.5*y) - sin(0.5*r)*sin(0.5*y)*cos(0.5*p))*j + (sin(0.5*p)*sin(0.5*r)*cos(0.5*y) - sin(0.5*y)*cos(0.5*p)*cos(0.5*r))*k\n"
     ]
    }
   ],
   "source": [
    "# Let's take the conjugate of each and multiply \n",
    "# them together as q321 = qr* x qp* x qy* \n",
    "# I like this better since it feels more like \n",
    "# R321 with the z-axis rotation first\n",
    "qrr=qr.conjugate()\n",
    "qpp=qp.conjugate()\n",
    "qyy=qy.conjugate()\n",
    "q321alt=simplify(qrr.mul(qpp.mul(qyy)))\n",
    "print(q321alt)"
   ]
  },
  {
   "cell_type": "code",
   "execution_count": 24,
   "metadata": {},
   "outputs": [
    {
     "name": "stdout",
     "output_type": "stream",
     "text": [
      "0.951548524643788 + 0.0381345764748501*i + 0.189307857412*j + 0.23929833774473*k\n",
      "\u001b[32mTrue\u001b[39m\n"
     ]
    }
   ],
   "source": [
    "qx = q321alt.subs(r,10*np.pi/180).subs(p,20*np.pi/180).subs(y,30*np.pi/180).conjugate()\n",
    "print(qx)\n",
    "qclose(qa,qx) # compare to from euler"
   ]
  },
  {
   "cell_type": "code",
   "execution_count": 25,
   "metadata": {},
   "outputs": [
    {
     "name": "stdout",
     "output_type": "stream",
     "text": [
      "\\left(\\sin{\\left(0.5 p \\right)} \\sin{\\left(0.5 r \\right)} \\sin{\\left(0.5 y \\right)} + \\cos{\\left(0.5 p \\right)} \\cos{\\left(0.5 r \\right)} \\cos{\\left(0.5 y \\right)}\\right) + \\left(- \\sin{\\left(0.5 p \\right)} \\sin{\\left(0.5 y \\right)} \\cos{\\left(0.5 r \\right)} + \\sin{\\left(0.5 r \\right)} \\cos{\\left(0.5 p \\right)} \\cos{\\left(0.5 y \\right)}\\right) i + \\left(\\sin{\\left(0.5 p \\right)} \\cos{\\left(0.5 r \\right)} \\cos{\\left(0.5 y \\right)} + \\sin{\\left(0.5 r \\right)} \\sin{\\left(0.5 y \\right)} \\cos{\\left(0.5 p \\right)}\\right) j + \\left(- \\sin{\\left(0.5 p \\right)} \\sin{\\left(0.5 r \\right)} \\cos{\\left(0.5 y \\right)} + \\sin{\\left(0.5 y \\right)} \\cos{\\left(0.5 p \\right)} \\cos{\\left(0.5 r \\right)}\\right) k\n"
     ]
    }
   ],
   "source": [
    "print(latex(q321))"
   ]
  },
  {
   "cell_type": "markdown",
   "metadata": {},
   "source": [
    "# Test\n",
    "\n",
    "![](https://upload.wikimedia.org/wikipedia/en/thumb/3/30/Plane_with_ENU_embedded_axes.svg/425px-Plane_with_ENU_embedded_axes.svg.png)\n",
    "\n",
    "So let's do a simple test of iterating over a bunch of Euler angles, convert them to a quaternion and then back to Euler and see if we get the same answer.\n",
    "\n",
    "    euler => quaternion => euler\n",
    "\n",
    "Now, Euler angles have a sinularity around the following locations:\n",
    "\n",
    "- Roll:  [-$\\pi$, $\\pi$]\n",
    "- Pitch: [-$\\pi$/2, $\\pi$/2]\n",
    "- Yaw:   [-$\\pi$, $\\pi$]\n",
    "\n",
    "Anything outside of these Euler angle ranges will not work, unless you take special percausions. For my applications, this isn't an issue.\n",
    "\n",
    "So let's run through a range of valid Euler angles and do the transforms and see if we have an issue. Note, because of small rounding errors, we check if the answers are the same within 0.001 degrees. If **no errors print out** and all you see is **Done**, then everything went well."
   ]
  },
  {
   "cell_type": "code",
   "execution_count": 26,
   "metadata": {},
   "outputs": [
    {
     "name": "stdout",
     "output_type": "stream",
     "text": [
      "Done\n"
     ]
    }
   ],
   "source": [
    "# run though and make sure there are no errors\n",
    "# https://en.wikipedia.org/wiki/Euler_angles#Conventions_2\n",
    "# valid ranges:\n",
    "# asin: [-pi/2, pi/2]\n",
    "# cos: [0, pi]\n",
    "# atan2: [-pi,pi]\n",
    "#---------------------\n",
    "# valid euler angles, meaning no gimbal lock issues\n",
    "# roll: [-pi,pi]\n",
    "# pitch: [-pi/2, pi/2]\n",
    "# yaw: [-pi,pi]\n",
    "delta = 10\n",
    "for i in range(-179, 180, delta):\n",
    "    for j in range(-89, 90, delta):\n",
    "        for k in range(-179,180, delta):\n",
    "            q = Quaternion.from_euler(i,j,k, degrees=True)  # euler => quat\n",
    "            e = q.to_euler(degrees=True)     # quat => euler\n",
    "            for a, b in zip((i,j,k,), e):\n",
    "                if abs(a - b) > 0.001:  # are the answers within 0.001 degrees?\n",
    "                    print('-'*40)\n",
    "                    print('Error')\n",
    "                    print(i,j,k, '==', e)\n",
    "                    print(q)\n",
    "print(\"Done\")"
   ]
  },
  {
   "cell_type": "markdown",
   "metadata": {},
   "source": [
    "# Appendix B: Euler Angles"
   ]
  },
  {
   "cell_type": "markdown",
   "metadata": {},
   "source": [
    "### Sympy\n",
    "\n",
    "Let's use the symbolic toolbox to derive the above equations. \n",
    "\n",
    "$$\n",
    "x = \\phi \\\\\n",
    "y = \\theta \\\\\n",
    "z = \\psi\n",
    "$$"
   ]
  },
  {
   "cell_type": "code",
   "execution_count": 27,
   "metadata": {},
   "outputs": [],
   "source": [
    "x,y,z = symbols(\"x y z\")"
   ]
  },
  {
   "cell_type": "code",
   "execution_count": 28,
   "metadata": {},
   "outputs": [],
   "source": [
    "# rotate about z-axis\n",
    "Rz = np.array([\n",
    "    [cos(z), sin(z), 0],\n",
    "    [-sin(z), cos(z),0],\n",
    "    [0,0,1]\n",
    "])\n",
    "\n",
    "# rotate about y-axis\n",
    "Ry = np.array([\n",
    "    [cos(y), 0, -sin(y)],\n",
    "    [0,1,0],\n",
    "    [sin(y),0,cos(y)]\n",
    "])\n",
    "\n",
    "# rotate about the x-axis\n",
    "Rx = np.array([\n",
    "    [1,0,0],\n",
    "    [0,cos(x),sin(x)],\n",
    "    [0, -sin(x),cos(x)]\n",
    "])"
   ]
  },
  {
   "cell_type": "code",
   "execution_count": 29,
   "metadata": {},
   "outputs": [],
   "source": [
    "# Helper functions\n",
    "def set_r(a,b,c):\n",
    "    d2r = np.pi/180\n",
    "    r = R321.subs(x,a*d2r).subs(y,b*d2r).subs(z,c*d2r)\n",
    "    return r\n",
    "\n",
    "def to_euler(R):\n",
    "    r2d = 180/np.pi\n",
    "    R = R.T # why? R is n to b\n",
    "    r = atan2(R[2,1], R[2,2]) * r2d\n",
    "    p = asin(-R[2,0]) * r2d\n",
    "    y = atan2(R[1,0],R[0,0]) * r2d\n",
    "    return r,p,y"
   ]
  },
  {
   "cell_type": "markdown",
   "metadata": {},
   "source": [
    "## Deriving the R321 Matrix"
   ]
  },
  {
   "cell_type": "code",
   "execution_count": 30,
   "metadata": {},
   "outputs": [
    {
     "data": {
      "text/latex": [
       "$\\displaystyle \\left[\\begin{matrix}\\cos{\\left(y \\right)} \\cos{\\left(z \\right)} & \\sin{\\left(z \\right)} \\cos{\\left(y \\right)} & - \\sin{\\left(y \\right)}\\\\\\sin{\\left(x \\right)} \\sin{\\left(y \\right)} \\cos{\\left(z \\right)} - \\sin{\\left(z \\right)} \\cos{\\left(x \\right)} & \\sin{\\left(x \\right)} \\sin{\\left(y \\right)} \\sin{\\left(z \\right)} + \\cos{\\left(x \\right)} \\cos{\\left(z \\right)} & \\sin{\\left(x \\right)} \\cos{\\left(y \\right)}\\\\\\sin{\\left(x \\right)} \\sin{\\left(z \\right)} + \\sin{\\left(y \\right)} \\cos{\\left(x \\right)} \\cos{\\left(z \\right)} & - \\sin{\\left(x \\right)} \\cos{\\left(z \\right)} + \\sin{\\left(y \\right)} \\sin{\\left(z \\right)} \\cos{\\left(x \\right)} & \\cos{\\left(x \\right)} \\cos{\\left(y \\right)}\\end{matrix}\\right]$"
      ],
      "text/plain": [
       "Matrix([\n",
       "[                       cos(y)*cos(z),                         sin(z)*cos(y),       -sin(y)],\n",
       "[sin(x)*sin(y)*cos(z) - sin(z)*cos(x),  sin(x)*sin(y)*sin(z) + cos(x)*cos(z), sin(x)*cos(y)],\n",
       "[sin(x)*sin(z) + sin(y)*cos(x)*cos(z), -sin(x)*cos(z) + sin(y)*sin(z)*cos(x), cos(x)*cos(y)]])"
      ]
     },
     "execution_count": 30,
     "metadata": {},
     "output_type": "execute_result"
    }
   ],
   "source": [
    "R321 = Matrix(Rx @ Ry @ Rz)\n",
    "R321"
   ]
  },
  {
   "cell_type": "code",
   "execution_count": 31,
   "metadata": {},
   "outputs": [
    {
     "data": {
      "text/latex": [
       "$\\displaystyle \\left[\\begin{matrix}1 & 0 & 0\\\\0 & 1 & 0\\\\0 & 0 & 1\\end{matrix}\\right]$"
      ],
      "text/plain": [
       "Matrix([\n",
       "[1, 0, 0],\n",
       "[0, 1, 0],\n",
       "[0, 0, 1]])"
      ]
     },
     "execution_count": 31,
     "metadata": {},
     "output_type": "execute_result"
    }
   ],
   "source": [
    "# if all angles are 0, then this should be the identify matrix\n",
    "R321.subs(x,0).subs(y,0).subs(z,0)"
   ]
  },
  {
   "cell_type": "code",
   "execution_count": 32,
   "metadata": {},
   "outputs": [
    {
     "data": {
      "text/plain": [
       "(-45.0, 23.0, 119.99999999999999)"
      ]
     },
     "execution_count": 32,
     "metadata": {},
     "output_type": "execute_result"
    }
   ],
   "source": [
    "r = set_r(-45,23,120)\n",
    "to_euler(r)"
   ]
  },
  {
   "cell_type": "code",
   "execution_count": 33,
   "metadata": {},
   "outputs": [
    {
     "data": {
      "text/plain": [
       "(19.999999999999996, -5.0, 45.0)"
      ]
     },
     "execution_count": 33,
     "metadata": {},
     "output_type": "execute_result"
    }
   ],
   "source": [
    "r = set_r(20,-5,45)\n",
    "to_euler(r)"
   ]
  },
  {
   "cell_type": "markdown",
   "metadata": {},
   "source": [
    "## Testing Order\n",
    "\n",
    "Let's play around with the order of the matricies and see if they are equal. I will show the **same** thing basically over and over, but doing something different."
   ]
  },
  {
   "cell_type": "code",
   "execution_count": 58,
   "metadata": {},
   "outputs": [
    {
     "data": {
      "text/latex": [
       "$\\displaystyle \\left[\\begin{matrix}\\cos{\\left(y \\right)} \\cos{\\left(z \\right)} & \\sin{\\left(x \\right)} \\sin{\\left(y \\right)} \\cos{\\left(z \\right)} + \\sin{\\left(z \\right)} \\cos{\\left(x \\right)} & \\sin{\\left(x \\right)} \\sin{\\left(z \\right)} - \\sin{\\left(y \\right)} \\cos{\\left(x \\right)} \\cos{\\left(z \\right)}\\\\- \\sin{\\left(z \\right)} \\cos{\\left(y \\right)} & - \\sin{\\left(x \\right)} \\sin{\\left(y \\right)} \\sin{\\left(z \\right)} + \\cos{\\left(x \\right)} \\cos{\\left(z \\right)} & \\sin{\\left(x \\right)} \\cos{\\left(z \\right)} + \\sin{\\left(y \\right)} \\sin{\\left(z \\right)} \\cos{\\left(x \\right)}\\\\\\sin{\\left(y \\right)} & - \\sin{\\left(x \\right)} \\cos{\\left(y \\right)} & \\cos{\\left(x \\right)} \\cos{\\left(y \\right)}\\end{matrix}\\right]$"
      ],
      "text/plain": [
       "Matrix([\n",
       "[ cos(y)*cos(z),  sin(x)*sin(y)*cos(z) + sin(z)*cos(x), sin(x)*sin(z) - sin(y)*cos(x)*cos(z)],\n",
       "[-sin(z)*cos(y), -sin(x)*sin(y)*sin(z) + cos(x)*cos(z), sin(x)*cos(z) + sin(y)*sin(z)*cos(x)],\n",
       "[        sin(y),                        -sin(x)*cos(y),                        cos(x)*cos(y)]])"
      ]
     },
     "execution_count": 58,
     "metadata": {},
     "output_type": "execute_result"
    }
   ],
   "source": [
    "# Order maters\n",
    "# R321 != inv(R123)\n",
    "R123 = Matrix(Rz @ Ry @ Rx)\n",
    "R123"
   ]
  },
  {
   "cell_type": "code",
   "execution_count": 59,
   "metadata": {},
   "outputs": [
    {
     "data": {
      "text/latex": [
       "$\\displaystyle \\left[\\begin{matrix}\\cos{\\left(y \\right)} \\cos{\\left(z \\right)} & - \\sin{\\left(z \\right)} \\cos{\\left(y \\right)} & \\sin{\\left(y \\right)}\\\\\\sin{\\left(x \\right)} \\sin{\\left(y \\right)} \\cos{\\left(z \\right)} + \\sin{\\left(z \\right)} \\cos{\\left(x \\right)} & - \\sin{\\left(x \\right)} \\sin{\\left(y \\right)} \\sin{\\left(z \\right)} + \\cos{\\left(x \\right)} \\cos{\\left(z \\right)} & - \\sin{\\left(x \\right)} \\cos{\\left(y \\right)}\\\\\\sin{\\left(x \\right)} \\sin{\\left(z \\right)} - \\sin{\\left(y \\right)} \\cos{\\left(x \\right)} \\cos{\\left(z \\right)} & \\sin{\\left(x \\right)} \\cos{\\left(z \\right)} + \\sin{\\left(y \\right)} \\sin{\\left(z \\right)} \\cos{\\left(x \\right)} & \\cos{\\left(x \\right)} \\cos{\\left(y \\right)}\\end{matrix}\\right]$"
      ],
      "text/plain": [
       "Matrix([\n",
       "[                       cos(y)*cos(z),                        -sin(z)*cos(y),         sin(y)],\n",
       "[sin(x)*sin(y)*cos(z) + sin(z)*cos(x), -sin(x)*sin(y)*sin(z) + cos(x)*cos(z), -sin(x)*cos(y)],\n",
       "[sin(x)*sin(z) - sin(y)*cos(x)*cos(z),  sin(x)*cos(z) + sin(y)*sin(z)*cos(x),  cos(x)*cos(y)]])"
      ]
     },
     "execution_count": 59,
     "metadata": {},
     "output_type": "execute_result"
    }
   ],
   "source": [
    "invR123 = simplify(R123.inv())\n",
    "invR123"
   ]
  },
  {
   "cell_type": "code",
   "execution_count": 60,
   "metadata": {},
   "outputs": [
    {
     "data": {
      "text/plain": [
       "False"
      ]
     },
     "execution_count": 60,
     "metadata": {},
     "output_type": "execute_result"
    }
   ],
   "source": [
    "R321 == invR123 # they are not the same"
   ]
  },
  {
   "cell_type": "code",
   "execution_count": 62,
   "metadata": {},
   "outputs": [
    {
     "data": {
      "text/latex": [
       "$\\displaystyle \\left[\\begin{matrix}\\cos{\\left(y \\right)} \\cos{\\left(z \\right)} & \\sin{\\left(x \\right)} \\sin{\\left(y \\right)} \\cos{\\left(z \\right)} - \\sin{\\left(z \\right)} \\cos{\\left(x \\right)} & \\sin{\\left(x \\right)} \\sin{\\left(z \\right)} + \\sin{\\left(y \\right)} \\cos{\\left(x \\right)} \\cos{\\left(z \\right)}\\\\\\sin{\\left(z \\right)} \\cos{\\left(y \\right)} & \\sin{\\left(x \\right)} \\sin{\\left(y \\right)} \\sin{\\left(z \\right)} + \\cos{\\left(x \\right)} \\cos{\\left(z \\right)} & - \\sin{\\left(x \\right)} \\cos{\\left(z \\right)} + \\sin{\\left(y \\right)} \\sin{\\left(z \\right)} \\cos{\\left(x \\right)}\\\\- \\sin{\\left(y \\right)} & \\sin{\\left(x \\right)} \\cos{\\left(y \\right)} & \\cos{\\left(x \\right)} \\cos{\\left(y \\right)}\\end{matrix}\\right]$"
      ],
      "text/plain": [
       "Matrix([\n",
       "[cos(y)*cos(z), sin(x)*sin(y)*cos(z) - sin(z)*cos(x),  sin(x)*sin(z) + sin(y)*cos(x)*cos(z)],\n",
       "[sin(z)*cos(y), sin(x)*sin(y)*sin(z) + cos(x)*cos(z), -sin(x)*cos(z) + sin(y)*sin(z)*cos(x)],\n",
       "[      -sin(y),                        sin(x)*cos(y),                         cos(x)*cos(y)]])"
      ]
     },
     "execution_count": 62,
     "metadata": {},
     "output_type": "execute_result"
    }
   ],
   "source": [
    "# earlier we talked about having to substitute in the opposite angle\n",
    "# in order to get the right answer\n",
    "rrneg=R123.subs(x,-x).subs(y,-y).subs(z,-z)\n",
    "rrneg"
   ]
  },
  {
   "cell_type": "code",
   "execution_count": 63,
   "metadata": {},
   "outputs": [
    {
     "data": {
      "text/plain": [
       "True"
      ]
     },
     "execution_count": 63,
     "metadata": {},
     "output_type": "execute_result"
    }
   ],
   "source": [
    "R321 == rrneg.T"
   ]
  },
  {
   "cell_type": "code",
   "execution_count": 64,
   "metadata": {},
   "outputs": [
    {
     "data": {
      "text/plain": [
       "True"
      ]
     },
     "execution_count": 64,
     "metadata": {},
     "output_type": "execute_result"
    }
   ],
   "source": [
    "# done another way\n",
    "rrneg == simplify(R321.inv())"
   ]
  },
  {
   "cell_type": "code",
   "execution_count": 65,
   "metadata": {},
   "outputs": [
    {
     "data": {
      "text/plain": [
       "True"
      ]
     },
     "execution_count": 65,
     "metadata": {},
     "output_type": "execute_result"
    }
   ],
   "source": [
    "# done another way\n",
    "# R321 == RxRyRz\n",
    "R321 == simplify(Matrix(Rx @ Ry @ Rz))"
   ]
  },
  {
   "cell_type": "code",
   "execution_count": 66,
   "metadata": {},
   "outputs": [
    {
     "data": {
      "text/plain": [
       "True"
      ]
     },
     "execution_count": 66,
     "metadata": {},
     "output_type": "execute_result"
    }
   ],
   "source": [
    "# inv(R321) == inv(RxRyRz)\n",
    "simplify(R321.inv()) == simplify(Matrix(Rx @ Ry @ Rz).inv())"
   ]
  },
  {
   "cell_type": "code",
   "execution_count": 67,
   "metadata": {},
   "outputs": [
    {
     "data": {
      "text/plain": [
       "True"
      ]
     },
     "execution_count": 67,
     "metadata": {},
     "output_type": "execute_result"
    }
   ],
   "source": [
    "# inv(R321) == Rx^T Ry^T Rz^T\n",
    "simplify(R321.inv()) == simplify(Matrix(Rz.T @ Ry.T @ Rx.T))"
   ]
  },
  {
   "cell_type": "code",
   "execution_count": 68,
   "metadata": {},
   "outputs": [
    {
     "data": {
      "text/plain": [
       "False"
      ]
     },
     "execution_count": 68,
     "metadata": {},
     "output_type": "execute_result"
    }
   ],
   "source": [
    "# this does NOT work ... because everything is opposite\n",
    "# inv(R321) != RzRyRx\n",
    "simplify(R321.inv()) == simplify(Matrix(Rz @ Ry @ Rx))"
   ]
  },
  {
   "cell_type": "code",
   "execution_count": 69,
   "metadata": {},
   "outputs": [
    {
     "data": {
      "text/plain": [
       "True"
      ]
     },
     "execution_count": 69,
     "metadata": {},
     "output_type": "execute_result"
    }
   ],
   "source": [
    "# This DOES work because we reversed the angles\n",
    "# inv(R321) == RzRyRx\n",
    "simplify(R321.inv()) == simplify(Matrix(Rz @ Ry @ Rx).subs(x,-x).subs(y,-y).subs(z,-z))"
   ]
  },
  {
   "cell_type": "code",
   "execution_count": 53,
   "metadata": {},
   "outputs": [
    {
     "data": {
      "text/latex": [
       "$\\displaystyle \\left[\\begin{matrix}\\cos{\\left(y \\right)} \\cos{\\left(z \\right)} & \\sin{\\left(x \\right)} \\sin{\\left(y \\right)} \\cos{\\left(z \\right)} - \\sin{\\left(z \\right)} \\cos{\\left(x \\right)} & \\sin{\\left(x \\right)} \\sin{\\left(z \\right)} + \\sin{\\left(y \\right)} \\cos{\\left(x \\right)} \\cos{\\left(z \\right)}\\\\\\sin{\\left(z \\right)} \\cos{\\left(y \\right)} & \\sin{\\left(x \\right)} \\sin{\\left(y \\right)} \\sin{\\left(z \\right)} + \\cos{\\left(x \\right)} \\cos{\\left(z \\right)} & - \\sin{\\left(x \\right)} \\cos{\\left(z \\right)} + \\sin{\\left(y \\right)} \\sin{\\left(z \\right)} \\cos{\\left(x \\right)}\\\\- \\sin{\\left(y \\right)} & \\sin{\\left(x \\right)} \\cos{\\left(y \\right)} & \\cos{\\left(x \\right)} \\cos{\\left(y \\right)}\\end{matrix}\\right]$"
      ],
      "text/plain": [
       "Matrix([\n",
       "[cos(y)*cos(z), sin(x)*sin(y)*cos(z) - sin(z)*cos(x),  sin(x)*sin(z) + sin(y)*cos(x)*cos(z)],\n",
       "[sin(z)*cos(y), sin(x)*sin(y)*sin(z) + cos(x)*cos(z), -sin(x)*cos(z) + sin(y)*sin(z)*cos(x)],\n",
       "[      -sin(y),                        sin(x)*cos(y),                         cos(x)*cos(y)]])"
      ]
     },
     "execution_count": 53,
     "metadata": {},
     "output_type": "execute_result"
    }
   ],
   "source": [
    "simplify(Matrix(Rz.T @ Ry.T @ Rx.T))"
   ]
  },
  {
   "cell_type": "code",
   "execution_count": 55,
   "metadata": {},
   "outputs": [
    {
     "data": {
      "text/latex": [
       "$\\displaystyle \\left[\\begin{matrix}\\cos{\\left(y \\right)} \\cos{\\left(z \\right)} & \\sin{\\left(x \\right)} \\sin{\\left(y \\right)} \\cos{\\left(z \\right)} - \\sin{\\left(z \\right)} \\cos{\\left(x \\right)} & \\sin{\\left(x \\right)} \\sin{\\left(z \\right)} + \\sin{\\left(y \\right)} \\cos{\\left(x \\right)} \\cos{\\left(z \\right)}\\\\\\sin{\\left(z \\right)} \\cos{\\left(y \\right)} & \\sin{\\left(x \\right)} \\sin{\\left(y \\right)} \\sin{\\left(z \\right)} + \\cos{\\left(x \\right)} \\cos{\\left(z \\right)} & - \\sin{\\left(x \\right)} \\cos{\\left(z \\right)} + \\sin{\\left(y \\right)} \\sin{\\left(z \\right)} \\cos{\\left(x \\right)}\\\\- \\sin{\\left(y \\right)} & \\sin{\\left(x \\right)} \\cos{\\left(y \\right)} & \\cos{\\left(x \\right)} \\cos{\\left(y \\right)}\\end{matrix}\\right]$"
      ],
      "text/plain": [
       "Matrix([\n",
       "[cos(y)*cos(z), sin(x)*sin(y)*cos(z) - sin(z)*cos(x),  sin(x)*sin(z) + sin(y)*cos(x)*cos(z)],\n",
       "[sin(z)*cos(y), sin(x)*sin(y)*sin(z) + cos(x)*cos(z), -sin(x)*cos(z) + sin(y)*sin(z)*cos(x)],\n",
       "[      -sin(y),                        sin(x)*cos(y),                         cos(x)*cos(y)]])"
      ]
     },
     "execution_count": 55,
     "metadata": {},
     "output_type": "execute_result"
    }
   ],
   "source": [
    "simplify(R321.inv())"
   ]
  },
  {
   "cell_type": "markdown",
   "metadata": {},
   "source": [
    "# Appendix C: Definitions\n",
    "\n",
    "- **Tait–Bryan angles:** represent rotations about three distinct axes (e.g. x-y-z, or x-y′-z″). It is the convention normally used for aerospace applications, so that zero degrees elevation represents the horizontal attitude. Tait–Bryan angles represent the orientation of the aircraft with respect to the world frame.\n",
    "    - z-y′-x″ (intrinsic rotations) or x-y-z (extrinsic rotations): the intrinsic rotations are known as: yaw, pitch and roll\n",
    "- **Euler angles:** proper Euler angles use the same axis for both the first and third elemental rotations (e.g., z-x-z, or z-x′-z″)\n",
    "- **Intrinsic rotations:** are elemental rotations that occur about the axes of a coordinate system attached to a moving body. Therefore, they change their orientation after each elemental rotation. The body system rotates, while a global system is fixed. \n",
    "- **Extrinsic rotations:** are elemental rotations that occur about the axes of the global  coordinate system. The global system rotates, while body is fixed. [correct?]"
   ]
  }
 ],
 "metadata": {
  "kernelspec": {
   "display_name": "Python 3",
   "language": "python",
   "name": "python3"
  },
  "language_info": {
   "codemirror_mode": {
    "name": "ipython",
    "version": 3
   },
   "file_extension": ".py",
   "mimetype": "text/x-python",
   "name": "python",
   "nbconvert_exporter": "python",
   "pygments_lexer": "ipython3",
   "version": "3.8.6"
  }
 },
 "nbformat": 4,
 "nbformat_minor": 2
}
