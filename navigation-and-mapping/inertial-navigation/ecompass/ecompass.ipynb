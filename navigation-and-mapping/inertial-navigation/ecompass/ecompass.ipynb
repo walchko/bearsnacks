{
 "cells": [
  {
   "cell_type": "markdown",
   "metadata": {},
   "source": [
    "![](header.jpg)\n",
    "\n",
    "# eCompass\n",
    "\n",
    "![](frames.png)\n",
    "\n",
    "A magnetometer measures the Earth (or any) magnetic field. Unfortunately, the Earth's magnetic field is very weak and can be obscured by electromagnetic interferance from:\n",
    "\n",
    "- motors\n",
    "- wifi\n",
    "- power lines\n",
    "- metal located in the frame of a building you are in side (think [faraday cage](https://en.wikipedia.org/wiki/Faraday_cage))\n",
    "\n",
    "The magnetic field measured in both the world and body frame are:\n",
    "\n",
    "$$\n",
    "b^W = B \\begin{bmatrix} \\cos(I) & 0 & \\sin(I) \\end{bmatrix}^T \\\\\n",
    "b^B = R^B_W b^W = \\begin{bmatrix} b_x & b_y & b_z \\end{bmatrix}^T\n",
    "$$\n",
    "\n",
    "where $b^W$ is the magnetic field in the world frame, $b^B$ is the field in the body frame, $B$ is the magnetude of the magnetic field vector $b$, and $I$ is the inclination of the magnetic field. Notice how the world frame field is only defined in the x and z axis, there is no field in they y. However, your sensor measures in the body frame and will sense on all three axes depending on orientation.\n",
    "\n",
    "> Note: if you know your latitude and longitude, you can look up $B$ and $I$\n",
    "\n",
    "Now, given that $R^W_B = R_z R_y R_x$ and you can determine the roll and pitch of your magnetometer from an accelerometer (they are often sold together in one package), you can determine your heading. If you multiply this together to, your heading is:\n",
    "\n",
    "$$\n",
    "\\psi = \\text{atan2}(\\cos(\\theta)(b_z\\sin(\\phi)-b_y\\cos(\\phi)), b_x+B\\sin(I)\\sin(\\theta))\n",
    "$$\n",
    "\n",
    "The [rotation matrix](https://www.mathworks.com/help/fusion/ref/ecompass.html#mw_ecf9e057-074a-4fe7-b63e-0d50d95946a0) is also given by:\n",
    "\n",
    "$$\n",
    "R = \n",
    "\\begin{bmatrix}\n",
    "((a \\times m) \\times a && a \\times m && a\n",
    "\\end{bmatrix}\n",
    "$$\n",
    "\n",
    "then normalized across the columns.\n",
    "\n",
    "## Calibration\n",
    "\n",
    "This notebook doesn't cover calibration of the magnetometer for hard or soft iron. The assumption here is, the magnetometer is already calibrated.\n",
    "\n",
    "## References\n",
    "\n",
    "- Mathworks: [ecompass](https://www.mathworks.com/help/fusion/ref/ecompass.html#mw_55a75a75-2bfc-4890-9d2d-42e3258c71e5)\n",
    "- Github: [Open source sensor fusion](https://github.com/memsindustrygroup/Open-Source-Sensor-Fusion)\n",
    "- Robot Academy: [How magnetometers work](https://robotacademy.net.au/lesson/how-magnetometers-work/)\n",
    "- Robot Academy: [Using magnetometers](https://robotacademy.net.au/lesson/using-magnetometers/)"
   ]
  },
  {
   "cell_type": "code",
   "execution_count": 1,
   "metadata": {},
   "outputs": [
    {
     "name": "stdout",
     "output_type": "stream",
     "text": [
      "the-collector: 0.8.7\n"
     ]
    }
   ],
   "source": [
    "# import a bunch of libraries\n",
    "import numpy as np \n",
    "from numpy import cos, sin, pi, sqrt\n",
    "from numpy import arcsin as asin\n",
    "from numpy import arccos as acos\n",
    "from numpy import arctan2 as atan2\n",
    "from numpy.linalg import norm\n",
    "np.set_printoptions(precision=3)\n",
    "np.set_printoptions(suppress=True)\n",
    "\n",
    "from scipy import linalg\n",
    "import sys\n",
    "\n",
    "import the_collector # read data\n",
    "print(f\"the-collector: {the_collector.__version__}\")\n",
    "\n",
    "from the_collector import BagIt\n",
    "from the_collector import Pickle, Json\n",
    "\n",
    "from squaternion import Quaternion\n",
    "\n",
    "import pandas as pd\n",
    "\n",
    "%matplotlib inline\n",
    "from matplotlib import pyplot as plt\n",
    "\n",
    "# from math import sqrt, atan2, asin, pi\n",
    "from math import radians as deg2rad\n",
    "from math import degrees as rad2deg\n",
    "\n",
    "from slurm import storage\n",
    "\n",
    "from datetime import datetime\n",
    "import os"
   ]
  },
  {
   "cell_type": "code",
   "execution_count": 2,
   "metadata": {},
   "outputs": [
    {
     "name": "stdout",
     "output_type": "stream",
     "text": [
      ">> Reading[pickle]: /Users/kevin/github/data-ins-1/2020-5-3-imu/still-z-up.pickle.bag\n",
      "Bag keys:\n",
      "--------------------------------------------------\n",
      "       accel: 2001   \n",
      "         mag: 2001   \n",
      "        gyro: 2001   \n"
     ]
    }
   ],
   "source": [
    "# let's load in some data and have a look at what we have\n",
    "def bag_info(bag):\n",
    "    print('Bag keys:')\n",
    "    print('-'*50)\n",
    "    for k in bag.keys():\n",
    "        print(f'  {k:>10}: {len(bag[k]):<7}')\n",
    "\n",
    "bag = BagIt(Pickle)\n",
    "fname = \"~/github/data-ins-1/2020-5-3-imu/still-z-up.pickle.bag\"\n",
    "fname = os.path.expanduser(fname)\n",
    "\n",
    "data = bag.read(fname)\n",
    "bag_info(data)"
   ]
  },
  {
   "cell_type": "code",
   "execution_count": 14,
   "metadata": {},
   "outputs": [],
   "source": [
    "def normalize(x, y, z):\n",
    "    \"\"\"Return a unit vector\"\"\"\n",
    "    norm = sqrt(x * x + y * y + z * z)\n",
    "\n",
    "    # already a unit vector\n",
    "    if norm == 1.0:\n",
    "        return (x, y, z)\n",
    "\n",
    "    inorm = 1.0/norm\n",
    "    if inorm > 1e-6:\n",
    "        x *= inorm\n",
    "        y *= inorm\n",
    "        z *= inorm\n",
    "    else:\n",
    "        raise ZeroDivisionError(f'norm({x:.4f}, {y:.4f}, {z:.4f},) = {inorm:.6f}')\n",
    "    return (x, y, z,)\n",
    "\n",
    "def ecompass(accel, mag):\n",
    "    try:\n",
    "        mx, my, mz = mag\n",
    "        ax, ay, az = normalize(*accel)\n",
    "\n",
    "        pitch = asin(-ax)\n",
    "\n",
    "        if abs(pitch) >= pi/2:\n",
    "            roll = 0.0\n",
    "        else:\n",
    "#             roll = asin(ay/cos(pitch))\n",
    "            roll = atan2(ay,az)\n",
    "\n",
    "        # mx, my, mz = mag\n",
    "        x = mx*cos(pitch)+mz*sin(pitch)\n",
    "        y = mx*sin(roll)*sin(pitch)+my*cos(roll)-mz*sin(roll)*cos(pitch)\n",
    "        heading = atan2(y, x)\n",
    "\n",
    "        # wrap heading between 0 and 360 degrees\n",
    "        heading = heading % (2*pi)\n",
    "\n",
    "        return Quaternion.from_euler(roll, pitch, heading)\n",
    "\n",
    "    except ZeroDivisionError:\n",
    "        raise\n",
    "\n",
    "def ecompass_rot(a,m):\n",
    "    # see Matlab reference\n",
    "    n = np.cross(a,m)\n",
    "    m = np.cross(n,a)\n",
    "    o = a\n",
    "    \n",
    "    oo = norm(o)\n",
    "    if oo < 1e-6:\n",
    "        raise Exception(\"eCompass: accel == 0.0\")\n",
    "\n",
    "    m = m/norm(m)\n",
    "    n = n/norm(n)\n",
    "    o = o/oo\n",
    "\n",
    "    r = np.array([m,n,o]).T\n",
    "    return r"
   ]
  },
  {
   "cell_type": "code",
   "execution_count": 15,
   "metadata": {},
   "outputs": [
    {
     "name": "stdout",
     "output_type": "stream",
     "text": [
      "Quaternion(w=-0.5868195702546446, x=-0.5868195702546445, y=0.3945158957078337, z=0.39451589570783374)\n",
      "(89.99999999999999, 0.0, -67.82549073634752)\n",
      "[[ 0.377  0.    -0.926]\n",
      " [-0.926  0.    -0.377]\n",
      " [ 0.     1.     0.   ]]\n"
     ]
    }
   ],
   "source": [
    "# https://www.mathworks.com/help/fusion/ref/ecompass.html\n",
    "# m = [19.535 -5.109 47.930];\n",
    "# a = [0 0 9.8];\n",
    "# q = ecompass(a,m);\n",
    "# quaterionEulerAngles = eulerd(q,'ZYX','frame')\n",
    "# 14.6563         0         0\n",
    "m = np.array([19.535, -5.109, 47.930])\n",
    "a = np.array([0, 0, 9.8])\n",
    "q = ecompass(a,m)\n",
    "print(q)\n",
    "print(q.to_euler(degrees=True))\n",
    "print(np.array(q.to_rot()))"
   ]
  },
  {
   "cell_type": "code",
   "execution_count": 9,
   "metadata": {},
   "outputs": [
    {
     "name": "stdout",
     "output_type": "stream",
     "text": [
      "[[ 0.967  0.253  0.   ]\n",
      " [-0.253  0.967  0.   ]\n",
      " [ 0.    -0.     1.   ]]\n"
     ]
    }
   ],
   "source": [
    "# https://www.mathworks.com/help/fusion/ref/ecompass.html#mw_ecf9e057-074a-4fe7-b63e-0d50d95946a0\n",
    "m = np.cross(np.cross(a,m),a)\n",
    "n = np.cross(a,m)\n",
    "o = a\n",
    "\n",
    "m = m/np.linalg.norm(m)\n",
    "n = n/np.linalg.norm(n)\n",
    "o = o/np.linalg.norm(o)\n",
    "\n",
    "rr = np.array([m,n,o]).T\n",
    "print(rr)"
   ]
  },
  {
   "cell_type": "code",
   "execution_count": 10,
   "metadata": {},
   "outputs": [
    {
     "name": "stdout",
     "output_type": "stream",
     "text": [
      "[[ 0.967  0.253  0.   ]\n",
      " [-0.253  0.967  0.   ]\n",
      " [ 0.    -0.     1.   ]]\n",
      "1.0\n",
      ">> 14.656328776110113 -0.0 0.0\n"
     ]
    }
   ],
   "source": [
    "a = np.array([0,0,1])\n",
    "r = ecompass_rot(a,m)\n",
    "print(r)\n",
    "print(np.linalg.det(r))\n",
    "\n",
    "theta = -asin(r[0,2])\n",
    "ct = 1/cos(theta)\n",
    "psi = atan2(r[1,2]*ct,r[2,2]*ct)\n",
    "rho = atan2(r[0,1]*ct,r[0,0]*ct)\n",
    "print(f\">> {rho*180/pi} {theta*180/pi} {psi*180/pi}\")"
   ]
  },
  {
   "cell_type": "code",
   "execution_count": null,
   "metadata": {},
   "outputs": [],
   "source": []
  }
 ],
 "metadata": {
  "kernelspec": {
   "display_name": "Python 3",
   "language": "python",
   "name": "python3"
  },
  "language_info": {
   "codemirror_mode": {
    "name": "ipython",
    "version": 3
   },
   "file_extension": ".py",
   "mimetype": "text/x-python",
   "name": "python",
   "nbconvert_exporter": "python",
   "pygments_lexer": "ipython3",
   "version": "3.9.1"
  }
 },
 "nbformat": 4,
 "nbformat_minor": 4
}
