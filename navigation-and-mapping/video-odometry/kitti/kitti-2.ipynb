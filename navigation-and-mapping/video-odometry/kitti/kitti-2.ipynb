{
 "cells": [
  {
   "cell_type": "markdown",
   "metadata": {},
   "source": [
    "![](../header.jpg)\n",
    "\n",
    "# KITTI 2011 09 28 Raw Data\n",
    "\n",
    "## Data Sets\n",
    "\n",
    "Data from [KITTI](http://www.cvlibs.net/datasets/kitti/setup.php). If you go to the [Raw Data page](http://www.cvlibs.net/datasets/kitti/raw_data.php) and download the following data sets (direct links are below, they want to harvest your email address to get the data, **sorry**): \n",
    "\n",
    "- [grayscale (400MB)](https://s3.eu-central-1.amazonaws.com/avg-kitti/raw_data/2011_09_26_drive_0001/2011_09_26_drive_0001_sync.zip)\n",
    "- [calibration (300MB)](https://s3.eu-central-1.amazonaws.com/avg-kitti/raw_data/2011_09_26_calib.zip)\n",
    "\n",
    "Note, the video is **big** and why I don't provide a copy of it."
   ]
  },
  {
   "cell_type": "code",
   "execution_count": 1,
   "metadata": {},
   "outputs": [],
   "source": [
    "%load_ext autoreload\n",
    "%autoreload 2"
   ]
  },
  {
   "cell_type": "code",
   "execution_count": 3,
   "metadata": {},
   "outputs": [],
   "source": [
    "import cv2          # opencv itself\n",
    "import numpy as np  # matrix manipulations\n",
    "\n",
    "import platform\n",
    "import os\n",
    "\n",
    "from ipywidgets import Video\n",
    "from tqdm import tqdm\n",
    "from matplotlib import pyplot as plt\n",
    "\n",
    "from helper import imshow\n",
    "from helper import videoWriter\n",
    "from helper import plotSensors, printCameraParams\n",
    "from helper import gray2rgb\n",
    "\n",
    "# this is slightly modified\n",
    "import pykitti2 as pykitti"
   ]
  },
  {
   "cell_type": "markdown",
   "metadata": {},
   "source": [
    "## Sensor Layout\n",
    "\n",
    "<img src=\"setup.png\" width=\"85%\">\n",
    "\n",
    "## Video\n",
    "\n",
    "As shown in the diagram above, there are two sets of cameras: Point Grey Flea 2 (FL-14S3M-C) 1.4 Megapixel grayscale (0 and 1) and Point Grey Flea 2 (FL-14S3C-C) 1.4 Megapixel color (2, 3) cameras. I am just working with the grayscale, rectified, uncompressed (lossless png is what they say)."
   ]
  },
  {
   "cell_type": "code",
   "execution_count": 19,
   "metadata": {},
   "outputs": [
    {
     "name": "stdout",
     "output_type": "stream",
     "text": [
      "Found 154 samples of data at 10Hz\n",
      ">> Saving 154 1242x375 images using avc1\n",
      ">> wrote 4.4 MB to cam2-00.mp4\n",
      "Found 233 samples of data at 10Hz\n",
      ">> Saving 233 1242x375 images using avc1\n",
      ">> wrote 6.4 MB to cam2-02.mp4\n",
      "Found 144 samples of data at 10Hz\n",
      ">> Saving 144 1242x375 images using avc1\n",
      ">> wrote 4.4 MB to cam2-03.mp4\n",
      "Found 314 samples of data at 10Hz\n",
      ">> Saving 314 1242x375 images using avc1\n",
      ">> wrote 9.1 MB to cam2-04.mp4\n",
      "Found 297 samples of data at 10Hz\n",
      ">> Saving 297 1242x375 images using avc1\n",
      ">> wrote 8.6 MB to cam2-05.mp4\n",
      "Found 270 samples of data at 10Hz\n",
      ">> Saving 270 1242x375 images using avc1\n",
      ">> wrote 8.2 MB to cam2-06.mp4\n",
      "Found 800 samples of data at 10Hz\n",
      ">> Saving 800 1242x375 images using avc1\n",
      ">> wrote 23.4 MB to cam2-07.mp4\n",
      "Found 390 samples of data at 10Hz\n",
      ">> Saving 390 1242x375 images using avc1\n",
      ">> wrote 11.4 MB to cam2-08.mp4\n",
      "Found 804 samples of data at 10Hz\n",
      ">> Saving 803 1242x375 images using avc1\n",
      ">> wrote 23.2 MB to cam2-09.mp4\n",
      "Found 294 samples of data at 10Hz\n",
      ">> Saving 294 1242x375 images using avc1\n",
      ">> wrote 8.5 MB to cam2-10.mp4\n",
      "Found 373 samples of data at 10Hz\n",
      ">> Saving 373 1242x375 images using avc1\n",
      ">> wrote 10.9 MB to cam2-11.mp4\n",
      "Found 78 samples of data at 10Hz\n",
      ">> Saving 78 1242x375 images using avc1\n",
      ">> wrote 2.2 MB to cam2-12.mp4\n",
      "Found 340 samples of data at 10Hz\n",
      ">> Saving 340 1242x375 images using avc1\n",
      ">> wrote 10.0 MB to cam2-13.mp4\n",
      "Found 107 samples of data at 10Hz\n",
      ">> Saving 106 1224x370 images using avc1\n",
      ">> wrote 3.0 MB to cam2-14.mp4\n",
      "Found 376 samples of data at 10Hz\n",
      ">> Saving 376 1224x370 images using avc1\n",
      ">> wrote 10.3 MB to cam2-15.mp4\n",
      "Found 209 samples of data at 10Hz\n",
      ">> Saving 209 1224x370 images using avc1\n",
      ">> wrote 5.9 MB to cam2-16.mp4\n",
      "Found 145 samples of data at 10Hz\n",
      ">> Saving 145 1224x370 images using avc1\n",
      ">> wrote 4.2 MB to cam2-17.mp4\n",
      "Found 339 samples of data at 10Hz\n",
      ">> Saving 339 1238x374 images using avc1\n",
      ">> wrote 9.7 MB to cam2-18.mp4\n",
      "Found 1059 samples of data at 10Hz\n",
      ">> Saving 1059 1238x374 images using avc1\n",
      ">> wrote 30.5 MB to cam2-19.mp4\n",
      "Found 837 samples of data at 10Hz\n",
      ">> Saving 837 1241x376 images using avc1\n",
      ">> wrote 24.1 MB to cam2-20.mp4\n"
     ]
    }
   ],
   "source": [
    "for i in range(21):\n",
    "    seq = f\"{i:02d}\"\n",
    "    vidname = f\"cam2-{seq}.mp4\"\n",
    "    if not os.path.exists(vidname):\n",
    "        dataset = pykitti.odometry('../dataset/training', seq)\n",
    "        videoWriter(dataset.cam2, vidname, fps=10)"
   ]
  },
  {
   "cell_type": "code",
   "execution_count": 22,
   "metadata": {
    "scrolled": true
   },
   "outputs": [
    {
     "data": {
      "application/vnd.jupyter.widget-view+json": {
       "model_id": "e9aa1662e4594cea8095ea471bbe89d9",
       "version_major": 2,
       "version_minor": 0
      },
      "text/plain": [
       "Video(value=b'\\x00\\x00\\x00 ftypisom\\x00\\x00\\x02\\x00isomiso2avc1mp41\\x00\\x00\\x00\\x08free\\x00C\\xc0Mmdat\\x00\\x00\\…"
      ]
     },
     "metadata": {},
     "output_type": "display_data"
    }
   ],
   "source": [
    "Video.from_file(\"cam2-00.mp4\",autoplay=False)"
   ]
  },
  {
   "cell_type": "code",
   "execution_count": 23,
   "metadata": {},
   "outputs": [
    {
     "data": {
      "application/vnd.jupyter.widget-view+json": {
       "model_id": "d14281cff4a34a3089b5076dac7a30a9",
       "version_major": 2,
       "version_minor": 0
      },
      "text/plain": [
       "Video(value=b'\\x00\\x00\\x00 ftypisom\\x00\\x00\\x02\\x00isomiso2avc1mp41\\x00\\x00\\x00\\x08free\\x00\\xbf\\x01Dmdat\\x00\\x…"
      ]
     },
     "metadata": {},
     "output_type": "display_data"
    }
   ],
   "source": [
    "Video.from_file(\"cam2-01.mp4\",autoplay=False)"
   ]
  },
  {
   "cell_type": "code",
   "execution_count": 24,
   "metadata": {},
   "outputs": [
    {
     "data": {
      "application/vnd.jupyter.widget-view+json": {
       "model_id": "7465a38e482043efae8890aaa5bd522b",
       "version_major": 2,
       "version_minor": 0
      },
      "text/plain": [
       "Video(value=b'\\x00\\x00\\x00 ftypisom\\x00\\x00\\x02\\x00isomiso2avc1mp41\\x00\\x00\\x00\\x08free\\x00a\\xbaOmdat\\x00\\x00\\…"
      ]
     },
     "metadata": {},
     "output_type": "display_data"
    }
   ],
   "source": [
    "Video.from_file(\"cam2-02.mp4\",autoplay=False)"
   ]
  },
  {
   "cell_type": "code",
   "execution_count": 25,
   "metadata": {},
   "outputs": [
    {
     "data": {
      "application/vnd.jupyter.widget-view+json": {
       "model_id": "5c5ed3a42767420a860be0fb2dcb9fd6",
       "version_major": 2,
       "version_minor": 0
      },
      "text/plain": [
       "Video(value=b'\\x00\\x00\\x00 ftypisom\\x00\\x00\\x02\\x00isomiso2avc1mp41\\x00\\x00\\x00\\x08free\\x00B}rmdat\\x00\\x00\\x00…"
      ]
     },
     "metadata": {},
     "output_type": "display_data"
    }
   ],
   "source": [
    "Video.from_file(\"cam2-03.mp4\",autoplay=False)"
   ]
  },
  {
   "cell_type": "code",
   "execution_count": 26,
   "metadata": {},
   "outputs": [
    {
     "data": {
      "application/vnd.jupyter.widget-view+json": {
       "model_id": "b4c0274ace914efe84553123ef2d7974",
       "version_major": 2,
       "version_minor": 0
      },
      "text/plain": [
       "Video(value=b'\\x00\\x00\\x00 ftypisom\\x00\\x00\\x02\\x00isomiso2avc1mp41\\x00\\x00\\x00\\x08free\\x00\\x8b+\\xb4mdat\\x00\\x…"
      ]
     },
     "metadata": {},
     "output_type": "display_data"
    }
   ],
   "source": [
    "Video.from_file(\"cam2-04.mp4\",autoplay=False)"
   ]
  },
  {
   "cell_type": "code",
   "execution_count": 27,
   "metadata": {},
   "outputs": [
    {
     "data": {
      "application/vnd.jupyter.widget-view+json": {
       "model_id": "5a23073df56d4a5faaea87e2e32a4921",
       "version_major": 2,
       "version_minor": 0
      },
      "text/plain": [
       "Video(value=b'\\x00\\x00\\x00 ftypisom\\x00\\x00\\x02\\x00isomiso2avc1mp41\\x00\\x00\\x00\\x08free\\x00\\x83\\xd5\\xa1mdat\\x0…"
      ]
     },
     "metadata": {},
     "output_type": "display_data"
    }
   ],
   "source": [
    "Video.from_file(\"cam2-05.mp4\",autoplay=False)"
   ]
  },
  {
   "cell_type": "code",
   "execution_count": 28,
   "metadata": {},
   "outputs": [
    {
     "data": {
      "application/vnd.jupyter.widget-view+json": {
       "model_id": "f6e455ae537f4dcaa1b62aea0a604db4",
       "version_major": 2,
       "version_minor": 0
      },
      "text/plain": [
       "Video(value=b'\\x00\\x00\\x00 ftypisom\\x00\\x00\\x02\\x00isomiso2avc1mp41\\x00\\x00\\x00\\x08free\\x00}\\xbb\\xa4mdat\\x00\\x…"
      ]
     },
     "metadata": {},
     "output_type": "display_data"
    }
   ],
   "source": [
    "Video.from_file(\"cam2-06.mp4\",autoplay=False)"
   ]
  },
  {
   "cell_type": "code",
   "execution_count": 29,
   "metadata": {},
   "outputs": [
    {
     "data": {
      "application/vnd.jupyter.widget-view+json": {
       "model_id": "bb0e275793144778a3f2a8994d7cb6ad",
       "version_major": 2,
       "version_minor": 0
      },
      "text/plain": [
       "Video(value=b'\\x00\\x00\\x00 ftypisom\\x00\\x00\\x02\\x00isomiso2avc1mp41\\x00\\x00\\x00\\x08free\\x01e\\x01\\xe1mdat\\x00\\x…"
      ]
     },
     "metadata": {},
     "output_type": "display_data"
    }
   ],
   "source": [
    "Video.from_file(\"cam2-07.mp4\",autoplay=False)"
   ]
  },
  {
   "cell_type": "code",
   "execution_count": 30,
   "metadata": {},
   "outputs": [
    {
     "data": {
      "application/vnd.jupyter.widget-view+json": {
       "model_id": "c115b4e7303242a78d474db8d26fbbfe",
       "version_major": 2,
       "version_minor": 0
      },
      "text/plain": [
       "Video(value=b'\\x00\\x00\\x00 ftypisom\\x00\\x00\\x02\\x00isomiso2avc1mp41\\x00\\x00\\x00\\x08free\\x00\\xad\\xff\\xbemdat\\x0…"
      ]
     },
     "metadata": {},
     "output_type": "display_data"
    }
   ],
   "source": [
    "Video.from_file(\"cam2-08.mp4\",autoplay=False)"
   ]
  },
  {
   "cell_type": "code",
   "execution_count": 31,
   "metadata": {},
   "outputs": [
    {
     "data": {
      "application/vnd.jupyter.widget-view+json": {
       "model_id": "3f3ce52922494b4486807f989834b94b",
       "version_major": 2,
       "version_minor": 0
      },
      "text/plain": [
       "Video(value=b'\\x00\\x00\\x00 ftypisom\\x00\\x00\\x02\\x00isomiso2avc1mp41\\x00\\x00\\x00\\x08free\\x01b \\xa8mdat\\x00\\x00\\…"
      ]
     },
     "metadata": {},
     "output_type": "display_data"
    }
   ],
   "source": [
    "Video.from_file(\"cam2-09.mp4\",autoplay=False)"
   ]
  },
  {
   "cell_type": "code",
   "execution_count": 32,
   "metadata": {},
   "outputs": [
    {
     "data": {
      "application/vnd.jupyter.widget-view+json": {
       "model_id": "e70899b716f44f88b7e8dfdd5022987f",
       "version_major": 2,
       "version_minor": 0
      },
      "text/plain": [
       "Video(value=b'\\x00\\x00\\x00 ftypisom\\x00\\x00\\x02\\x00isomiso2avc1mp41\\x00\\x00\\x00\\x08free\\x00\\x80\\xf1\\xd6mdat\\x0…"
      ]
     },
     "metadata": {},
     "output_type": "display_data"
    }
   ],
   "source": [
    "Video.from_file(\"cam2-10.mp4\",autoplay=False)"
   ]
  },
  {
   "cell_type": "code",
   "execution_count": 33,
   "metadata": {},
   "outputs": [
    {
     "data": {
      "application/vnd.jupyter.widget-view+json": {
       "model_id": "bf18926d21df4835b532d1da0b6d1977",
       "version_major": 2,
       "version_minor": 0
      },
      "text/plain": [
       "Video(value=b'\\x00\\x00\\x00 ftypisom\\x00\\x00\\x02\\x00isomiso2avc1mp41\\x00\\x00\\x00\\x08free\\x00\\xa5\\xc5\\xb1mdat\\x0…"
      ]
     },
     "metadata": {},
     "output_type": "display_data"
    }
   ],
   "source": [
    "Video.from_file(\"cam2-11.mp4\",autoplay=False)"
   ]
  },
  {
   "cell_type": "code",
   "execution_count": 34,
   "metadata": {},
   "outputs": [
    {
     "data": {
      "application/vnd.jupyter.widget-view+json": {
       "model_id": "8edf8ea08a9741bab9094d7a3d22b1c1",
       "version_major": 2,
       "version_minor": 0
      },
      "text/plain": [
       "Video(value=b'\\x00\\x00\\x00 ftypisom\\x00\\x00\\x02\\x00isomiso2avc1mp41\\x00\\x00\\x00\\x08free\\x00\"\\x0c{mdat\\x00\\x00\\…"
      ]
     },
     "metadata": {},
     "output_type": "display_data"
    }
   ],
   "source": [
    "Video.from_file(\"cam2-12.mp4\",autoplay=False)"
   ]
  },
  {
   "cell_type": "code",
   "execution_count": 35,
   "metadata": {},
   "outputs": [
    {
     "data": {
      "application/vnd.jupyter.widget-view+json": {
       "model_id": "8014db83ab9a4058baf61db72af053d2",
       "version_major": 2,
       "version_minor": 0
      },
      "text/plain": [
       "Video(value=b'\\x00\\x00\\x00 ftypisom\\x00\\x00\\x02\\x00isomiso2avc1mp41\\x00\\x00\\x00\\x08free\\x00\\x98T\"mdat\\x00\\x00\\…"
      ]
     },
     "metadata": {},
     "output_type": "display_data"
    }
   ],
   "source": [
    "Video.from_file(\"cam2-13.mp4\",autoplay=False)"
   ]
  },
  {
   "cell_type": "code",
   "execution_count": 36,
   "metadata": {},
   "outputs": [
    {
     "data": {
      "application/vnd.jupyter.widget-view+json": {
       "model_id": "22569da8b8244e9cb6f8e95df6746c20",
       "version_major": 2,
       "version_minor": 0
      },
      "text/plain": [
       "Video(value=b'\\x00\\x00\\x00 ftypisom\\x00\\x00\\x02\\x00isomiso2avc1mp41\\x00\\x00\\x00\\x08free\\x00.f\\xe7mdat\\x00\\x00\\…"
      ]
     },
     "metadata": {},
     "output_type": "display_data"
    }
   ],
   "source": [
    "Video.from_file(\"cam2-14.mp4\",autoplay=False)"
   ]
  },
  {
   "cell_type": "code",
   "execution_count": 37,
   "metadata": {},
   "outputs": [
    {
     "data": {
      "application/vnd.jupyter.widget-view+json": {
       "model_id": "0119afc9ab9b4deb8bfd06e6b62f4814",
       "version_major": 2,
       "version_minor": 0
      },
      "text/plain": [
       "Video(value=b'\\x00\\x00\\x00 ftypisom\\x00\\x00\\x02\\x00isomiso2avc1mp41\\x00\\x00\\x00\\x08free\\x00\\x9d\\xba\\x7fmdat\\x0…"
      ]
     },
     "metadata": {},
     "output_type": "display_data"
    }
   ],
   "source": [
    "Video.from_file(\"cam2-15.mp4\",autoplay=False)"
   ]
  },
  {
   "cell_type": "code",
   "execution_count": 38,
   "metadata": {},
   "outputs": [
    {
     "data": {
      "application/vnd.jupyter.widget-view+json": {
       "model_id": "4760248c9c6442bab22bab43983073bf",
       "version_major": 2,
       "version_minor": 0
      },
      "text/plain": [
       "Video(value=b'\\x00\\x00\\x00 ftypisom\\x00\\x00\\x02\\x00isomiso2avc1mp41\\x00\\x00\\x00\\x08free\\x00Y\\x98\\xa9mdat\\x00\\x…"
      ]
     },
     "metadata": {},
     "output_type": "display_data"
    }
   ],
   "source": [
    "Video.from_file(\"cam2-16.mp4\",autoplay=False)"
   ]
  },
  {
   "cell_type": "code",
   "execution_count": 39,
   "metadata": {},
   "outputs": [
    {
     "data": {
      "application/vnd.jupyter.widget-view+json": {
       "model_id": "4962d1016e28423e9142f19700866317",
       "version_major": 2,
       "version_minor": 0
      },
      "text/plain": [
       "Video(value=b'\\x00\\x00\\x00 ftypisom\\x00\\x00\\x02\\x00isomiso2avc1mp41\\x00\\x00\\x00\\x08free\\x00?|\\x16mdat\\x00\\x00\\…"
      ]
     },
     "metadata": {},
     "output_type": "display_data"
    }
   ],
   "source": [
    "Video.from_file(\"cam2-17.mp4\",autoplay=False)"
   ]
  },
  {
   "cell_type": "code",
   "execution_count": 40,
   "metadata": {},
   "outputs": [
    {
     "data": {
      "application/vnd.jupyter.widget-view+json": {
       "model_id": "943e7d331fc648aab94d38219f71ede1",
       "version_major": 2,
       "version_minor": 0
      },
      "text/plain": [
       "Video(value=b'\\x00\\x00\\x00 ftypisom\\x00\\x00\\x02\\x00isomiso2avc1mp41\\x00\\x00\\x00\\x08free\\x00\\x944smdat\\x00\\x00\\…"
      ]
     },
     "metadata": {},
     "output_type": "display_data"
    }
   ],
   "source": [
    "Video.from_file(\"cam2-18.mp4\",autoplay=False)"
   ]
  },
  {
   "cell_type": "code",
   "execution_count": 41,
   "metadata": {},
   "outputs": [
    {
     "data": {
      "application/vnd.jupyter.widget-view+json": {
       "model_id": "e44fb83c03db403786fc62c7e05b7a85",
       "version_major": 2,
       "version_minor": 0
      },
      "text/plain": [
       "Video(value=b'\\x00\\x00\\x00 ftypisom\\x00\\x00\\x02\\x00isomiso2avc1mp41\\x00\\x00\\x00\\x08free\\x01\\xd0\\xbc\\xb6mdat\\x0…"
      ]
     },
     "metadata": {},
     "output_type": "display_data"
    }
   ],
   "source": [
    "Video.from_file(\"cam2-19.mp4\",autoplay=False)"
   ]
  },
  {
   "cell_type": "code",
   "execution_count": 42,
   "metadata": {},
   "outputs": [
    {
     "data": {
      "application/vnd.jupyter.widget-view+json": {
       "model_id": "84685669cdd14b1185767e78870fe045",
       "version_major": 2,
       "version_minor": 0
      },
      "text/plain": [
       "Video(value=b'\\x00\\x00\\x00 ftypisom\\x00\\x00\\x02\\x00isomiso2avc1mp41\\x00\\x00\\x00\\x08free\\x01oX\\xe8mdat\\x00\\x00\\…"
      ]
     },
     "metadata": {},
     "output_type": "display_data"
    }
   ],
   "source": [
    "Video.from_file(\"cam2-20.mp4\",autoplay=False)"
   ]
  },
  {
   "cell_type": "markdown",
   "metadata": {},
   "source": [
    "## Data Time Stamps\n",
    "\n",
    "The time stamps come in a couple of different flavors, you will have to look at the data to figure out how to decode it."
   ]
  },
  {
   "cell_type": "code",
   "execution_count": 43,
   "metadata": {},
   "outputs": [
    {
     "name": "stdout",
     "output_type": "stream",
     "text": [
      "[0.  0.1 0.2 0.3 0.4]\n"
     ]
    }
   ],
   "source": [
    "stamps = dataset.timestamps\n",
    "print(stamps[:5]) "
   ]
  },
  {
   "cell_type": "markdown",
   "metadata": {},
   "source": [
    "## Inertial Measurement Unit\n",
    "\n",
    "The car was equiped with the following:\n",
    "\n",
    "| Models | Position (m) | Velocity (km/h) | Pitch / Roll (deg) | Heading (deg) | Slip angle at 50 km/h (deg) | Dual antenna |\n",
    "|---|---|---|---|---|---|---|\n",
    "| RT3003 | 1.5/SPS, 0.6/SBAS, 0.4/DGPS, 0.01/RTK | 0.05 | 0.03 | 0.1 | 0.15 | Yes |\n",
    "\n",
    "- [link](https://www.oxts.com/products/rt3000/)\n",
    "- [datasheet](rt3000.pdf)"
   ]
  },
  {
   "cell_type": "code",
   "execution_count": 45,
   "metadata": {},
   "outputs": [],
   "source": [
    "oxts = dataset.oxts"
   ]
  },
  {
   "cell_type": "code",
   "execution_count": 46,
   "metadata": {},
   "outputs": [
    {
     "name": "stdout",
     "output_type": "stream",
     "text": [
      "Raw Data Packet:\n",
      "\n",
      "OxtsPacket(lat=48.950411406393, lon=8.4872579743462, alt=270.01614379883, roll=-0.023895, pitch=-0.005085, yaw=-0.9523816732051, vn=-2.8193536994736, ve=2.0116299963538, vf=3.4634363616993, vl=-0.004482514184762, vu=0.054574095459415, ax=-0.088019884000845, ay=-0.24253443951335, az=9.8598861655169, af=-0.13832564546937, al=-0.0073642494701282, au=9.862290698442, wx=-0.0009480443925138, wy=0.00035185084501598, wz=-0.00039826012393948, wf=-0.0009459306449235, wl=0.00034230435557395, wu=-0.00041142471135118, pos_accuracy=0.013038404810405, vel_accuracy=0.010630145812735, navstat=4, numsats=13, posmode=6, velmode=6, orimode=6)\n",
      "--------------------------------------------------\n",
      "Homogeneous Transform starting from the origin:\n",
      "\n",
      "[[ 0.57973666  0.81463641  0.01652061  0.        ]\n",
      " [-0.81478804  0.57947966  0.01799372  0.        ]\n",
      " [ 0.00508498 -0.02389242  0.9997016   0.        ]\n",
      " [ 0.          0.          0.          1.        ]]\n"
     ]
    }
   ],
   "source": [
    "# let's look at the first data sample, they use namedtuples,\n",
    "# so the parameters are named so you know what they are. Now,\n",
    "# there are some flags at the end that I don't know what they\n",
    "# are ... they do a poor job of describing the setup in ONE place.\n",
    "# I am sure if I scoured the internet, I could find the info.\n",
    "print('Raw Data Packet:\\n')\n",
    "print(oxts[0].packet)\n",
    "print('-'*50)\n",
    "print('Homogeneous Transform starting from the origin:\\n')\n",
    "print(oxts[0].T_w_imu)"
   ]
  },
  {
   "cell_type": "code",
   "execution_count": 52,
   "metadata": {},
   "outputs": [
    {
     "data": {
      "image/png": "[encoded data removed]",
      "text/plain": [
       "<Figure size 1080x360 with 2 Axes>"
      ]
     },
     "metadata": {
      "needs_background": "light"
     },
     "output_type": "display_data"
    }
   ],
   "source": [
    "plt.figure(figsize=(15,5))\n",
    "\n",
    "plt.subplot(121)\n",
    "y = [x.packet.lat for x in oxts]\n",
    "x = [x.packet.lon for x in oxts]\n",
    "plt.plot(x,y)\n",
    "plt.grid(True)\n",
    "plt.axis('equal')\n",
    "plt.title('Lat Lon [{:.2f}, {:.2f}]'.format(oxts[0].packet.lon, oxts[0].packet.lat));\n",
    "\n",
    "plt.subplot(122)\n",
    "pos = dataset.position\n",
    "plt.plot(pos[:,0],pos[:,1])\n",
    "plt.grid(True)\n",
    "plt.xlabel(\"x [m]\")\n",
    "plt.ylabel(\"y [m]\");"
   ]
  },
  {
   "cell_type": "code",
   "execution_count": 54,
   "metadata": {},
   "outputs": [
    {
     "data": {
      "image/png": "[encoded data removed]",
      "text/plain": [
       "<Figure size 432x288 with 1 Axes>"
      ]
     },
     "metadata": {
      "needs_background": "light"
     },
     "output_type": "display_data"
    }
   ],
   "source": [
    "x = [x.packet.ax for x in oxts]\n",
    "y = [x.packet.ay for x in oxts]\n",
    "z = [x.packet.az for x in oxts]\n",
    "plt.plot(stamps, x, label='x')\n",
    "plt.plot(stamps, y, label='y')\n",
    "plt.plot(stamps, z, label='z')\n",
    "plt.grid(True)\n",
    "plt.legend()\n",
    "plt.title('Acceleration [m/sec^2]');"
   ]
  },
  {
   "cell_type": "code",
   "execution_count": 55,
   "metadata": {},
   "outputs": [
    {
     "data": {
      "image/png": "[encoded data removed]",
      "text/plain": [
       "<Figure size 432x288 with 1 Axes>"
      ]
     },
     "metadata": {
      "needs_background": "light"
     },
     "output_type": "display_data"
    }
   ],
   "source": [
    "x = [x.packet.wx for x in oxts]\n",
    "y = [x.packet.wy for x in oxts]\n",
    "z = [x.packet.wz for x in oxts]\n",
    "plt.plot(stamps, x, label='x')\n",
    "plt.plot(stamps, y, label='y')\n",
    "plt.plot(stamps, z, label='z')\n",
    "plt.grid(True)\n",
    "plt.legend()\n",
    "plt.title('Angular Rates [rads/sec]');"
   ]
  },
  {
   "cell_type": "code",
   "execution_count": 56,
   "metadata": {},
   "outputs": [
    {
     "data": {
      "image/png": "[encoded data removed]",
      "text/plain": [
       "<Figure size 432x288 with 1 Axes>"
      ]
     },
     "metadata": {
      "needs_background": "light"
     },
     "output_type": "display_data"
    }
   ],
   "source": [
    "x = [x.packet.roll for x in oxts]\n",
    "y = [x.packet.pitch for x in oxts]\n",
    "z = [x.packet.yaw for x in oxts]\n",
    "plt.plot(stamps, x, label='roll')\n",
    "plt.plot(stamps, y, label='pitch')\n",
    "plt.plot(stamps, z, label='yaw')\n",
    "plt.grid(True)\n",
    "plt.legend()\n",
    "plt.title('Euler Angles [rad]');"
   ]
  },
  {
   "cell_type": "code",
   "execution_count": 57,
   "metadata": {},
   "outputs": [
    {
     "name": "stdout",
     "output_type": "stream",
     "text": [
      "[[1. 0. 0. 0.]\n",
      " [0. 1. 0. 0.]\n",
      " [0. 0. 1. 0.]\n",
      " [0. 0. 0. 1.]]\n",
      "[[ 1.          0.          0.         -0.53716572]\n",
      " [ 0.          1.          0.          0.        ]\n",
      " [ 0.          0.          1.          0.        ]\n",
      " [ 0.          0.          0.          1.        ]]\n",
      "[[1.         0.         0.         0.06313121]\n",
      " [0.         1.         0.         0.        ]\n",
      " [0.         0.         1.         0.        ]\n",
      " [0.         0.         0.         1.        ]]\n",
      "[[ 1.          0.          0.         -0.46920065]\n",
      " [ 0.          1.          0.          0.        ]\n",
      " [ 0.          0.          1.          0.        ]\n",
      " [ 0.          0.          0.          1.        ]]\n"
     ]
    }
   ],
   "source": [
    "# calculate camera positions relative to camera0\n",
    "P_rect_00 = dataset.calib.P_rect_00\n",
    "P_rect_10 = dataset.calib.P_rect_10\n",
    "P_rect_20 = dataset.calib.P_rect_20\n",
    "P_rect_30 = dataset.calib.P_rect_30\n",
    "\n",
    "T00 = np.eye(4)\n",
    "T00[0, 3] = P_rect_00[0, 3] / P_rect_00[0, 0]\n",
    "T10 = np.eye(4)\n",
    "T10[0, 3] = P_rect_10[0, 3] / P_rect_10[0, 0]\n",
    "T20 = np.eye(4)\n",
    "T20[0, 3] = P_rect_20[0, 3] / P_rect_20[0, 0]\n",
    "T30 = np.eye(4)\n",
    "T30[0, 3] = P_rect_30[0, 3] / P_rect_30[0, 0]\n",
    "\n",
    "print(T00)\n",
    "print(T10)\n",
    "print(T20)\n",
    "print(T30)"
   ]
  },
  {
   "cell_type": "code",
   "execution_count": null,
   "metadata": {},
   "outputs": [],
   "source": []
  }
 ],
 "metadata": {
  "kernelspec": {
   "display_name": "Python 3 (ipykernel)",
   "language": "python",
   "name": "python3"
  },
  "language_info": {
   "codemirror_mode": {
    "name": "ipython",
    "version": 3
   },
   "file_extension": ".py",
   "mimetype": "text/x-python",
   "name": "python",
   "nbconvert_exporter": "python",
   "pygments_lexer": "ipython3",
   "version": "3.10.5"
  }
 },
 "nbformat": 4,
 "nbformat_minor": 4
}
