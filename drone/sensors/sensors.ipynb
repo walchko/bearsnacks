{
 "cells": [
  {
   "cell_type": "markdown",
   "id": "48762085-66d4-43aa-a1b4-360baeb9d20c",
   "metadata": {},
   "source": [
    "# Sensors"
   ]
  },
  {
   "cell_type": "markdown",
   "id": "0a2c1af6-490a-446b-a2ea-aab2ffb1c56c",
   "metadata": {},
   "source": []
  },
  {
   "cell_type": "markdown",
   "id": "f731a6af-7de8-4f2a-b354-a810ea30c69c",
   "metadata": {},
   "source": [
    "## Accelerometer and Roll/Pitch\n",
    "\n",
    "$$\n",
    "\\textbf{f}^{b} = \\textbf{C}_{n}^{b} \\begin{bmatrix} 0\\\\0\\\\-g \\end{bmatrix} =    \\begin{bmatrix} g\\sin\\theta \\\\ -g\\cos\\theta\\sin\\phi \\\\ -g\\cos\\phi\\cos\\theta \\end{bmatrix}\n",
    "$$\n",
    "\n",
    "$$\n",
    "\\frac {f_y} {f_z} = \\frac {-g\\cos\\theta\\sin\\phi} {-g\\cos\\phi\\cos\\theta} = \\frac {g\\sin\\theta} {g\\cos\\theta} = \\tan \\phi \\\\  \n",
    "\\phi = atan2(-f_y, -f_z) \\\\\n",
    "\\frac {f_x} {\\sqrt{f_y^2 + f_z^2}} = \\frac {g\\sin\\theta}{\\sqrt{g^2\\cos^2\\theta(\\sin^2\\phi + \\cos^2\\phi)}} = \\frac {g\\sin\\theta} {g\\cos\\theta} = \\tan \\theta \\\\\n",
    "\\theta = atan2(f_x, \\sqrt{f_x^2 + f_z^2})\n",
    "$$\n",
    "\n",
    "```python\n",
    "def accelLevel(accelRead):\n",
    "    # Takes accelerometer specific force reading when stationary and estimates\n",
    "    # phi and theta from the gravity vector\n",
    "    fx_b = accelRead[0]\n",
    "    fy_b = accelRead[1]\n",
    "    fz_b = accelRead[2]\n",
    "    phi_est = arctan2(-fy_b,-fz_b)\n",
    "    theta_est = arctan2(fx_b, sqrt(fy_b*fy_b + fz_b*fz_b))\n",
    "    return phi_est, theta_est\n",
    "```"
   ]
  },
  {
   "cell_type": "code",
   "execution_count": null,
   "id": "5cfbab07-5dbc-4c58-adf8-5a2e0d5c9ea6",
   "metadata": {},
   "outputs": [],
   "source": []
  },
  {
   "cell_type": "code",
   "execution_count": null,
   "id": "de63584e-aeaf-463c-b8cd-93d1be66eecb",
   "metadata": {},
   "outputs": [],
   "source": []
  }
 ],
 "metadata": {
  "kernelspec": {
   "display_name": "Python 3 (ipykernel)",
   "language": "python",
   "name": "python3"
  },
  "language_info": {
   "codemirror_mode": {
    "name": "ipython",
    "version": 3
   },
   "file_extension": ".py",
   "mimetype": "text/x-python",
   "name": "python",
   "nbconvert_exporter": "python",
   "pygments_lexer": "ipython3",
   "version": "3.9.10"
  }
 },
 "nbformat": 4,
 "nbformat_minor": 5
}
