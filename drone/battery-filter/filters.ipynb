{
 "cells": [
  {
   "cell_type": "markdown",
   "id": "5ed2456d-294d-4c00-a75b-d45dc23d2d3d",
   "metadata": {},
   "source": [
    "# Battery Sensor Filtering\n",
    "\n",
    "1. voltage divider to lower battery voltage (11.1V) so the microcontroller ADC (3.3V)\n",
    "1. develop a low pass filter (LPF) to remove high frequency due to sudden motor changes\n",
    "    - above voltage divider will change LPF cutoff frequency, so once the voltage divider is found, use the Thevenin resistance as the resistor for the LFP"
   ]
  },
  {
   "cell_type": "markdown",
   "id": "fb95037a-34fc-4412-8c03-9e6474df7502",
   "metadata": {},
   "source": [
    "## Voltage Divider\n",
    "\n",
    "$$\n",
    "V_o = \\frac {R_1 R_2}{R_1 + R_2} V_i \\\\\n",
    "R_1 = R_2 \\left(\\frac {V_i}{V_o} - 1 \\right)\n",
    "$$\n",
    "\n",
    "## Thevenin Resistance\n",
    "\n",
    "$$\n",
    "R_{th} = \\frac {R_1 R_2}{R_1 + R_2}\n",
    "$$\n",
    "\n",
    "## LPF\n",
    "\n",
    "![](pics/rc.webp)\n",
    "\n",
    "$$\n",
    "f_c = \\frac {1}{2 \\pi R_{th} C}\n",
    "$$\n"
   ]
  },
  {
   "cell_type": "code",
   "execution_count": 1,
   "id": "90a937d3-5ef4-4fcc-b1d1-34c53e185487",
   "metadata": {},
   "outputs": [],
   "source": [
    "import numpy as np\n",
    "from matplotlib import pyplot as plt"
   ]
  },
  {
   "cell_type": "code",
   "execution_count": 13,
   "id": "b55f0cb6-462a-4adf-bb68-1b96171cdb36",
   "metadata": {},
   "outputs": [],
   "source": [
    "def filter(vbat,vmcu, r2, fc):\n",
    "    r1 = r2*(vbat / vmcu - 1)\n",
    "    rth = r1*r2/(r1+r2)\n",
    "    c = 1/(2*np.pi*rth*fc)\n",
    "    return r1, c\n",
    "\n",
    "def pfilter(vbat,vmcu, r2, fc):\n",
    "    r,c = filter(vbat,vmcu, r2, fc)\n",
    "    print(f\"R1: {r/1000:.1f} k Ohms\")\n",
    "    print(f\"C: {c*1e9:.1f} nF\")"
   ]
  },
  {
   "cell_type": "code",
   "execution_count": 14,
   "id": "9dd04c7d-2f51-4549-9aa3-3fef5bdfd827",
   "metadata": {},
   "outputs": [
    {
     "name": "stdout",
     "output_type": "stream",
     "text": [
      "R1: 300.0 k Ohms\n",
      "C: 212.2 nF\n"
     ]
    }
   ],
   "source": [
    "pfilter(12.4,3.1,100e3,10)"
   ]
  },
  {
   "cell_type": "code",
   "execution_count": null,
   "id": "2fae762c-39ed-45e4-83ea-65023cc57552",
   "metadata": {},
   "outputs": [],
   "source": []
  }
 ],
 "metadata": {
  "kernelspec": {
   "display_name": "Python 3 (ipykernel)",
   "language": "python",
   "name": "python3"
  },
  "language_info": {
   "codemirror_mode": {
    "name": "ipython",
    "version": 3
   },
   "file_extension": ".py",
   "mimetype": "text/x-python",
   "name": "python",
   "nbconvert_exporter": "python",
   "pygments_lexer": "ipython3",
   "version": "3.10.6"
  }
 },
 "nbformat": 4,
 "nbformat_minor": 5
}
