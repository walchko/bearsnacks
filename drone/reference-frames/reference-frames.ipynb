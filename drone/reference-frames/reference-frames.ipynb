{
 "cells": [
  {
   "cell_type": "markdown",
   "id": "a0c69e66-52ab-4c59-985f-310f061d7423",
   "metadata": {},
   "source": [
    "![]()\n",
    "\n",
    "# Reference Frame\n",
    "\n",
    "Kevin Walchko\n",
    "\n",
    "21 May 2022\n",
    "\n",
    "---\n",
    "\n",
    "A reference frame is a coordinate system that has a origin, orientation and scale which allows us to define vectors. Typically there are many different reference frames attached to different things and we need to move between them. Here we are looking at how vector orientation is changed between the frames. Given the homogenious transform below, which moves between frame a and b, this document only refers to the rotation matrix ($R$) in the upper left.\n",
    "\n",
    "$$\n",
    "H_b^a = \\begin{bmatrix}\n",
    "    R_{3x3} && T_{3x1} \\\\\n",
    "    0_{1x3} && 0\n",
    "\\end{bmatrix}\n",
    "$$\n",
    "\n",
    "## References\n",
    "\n",
    "- [Euler angles and quaternions](https://nbviewer.org/github/walchko/bearsnacks/blob/main/navigation-and-mapping/euler-quaternion/euler-quaternion.ipynb)"
   ]
  },
  {
   "cell_type": "code",
   "execution_count": 1,
   "id": "13a18f44-5259-409f-b9e4-1c56c0e04a46",
   "metadata": {},
   "outputs": [],
   "source": [
    "# for symbolic mathematics\n",
    "import sympy\n",
    "from sympy import symbols, simplify\n",
    "from sympy import latex\n",
    "from sympy import Matrix\n",
    "\n",
    "import numpy as np"
   ]
  },
  {
   "cell_type": "code",
   "execution_count": 2,
   "id": "4f7cec43-ffc6-494f-a158-50178d46d324",
   "metadata": {},
   "outputs": [],
   "source": [
    "x,y,z = symbols(\"x y z\")"
   ]
  },
  {
   "cell_type": "code",
   "execution_count": 3,
   "id": "c030b93b-bd56-410f-8ca8-010bcc187812",
   "metadata": {},
   "outputs": [],
   "source": [
    "# rotate about z-axis\n",
    "Rz = np.array([\n",
    "    [cos(z), sin(z), 0],\n",
    "    [-sin(z), cos(z),0],\n",
    "    [0,0,1]\n",
    "])\n",
    "\n",
    "# rotate about y-axis\n",
    "Ry = np.array([\n",
    "    [cos(y), 0, -sin(y)],\n",
    "    [0,1,0],\n",
    "    [sin(y),0,cos(y)]\n",
    "])\n",
    "\n",
    "# rotate about the x-axis\n",
    "Rx = np.array([\n",
    "    [1,0,0],\n",
    "    [0,cos(x),sin(x)],\n",
    "    [0, -sin(x),cos(x)]\n",
    "])"
   ]
  },
  {
   "cell_type": "markdown",
   "id": "a0d38517-a541-4d15-bca2-ca008791565a",
   "metadata": {},
   "source": [
    "## Aerospace Rotation Matrix\n",
    "\n",
    "Typically, it is common for aerospace systems to use:\n",
    "\n",
    "$$\n",
    "R_{body}^{inertial} = R_{body \\to inertial} = R_{321} = R_x(roll)R_y(pitch)R_z(yaw)\n",
    "$$\n",
    "\n",
    "which transforms vectors in body frame to vectors referenced in a static inertial (or navigation or Earth) frame. To do the inverse, or go from inertial to body frame, you take the transpose:\n",
    "\n",
    "$$\n",
    "R_{inertial}^{body} = R_{321}^T = R_x^T(roll)R_y^T(pitch)R_z^T(yaw)\n",
    "$$"
   ]
  },
  {
   "cell_type": "markdown",
   "id": "ac43d6d2-c88c-4f28-b1ce-3c57f67da132",
   "metadata": {},
   "source": [
    "## Body-to-Inertial Frame Rotation Matrix"
   ]
  },
  {
   "cell_type": "code",
   "execution_count": 4,
   "id": "6018a143-1d0d-4adf-995e-dc348a14a5fb",
   "metadata": {},
   "outputs": [
    {
     "data": {
      "text/latex": [
       "$\\displaystyle \\left[\\begin{matrix}\\cos{\\left(y \\right)} \\cos{\\left(z \\right)} & \\sin{\\left(z \\right)} \\cos{\\left(y \\right)} & - \\sin{\\left(y \\right)}\\\\\\sin{\\left(x \\right)} \\sin{\\left(y \\right)} \\cos{\\left(z \\right)} - \\sin{\\left(z \\right)} \\cos{\\left(x \\right)} & \\sin{\\left(x \\right)} \\sin{\\left(y \\right)} \\sin{\\left(z \\right)} + \\cos{\\left(x \\right)} \\cos{\\left(z \\right)} & \\sin{\\left(x \\right)} \\cos{\\left(y \\right)}\\\\\\sin{\\left(x \\right)} \\sin{\\left(z \\right)} + \\sin{\\left(y \\right)} \\cos{\\left(x \\right)} \\cos{\\left(z \\right)} & - \\sin{\\left(x \\right)} \\cos{\\left(z \\right)} + \\sin{\\left(y \\right)} \\sin{\\left(z \\right)} \\cos{\\left(x \\right)} & \\cos{\\left(x \\right)} \\cos{\\left(y \\right)}\\end{matrix}\\right]$"
      ],
      "text/plain": [
       "Matrix([\n",
       "[                       cos(y)*cos(z),                         sin(z)*cos(y),       -sin(y)],\n",
       "[sin(x)*sin(y)*cos(z) - sin(z)*cos(x),  sin(x)*sin(y)*sin(z) + cos(x)*cos(z), sin(x)*cos(y)],\n",
       "[sin(x)*sin(z) + sin(y)*cos(x)*cos(z), -sin(x)*cos(z) + sin(y)*sin(z)*cos(x), cos(x)*cos(y)]])"
      ]
     },
     "execution_count": 4,
     "metadata": {},
     "output_type": "execute_result"
    }
   ],
   "source": [
    "R321 = Matrix(Rx @ Ry @ Rz)\n",
    "R321"
   ]
  },
  {
   "cell_type": "markdown",
   "id": "84dd6359-63f5-41f3-81f9-dd3b8cba0767",
   "metadata": {},
   "source": [
    "## Inertial-to-Body Frame Rotation Matrix\n",
    "\n",
    "Here we are going to show $R_{321} \\ne R_{123}^T$."
   ]
  },
  {
   "cell_type": "code",
   "execution_count": 5,
   "id": "7f280617-8cb9-43eb-8c6d-aacba40b834c",
   "metadata": {},
   "outputs": [
    {
     "data": {
      "text/latex": [
       "$\\displaystyle \\left[\\begin{matrix}\\cos{\\left(y \\right)} \\cos{\\left(z \\right)} & \\sin{\\left(x \\right)} \\sin{\\left(y \\right)} \\cos{\\left(z \\right)} + \\sin{\\left(z \\right)} \\cos{\\left(x \\right)} & \\sin{\\left(x \\right)} \\sin{\\left(z \\right)} - \\sin{\\left(y \\right)} \\cos{\\left(x \\right)} \\cos{\\left(z \\right)}\\\\- \\sin{\\left(z \\right)} \\cos{\\left(y \\right)} & - \\sin{\\left(x \\right)} \\sin{\\left(y \\right)} \\sin{\\left(z \\right)} + \\cos{\\left(x \\right)} \\cos{\\left(z \\right)} & \\sin{\\left(x \\right)} \\cos{\\left(z \\right)} + \\sin{\\left(y \\right)} \\sin{\\left(z \\right)} \\cos{\\left(x \\right)}\\\\\\sin{\\left(y \\right)} & - \\sin{\\left(x \\right)} \\cos{\\left(y \\right)} & \\cos{\\left(x \\right)} \\cos{\\left(y \\right)}\\end{matrix}\\right]$"
      ],
      "text/plain": [
       "Matrix([\n",
       "[ cos(y)*cos(z),  sin(x)*sin(y)*cos(z) + sin(z)*cos(x), sin(x)*sin(z) - sin(y)*cos(x)*cos(z)],\n",
       "[-sin(z)*cos(y), -sin(x)*sin(y)*sin(z) + cos(x)*cos(z), sin(x)*cos(z) + sin(y)*sin(z)*cos(x)],\n",
       "[        sin(y),                        -sin(x)*cos(y),                        cos(x)*cos(y)]])"
      ]
     },
     "execution_count": 5,
     "metadata": {},
     "output_type": "execute_result"
    }
   ],
   "source": [
    "# often, people think this is the opposite/inverse/transpose of R321, but is is not\n",
    "R123 = Matrix(Rz @ Ry @ Rx)\n",
    "R123"
   ]
  },
  {
   "cell_type": "code",
   "execution_count": 6,
   "id": "05f2d807-335c-4532-ab59-b17d6500b070",
   "metadata": {},
   "outputs": [
    {
     "data": {
      "text/plain": [
       "False"
      ]
     },
     "execution_count": 6,
     "metadata": {},
     "output_type": "execute_result"
    }
   ],
   "source": [
    "# these are not equal and will fail with \"False\"\n",
    "R321 == R123.T"
   ]
  },
  {
   "cell_type": "code",
   "execution_count": 8,
   "id": "1df7ea5f-ad54-4683-9cd2-1af3b427e2e9",
   "metadata": {},
   "outputs": [
    {
     "data": {
      "text/latex": [
       "$\\displaystyle \\left[\\begin{matrix}\\cos{\\left(y \\right)} \\cos{\\left(z \\right)} & \\sin{\\left(x \\right)} \\sin{\\left(y \\right)} \\cos{\\left(z \\right)} - \\sin{\\left(z \\right)} \\cos{\\left(x \\right)} & \\sin{\\left(x \\right)} \\sin{\\left(z \\right)} + \\sin{\\left(y \\right)} \\cos{\\left(x \\right)} \\cos{\\left(z \\right)}\\\\\\sin{\\left(z \\right)} \\cos{\\left(y \\right)} & \\sin{\\left(x \\right)} \\sin{\\left(y \\right)} \\sin{\\left(z \\right)} + \\cos{\\left(x \\right)} \\cos{\\left(z \\right)} & - \\sin{\\left(x \\right)} \\cos{\\left(z \\right)} + \\sin{\\left(y \\right)} \\sin{\\left(z \\right)} \\cos{\\left(x \\right)}\\\\- \\sin{\\left(y \\right)} & \\sin{\\left(x \\right)} \\cos{\\left(y \\right)} & \\cos{\\left(x \\right)} \\cos{\\left(y \\right)}\\end{matrix}\\right]$"
      ],
      "text/plain": [
       "Matrix([\n",
       "[cos(y)*cos(z), sin(x)*sin(y)*cos(z) - sin(z)*cos(x),  sin(x)*sin(z) + sin(y)*cos(x)*cos(z)],\n",
       "[sin(z)*cos(y), sin(x)*sin(y)*sin(z) + cos(x)*cos(z), -sin(x)*cos(z) + sin(y)*sin(z)*cos(x)],\n",
       "[      -sin(y),                        sin(x)*cos(y),                         cos(x)*cos(y)]])"
      ]
     },
     "execution_count": 8,
     "metadata": {},
     "output_type": "execute_result"
    }
   ],
   "source": [
    "# this is the proper way to do this\n",
    "R321T = Matrix(Rz.T @ Ry.T @ Rx.T)\n",
    "R321T"
   ]
  },
  {
   "cell_type": "code",
   "execution_count": 9,
   "id": "be87d853-0528-4a3f-8239-aa0f8fe72f18",
   "metadata": {},
   "outputs": [
    {
     "data": {
      "text/plain": [
       "True"
      ]
     },
     "execution_count": 9,
     "metadata": {},
     "output_type": "execute_result"
    }
   ],
   "source": [
    "# now this should give you a \"True\"\n",
    "R321.T == R321T"
   ]
  },
  {
   "cell_type": "code",
   "execution_count": null,
   "id": "9a426e31-13ab-4de2-bdd2-ceab6a54f6a7",
   "metadata": {},
   "outputs": [],
   "source": []
  }
 ],
 "metadata": {
  "kernelspec": {
   "display_name": "Python 3 (ipykernel)",
   "language": "python",
   "name": "python3"
  },
  "language_info": {
   "codemirror_mode": {
    "name": "ipython",
    "version": 3
   },
   "file_extension": ".py",
   "mimetype": "text/x-python",
   "name": "python",
   "nbconvert_exporter": "python",
   "pygments_lexer": "ipython3",
   "version": "3.9.10"
  }
 },
 "nbformat": 4,
 "nbformat_minor": 5
}
