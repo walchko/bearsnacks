{
 "cells": [
  {
   "cell_type": "markdown",
   "id": "f8e25215-4954-43ca-84cd-005b2c4d2066",
   "metadata": {},
   "source": [
    "![](https://raw.githubusercontent.com/MomsFriendlyRobotCompany/yivo/main/docs/yivo.png)\n",
    "\n",
    "# Yivo\n",
    "\n",
    "Kevin Walchko\n",
    "\n",
    "---"
   ]
  },
  {
   "cell_type": "markdown",
   "id": "c9e1fc3e-93dd-4a52-8283-78beea45773c",
   "metadata": {},
   "source": [
    "This is a derivation off of MSP which seems to be `int`s rather than supporting `float`s for numbers. It also seems rather fragmented with different flavors of MSP. Due to the poor documentation, it is rather confusing.\n",
    "\n",
    "I am going to use some of the ideas of MSP, but I won't really implement it.\n",
    "\n",
    "| Header | Size | Type | Data        | Checksum |\n",
    "|--------|------|------|-------------|----------|\n",
    "| `$K`   | NN   | T    |`uint8_t[NN]`|`uint8_t` |\n",
    "\n",
    "| Part | In Checksum | Type  |\n",
    "|------|-------------|-------|\n",
    "| Header |   | `uint8_t[2]`  |\n",
    "| Size   | x | `uint16_t`    |\n",
    "| Type   | x | `uint8_t`     |\n",
    "| Data   | x | `uint8_t[NN]` |\n",
    "\n",
    "\n",
    "**CHANGE**\n",
    "\n",
    "| 0 | 1 | 2 | 3 | 4 | ... | -1 |\n",
    "|---|---|---|---|---|-----|----|\n",
    "|`$`|`K`| N | N | T | ... | checksum |\n",
    "\n",
    "- Changes:\n",
    "    - header change to `$K`\n",
    "        - Header is changable, but has to be only 2 binary characters\n",
    "    - packet size from 256 (8b) to 65535 (16b)\n",
    "        - HN: high byte\n",
    "        - LN: low byte\n",
    "    - remove `>`, `<`, and `!` which didn't make a lot of sense honestly\n",
    "        - An error message will be identified by a `MsgID`\n",
    "- Keep:\n",
    "    - XOR checksum\n",
    "    - 256 (8b) different packet types\n",
    "    - message ids can be used for request or response\n",
    "    - all commands have response, either data from sensors or just an acknowledgement\n",
    "\n",
    "\n",
    "# References\n",
    "\n",
    "- github: [yivo](https://github.com/MomsFriendlyRobotCompany/yivo)\n",
    "- [Python `struct` format](https://docs.python.org/3/library/struct.html#format-characters)"
   ]
  },
  {
   "cell_type": "code",
   "execution_count": 1,
   "id": "5bc2da0b-0533-4150-8a36-35d5849c1258",
   "metadata": {},
   "outputs": [],
   "source": [
    "# reload library\n",
    "%load_ext autoreload\n",
    "%autoreload 2"
   ]
  },
  {
   "cell_type": "code",
   "execution_count": 78,
   "id": "0468421e-ffb3-4495-9bd1-2b46404d7ff7",
   "metadata": {},
   "outputs": [],
   "source": [
    "from colorama import Fore\n",
    "from yivo import Yivo, MsgIDs, Errors\n",
    "from yivo import num_fields, checksum\n",
    "from yivo.packet import chunk\n",
    "import struct"
   ]
  },
  {
   "cell_type": "code",
   "execution_count": 97,
   "id": "9acbf01e-58a0-4eef-b64d-63820c418f64",
   "metadata": {},
   "outputs": [],
   "source": [
    "def printMsg(msg):\n",
    "    size, msgid, payload, cs = chunk(msg)\n",
    "    print(f\"[ {Fore.MAGENTA}\",MsgIDs(msgid),f\"{Fore.RESET} ]------------------------------\")\n",
    "    print(f\" {Fore.CYAN}Size:{Fore.RESET} {size} bytes\")\n",
    "    print(f\" {Fore.CYAN}Checksum:{Fore.RESET} {cs} / {hex(cs)}\")\n",
    "    print(f\" {Fore.CYAN}Payload:{Fore.RESET} {payload}\")"
   ]
  },
  {
   "cell_type": "code",
   "execution_count": 98,
   "id": "7cc1b785-ba1d-49a8-ad34-9d374efd8aa9",
   "metadata": {},
   "outputs": [
    {
     "name": "stdout",
     "output_type": "stream",
     "text": [
      "[ \u001b[35m MsgIDs.RAW_IMU \u001b[39m ]------------------------------\n",
      " \u001b[36mSize:\u001b[39m 18 bytes\n",
      " \u001b[36mChecksum:\u001b[39m 124 / 0x7c\n",
      " \u001b[36mPayload:\u001b[39m b'\\x00\\x00\\x01\\x00\\x02\\x00\\x03\\x00\\x04\\x00\\x05\\x00\\x06\\x00\\x07\\x00\\x08\\x00'\n",
      "RX: IMU_RAW(ax=0, ay=1, az=2, gx=3, gy=4, gz=5, mx=6, my=7, mz=8)\n"
     ]
    }
   ],
   "source": [
    "rr = Yivo(b'G')\n",
    "msg = rr.pack(MsgIDs.RAW_IMU, range(9))\n",
    "# print(\"TX:\",msg)\n",
    "printMsg(msg)\n",
    "\n",
    "err,_,data = rr.unpack(msg)\n",
    "print(\"RX:\",data)"
   ]
  },
  {
   "cell_type": "code",
   "execution_count": 49,
   "id": "731468a5-13fe-4c78-8c7c-9a483a4f000e",
   "metadata": {},
   "outputs": [
    {
     "name": "stdout",
     "output_type": "stream",
     "text": [
      "TX: b'GK<\\x00\\x8c\\x00\\x00\\x00\\x00\\x00\\x00\\x80?\\x00\\x00\\x00@\\x00\\x00@@\\x00\\x00\\x80@\\x00\\x00\\xa0@\\x00\\x00\\xc0@\\x00\\x00\\xe0@\\x00\\x00\\x00A\\x00\\x00\\x10A\\x00\\x00 A\\x00\\x000A\\x00\\x00@A\\x00\\x00PA\\x0e\\x00\\x00\\x00Q'\n",
      "RX: ImuAGMQT(ax=0.0, ay=1.0, az=2.0, wx=3.0, wy=4.0, wz=5.0, mx=6.0, my=7.0, mz=8.0, qw=9.0, qx=10.0, qy=11.0, qz=12.0, temperature=13.0, ts=14)\n"
     ]
    }
   ],
   "source": [
    "msg = rr.pack(MsgIDs.IMU_AGMQT, range(15))\n",
    "print(\"TX:\",msg)\n",
    "\n",
    "err,_,data = rr.unpack(msg)\n",
    "print(\"RX:\",data)"
   ]
  },
  {
   "cell_type": "code",
   "execution_count": 50,
   "id": "5296afaf-91c8-4ee9-8f03-21ae9b903b9a",
   "metadata": {},
   "outputs": [
    {
     "name": "stdout",
     "output_type": "stream",
     "text": [
      "TX: b'GK\\x00\\x00\\x8c\\x8c'\n",
      "RX: REQUEST(msgid=140)\n"
     ]
    }
   ],
   "source": [
    "msg = rr.pack(MsgIDs.IMU_AGMQT)\n",
    "print(\"TX:\",msg)\n",
    "\n",
    "err,_,data = rr.unpack(msg)\n",
    "print(\"RX:\",data)"
   ]
  },
  {
   "cell_type": "code",
   "execution_count": 6,
   "id": "bee79c08-6287-4413-ad4a-0c5638afeeec",
   "metadata": {},
   "outputs": [
    {
     "name": "stdout",
     "output_type": "stream",
     "text": [
      "MsgIDs.REBOOT\n",
      "MsgIDs.IDENT\n",
      "MsgIDs.STATUS\n",
      "MsgIDs.RAW_IMU\n",
      "MsgIDs.SERVO\n",
      "MsgIDs.MOTOR\n",
      "MsgIDs.RC\n",
      "MsgIDs.RAW_GPS\n",
      "MsgIDs.COMP_GPS\n",
      "MsgIDs.ANALOG\n",
      "MsgIDs.RC_TUNING\n",
      "MsgIDs.PID\n",
      "MsgIDs.POSE\n",
      "MsgIDs.WP\n",
      "MsgIDs.SERVO_CONF\n",
      "MsgIDs.IMU_AGMQT\n",
      "MsgIDs.IMU_AGMT\n",
      "MsgIDs.IMU_AGT\n",
      "MsgIDs.IMU_AT\n",
      "MsgIDs.MAGNETIC\n",
      "MsgIDs.RANGE\n",
      "MsgIDs.TEMP_PRES\n",
      "MsgIDs.SET_PID\n",
      "MsgIDs.SET_RC_TUNING\n",
      "MsgIDs.ACC_CALIBRATION\n",
      "MsgIDs.MAG_CALIBRATION\n",
      "MsgIDs.GYR_CALIBRATION\n",
      "MsgIDs.SET_WP\n",
      "MsgIDs.SET_POSE\n",
      "MsgIDs.SET_MOTOR\n",
      "MsgIDs.YIVO_ERROR\n"
     ]
    }
   ],
   "source": [
    "for msgid in MsgIDs:\n",
    "    print(msgid)"
   ]
  },
  {
   "cell_type": "code",
   "execution_count": 103,
   "id": "f7f24a22-2042-431d-ba56-71f0fc167049",
   "metadata": {},
   "outputs": [
    {
     "name": "stdout",
     "output_type": "stream",
     "text": [
      "[ \u001b[35m MsgIDs.IDENT \u001b[39m ]------------------------------\n",
      " \u001b[36mSize:\u001b[39m 7 bytes\n",
      " \u001b[36mChecksum:\u001b[39m 99 / 0x63\n",
      " \u001b[36mPayload:\u001b[39m b'\\x00\\x01\\x02\\x03\\x00\\x00\\x00'\n",
      "\n",
      ">> IDENT(version=0, multitype=1, msp_version=2, capability=3)\n",
      "\n",
      "[ \u001b[35m MsgIDs.RAW_IMU \u001b[39m ]------------------------------\n",
      " \u001b[36mSize:\u001b[39m 18 bytes\n",
      " \u001b[36mChecksum:\u001b[39m 124 / 0x7c\n",
      " \u001b[36mPayload:\u001b[39m b'\\x00\\x00\\x01\\x00\\x02\\x00\\x03\\x00\\x04\\x00\\x05\\x00\\x06\\x00\\x07\\x00\\x08\\x00'\n",
      "\n",
      ">> IMU_RAW(ax=0, ay=1, az=2, gx=3, gy=4, gz=5, mx=6, my=7, mz=8)\n",
      "\n",
      "[ \u001b[35m MsgIDs.IMU_AGMQT \u001b[39m ]------------------------------\n",
      " \u001b[36mSize:\u001b[39m 60 bytes\n",
      " \u001b[36mChecksum:\u001b[39m 81 / 0x51\n",
      " \u001b[36mPayload:\u001b[39m b'\\x00\\x00\\x00\\x00\\x00\\x00\\x80?\\x00\\x00\\x00@\\x00\\x00@@\\x00\\x00\\x80@\\x00\\x00\\xa0@\\x00\\x00\\xc0@\\x00\\x00\\xe0@\\x00\\x00\\x00A\\x00\\x00\\x10A\\x00\\x00 A\\x00\\x000A\\x00\\x00@A\\x00\\x00PA\\x0e\\x00\\x00\\x00'\n",
      "\n",
      ">> ImuAGMQT(ax=0.0, ay=1.0, az=2.0, wx=3.0, wy=4.0, wz=5.0, mx=6.0, my=7.0, mz=8.0, qw=9.0, qx=10.0, qy=11.0, qz=12.0, temperature=13.0, ts=14)\n",
      "\n",
      "[ \u001b[35m MsgIDs.IMU_AGMT \u001b[39m ]------------------------------\n",
      " \u001b[36mSize:\u001b[39m 44 bytes\n",
      " \u001b[36mChecksum:\u001b[39m 68 / 0x44\n",
      " \u001b[36mPayload:\u001b[39m b'\\x00\\x00\\x00\\x00\\x00\\x00\\x80?\\x00\\x00\\x00@\\x00\\x00@@\\x00\\x00\\x80@\\x00\\x00\\xa0@\\x00\\x00\\xc0@\\x00\\x00\\xe0@\\x00\\x00\\x00A\\x00\\x00\\x10A\\n\\x00\\x00\\x00'\n",
      "\n",
      ">> ImuAGMT(ax=0.0, ay=1.0, az=2.0, wx=3.0, wy=4.0, wz=5.0, mx=6.0, my=7.0, mz=8.0, temperature=9.0, ts=10)\n",
      "\n",
      "[ \u001b[35m MsgIDs.IMU_AGT \u001b[39m ]------------------------------\n",
      " \u001b[36mSize:\u001b[39m 32 bytes\n",
      " \u001b[36mChecksum:\u001b[39m 246 / 0xf6\n",
      " \u001b[36mPayload:\u001b[39m b'\\x00\\x00\\x00\\x00\\x00\\x00\\x80?\\x00\\x00\\x00@\\x00\\x00@@\\x00\\x00\\x80@\\x00\\x00\\xa0@\\x00\\x00\\xc0@\\x07\\x00\\x00\\x00'\n",
      "\n",
      ">> ImuAGT(ax=0.0, ay=1.0, az=2.0, wx=3.0, wy=4.0, wz=5.0, temperature=6.0, ts=7)\n",
      "\n",
      "[ \u001b[35m MsgIDs.MAGNETIC \u001b[39m ]------------------------------\n",
      " \u001b[36mSize:\u001b[39m 12 bytes\n",
      " \u001b[36mChecksum:\u001b[39m 99 / 0x63\n",
      " \u001b[36mPayload:\u001b[39m b'\\x00\\x00\\x00\\x00\\x00\\x00\\x80?\\x00\\x00\\x00@'\n",
      "\n",
      ">> MagneticField(mx=0.0, my=1.0, mz=2.0)\n",
      "\n",
      "[ \u001b[35m MsgIDs.TEMP_PRES \u001b[39m ]------------------------------\n",
      " \u001b[36mSize:\u001b[39m 8 bytes\n",
      " \u001b[36mChecksum:\u001b[39m 36 / 0x24\n",
      " \u001b[36mPayload:\u001b[39m b'\\x00\\x00\\x00\\x00\\x00\\x00\\x80?'\n",
      "\n",
      ">> TemperaturePressure(temperature=0.0, pressure=1.0)\n",
      "\n",
      "[ \u001b[35m MsgIDs.ACC_CALIBRATION \u001b[39m ]------------------------------\n",
      " \u001b[36mSize:\u001b[39m 24 bytes\n",
      " \u001b[36mChecksum:\u001b[39m 10 / 0xa\n",
      " \u001b[36mPayload:\u001b[39m b'\\x00\\x00\\x00\\x00\\x00\\x00\\x80?\\x00\\x00\\x00@\\x00\\x00@@\\x00\\x00\\x80@\\x00\\x00\\xa0@'\n",
      "\n",
      ">> CALIBRATION(bx=0.0, by=1.0, bz=2.0, sx=3.0, sy=4.0, sz=5.0)\n",
      "\n",
      "[ \u001b[35m MsgIDs.MAG_CALIBRATION \u001b[39m ]------------------------------\n",
      " \u001b[36mSize:\u001b[39m 24 bytes\n",
      " \u001b[36mChecksum:\u001b[39m 9 / 0x9\n",
      " \u001b[36mPayload:\u001b[39m b'\\x00\\x00\\x00\\x00\\x00\\x00\\x80?\\x00\\x00\\x00@\\x00\\x00@@\\x00\\x00\\x80@\\x00\\x00\\xa0@'\n",
      "\n",
      ">> CALIBRATION(bx=0.0, by=1.0, bz=2.0, sx=3.0, sy=4.0, sz=5.0)\n",
      "\n",
      "[ \u001b[35m MsgIDs.GYR_CALIBRATION \u001b[39m ]------------------------------\n",
      " \u001b[36mSize:\u001b[39m 24 bytes\n",
      " \u001b[36mChecksum:\u001b[39m 8 / 0x8\n",
      " \u001b[36mPayload:\u001b[39m b'\\x00\\x00\\x00\\x00\\x00\\x00\\x80?\\x00\\x00\\x00@\\x00\\x00@@\\x00\\x00\\x80@\\x00\\x00\\xa0@'\n",
      "\n",
      ">> CALIBRATION(bx=0.0, by=1.0, bz=2.0, sx=3.0, sy=4.0, sz=5.0)\n",
      "\n",
      "[ \u001b[35m MsgIDs.YIVO_ERROR \u001b[39m ]------------------------------\n",
      " \u001b[36mSize:\u001b[39m 1 bytes\n",
      " \u001b[36mChecksum:\u001b[39m 251 / 0xfb\n",
      " \u001b[36mPayload:\u001b[39m b'\\x00'\n",
      "\n",
      ">> YivoError(error=0)\n",
      "\n"
     ]
    }
   ],
   "source": [
    "def test_yivo():\n",
    "    rr = Yivo()\n",
    "    for k,v in list(Yivo.msgInfo.items()):\n",
    "        # print(f\"[ {Fore.GREEN}{k}{Fore.RESET} ]--------------------------------\")\n",
    "        fmt, obj = v\n",
    "        # size = fmt.size - 6\n",
    "        testsz = num_fields(obj)\n",
    "        msg = rr.pack(k, range( testsz ))\n",
    "        # print(f\"  TX: {Fore.CYAN}{msg}{Fore.RESET}\")\n",
    "        printMsg(msg)\n",
    "\n",
    "        err,_,data = rr.unpack(msg)\n",
    "        if err > 0:\n",
    "            print(\"Invalid msg:\", err)\n",
    "            break\n",
    "        print(f\"\\n>> {data}\\n\")\n",
    "        assert tuple(data) == tuple([float(x) for x in range(testsz)])\n",
    "        \n",
    "test_yivo()"
   ]
  },
  {
   "cell_type": "code",
   "execution_count": null,
   "id": "8ba62b24-53c5-435d-924d-c76bc306d727",
   "metadata": {},
   "outputs": [],
   "source": []
  },
  {
   "cell_type": "code",
   "execution_count": 54,
   "id": "3cf32928-7ccb-4e2d-b58c-3fa3ed054bb8",
   "metadata": {},
   "outputs": [],
   "source": [
    "from serial import Serial\n",
    "import time"
   ]
  },
  {
   "cell_type": "code",
   "execution_count": 149,
   "id": "847a2597-6b6a-4c63-9413-44c5b397667d",
   "metadata": {},
   "outputs": [
    {
     "name": "stdout",
     "output_type": "stream",
     "text": [
      "b'$K\\x00\\x00\\x8f\\x8f'\n",
      "deque([b'$', b'K'], maxlen=2) b'\\x14\\x00' b'\\x8f' b'\\xcd\\xcc\\x8c?\\xcd\\xcc\\x0c@33S@\\xcd\\xcc\\x8c@Rd\\x00\\x00' b'\\x8c'\n",
      ">> ImuAT(ax=1.100000023841858, ay=2.200000047683716, az=3.299999952316284, temperature=4.400000095367432, ts=25682)\n"
     ]
    }
   ],
   "source": [
    "ser = Serial()\n",
    "ser.port = \"/dev/tty.usbmodem14601\"\n",
    "ser.baud = 9600\n",
    "ser.timeout = 0.1\n",
    "ser.open()\n",
    "if not ser.is_open:\n",
    "    print(\"serial not opened\")\n",
    "\n",
    "yivo = Yivo()\n",
    "msg = yivo.pack(MsgIDs.IMU_AT)\n",
    "print(msg)\n",
    "ser.write(msg)\n",
    "# ser.write(b\"g\")\n",
    "\n",
    "retry = 5\n",
    "while retry:\n",
    "    if ser.in_waiting > 5:\n",
    "        break\n",
    "    time.sleep(0.1)\n",
    "    retry -= 1\n",
    "    \n",
    "if retry > 0:\n",
    "    msg = yivo.read_packet(ser)\n",
    "    if msg is None:\n",
    "        print(\"Crap!\")\n",
    "    else:\n",
    "        print(\">>\",msg)\n",
    "else:\n",
    "    print(\"Crap ... nothing recv'd\")\n",
    "    \n",
    "ser.close()"
   ]
  },
  {
   "cell_type": "code",
   "execution_count": 140,
   "id": "ed2153c3-ac2a-4840-b1dd-8698ecfafc78",
   "metadata": {},
   "outputs": [
    {
     "data": {
      "text/plain": [
       "b'\\x14\\x00\\x8f'"
      ]
     },
     "execution_count": 140,
     "metadata": {},
     "output_type": "execute_result"
    }
   ],
   "source": [
    "ser.close()\n",
    "b''.join([b'\\x14\\x00', b'\\x8f'])"
   ]
  },
  {
   "cell_type": "code",
   "execution_count": 127,
   "id": "f55d144a-d599-4359-bc02-1c8e2649040a",
   "metadata": {},
   "outputs": [
    {
     "data": {
      "text/plain": [
       "(<Errors.NONE: 0>,\n",
       " 143,\n",
       " ImuAT(ax=1.100000023841858, ay=2.200000047683716, az=3.299999952316284, temperature=4.400000095367432, ts=1))"
      ]
     },
     "execution_count": 127,
     "metadata": {},
     "output_type": "execute_result"
    }
   ],
   "source": [
    "# pkt = b'$K\\x00\\x14\\x8f\\xcd\\xcc\\x8c?\\xcd\\xcc\\x0c@33S@\\xcd\\xcc\\x8c'\n",
    "pkt = b'$K\\x14\\x00\\x8f\\xcd\\xcc\\x8c?\\xcd\\xcc\\x0c@33S@\\xcd\\xcc\\x8c@\\x01\\x00\\x00\\x00\\xbb'\n",
    "yivo.unpack(pkt)"
   ]
  },
  {
   "cell_type": "code",
   "execution_count": 129,
   "id": "2a70eec9-0bab-4802-9ef1-5fb5f9a12928",
   "metadata": {},
   "outputs": [
    {
     "name": "stdout",
     "output_type": "stream",
     "text": [
      "[ \u001b[35m MsgIDs.IMU_AT \u001b[39m ]------------------------------\n",
      " \u001b[36mSize:\u001b[39m 20 bytes\n",
      " \u001b[36mChecksum:\u001b[39m 187 / 0xbb\n",
      " \u001b[36mPayload:\u001b[39m b'\\xcd\\xcc\\x8c?\\xcd\\xcc\\x0c@33S@\\xcd\\xcc\\x8c@\\x01\\x00\\x00\\x00'\n"
     ]
    }
   ],
   "source": [
    "printMsg(pkt)"
   ]
  },
  {
   "cell_type": "code",
   "execution_count": 105,
   "id": "c7e9e908-a390-4d6e-ba62-2213b176ebba",
   "metadata": {},
   "outputs": [
    {
     "name": "stdout",
     "output_type": "stream",
     "text": [
      "deque([1], maxlen=2)\n",
      "deque([1, 2], maxlen=2)\n",
      "deque([2, 3], maxlen=2)\n"
     ]
    }
   ],
   "source": [
    "from collections import deque\n",
    "\n",
    "r = deque(maxlen=2)\n",
    "r.append(1)\n",
    "print(r)\n",
    "r.append(2)\n",
    "print(r)\n",
    "r.append(3)\n",
    "print(r)"
   ]
  },
  {
   "cell_type": "code",
   "execution_count": 136,
   "id": "5bbb4868-e59f-4d71-ada7-4587e7a0aaf0",
   "metadata": {},
   "outputs": [
    {
     "ename": "TypeError",
     "evalue": "sequence item 2: expected a bytes-like object, int found",
     "output_type": "error",
     "traceback": [
      "\u001b[0;31m---------------------------------------------------------------------------\u001b[0m",
      "\u001b[0;31mTypeError\u001b[0m                                 Traceback (most recent call last)",
      "Cell \u001b[0;32mIn [136], line 1\u001b[0m\n\u001b[0;32m----> 1\u001b[0m \u001b[38;5;124;43mb\u001b[39;49m\u001b[38;5;124;43m'\u001b[39;49m\u001b[38;5;124;43m'\u001b[39;49m\u001b[38;5;241;43m.\u001b[39;49m\u001b[43mjoin\u001b[49m\u001b[43m(\u001b[49m\u001b[43m[\u001b[49m\u001b[38;5;124;43mb\u001b[39;49m\u001b[38;5;124;43m'\u001b[39;49m\u001b[38;5;124;43m1\u001b[39;49m\u001b[38;5;124;43m'\u001b[39;49m\u001b[43m,\u001b[49m\u001b[38;5;124;43mb\u001b[39;49m\u001b[38;5;124;43m'\u001b[39;49m\u001b[38;5;124;43m2\u001b[39;49m\u001b[38;5;124;43m'\u001b[39;49m\u001b[43m]\u001b[49m\u001b[43m \u001b[49m\u001b[38;5;241;43m+\u001b[39;49m\u001b[43m \u001b[49m\u001b[38;5;28;43mlist\u001b[39;49m\u001b[43m(\u001b[49m\u001b[43mdeque\u001b[49m\u001b[43m(\u001b[49m\u001b[43m[\u001b[49m\u001b[38;5;241;43m3\u001b[39;49m\u001b[43m,\u001b[49m\u001b[38;5;241;43m4\u001b[39;49m\u001b[43m]\u001b[49m\u001b[43m)\u001b[49m\u001b[43m)\u001b[49m\u001b[43m)\u001b[49m\n",
      "\u001b[0;31mTypeError\u001b[0m: sequence item 2: expected a bytes-like object, int found"
     ]
    }
   ],
   "source": [
    "b''.join([b'1',b'2'] + list(deque([3,4])))"
   ]
  },
  {
   "cell_type": "code",
   "execution_count": null,
   "id": "ebf1dcde-0cfc-461e-b72a-c6c0e9a31ce4",
   "metadata": {},
   "outputs": [],
   "source": []
  }
 ],
 "metadata": {
  "kernelspec": {
   "display_name": "Python 3 (ipykernel)",
   "language": "python",
   "name": "python3"
  },
  "language_info": {
   "codemirror_mode": {
    "name": "ipython",
    "version": 3
   },
   "file_extension": ".py",
   "mimetype": "text/x-python",
   "name": "python",
   "nbconvert_exporter": "python",
   "pygments_lexer": "ipython3",
   "version": "3.10.6"
  }
 },
 "nbformat": 4,
 "nbformat_minor": 5
}
