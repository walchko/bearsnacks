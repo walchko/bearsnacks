{
 "cells": [
  {
   "cell_type": "markdown",
   "id": "f8e25215-4954-43ca-84cd-005b2c4d2066",
   "metadata": {},
   "source": [
    "![](https://raw.githubusercontent.com/MomsFriendlyRobotCompany/yivo/main/docs/yivo.png)\n",
    "\n",
    "# Yivo\n",
    "\n",
    "Kevin Walchko\n",
    "\n",
    "---"
   ]
  },
  {
   "cell_type": "markdown",
   "id": "c9e1fc3e-93dd-4a52-8283-78beea45773c",
   "metadata": {},
   "source": [
    "This is a derivation off of MSP which seems to be `int`s rather than supporting `float`s for numbers.\n",
    "\n",
    "I am going to use some of the ideas of MSP, but I won't really implement it.\n",
    "\n",
    "| Header | Data | Checksum |\n",
    "|--------|------|----------|\n",
    "| `$M[>,<,!]NT` | `uint8_t[N]`|`uint8_t`|\n",
    "\n",
    "| 0 | 1 | 2 | 3 | 4 | ... | -1 |\n",
    "|---|---|---|---|---|-----|----|\n",
    "|`$`|`M`| D | N | T | ... | checksum |\n",
    "\n",
    "| Use    |Header|data length|code|data|checksum|\n",
    "|--------|------|-----------|----|----|--------|\n",
    "|Request Output | `$M>`| N | T | data | chksum |\n",
    "|Response Input | `$M<`| N | T | data | chksum |\n",
    "|Error   | `$M!`| 0 | error code | `None` | chksum |\n",
    "|Format  |`uint8_t[3]`|`uint8_t`|`uint8_t`|`uint8_t[N]`|`uint8_t`|\n",
    "\n",
    "data length can be 0 in case of no param command\n",
    "\n",
    "# References\n",
    "\n",
    "- github: [yivo](https://github.com/MomsFriendlyRobotCompany/yivo)\n",
    "- [MSPv2](https://github.com/iNavFlight/inav/wiki/MSP-V2)\n",
    "- github: [MSP(C++)](https://github.com/christianrauch/msp)\n",
    "- [Python `struct` format](https://docs.python.org/3/library/struct.html#format-characters)\n",
    "- [MSP-Python3](https://github.com/LukeARohl/MSP-Python3)\n",
    "- github: [Betaflight MSP](https://github.com/betaflight/betaflight/tree/master/src/main/msp)\n",
    "- github: [MultiWii_2_4](https://github.com/xdu-aero-association/MultiWii_2_4)"
   ]
  },
  {
   "cell_type": "code",
   "execution_count": 7,
   "id": "5bc2da0b-0533-4150-8a36-35d5849c1258",
   "metadata": {},
   "outputs": [
    {
     "name": "stdout",
     "output_type": "stream",
     "text": [
      "The autoreload extension is already loaded. To reload it, use:\n",
      "  %reload_ext autoreload\n"
     ]
    }
   ],
   "source": [
    "# reload library\n",
    "%load_ext autoreload\n",
    "%autoreload 2"
   ]
  },
  {
   "cell_type": "code",
   "execution_count": 2,
   "id": "0468421e-ffb3-4495-9bd1-2b46404d7ff7",
   "metadata": {},
   "outputs": [
    {
     "name": "stdout",
     "output_type": "stream",
     "text": [
      "TX: b'$M>$f\\x00\\x00\\x00\\x00\\x00\\x00\\x80?\\x00\\x00\\x00@\\x00\\x00@@\\x00\\x00\\x80@\\x00\\x00\\xa0@\\x00\\x00\\xc0@\\x00\\x00\\xe0@\\x00\\x00\\x00A\\xfc'\n",
      "RX: IMU_RAW(ax=0.0, ay=1.0, az=2.0, gx=3.0, gy=4.0, gz=5.0, mx=6.0, my=7.0, mz=8.0)\n"
     ]
    }
   ],
   "source": [
    "from colorama import Fore\n",
    "from yivo import Yivo, MsgIDs, checksum\n",
    "\n",
    "rr = Yivo()\n",
    "msg = rr.pack(MsgIDs.RAW_IMU, range(9))\n",
    "print(\"TX:\",msg)\n",
    "\n",
    "data = rr.unpack(msg)\n",
    "print(\"RX:\",data)"
   ]
  },
  {
   "cell_type": "code",
   "execution_count": 3,
   "id": "731468a5-13fe-4c78-8c7c-9a483a4f000e",
   "metadata": {},
   "outputs": [
    {
     "name": "stdout",
     "output_type": "stream",
     "text": [
      "TX: b'$M><\\x8c\\x00\\x00\\x00\\x00\\x00\\x00\\x80?\\x00\\x00\\x00@\\x00\\x00@@\\x00\\x00\\x80@\\x00\\x00\\xa0@\\x00\\x00\\xc0@\\x00\\x00\\xe0@\\x00\\x00\\x00A\\x00\\x00\\x10A\\x00\\x00 A\\x00\\x000A\\x00\\x00@A\\x00\\x00PA\\x0e\\x00\\x00\\x00Q'\n",
      "RX: ImuAGMQT(ax=0.0, ay=1.0, az=2.0, wx=3.0, wy=4.0, wz=5.0, mx=6.0, my=7.0, mz=8.0, qw=9.0, qx=10.0, qy=11.0, qz=12.0, temperature=13.0, ts=14)\n"
     ]
    }
   ],
   "source": [
    "msg = rr.pack(MsgIDs.IMU_AGMQT, range(15))\n",
    "print(\"TX:\",msg)\n",
    "\n",
    "data = rr.unpack(msg)\n",
    "print(\"RX:\",data)"
   ]
  },
  {
   "cell_type": "code",
   "execution_count": 4,
   "id": "bee79c08-6287-4413-ad4a-0c5638afeeec",
   "metadata": {},
   "outputs": [
    {
     "name": "stdout",
     "output_type": "stream",
     "text": [
      "MsgIDs.CALIBRATION_DATA\n",
      "MsgIDs.SET_CALIBRATION_DATA\n",
      "MsgIDs.REBOOT\n",
      "MsgIDs.IDENT\n",
      "MsgIDs.STATUS\n",
      "MsgIDs.RAW_IMU\n",
      "MsgIDs.SERVO\n",
      "MsgIDs.MOTOR\n",
      "MsgIDs.RC\n",
      "MsgIDs.RAW_GPS\n",
      "MsgIDs.COMP_GPS\n",
      "MsgIDs.ATTITUDE\n",
      "MsgIDs.ALTITUDE\n",
      "MsgIDs.ANALOG\n",
      "MsgIDs.RC_TUNING\n",
      "MsgIDs.PID\n",
      "MsgIDs.MOTOR_PINS\n",
      "MsgIDs.WP\n",
      "MsgIDs.SERVO_CONF\n",
      "MsgIDs.IMU_AGMQT\n",
      "MsgIDs.IMU_AGMT\n",
      "MsgIDs.IMU_AGT\n",
      "MsgIDs.MAGNETIC\n",
      "MsgIDs.RANGE\n",
      "MsgIDs.TEMP_PRES\n",
      "MsgIDs.SET_RAW_RC\n",
      "MsgIDs.SET_RAW_GPS\n",
      "MsgIDs.SET_PID\n",
      "MsgIDs.SET_BOX\n",
      "MsgIDs.SET_RC_TUNING\n",
      "MsgIDs.ACC_CALIBRATION\n",
      "MsgIDs.MAG_CALIBRATION\n",
      "MsgIDs.SET_WP\n",
      "MsgIDs.SET_HEAD\n",
      "MsgIDs.SET_MOTOR\n"
     ]
    }
   ],
   "source": [
    "for msgid in MsgIDs:\n",
    "    print(msgid)"
   ]
  },
  {
   "cell_type": "code",
   "execution_count": 26,
   "id": "f7f24a22-2042-431d-ba56-71f0fc167049",
   "metadata": {},
   "outputs": [
    {
     "name": "stdout",
     "output_type": "stream",
     "text": [
      "[ \u001b[32m100\u001b[39m ]--------------------------------\n",
      "  TX: \u001b[36mb'$M>\\x07d\\x00\\x01\\x02\\x03\\x00\\x00\\x00c'\u001b[39m\n",
      "  RX: IDENT(version=0, multitype=1, msp_version=2, capability=3)\n",
      "[ \u001b[32m102\u001b[39m ]--------------------------------\n",
      "  TX: \u001b[36mb'$M>\\x12f\\x00\\x00\\x01\\x00\\x02\\x00\\x03\\x00\\x04\\x00\\x05\\x00\\x06\\x00\\x07\\x00\\x08\\x00|'\u001b[39m\n",
      "  RX: IMU_RAW(ax=0, ay=1, az=2, gx=3, gy=4, gz=5, mx=6, my=7, mz=8)\n",
      "[ \u001b[32m140\u001b[39m ]--------------------------------\n",
      "  TX: \u001b[36mb'$M><\\x8c\\x00\\x00\\x00\\x00\\x00\\x00\\x80?\\x00\\x00\\x00@\\x00\\x00@@\\x00\\x00\\x80@\\x00\\x00\\xa0@\\x00\\x00\\xc0@\\x00\\x00\\xe0@\\x00\\x00\\x00A\\x00\\x00\\x10A\\x00\\x00 A\\x00\\x000A\\x00\\x00@A\\x00\\x00PA\\x0e\\x00\\x00\\x00Q'\u001b[39m\n",
      "  RX: ImuAGMQT(ax=0.0, ay=1.0, az=2.0, wx=3.0, wy=4.0, wz=5.0, mx=6.0, my=7.0, mz=8.0, qw=9.0, qx=10.0, qy=11.0, qz=12.0, temperature=13.0, ts=14)\n",
      "[ \u001b[32m141\u001b[39m ]--------------------------------\n",
      "  TX: \u001b[36mb'$M>,\\x8d\\x00\\x00\\x00\\x00\\x00\\x00\\x80?\\x00\\x00\\x00@\\x00\\x00@@\\x00\\x00\\x80@\\x00\\x00\\xa0@\\x00\\x00\\xc0@\\x00\\x00\\xe0@\\x00\\x00\\x00A\\x00\\x00\\x10A\\n\\x00\\x00\\x00D'\u001b[39m\n",
      "  RX: ImuAGMT(ax=0.0, ay=1.0, az=2.0, wx=3.0, wy=4.0, wz=5.0, mx=6.0, my=7.0, mz=8.0, temperature=9.0, ts=10)\n",
      "[ \u001b[32m142\u001b[39m ]--------------------------------\n",
      "  TX: \u001b[36mb'$M> \\x8e\\x00\\x00\\x00\\x00\\x00\\x00\\x80?\\x00\\x00\\x00@\\x00\\x00@@\\x00\\x00\\x80@\\x00\\x00\\xa0@\\x00\\x00\\xc0@\\x07\\x00\\x00\\x00\\xf6'\u001b[39m\n",
      "  RX: ImuAGT(ax=0.0, ay=1.0, az=2.0, wx=3.0, wy=4.0, wz=5.0, temperature=6.0, ts=7)\n",
      "[ \u001b[32m143\u001b[39m ]--------------------------------\n",
      "  TX: \u001b[36mb'$M>\\x0c\\x8f\\x00\\x00\\x00\\x00\\x00\\x00\\x80?\\x00\\x00\\x00@|'\u001b[39m\n",
      "  RX: MagneticField(mx=0.0, my=1.0, mz=2.0)\n",
      "[ \u001b[32m146\u001b[39m ]--------------------------------\n",
      "  TX: \u001b[36mb'$M>\\x08\\x92\\x00\\x00\\x00\\x00\\x00\\x00\\x80?%'\u001b[39m\n",
      "  RX: TemperaturePressure(temperature=0.0, pressure=1.0)\n",
      "[ \u001b[32m205\u001b[39m ]--------------------------------\n",
      "  TX: \u001b[36mb'$M<\\x18\\xcd\\x00\\x00\\x00\\x00\\x00\\x00\\x80?\\x00\\x00\\x00@\\x00\\x00@@\\x00\\x00\\x80@\\x00\\x00\\xa0@\\n'\u001b[39m\n",
      "  RX: CALIBRATION(bx=0.0, by=1.0, bz=2.0, sx=3.0, sy=4.0, sz=5.0)\n",
      "[ \u001b[32m206\u001b[39m ]--------------------------------\n",
      "  TX: \u001b[36mb'$M<\\x18\\xce\\x00\\x00\\x00\\x00\\x00\\x00\\x80?\\x00\\x00\\x00@\\x00\\x00@@\\x00\\x00\\x80@\\x00\\x00\\xa0@\\t'\u001b[39m\n",
      "  RX: CALIBRATION(bx=0.0, by=1.0, bz=2.0, sx=3.0, sy=4.0, sz=5.0)\n",
      "[ \u001b[32m207\u001b[39m ]--------------------------------\n",
      "  TX: \u001b[36mb'$M<\\x18\\xcf\\x00\\x00\\x00\\x00\\x00\\x00\\x80?\\x00\\x00\\x00@\\x00\\x00@@\\x00\\x00\\x80@\\x00\\x00\\xa0@\\x08'\u001b[39m\n",
      "  RX: CALIBRATION(bx=0.0, by=1.0, bz=2.0, sx=3.0, sy=4.0, sz=5.0)\n"
     ]
    }
   ],
   "source": [
    "def test_yivo():\n",
    "    rr = Yivo()\n",
    "    for k,v in list(Yivo.msgInfo.items()):\n",
    "        print(f\"[ {Fore.GREEN}{k}{Fore.RESET} ]--------------------------------\")\n",
    "        fmt, obj = v\n",
    "        size = fmt.size - 6\n",
    "        testsz = len(obj._fields)\n",
    "        msg = rr.pack(k, range( testsz ))\n",
    "        print(f\"  TX: {Fore.CYAN}{msg}{Fore.RESET}\")\n",
    "        # print(f\"  {len(msg[5:-1])} ?? {size}\")\n",
    "        # print(\"  cs again\", checksum(size,k,msg[5:-1]), f\"?? {msg[-1]}\")\n",
    "        # print(f\"  {k} ?? {msg[4]}\")\n",
    "\n",
    "        data = rr.unpack(msg)\n",
    "        print(f\"  RX: {data}\")\n",
    "        assert tuple(data) == tuple([float(x) for x in range(testsz)])\n",
    "        \n",
    "test_yivo()"
   ]
  },
  {
   "cell_type": "code",
   "execution_count": null,
   "id": "8ba62b24-53c5-435d-924d-c76bc306d727",
   "metadata": {},
   "outputs": [],
   "source": []
  },
  {
   "cell_type": "code",
   "execution_count": null,
   "id": "3cf32928-7ccb-4e2d-b58c-3fa3ed054bb8",
   "metadata": {},
   "outputs": [],
   "source": []
  },
  {
   "cell_type": "code",
   "execution_count": null,
   "id": "847a2597-6b6a-4c63-9413-44c5b397667d",
   "metadata": {},
   "outputs": [],
   "source": []
  }
 ],
 "metadata": {
  "kernelspec": {
   "display_name": "Python 3 (ipykernel)",
   "language": "python",
   "name": "python3"
  },
  "language_info": {
   "codemirror_mode": {
    "name": "ipython",
    "version": 3
   },
   "file_extension": ".py",
   "mimetype": "text/x-python",
   "name": "python",
   "nbconvert_exporter": "python",
   "pygments_lexer": "ipython3",
   "version": "3.10.6"
  }
 },
 "nbformat": 4,
 "nbformat_minor": 5
}
