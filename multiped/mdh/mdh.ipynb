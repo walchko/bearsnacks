{
 "cells": [
  {
   "cell_type": "markdown",
   "metadata": {},
   "source": [
    "![](header.jpg)\n",
    "\n",
    "# Modified Davient-Hartenberg Equations\n",
    "\n",
    "Kevin Walchko, Phd\n",
    "\n",
    "10 July 2017\n",
    "\n",
    "---\n",
    "\n",
    "Denavit Hartenberg (DH) is an attempt to standardize how we represent serial manipulators (i.e., robot arms). It is typically one of the first ways you learn. It is really easy (methodical) to do forward kinematics, but becomes more challenging when doing inverse kinematics. Here we are going to introduce what is goning on, but you need to focus on the DH process. If you follow the process, then all will work out fine. Don't get too hung up on the begining math, understand the concepts so you can follow the DH process.\n",
    "\n",
    "## References\n",
    "\n",
    "- Wikipedia: [Modified DH](https://en.wikipedia.org/wiki/Denavit%E2%80%93Hartenberg_parameters#Modified_DH_parameters)\n",
    "- [darpa robot challenge](https://www.youtube.com/watch?v=diaZFIUBMBQ)\n",
    "- [darpa robot fails](https://youtu.be/wX0KagJ1du8)\n",
    "- [Walking robot](https://vimeo.com/194676675)"
   ]
  },
  {
   "cell_type": "markdown",
   "metadata": {},
   "source": [
    "\n",
    "$$\n",
    "T^A_B = \\begin{bmatrix}\n",
    "   & R^A_B & & P^A_B \\\\\n",
    "  0 & 0 & 0 & 1\n",
    "\\end{bmatrix} \\\\\n",
    "\\begin{bmatrix}\n",
    "  P^A \\\\\n",
    "  1\n",
    "\\end{bmatrix} = \n",
    "T^A_B\n",
    "\\begin{bmatrix}\n",
    "  P^B \\\\\n",
    "  1\n",
    "\\end{bmatrix}\n",
    "$$\n",
    "\n",
    "![](https://upload.wikimedia.org/wikipedia/commons/thumb/d/d8/DHParameter.png/609px-DHParameter.png)\n",
    "\n",
    "## Process (Craig, section 3.4 & 3.6, pg 67)\n",
    "\n",
    "Now the process laid out in Craig's book, defines some parameters for eash link in a robot arm:\n",
    "\n",
    "| | | |\n",
    "|------------|:--------------|:------------------------------------------------------|\n",
    "| $a_i$      | link length   | distance from $z_i$ to $z_{i+1}$ measured along $x_i$ |\n",
    "| $d_i$      | offset        | distance from $x_{i-1}$ to $x_i$ along $z_i$          |\n",
    "| $\\alpha_i$ | twist         | angle from $z_i$ to $z_{i+1}$ measured about $x_i$    |\n",
    "| $\\theta_i$ | rotation      | angle from $x_{i−1}$ to $x_i$ measured about $z_i$    |\n",
    "\n",
    "Summary of steps:\n",
    "\n",
    "1. Identify the joint axes and imagine (or draw) infinite lines along them. For steps 2 through 5 below, consider two of these neighboring lines (at axes i and i+1).\n",
    "1. Identify the comon perpendicular betwen them,or point of intersection. At the point of intersection, or at the point where the comon perpendicular meets the $i^{th}$ axis, asign the link-frame origin.\n",
    "1. Asign the $Z_i$ axis pointing along the $i^{th}$ joint axis.\n",
    "1. A sign the axis pointing along the comon perpendicular, or, if the axes intersect, asign k1 to be normal to the plane containing the two axes.\n",
    "1. Asign the y axis to complete a right-hand cordinate system ... honestly don't draw y-axis \n",
    "1. Asign {0} to match {1} when the first joint variable is zero. For {N}, chose an origin location and $X_N$ direction freely, but generaly so as to cause as many linkage parameters as possible to become zero.\n",
    "\n",
    "Now, once you have the parameters, you can enter them into the followng matrix to get the relationship between frame i and frame i+1. Note, that these are **not** euler angles, but rather:\n",
    "\n",
    "1. A translation along z by d\n",
    "1. Rotation about z by $\\theta$\n",
    "1. translation along x by a\n",
    "1. Rotation about x by $\\alpha$\n",
    "\n",
    "This sequence turns into the the following homogenious transform:\n",
    "\n",
    "$$\n",
    "\\begin{eqnarray}\n",
    "T^{i-1}_i = R_x(\\alpha_{i-1}) Translate_x(a_{i-1}) R_z(\\theta_i) Translate_z(d_i) \\\\\n",
    "\\\\\n",
    "T^{i-1}_i = \\begin{bmatrix}\n",
    "  \\cos(\\theta_i)                   & -\\sin(\\theta_i)                  & 0                   & a_{i-1} \\\\\n",
    "  \\sin(\\theta_i)\\cos(\\alpha_{i-1}) & \\cos(\\theta_i)\\cos(\\alpha_{i-1}) & -\\sin(\\alpha_{i-1}) & -\\sin(\\alpha_{i-1})d_i \\\\\n",
    "  \\sin(\\theta_i)\\sin(\\alpha_{i-1}) & \\cos(\\theta_i)\\sin(\\alpha_{i-1}) & \\cos(\\alpha_{i-1})  & \\cos(\\alpha_{i-1})d_i \\\\\n",
    "  0                                & 0                                & 0                   & 1\n",
    "\\end{bmatrix}\n",
    "\\end{eqnarray}\n",
    "$$\n",
    "\n",
    "You will create 1 matrix for each link in your serial manipulator. Then you can multiply these matricies together to get the transform from base frame {0} to end effector frame {3} by: $T^0_3 = T^0_1 T^1_2 T^2_3$\n",
    "\n",
    "Also, the general format of **every** homogenious matrix is:\n",
    "\n",
    "$$\n",
    "T_{4x4} =\n",
    "\\begin{bmatrix}\n",
    "  R_{3x3} & t_{3x1} \\\\\n",
    "  0_{1x3} & 1\n",
    "\\end{bmatrix}\n",
    "$$\n",
    "\n",
    "where $R$ is your rotation matrix, $t$ is your translation, and T is your homogenious matrix."
   ]
  },
  {
   "cell_type": "code",
   "execution_count": 1,
   "metadata": {},
   "outputs": [],
   "source": [
    "%load_ext autoreload\n",
    "%autoreload 2"
   ]
  },
  {
   "cell_type": "code",
   "execution_count": 4,
   "metadata": {},
   "outputs": [],
   "source": [
    "import numpy as np\n",
    "np.set_printoptions(precision=3)\n",
    "np.set_printoptions(suppress=True)\n",
    "from numpy.testing import assert_allclose\n",
    "from math import pi, sin, cos, atan2, asin, acos\n",
    "from matplotlib import pyplot as plt"
   ]
  },
  {
   "cell_type": "markdown",
   "metadata": {},
   "source": [
    "## Simple 2D Example\n",
    "\n",
    "Following the process for assigning frames to a manipulator, you get the following:\n",
    "\n",
    "![](dh_pics/2d-ex.png)\n",
    "\n",
    "Looking at the above frames, they are related by:\n",
    "\n",
    "| Link | $a_{i-1}$ | $\\alpha_{i-1}$ | $d_i$ | $\\theta_i$ |\n",
    "|------|-----------|----------------|-------|------------|\n",
    "| 1    | 0     | 0          | 0     | $\\theta_1$ |\n",
    "| 2    | $a_1$ | 0          | 0     | $\\theta_2$ |\n",
    "| 3    | $a_2$ | 0          | 0     | 0          |\n",
    "\n",
    "Now using Craig eqn 3.6, we can substitute these values in and get the relationship between the inertial frame and the end effector. However note, $\\theta_i$ are variable parameters. Typically we would simplify these equations down leaving only the $\\theta_i$ parameters. Let's use the python symbolic toolbox to generate the equations of motion."
   ]
  },
  {
   "cell_type": "code",
   "execution_count": 8,
   "metadata": {},
   "outputs": [],
   "source": [
    "# Let's grab some libraries to help us manipulate symbolic equations\n",
    "import numpy as np\n",
    "import sympy\n",
    "from sympy import symbols, sin, cos, pi, simplify\n",
    "\n",
    "def makeT(a, alpha, d, theta):\n",
    "    # create a modified DH homogenious matrix\n",
    "    # this is the same matrix as above\n",
    "    return np.array([\n",
    "        [           cos(theta),           -sin(theta),           0,             a],\n",
    "        [sin(theta)*cos(alpha), cos(theta)*cos(alpha), -sin(alpha), -d*sin(alpha)],\n",
    "        [sin(theta)*sin(alpha), cos(theta)*sin(alpha),  cos(alpha),  d*cos(alpha)],\n",
    "        [                    0,                     0,           0,             1]\n",
    "    ])\n",
    "\n",
    "def simplifyT(tt):\n",
    "    \"\"\"\n",
    "    This goes through each element of a matrix and tries to simplify it.\n",
    "    \"\"\"\n",
    "    ret = tt.copy()\n",
    "    for i, row in enumerate(tt):\n",
    "        for j, col in enumerate(row):\n",
    "            ret[i,j] = simplify(col)\n",
    "    return ret\n",
    "\n",
    "def subs(tt, m):\n",
    "    \"\"\"\n",
    "    This allows you to simplify the trigonomic mess that kinematics can\n",
    "    create and also substitute in some inputs in the process\n",
    "    \n",
    "    Yes, this is basically the same as above. I could combine these into 1\n",
    "    function, but I wanted to beclearer on what I am doing.\n",
    "    \"\"\"\n",
    "    ret = tt.copy()\n",
    "    for i, row in enumerate(tt):\n",
    "        for j, col in enumerate(row):\n",
    "            try:\n",
    "                ret[i,j] = col.subs(m)\n",
    "            except:\n",
    "                ret[i,j] = simplify(col)\n",
    "    return ret"
   ]
  },
  {
   "cell_type": "code",
   "execution_count": 9,
   "metadata": {},
   "outputs": [
    {
     "name": "stdout",
     "output_type": "stream",
     "text": [
      "T1 =  [[cos(t1) -sin(t1) 0 0]\n",
      " [sin(t1) cos(t1) 0 0]\n",
      " [0 0 1 0]\n",
      " [0 0 0 1]]\n",
      "T2 =  [[cos(t2) -sin(t2) 0 a1]\n",
      " [sin(t2) cos(t2) 0 0]\n",
      " [0 0 1 0]\n",
      " [0 0 0 1]]\n",
      "T3 =  [[1 0 0 a2]\n",
      " [0 1 0 0]\n",
      " [0 0 1 0]\n",
      " [0 0 0 1]]\n",
      "\n",
      "So the combined homogenious matrix is:\n",
      "\n",
      "T13 =  [[-sin(t1)*sin(t2) + cos(t1)*cos(t2) -sin(t1)*cos(t2) - sin(t2)*cos(t1) 0\n",
      "  -a2*sin(t1)*sin(t2) + (a1 + a2*cos(t2))*cos(t1)]\n",
      " [sin(t1)*cos(t2) + sin(t2)*cos(t1) -sin(t1)*sin(t2) + cos(t1)*cos(t2) 0\n",
      "  a2*sin(t2)*cos(t1) + (a1 + a2*cos(t2))*sin(t1)]\n",
      " [0 0 1 0]\n",
      " [0 0 0 1]]\n"
     ]
    }
   ],
   "source": [
    "# make thetas (t) and link lengths (a) symbolics\n",
    "t1, t2 = symbols('t1 t2')\n",
    "a1, a2 = symbols('a1 a2')\n",
    "\n",
    "# let's create our matrices\n",
    "T1 = makeT(0, 0, 0, t1)\n",
    "T2 = makeT(a1, 0, 0, t2)\n",
    "T3 = makeT(a2, 0, 0, 0)\n",
    "\n",
    "# T13 = T1 * T2 * T3\n",
    "T13 = T1.dot(T2.dot(T3))\n",
    "\n",
    "print('T1 = ', T1)\n",
    "print('T2 = ', T2)\n",
    "print('T3 = ', T3)\n",
    "print('\\nSo the combined homogenious matrix is:\\n')\n",
    "print('T13 = ', T13)"
   ]
  },
  {
   "cell_type": "code",
   "execution_count": 11,
   "metadata": {},
   "outputs": [
    {
     "name": "stdout",
     "output_type": "stream",
     "text": [
      "[[cos(t1 + t2) -sin(t1 + t2) 0 a1*cos(t1) + a2*cos(t1 + t2)]\n",
      " [sin(t1 + t2) cos(t1 + t2) 0 a1*sin(t1) + a2*sin(t1 + t2)]\n",
      " [0 0 1 0]\n",
      " [0 0 0 1]]\n",
      "-------------------------\n",
      "position x: a1*cos(t1) + a2*cos(t1 + t2)\n",
      "position y: a1*sin(t1) + a2*sin(t1 + t2)\n"
     ]
    }
   ],
   "source": [
    "ans = simplifyT(T13)\n",
    "print(ans)\n",
    "print('-'*25)\n",
    "print('position x: {}'.format(ans[0,3]))\n",
    "print('position y: {}'.format(ans[1,3]))"
   ]
  },
  {
   "cell_type": "code",
   "execution_count": 12,
   "metadata": {},
   "outputs": [
    {
     "name": "stdout",
     "output_type": "stream",
     "text": [
      "[[cos(t2) -sin(t2) 0 a1 + a2*cos(t2)]\n",
      " [sin(t2) cos(t2) 0 a2*sin(t2)]\n",
      " [0 0 1 0]\n",
      " [0 0 0 1]]\n",
      "-------------------------\n",
      "position x: a1 + a2*cos(t2)\n",
      "position y: a2*sin(t2)\n"
     ]
    }
   ],
   "source": [
    "# what if I wanted to substitute in an angle?\n",
    "# just give it an array of tuples\n",
    "ans = subs(T13, [(t1, 0)])  # here it is only t1, but I could do: [(t1, angle), (t2, angle)]\n",
    "print(ans)\n",
    "print('-'*25)\n",
    "print('position x: {}'.format(ans[0,3]))\n",
    "print('position y: {}'.format(ans[1,3]))"
   ]
  },
  {
   "cell_type": "markdown",
   "metadata": {},
   "source": [
    "# KUKA KR270 Example\n",
    "\n",
    "![](dh_pics/kuka-kr270.png)\n",
    "\n",
    "Now following the steps above, we get the complete DH table below. Notice, the distances in the picture (d) have been changed to m, because I didn't want people getting confused between distance d and DH parameter d. Therefore everything is now distance m to remove confusion:\n",
    "\n",
    "| $Link$ | $a_{i-1}$ | $\\alpha_{i-1}$  | $d_i$ | $\\theta_i$ |\n",
    "|:------|:----------|:---------------|:------|:-----------|\n",
    "| 1    | 0         | 0              | $m_1$ | $\\theta_1$ |\n",
    "| 2    | $m_2$     | 90             | 0     | $\\theta_2$ |\n",
    "| 3    | $m_3$     | 0              | 0     | $\\theta_3$ |\n",
    "| 4    | $m_5$     | -90            | $m_4$ | $\\theta_4$ |\n",
    "| 5    | 0         | 90             | 0     | $\\theta_5$ |\n",
    "| 6    | 0         | -90            | $m_6$ | $\\theta_6$ |\n",
    "\n",
    "A step-by-step walk through is found [here](lsn7-extra.pdf) (this is included in the zip file and called `lsn7-extra.pdf`), make sure you understand this process because you will be tested on it. Also, I strongly suggest you do not wait until the night before the test to learn this!"
   ]
  },
  {
   "cell_type": "code",
   "execution_count": null,
   "metadata": {},
   "outputs": [],
   "source": []
  }
 ],
 "metadata": {
  "kernelspec": {
   "display_name": "Python 3 (ipykernel)",
   "language": "python",
   "name": "python3"
  },
  "language_info": {
   "codemirror_mode": {
    "name": "ipython",
    "version": 3
   },
   "file_extension": ".py",
   "mimetype": "text/x-python",
   "name": "python",
   "nbconvert_exporter": "python",
   "pygments_lexer": "ipython3",
   "version": "3.9.6"
  }
 },
 "nbformat": 4,
 "nbformat_minor": 4
}
