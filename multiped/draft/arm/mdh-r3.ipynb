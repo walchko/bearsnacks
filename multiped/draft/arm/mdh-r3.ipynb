{
 "cells": [
  {
   "cell_type": "markdown",
   "id": "25948769",
   "metadata": {},
   "source": [
    "![]()\n",
    "\n",
    "# `mdh` R-R-R Manipulator\n",
    "\n",
    "Kevin J. Walchko, Phd\n",
    "\n",
    "xxx 2021\n",
    "\n",
    "---\n",
    "\n",
    "Using `mdh` we can calculate a 3R manipulator to find both\n",
    "the forward kinematics (fk) and the inverse kinematics (ik)\n",
    "of the manipulator. The 3R is common for many type of robotics\n",
    "applications like arms and legs.\n",
    "\n",
    "Looking at a 3d arm, we can break it up into a top-down look\n",
    "at the desired position ($[x_D, y_D, z_D]$) composed of the\n",
    "first joint and a rotated (90 degrees) plane containing the\n",
    "remtaining 2 joints that look like a simplifed 2D arm.\n",
    "\n",
    "![](ik-3r.png)\n",
    "\n",
    "The rotation matrix which matches the world frame to the the\n",
    "end effector is:\n",
    "\n",
    "$$\n",
    "R^T_W = \n",
    "\\begin{bmatrix}\n",
    "    cos(\\phi) & -sin(\\phi) & 0 \\\\\n",
    "    sin(\\phi) & cos(\\phi) & 0 \\\\\n",
    "    0 & 0 & 1\n",
    "\\end{bmatrix}\n",
    "$$\n",
    "\n",
    "Thus to get the angle of the arm to satisfy a given point,\n",
    "you need to solve these equations:\n",
    "\n",
    "$$\n",
    "r = R^T_W \\\\\n",
    "a_1 = L_1 \\\\\n",
    "a_2 = L_2 \\\\\n",
    "a_3 = L_3 \\\\\n",
    "\\theta_1 + \\theta_2 + \\theta_3 = atan2(r_{21}, r_{11}) \\\\\n",
    "a_1 c_1 + a_2 c_{12} + a_3 c_{123} = x \\\\\n",
    "a_1 s_1 + a_2 s_{12} a_3 s_{123} = y\n",
    "$$\n",
    "\n",
    "You can use gradient decent or the optimization capability of\n",
    "`scipy` to solve these.\n",
    "\n",
    "### Analytic\n",
    "\n",
    "The 2D look:\n",
    "\n",
    "![](ik-2r.png)\n",
    "\n",
    "![](ik-2rb.png)\n",
    "\n",
    "## Algorithm for 3R Inverse Kinematics \n",
    "\n",
    "$$\n",
    "q_1 = atan2(y_D, x_D) \\\\\n",
    "q_1' = atan2(y_D, x_D) + \\pi \\\\\n",
    "(q_2,q3) = RIK2(L_2, L_3, - \\sqrt{x_D^2 +y_D^2}, -z_D+L_1)\n",
    "$$\n",
    "\n",
    "```python\n",
    "def RIK2(L1, L2, x, y):\n",
    "    \"\"\"\n",
    "    L1: first link length\n",
    "    L2: second link length\n",
    "    x: desired x\n",
    "    y: desired y\n",
    "    \"\"\"\n",
    "    xx = sqrt(x*x + y*y)\n",
    "    c = (xx - L1*L1 - L2*L2)/(2*L1*L2)\n",
    "    if abs(c) > 1:\n",
    "        return 0\n",
    "    elif c == 1:\n",
    "        return (atan2(y, x), 0,)\n",
    "    elif c == -1 and xx > 0:\n",
    "        return (atan2(y,x), pi,)\n",
    "    elif c == -1 and xx == 0:\n",
    "        return None\n",
    "    else:\n",
    "        q2 = acos(c)\n",
    "        q22 = -acos(c)\n",
    "        t = atan2(y,x)\n",
    "        q1,q11 = None, None\n",
    "        for q, qq in zip([q1,q11],[q2,q22]):\n",
    "            q = t - atan2(L2*sin(qq), L1 + L2*cos(qq))\n",
    "        return ((q1,q2), (q11,q22))\n",
    "```\n",
    "\n",
    "## References\n",
    "\n",
    "- [Stochastic Gradient Decent with Numpy](https://realpython.com/gradient-descent-algorithm-python/)\n",
    "- UI: [Inverse Kinematics](http://motion.cs.illinois.edu/RoboticSystems/InverseKinematics.html)"
   ]
  },
  {
   "cell_type": "code",
   "execution_count": 1,
   "id": "3fd6a9df",
   "metadata": {},
   "outputs": [],
   "source": [
    "%load_ext autoreload\n",
    "%autoreload 2"
   ]
  },
  {
   "cell_type": "code",
   "execution_count": 6,
   "id": "c680e84f",
   "metadata": {},
   "outputs": [],
   "source": [
    "import numpy as np\n",
    "np.set_printoptions(precision=3)\n",
    "np.set_printoptions(suppress=True)\n",
    "from numpy.testing import assert_allclose\n",
    "from numpy import pi\n",
    "\n",
    "from matplotlib import pyplot as plt"
   ]
  },
  {
   "cell_type": "code",
   "execution_count": 4,
   "id": "d3852379",
   "metadata": {},
   "outputs": [],
   "source": [
    "import mdh\n",
    "from mdh.kinematic_chain import KinematicChain\n",
    "from mdh import UnReachable # exception"
   ]
  },
  {
   "cell_type": "code",
   "execution_count": 53,
   "id": "23a4ae24",
   "metadata": {},
   "outputs": [
    {
     "name": "stdout",
     "output_type": "stream",
     "text": [
      "Rev[deg]: alpha: \u001b[36m 0.0\u001b[39m a: \u001b[33m 0.0\u001b[39m theta: \u001b[36m 0.0\u001b[39m d: \u001b[33m10.0\u001b[39m\n",
      "Rev[deg]: alpha: \u001b[36m90.0\u001b[39m a: \u001b[33m 0.0\u001b[39m theta: \u001b[36m 0.0\u001b[39m d: \u001b[33m 0.0\u001b[39m\n",
      "Rev[deg]: alpha: \u001b[36m 0.0\u001b[39m a: \u001b[33m20.0\u001b[39m theta: \u001b[36m 0.0\u001b[39m d: \u001b[33m 0.0\u001b[39m\n",
      "Rev[deg]: alpha: \u001b[36m 0.0\u001b[39m a: \u001b[33m20.0\u001b[39m theta: \u001b[36m 0.0\u001b[39m d: \u001b[33m 0.0\u001b[39m\n"
     ]
    }
   ],
   "source": [
    "# modified DH parameters:\n",
    "#     alpha a theta d in radians\n",
    "#     L1, L2, L3 in cm\n",
    "# types: revolute=1, prismatic=2 (not implemented yet)\n",
    "\n",
    "class R3:\n",
    "    \"\"\"\n",
    "    Let's make an interface for the robot arm shown above.\n",
    "    Using the mdh can be confusing, since there are more\n",
    "    joints and links than maybe be thought of.\n",
    "    \"\"\"\n",
    "    def __init__(self, L1, L2, L3):\n",
    "\n",
    "        dh = [\n",
    "            {'alpha': 0,  'a': 0, 'theta': 0, 'd': L1, 'type': 1},\n",
    "            {'alpha': pi/2, 'a': 0, 'theta': 0, 'd': 0, 'type': 1},\n",
    "            {'alpha': 0, 'a': L2, 'theta': 0, 'd': 0, 'type': 1},\n",
    "            {'alpha': 0, 'a': L3, 'theta': 0, 'd': 0, 'type': 1},\n",
    "        ]\n",
    "\n",
    "        self.kc = KinematicChain.from_parameters(dh)\n",
    "        \n",
    "    def __str__(self):\n",
    "        s = []\n",
    "        for l in self.kc:\n",
    "            s.append(str(l))\n",
    "        return \"\\n\".join(s)\n",
    "    \n",
    "    def __iter__(self):\n",
    "        for i in self.kc:\n",
    "            yield i\n",
    "    \n",
    "    def fk(self, t1, t2, t3):\n",
    "        angles = np.deg2rad([t1, 0, t2, t3])\n",
    "        return self.kc.forward(angles)\n",
    "    \n",
    "    def ik(self, x, y, z):\n",
    "        return self.kc.inverse((x,y,z,))\n",
    "    \n",
    "kc = R3(10,20,20)\n",
    "print(kc)"
   ]
  },
  {
   "cell_type": "code",
   "execution_count": 54,
   "id": "bccb4aba",
   "metadata": {},
   "outputs": [
    {
     "name": "stdout",
     "output_type": "stream",
     "text": [
      "[[ 1.  0.  0. 40.]\n",
      " [ 0.  0. -1.  0.]\n",
      " [ 0.  1.  0. 10.]\n",
      " [ 0.  0.  0.  1.]]\n"
     ]
    }
   ],
   "source": [
    "# forward kinematics\n",
    "print(f\"{kc.fk(0,0,0)}\")"
   ]
  },
  {
   "cell_type": "code",
   "execution_count": 55,
   "id": "ea0076d6",
   "metadata": {},
   "outputs": [
    {
     "name": "stdout",
     "output_type": "stream",
     "text": [
      "[[  0.707   0.     -0.707  28.284]\n",
      " [ -0.707   0.     -0.707 -28.284]\n",
      " [  0.      1.      0.     10.   ]\n",
      " [  0.      0.      0.      1.   ]]\n"
     ]
    }
   ],
   "source": [
    "# forward kinematics\n",
    "print(f\"{kc.fk(-45,0,0)}\")"
   ]
  },
  {
   "cell_type": "code",
   "execution_count": 56,
   "id": "d4968403",
   "metadata": {},
   "outputs": [
    {
     "name": "stdout",
     "output_type": "stream",
     "text": [
      "Rev[deg]: alpha: \u001b[36m 0.0\u001b[39m a: \u001b[33m 0.0\u001b[39m theta: \u001b[36m 0.0\u001b[39m d: \u001b[33m10.0\u001b[39m\n",
      "Rev[deg]: alpha: \u001b[36m90.0\u001b[39m a: \u001b[33m 0.0\u001b[39m theta: \u001b[36m 0.0\u001b[39m d: \u001b[33m 0.0\u001b[39m\n",
      "Rev[deg]: alpha: \u001b[36m 0.0\u001b[39m a: \u001b[33m20.0\u001b[39m theta: \u001b[36m 0.0\u001b[39m d: \u001b[33m 0.0\u001b[39m\n",
      "Rev[deg]: alpha: \u001b[36m 0.0\u001b[39m a: \u001b[33m20.0\u001b[39m theta: \u001b[36m 0.0\u001b[39m d: \u001b[33m 0.0\u001b[39m\n"
     ]
    }
   ],
   "source": [
    "for l in kc:\n",
    "    print(l)"
   ]
  },
  {
   "cell_type": "code",
   "execution_count": 58,
   "id": "000441cd",
   "metadata": {},
   "outputs": [
    {
     "ename": "ValueError",
     "evalue": "operands could not be broadcast together with shapes (4,4) (3,) ",
     "output_type": "error",
     "traceback": [
      "\u001b[0;31m---------------------------------------------------------------------------\u001b[0m",
      "\u001b[0;31mValueError\u001b[0m                                Traceback (most recent call last)",
      "\u001b[0;32m<ipython-input-58-8fabe9e07b74>\u001b[0m in \u001b[0;36m<module>\u001b[0;34m\u001b[0m\n\u001b[1;32m      1\u001b[0m \u001b[0;31m# inverse kinematics\u001b[0m\u001b[0;34m\u001b[0m\u001b[0;34m\u001b[0m\u001b[0;34m\u001b[0m\u001b[0m\n\u001b[0;32m----> 2\u001b[0;31m \u001b[0mdeg\u001b[0m \u001b[0;34m=\u001b[0m \u001b[0mkc\u001b[0m\u001b[0;34m.\u001b[0m\u001b[0mik\u001b[0m\u001b[0;34m(\u001b[0m\u001b[0;36m40\u001b[0m\u001b[0;34m,\u001b[0m\u001b[0;36m0\u001b[0m\u001b[0;34m,\u001b[0m\u001b[0;36m10\u001b[0m\u001b[0;34m)\u001b[0m\u001b[0;34m\u001b[0m\u001b[0;34m\u001b[0m\u001b[0m\n\u001b[0m\u001b[1;32m      3\u001b[0m \u001b[0mrad\u001b[0m \u001b[0;34m=\u001b[0m \u001b[0mnp\u001b[0m\u001b[0;34m.\u001b[0m\u001b[0mrad2deg\u001b[0m\u001b[0;34m(\u001b[0m\u001b[0mdeg\u001b[0m\u001b[0;34m)\u001b[0m\u001b[0;34m\u001b[0m\u001b[0;34m\u001b[0m\u001b[0m\n\u001b[1;32m      4\u001b[0m \u001b[0mprint\u001b[0m\u001b[0;34m(\u001b[0m\u001b[0;34mf\">> {rad}\"\u001b[0m\u001b[0;34m)\u001b[0m\u001b[0;34m\u001b[0m\u001b[0;34m\u001b[0m\u001b[0m\n",
      "\u001b[0;32m<ipython-input-53-bff61ff9029a>\u001b[0m in \u001b[0;36mik\u001b[0;34m(self, x, y, z)\u001b[0m\n\u001b[1;32m     31\u001b[0m \u001b[0;34m\u001b[0m\u001b[0m\n\u001b[1;32m     32\u001b[0m     \u001b[0;32mdef\u001b[0m \u001b[0mik\u001b[0m\u001b[0;34m(\u001b[0m\u001b[0mself\u001b[0m\u001b[0;34m,\u001b[0m \u001b[0mx\u001b[0m\u001b[0;34m,\u001b[0m \u001b[0my\u001b[0m\u001b[0;34m,\u001b[0m \u001b[0mz\u001b[0m\u001b[0;34m)\u001b[0m\u001b[0;34m:\u001b[0m\u001b[0;34m\u001b[0m\u001b[0;34m\u001b[0m\u001b[0m\n\u001b[0;32m---> 33\u001b[0;31m         \u001b[0;32mreturn\u001b[0m \u001b[0mself\u001b[0m\u001b[0;34m.\u001b[0m\u001b[0mkc\u001b[0m\u001b[0;34m.\u001b[0m\u001b[0minverse\u001b[0m\u001b[0;34m(\u001b[0m\u001b[0;34m(\u001b[0m\u001b[0mx\u001b[0m\u001b[0;34m,\u001b[0m\u001b[0my\u001b[0m\u001b[0;34m,\u001b[0m\u001b[0mz\u001b[0m\u001b[0;34m,\u001b[0m\u001b[0;34m)\u001b[0m\u001b[0;34m)\u001b[0m\u001b[0;34m\u001b[0m\u001b[0;34m\u001b[0m\u001b[0m\n\u001b[0m\u001b[1;32m     34\u001b[0m \u001b[0;34m\u001b[0m\u001b[0m\n\u001b[1;32m     35\u001b[0m \u001b[0mkc\u001b[0m \u001b[0;34m=\u001b[0m \u001b[0mR3\u001b[0m\u001b[0;34m(\u001b[0m\u001b[0;36m10\u001b[0m\u001b[0;34m,\u001b[0m\u001b[0;36m20\u001b[0m\u001b[0;34m,\u001b[0m\u001b[0;36m20\u001b[0m\u001b[0;34m)\u001b[0m\u001b[0;34m\u001b[0m\u001b[0;34m\u001b[0m\u001b[0m\n",
      "\u001b[0;32m~/github/mdh/mdh/kinematic_chain.py\u001b[0m in \u001b[0;36minverse\u001b[0;34m(self, pos)\u001b[0m\n\u001b[1;32m     93\u001b[0m             \u001b[0mstart\u001b[0m \u001b[0;34m=\u001b[0m \u001b[0;34m[\u001b[0m\u001b[0;36m0\u001b[0m\u001b[0;34m]\u001b[0m\u001b[0;34m*\u001b[0m\u001b[0mlen\u001b[0m\u001b[0;34m(\u001b[0m\u001b[0mself\u001b[0m\u001b[0;34m.\u001b[0m\u001b[0m_links\u001b[0m\u001b[0;34m)\u001b[0m\u001b[0;34m\u001b[0m\u001b[0;34m\u001b[0m\u001b[0m\n\u001b[1;32m     94\u001b[0m \u001b[0;34m\u001b[0m\u001b[0m\n\u001b[0;32m---> 95\u001b[0;31m             result = scipy.optimize.least_squares(\n\u001b[0m\u001b[1;32m     96\u001b[0m                 \u001b[0mfun\u001b[0m\u001b[0;34m=\u001b[0m\u001b[0m_ik_cost_function\u001b[0m\u001b[0;34m,\u001b[0m\u001b[0;34m\u001b[0m\u001b[0;34m\u001b[0m\u001b[0m\n\u001b[1;32m     97\u001b[0m                 \u001b[0mx0\u001b[0m\u001b[0;34m=\u001b[0m\u001b[0mnp\u001b[0m\u001b[0;34m.\u001b[0m\u001b[0marray\u001b[0m\u001b[0;34m(\u001b[0m\u001b[0mstart\u001b[0m\u001b[0;34m)\u001b[0m\u001b[0;34m,\u001b[0m\u001b[0;34m\u001b[0m\u001b[0;34m\u001b[0m\u001b[0m\n",
      "\u001b[0;32m~/venv/lib/python3.8/site-packages/scipy/optimize/_lsq/least_squares.py\u001b[0m in \u001b[0;36mleast_squares\u001b[0;34m(fun, x0, jac, bounds, method, ftol, xtol, gtol, x_scale, loss, f_scale, diff_step, tr_solver, tr_options, jac_sparsity, max_nfev, verbose, args, kwargs)\u001b[0m\n\u001b[1;32m    805\u001b[0m         \u001b[0mx0\u001b[0m \u001b[0;34m=\u001b[0m \u001b[0mmake_strictly_feasible\u001b[0m\u001b[0;34m(\u001b[0m\u001b[0mx0\u001b[0m\u001b[0;34m,\u001b[0m \u001b[0mlb\u001b[0m\u001b[0;34m,\u001b[0m \u001b[0mub\u001b[0m\u001b[0;34m)\u001b[0m\u001b[0;34m\u001b[0m\u001b[0;34m\u001b[0m\u001b[0m\n\u001b[1;32m    806\u001b[0m \u001b[0;34m\u001b[0m\u001b[0m\n\u001b[0;32m--> 807\u001b[0;31m     \u001b[0mf0\u001b[0m \u001b[0;34m=\u001b[0m \u001b[0mfun_wrapped\u001b[0m\u001b[0;34m(\u001b[0m\u001b[0mx0\u001b[0m\u001b[0;34m)\u001b[0m\u001b[0;34m\u001b[0m\u001b[0;34m\u001b[0m\u001b[0m\n\u001b[0m\u001b[1;32m    808\u001b[0m \u001b[0;34m\u001b[0m\u001b[0m\n\u001b[1;32m    809\u001b[0m     \u001b[0;32mif\u001b[0m \u001b[0mf0\u001b[0m\u001b[0;34m.\u001b[0m\u001b[0mndim\u001b[0m \u001b[0;34m!=\u001b[0m \u001b[0;36m1\u001b[0m\u001b[0;34m:\u001b[0m\u001b[0;34m\u001b[0m\u001b[0;34m\u001b[0m\u001b[0m\n",
      "\u001b[0;32m~/venv/lib/python3.8/site-packages/scipy/optimize/_lsq/least_squares.py\u001b[0m in \u001b[0;36mfun_wrapped\u001b[0;34m(x)\u001b[0m\n\u001b[1;32m    800\u001b[0m \u001b[0;34m\u001b[0m\u001b[0m\n\u001b[1;32m    801\u001b[0m     \u001b[0;32mdef\u001b[0m \u001b[0mfun_wrapped\u001b[0m\u001b[0;34m(\u001b[0m\u001b[0mx\u001b[0m\u001b[0;34m)\u001b[0m\u001b[0;34m:\u001b[0m\u001b[0;34m\u001b[0m\u001b[0;34m\u001b[0m\u001b[0m\n\u001b[0;32m--> 802\u001b[0;31m         \u001b[0;32mreturn\u001b[0m \u001b[0mnp\u001b[0m\u001b[0;34m.\u001b[0m\u001b[0matleast_1d\u001b[0m\u001b[0;34m(\u001b[0m\u001b[0mfun\u001b[0m\u001b[0;34m(\u001b[0m\u001b[0mx\u001b[0m\u001b[0;34m,\u001b[0m \u001b[0;34m*\u001b[0m\u001b[0margs\u001b[0m\u001b[0;34m,\u001b[0m \u001b[0;34m**\u001b[0m\u001b[0mkwargs\u001b[0m\u001b[0;34m)\u001b[0m\u001b[0;34m)\u001b[0m\u001b[0;34m\u001b[0m\u001b[0;34m\u001b[0m\u001b[0m\n\u001b[0m\u001b[1;32m    803\u001b[0m \u001b[0;34m\u001b[0m\u001b[0m\n\u001b[1;32m    804\u001b[0m     \u001b[0;32mif\u001b[0m \u001b[0mmethod\u001b[0m \u001b[0;34m==\u001b[0m \u001b[0;34m'trf'\u001b[0m\u001b[0;34m:\u001b[0m\u001b[0;34m\u001b[0m\u001b[0;34m\u001b[0m\u001b[0m\n",
      "\u001b[0;32m~/github/mdh/mdh/kinematic_chain.py\u001b[0m in \u001b[0;36m_ik_cost_function\u001b[0;34m(ik_q, pose, kc)\u001b[0m\n\u001b[1;32m    169\u001b[0m     \"\"\"\n\u001b[1;32m    170\u001b[0m     \u001b[0mactual_t\u001b[0m \u001b[0;34m=\u001b[0m \u001b[0mkc\u001b[0m\u001b[0;34m.\u001b[0m\u001b[0mtransform\u001b[0m\u001b[0;34m(\u001b[0m\u001b[0mik_q\u001b[0m\u001b[0;34m)\u001b[0m\u001b[0;34m\u001b[0m\u001b[0;34m\u001b[0m\u001b[0m\n\u001b[0;32m--> 171\u001b[0;31m     \u001b[0mdiff\u001b[0m \u001b[0;34m=\u001b[0m \u001b[0mnp\u001b[0m\u001b[0;34m.\u001b[0m\u001b[0mabs\u001b[0m\u001b[0;34m(\u001b[0m\u001b[0mactual_t\u001b[0m \u001b[0;34m-\u001b[0m \u001b[0mpose\u001b[0m\u001b[0;34m)\u001b[0m\u001b[0;34m\u001b[0m\u001b[0;34m\u001b[0m\u001b[0m\n\u001b[0m\u001b[1;32m    172\u001b[0m     \u001b[0;32mreturn\u001b[0m \u001b[0mdiff\u001b[0m\u001b[0;34m.\u001b[0m\u001b[0mravel\u001b[0m\u001b[0;34m(\u001b[0m\u001b[0;34m)\u001b[0m\u001b[0;34m\u001b[0m\u001b[0;34m\u001b[0m\u001b[0m\n",
      "\u001b[0;31mValueError\u001b[0m: operands could not be broadcast together with shapes (4,4) (3,) "
     ]
    }
   ],
   "source": [
    "# inverse kinematics\n",
    "deg = kc.ik(40,0,10)\n",
    "rad = np.rad2deg(deg)\n",
    "print(f\">> {rad}\")"
   ]
  },
  {
   "cell_type": "code",
   "execution_count": null,
   "id": "5a6a8ef6",
   "metadata": {},
   "outputs": [],
   "source": []
  }
 ],
 "metadata": {
  "kernelspec": {
   "display_name": "Python 3 (ipykernel)",
   "language": "python",
   "name": "python3"
  },
  "language_info": {
   "codemirror_mode": {
    "name": "ipython",
    "version": 3
   },
   "file_extension": ".py",
   "mimetype": "text/x-python",
   "name": "python",
   "nbconvert_exporter": "python",
   "pygments_lexer": "ipython3",
   "version": "3.9.6"
  }
 },
 "nbformat": 4,
 "nbformat_minor": 5
}
