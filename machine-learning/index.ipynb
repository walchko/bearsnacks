{
 "cells": [
  {
   "cell_type": "markdown",
   "id": "sapphire-paradise",
   "metadata": {},
   "source": [
    "![](header.jpg)\n",
    "\n",
    "# Machine Learning\n",
    "\n",
    "Kevin J. Walchko, Phd\n",
    "\n",
    "---\n",
    "\n",
    "1. [Data Preprocessing](./pre-processing/data-preprocessing.ipynb)\n",
    "1. [Classification](./classification/comparing-classifiers.ipynb)\n",
    "1. [Regression](./regression/regression.ipynb)\n",
    "1. [Dimensional Reduction](./dimensional-reduction/dimensional-reduction.ipynb)\n",
    "1. [Grid Search](./grid-search/grid-search.ipynb)\n",
    "1. [Cross Validation](./cross-validation/cross-validation.ipynb)\n",
    "1. Clustering\n",
    "    - [Heirarchical](clustering/hierarchical_clustering.ipynb)\n",
    "    - [K-Means](clustering/k_means_clustering.ipynb)\n",
    "1. Artificial Intelligence\n",
    "    - [Recurrent Neural Network](./artificial-intelligence/rnn/rnn.ipynb)\n",
    "    - [Convolutional Neural Network](./artificial-intelligence/cnn/cnn.ipynb)\n",
    "1. Cheat Sheets\n",
    "    - [Numpy](cheatsheets/numpy-cheatsheet.pdf)\n",
    "    - [Keras](cheatsheets/keras-cheatsheet.pdf)\n",
    "    - [Scikit-Lear](cheatsheets/scikit-learn-cheatsheet.pdf)"
   ]
  },
  {
   "cell_type": "markdown",
   "id": "different-panel",
   "metadata": {},
   "source": [
    "\n",
    "-----------\n",
    "\n",
    "<a rel=\"license\" href=\"http://creativecommons.org/licenses/by-sa/4.0/\"><img alt=\"Creative Commons License\" style=\"border-width:0\" src=\"https://i.creativecommons.org/l/by-sa/4.0/88x31.png\" /></a><br />This work is licensed under a <a rel=\"license\" href=\"http://creativecommons.org/licenses/by-sa/4.0/\">Creative Commons Attribution-ShareAlike 4.0 International License</a>."
   ]
  }
 ],
 "metadata": {
  "kernelspec": {
   "display_name": "Python 3 (ipykernel)",
   "language": "python",
   "name": "python3"
  },
  "language_info": {
   "codemirror_mode": {
    "name": "ipython",
    "version": 3
   },
   "file_extension": ".py",
   "mimetype": "text/x-python",
   "name": "python",
   "nbconvert_exporter": "python",
   "pygments_lexer": "ipython3",
   "version": "3.9.10"
  }
 },
 "nbformat": 4,
 "nbformat_minor": 5
}
