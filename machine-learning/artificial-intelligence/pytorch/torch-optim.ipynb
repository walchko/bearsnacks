{
 "cells": [
  {
   "cell_type": "markdown",
   "id": "09f3b2c8-d5ec-474f-9142-696b58a70bfe",
   "metadata": {},
   "source": [
    "![](pics/header.png)\n",
    "\n",
    "# Deep Learning: Optimization\n",
    "\n",
    "Kevin Walchko\n",
    "\n",
    "---\n",
    "\n",
    "`torch` optimization functions. With neural nets, we want to train weights/biases in an optimal way to get good results. Generally you have a data set with known truth (labels) you need the network to learn.\n",
    "\n",
    "```python\n",
    "# some psudo code\n",
    "criterion = loss_class()\n",
    "optimizer = optim_class(model.parameters, lr=0.001)\n",
    "for sample, labels in dataset:\n",
    "    optimizer.zero_grad() # clear the gradients for this epoch\n",
    "    x = model(sample) # forward pass: \n",
    "                      #   compute predicted outputs\n",
    "    loss = criterion(x, labels)\n",
    "    loss.backward()   # backward pass: \n",
    "                      #   compute gradient of the loss w.r.t model parameters\n",
    "    optimizer.step()  # perform a single optimization step (parameter update)\n",
    "```"
   ]
  },
  {
   "cell_type": "markdown",
   "id": "3d2ee66b-0e8e-4ea2-a0c0-77b16ad4bd2e",
   "metadata": {},
   "source": [
    "## Loss Functions\n",
    "\n",
    "| Loss | `torch.nn` | Description     |\n",
    "|------|------------|-----------------|\n",
    "| Negative Log Likelihood | `NLLLoss` | The negative log likelihood loss is useful to train a classification problem with C classes. Obtaining log-probabilities in a neural network is easily achieved by adding a LogSoftmax layer in the last layer of your network. You may use CrossEntropyLoss instead, if you prefer not to add an extra layer. |\n",
    "| Cross Entropy | `CrossEntropyLoss` | It is useful when training a classification problem with C classes. The performance of this criterion is generally better when target contains class indices, as this allows for optimized computation.  |\n",
    "| Mean Squared Error | `MSELoss` | Measures the mean squared error (squared L2 norm) between each element in the input x and target y (label). A good choice when comparing pixel quantities rather than class probabilities |"
   ]
  },
  {
   "cell_type": "markdown",
   "id": "d97788e1-b5d7-4a57-9df2-8db72c5cb44a",
   "metadata": {},
   "source": [
    "## Optimizers\n",
    "\n",
    "| Optim | `torch.optim`  | Description    |\n",
    "|-------|----------------|----------------|\n",
    "| Stochastic Gradient Decent | `SGD` | Stochastic gradient descent is extremely basic and is seldom used now. One problem is with the worldwide learning rate related to an equivalent. Also, Stochastic gradient descent generally has a hard time escaping the saddle points. |\n",
    "| Nesterov | `SGD(nesterov=True)` | Implements a gradient decent with momentum. This method is capabile of performing as well as Adam. |\n",
    "| Adam (Adaptive Moment Estimation) | `Adam` | Adam’s method considered as a method of Stochastic Optimization is a technique implementing adaptive learning rate. It is very efficient with large problems and memory efficient. It is also very common and generally replaced SGD. |"
   ]
  },
  {
   "cell_type": "code",
   "execution_count": null,
   "id": "49f2e97e-7160-4343-a6c5-3b38b9303023",
   "metadata": {},
   "outputs": [],
   "source": []
  }
 ],
 "metadata": {
  "kernelspec": {
   "display_name": "Python 3 (ipykernel)",
   "language": "python",
   "name": "python3"
  },
  "language_info": {
   "codemirror_mode": {
    "name": "ipython",
    "version": 3
   },
   "file_extension": ".py",
   "mimetype": "text/x-python",
   "name": "python",
   "nbconvert_exporter": "python",
   "pygments_lexer": "ipython3",
   "version": "3.9.10"
  }
 },
 "nbformat": 4,
 "nbformat_minor": 5
}
