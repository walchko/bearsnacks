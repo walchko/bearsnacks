{
 "cells": [
  {
   "cell_type": "markdown",
   "id": "9c08e731-a54b-4bf8-b151-84c7d405f4d1",
   "metadata": {},
   "source": [
    "![](pics/header.png)\n",
    "\n",
    "# Capsule Network\n",
    "\n",
    "Kevin Walchko\n",
    "\n",
    "---\n",
    "\n",
    "These notes come from Udacity's Deep Learning Nanodegree"
   ]
  },
  {
   "cell_type": "markdown",
   "id": "7dd03910-2c5d-43fd-b15c-ed8e5117880e",
   "metadata": {},
   "source": [
    "<img src=\"pics/capsule.png\" width=\"400px\">\n",
    "\n",
    "[Capsule networks](https://cezannec.github.io/Capsule_Networks/) are made of parent and child nodes that build up a complete picture of an object. Each neuron represents a feature and the weights between each neuron represent the probability that child feature is tied to the parent feature (or object).\n",
    "\n",
    "<table> \n",
    "    <tr>\n",
    "        <td><img src=\"pics/capsule-network.png\" width=\"75%\"></td>\n",
    "        <td><img src=\"pics/tree.png\"></td>\n",
    "    </tr>\n",
    "</table>\n",
    "\n",
    "They are able to maintain the spatial relationship of features. Each capsule outputs a vector with some magnitude and orientation.\n",
    "\n",
    "- **Magnitude (m):** the probability that a part exists in the range [0,1]\n",
    "- **Orientation (theta):** the state of the part properties\n",
    "\n",
    "[Dynamic routing](https://video.udacity-data.com/topher/2018/November/5bfdca4f_dynamic-routing/dynamic-routing.pdf) techniques are a way to train capsule networks."
   ]
  },
  {
   "cell_type": "code",
   "execution_count": null,
   "id": "d5fbc06b-8528-4360-816d-435e567b8bf1",
   "metadata": {},
   "outputs": [],
   "source": []
  }
 ],
 "metadata": {
  "kernelspec": {
   "display_name": "Python 3 (ipykernel)",
   "language": "python",
   "name": "python3"
  },
  "language_info": {
   "codemirror_mode": {
    "name": "ipython",
    "version": 3
   },
   "file_extension": ".py",
   "mimetype": "text/x-python",
   "name": "python",
   "nbconvert_exporter": "python",
   "pygments_lexer": "ipython3",
   "version": "3.9.10"
  }
 },
 "nbformat": 4,
 "nbformat_minor": 5
}
