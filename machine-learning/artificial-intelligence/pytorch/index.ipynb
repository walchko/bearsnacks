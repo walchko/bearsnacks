{
 "cells": [
  {
   "cell_type": "markdown",
   "id": "829eb8cf-c700-4185-bfe8-9fc8f5b5033d",
   "metadata": {},
   "source": [
    "![](pics/header.jpg)\n",
    "\n",
    "# AI Programming with PyTorch \n",
    "\n",
    "Kevin Walchko, Phd\n",
    "\n",
    "27 Mar 2022\n",
    "\n",
    "---\n",
    "\n",
    "1. Networks\n",
    "    1. [Neural Network Math](neural-network-math.ipynb)\n",
    "    1. [Activation Functions](activation_functions)\n",
    "    1. [Optimizers](torch-optim.ipynb)\n",
    "1. PyTorch\n",
    "    1. [PyTorch Summary](pytorch.ipynb)\n",
    "    1. [MLP](mlp.ipynb)\n",
    "    1. [CNN](cnn.ipynb)\n",
    "    1. [RNN](rnn.ipynb)\n",
    "    1. [LSTM](lstm.ipynb)\n",
    "    1. [GAN](gan.ipynb)\n",
    "    1. [Autoencoder](autoencoder.ipynb)\n",
    "1. Helpers\n",
    "    1. [torchvision models](torchvision-models.ipynb)\n",
    "    1. [torchinfo summary](torchinfo-summary.ipynb)\n",
    "1. Data\n",
    "    1. [Data Cleanup](data-clean-up.ipynb)\n",
    "    1. [PyTorch datasets](pytorch-datasets.ipynb)\n",
    "\n",
    "## References\n",
    "\n",
    "- [PyTorch](https://pytorch.org/docs/stable/index.html)\n",
    "- [TorchVision](https://pytorch.org/vision/stable/index.html)"
   ]
  },
  {
   "cell_type": "code",
   "execution_count": null,
   "id": "6a97355c-76bf-4b35-ae73-964f3f10278e",
   "metadata": {},
   "outputs": [],
   "source": []
  }
 ],
 "metadata": {
  "kernelspec": {
   "display_name": "Python 3 (ipykernel)",
   "language": "python",
   "name": "python3"
  },
  "language_info": {
   "codemirror_mode": {
    "name": "ipython",
    "version": 3
   },
   "file_extension": ".py",
   "mimetype": "text/x-python",
   "name": "python",
   "nbconvert_exporter": "python",
   "pygments_lexer": "ipython3",
   "version": "3.9.10"
  }
 },
 "nbformat": 4,
 "nbformat_minor": 5
}
