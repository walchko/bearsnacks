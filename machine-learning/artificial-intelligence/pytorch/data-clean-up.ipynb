{
 "cells": [
  {
   "cell_type": "markdown",
   "id": "7cfbc959-c677-4023-b9fd-ca353dbd7961",
   "metadata": {},
   "source": [
    "![](pics/header.jpg)\n",
    "\n",
    "# Data Cleanup\n",
    "\n",
    "Kevin Walchko, Phd\n",
    "\n",
    "---\n",
    "\n",
    "Not all data is perfect and most needs at least a little love before you feed it into a neural net."
   ]
  },
  {
   "cell_type": "markdown",
   "id": "f5a80c92-2c17-4f0a-8c51-75a945b92e9b",
   "metadata": {},
   "source": [
    "## One Hot Encoding\n",
    "\n",
    "Turning labels into numbers without impling importance between them. In the picture is `red`, `blue`, and `green`. We want to get this info into our system but if we define `red`=0, `blue`=1, and `green`=2, then we could unintentionally imply `green` is the best because it is the highest value. Obviously we might not want to do.\n",
    "\n",
    "<img src=\"pics/one-hot-encoding.png\" width=\"400px\">"
   ]
  },
  {
   "cell_type": "code",
   "execution_count": 2,
   "id": "8762df0a-04aa-404f-8c89-abd9a62e5b4a",
   "metadata": {},
   "outputs": [
    {
     "name": "stdout",
     "output_type": "stream",
     "text": [
      "Original dataframe\n",
      "   admit  gre   gpa  rank\n",
      "0      0  380  3.61     3\n",
      "1      1  660  3.67     3\n",
      "2      1  800  4.00     1\n",
      "3      1  640  3.19     4\n",
      "4      0  520  2.93     4\n",
      "\n",
      "New dataframe\n",
      "   admit  gre   gpa  1  2  3  4\n",
      "0      0  380  3.61  0  0  1  0\n",
      "1      1  660  3.67  0  0  1  0\n",
      "2      1  800  4.00  1  0  0  0\n",
      "3      1  640  3.19  0  0  0  1\n",
      "4      0  520  2.93  0  0  0  1\n"
     ]
    }
   ],
   "source": [
    "# Importing pandas and numpy\n",
    "import pandas as pd\n",
    "import numpy as np\n",
    "\n",
    "# Reading the csv file into a pandas DataFrame\n",
    "data = pd.read_csv('student_data.csv')\n",
    "print(\"Original dataframe\")\n",
    "print(data.head())\n",
    "print('')\n",
    "\n",
    "# do one-hot-encoding on class rank and drop the old rank column\n",
    "one_hot_data = pd.merge(\n",
    "    left=data, \n",
    "    right=pd.get_dummies(data['rank']),\n",
    "    left_index=True,\n",
    "    right_index=True).drop(columns=\"rank\")\n",
    "\n",
    "print(\"New dataframe\")\n",
    "print(one_hot_data.head())"
   ]
  },
  {
   "cell_type": "code",
   "execution_count": null,
   "id": "f106d0c2-8645-4018-9dbc-378e98b1e444",
   "metadata": {},
   "outputs": [],
   "source": []
  }
 ],
 "metadata": {
  "kernelspec": {
   "display_name": "Python 3 (ipykernel)",
   "language": "python",
   "name": "python3"
  },
  "language_info": {
   "codemirror_mode": {
    "name": "ipython",
    "version": 3
   },
   "file_extension": ".py",
   "mimetype": "text/x-python",
   "name": "python",
   "nbconvert_exporter": "python",
   "pygments_lexer": "ipython3",
   "version": "3.9.10"
  }
 },
 "nbformat": 4,
 "nbformat_minor": 5
}
