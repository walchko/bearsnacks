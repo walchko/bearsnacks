{
 "cells": [
  {
   "cell_type": "markdown",
   "id": "d7037406-9c53-401a-9648-977d281d2f46",
   "metadata": {},
   "source": [
    "![](pics/header.png)\n",
    "\n",
    "# Deep Learning: Attention\n",
    "\n",
    "Kevin Walchko\n",
    "\n",
    "---"
   ]
  },
  {
   "cell_type": "markdown",
   "id": "b647986b-4703-4827-8df5-db891a89dd47",
   "metadata": {},
   "source": [
    "Goal: identify and attend to most important features in input\n",
    "\n",
    "1. Encode **position** information\n",
    "1. Extract **query**, **key**, **value** or Q, K, V for search\n",
    "    - Q, K, and V are three separate layers that each get a copy of the encoded input information and produce three separate outputs\n",
    "1. Compute **attention weighting**\n",
    "    - Attention score: \n",
    "        - There are multiple ways to do this, but one way is to compute pairwise similarity between each query and key using cosine similarity (or dot product)\n",
    "        - $softmax \\left( \\frac { Q \\cdot K^T} {scaling} \\right)$\n",
    "1. Extract **features with high attention**\n",
    "    - $softmax \\left( \\frac { Q \\cdot K^T} {scaling} \\right) \\cdot V = A(Q,K,V)$\n",
    "    \n",
    "![](pics/att/cosine-similarity.png)\n",
    "    \n",
    "![](pics/att/a.png)\n",
    "\n",
    "![](pics/att/c.png)\n",
    "\n",
    "![](pics/att/b.png)"
   ]
  },
  {
   "cell_type": "markdown",
   "id": "cf11219b-fc3c-4cf0-968b-7cb73be30cfe",
   "metadata": {},
   "source": [
    "# References\n",
    "\n",
    "- [Multi-head attention mechanism: “queries”, “keys”, and “values,” over and over again](https://data-science-blog.com/blog/2021/04/07/multi-head-attention-mechanism/)\n",
    "- [Attention Is All You Need](https://arxiv.org/abs/1706.03762)\n",
    "- [The Illustrated Transformer](https://jalammar.github.io/illustrated-transformer/)\n",
    "- pytorch: [The Annotated Transformer](http://nlp.seas.harvard.edu/annotated-transformer/)"
   ]
  },
  {
   "cell_type": "code",
   "execution_count": 3,
   "id": "3994212a-7a72-46c7-9b23-a127d454544d",
   "metadata": {},
   "outputs": [],
   "source": [
    "from math import pi, cos\n",
    "import numpy as np\n",
    "from matplotlib import pyplot as plt"
   ]
  },
  {
   "cell_type": "code",
   "execution_count": 26,
   "id": "f45b8aea-f5bc-4382-a131-200d6a9848ac",
   "metadata": {},
   "outputs": [
    {
     "data": {
      "text/plain": [
       "50.00000000000001"
      ]
     },
     "execution_count": 26,
     "metadata": {},
     "output_type": "execute_result"
    }
   ],
   "source": [
    "# vector of size 1\n",
    "a = np.array([1])\n",
    "b = np.array([cos(pi/3)])\n",
    "scale = 0.01\n",
    "np.dot(a,b)/scale"
   ]
  },
  {
   "cell_type": "code",
   "execution_count": 24,
   "id": "4a9c8b11-4a24-4f6a-92cf-7bb7687290d6",
   "metadata": {},
   "outputs": [
    {
     "data": {
      "image/png": "[encoded data removed]",
      "text/plain": [
       "<Figure size 432x288 with 1 Axes>"
      ]
     },
     "metadata": {
      "needs_background": "light"
     },
     "output_type": "display_data"
    }
   ],
   "source": [
    "x = np.linspace(-pi,pi,500)\n",
    "y = np.cos(x)\n",
    "plt.plot(x,y)\n",
    "plt.ylabel('Attention Score')\n",
    "plt.xlabel('Radians [-$\\pi$, $\\pi$]')\n",
    "plt.grid(True);"
   ]
  },
  {
   "cell_type": "code",
   "execution_count": null,
   "id": "fd37f4c5-c79f-4bba-a5b7-b9b88f506ee8",
   "metadata": {},
   "outputs": [],
   "source": [
    "cos()"
   ]
  }
 ],
 "metadata": {
  "kernelspec": {
   "display_name": "Python 3 (ipykernel)",
   "language": "python",
   "name": "python3"
  },
  "language_info": {
   "codemirror_mode": {
    "name": "ipython",
    "version": 3
   },
   "file_extension": ".py",
   "mimetype": "text/x-python",
   "name": "python",
   "nbconvert_exporter": "python",
   "pygments_lexer": "ipython3",
   "version": "3.9.10"
  }
 },
 "nbformat": 4,
 "nbformat_minor": 5
}
