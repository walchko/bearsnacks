{
 "cells": [
  {
   "cell_type": "markdown",
   "id": "60031503-e70a-46ed-8b38-2743e2a805ee",
   "metadata": {},
   "source": [
    "![](pics/header.png)\n",
    "\n",
    "# Deep Learning: Torchinfo Summary\n",
    "\n",
    "Kevin Walchko\n",
    "\n",
    "---\n",
    "\n",
    "`torchinfo.summary` gives the same info you can get from the `tensorflow` library about networks."
   ]
  },
  {
   "cell_type": "code",
   "execution_count": 1,
   "id": "a092a1cc-a831-4c3f-ad79-9562c1a02547",
   "metadata": {},
   "outputs": [],
   "source": [
    "from torch import nn\n",
    "from torch.nn import functional as F\n",
    "# import torchinfo\n",
    "from helper import summary"
   ]
  },
  {
   "cell_type": "code",
   "execution_count": 2,
   "id": "2d344743-5031-4f66-85f2-e5502323c5bf",
   "metadata": {},
   "outputs": [],
   "source": [
    "# helper deconv function\n",
    "def deconv(in_channels, out_channels, kernel_size, stride=2, padding=1, batch_norm=True):\n",
    "    \"\"\"Creates a transposed-convolutional layer, with \n",
    "    optional batch normalization.\n",
    "    \"\"\"\n",
    "    # create a sequence of transpose + optional batch norm layers\n",
    "    layers = []\n",
    "    \n",
    "    transpose_conv_layer = nn.ConvTranspose2d(\n",
    "        in_channels, \n",
    "        out_channels, \n",
    "        kernel_size, \n",
    "        stride, \n",
    "        padding, \n",
    "        bias=False)\n",
    "    \n",
    "    # append transpose convolutional layer\n",
    "    layers.append(transpose_conv_layer)\n",
    "    \n",
    "    if batch_norm:\n",
    "        # append batchnorm layer\n",
    "        layers.append(nn.BatchNorm2d(out_channels))\n",
    "        \n",
    "    return nn.Sequential(*layers)"
   ]
  },
  {
   "cell_type": "code",
   "execution_count": 3,
   "id": "4941f5ae-d085-4325-9116-185ac0b2a691",
   "metadata": {},
   "outputs": [],
   "source": [
    "class Generator(nn.Module):\n",
    "    \n",
    "    def __init__(self, z_size, conv_dim=32):\n",
    "        super(Generator, self).__init__()\n",
    "\n",
    "        # complete init function\n",
    "        \n",
    "        self.conv_dim = conv_dim\n",
    "        \n",
    "        # first, fully-connected layer\n",
    "        self.fc = nn.Linear(z_size, conv_dim*4*4*4)\n",
    "\n",
    "        # transpose conv layers\n",
    "        self.t_conv1 = deconv(conv_dim*4, conv_dim*2, 4)\n",
    "        self.t_conv2 = deconv(conv_dim*2, conv_dim, 4)\n",
    "        self.t_conv3 = deconv(conv_dim, 3, 4, batch_norm=False)\n",
    "        \n",
    "\n",
    "    def forward(self, x):\n",
    "        # fully-connected + reshape \n",
    "        out = self.fc(x)\n",
    "        out = out.view(-1, self.conv_dim*4, 4, 4) # (batch_size, depth, 4, 4)\n",
    "        \n",
    "        # hidden transpose conv layers + relu\n",
    "        out = F.relu(self.t_conv1(out))\n",
    "        out = F.relu(self.t_conv2(out))\n",
    "        \n",
    "        # last layer + tanh activation\n",
    "        out = self.t_conv3(out)\n",
    "        out = F.tanh(out)\n",
    "        \n",
    "        return out\n",
    "    "
   ]
  },
  {
   "cell_type": "code",
   "execution_count": 4,
   "id": "783c0286-1768-4284-8cb3-5e1cb52453b6",
   "metadata": {},
   "outputs": [
    {
     "name": "stdout",
     "output_type": "stream",
     "text": [
      "Generator(\n",
      "  (fc): Linear(in_features=100, out_features=2048, bias=True)\n",
      "  (t_conv1): Sequential(\n",
      "    (0): ConvTranspose2d(128, 64, kernel_size=(4, 4), stride=(2, 2), padding=(1, 1), bias=False)\n",
      "    (1): BatchNorm2d(64, eps=1e-05, momentum=0.1, affine=True, track_running_stats=True)\n",
      "  )\n",
      "  (t_conv2): Sequential(\n",
      "    (0): ConvTranspose2d(64, 32, kernel_size=(4, 4), stride=(2, 2), padding=(1, 1), bias=False)\n",
      "    (1): BatchNorm2d(32, eps=1e-05, momentum=0.1, affine=True, track_running_stats=True)\n",
      "  )\n",
      "  (t_conv3): Sequential(\n",
      "    (0): ConvTranspose2d(32, 3, kernel_size=(4, 4), stride=(2, 2), padding=(1, 1), bias=False)\n",
      "  )\n",
      ")\n",
      "\n",
      "==========================================================================================\n",
      "Layer (type (var_name))                  Kernel Shape              Param #\n",
      "==========================================================================================\n",
      "Generator                                --                        --\n",
      "├─Linear (fc)                            [100, 2048]               206,848\n",
      "├─Sequential (t_conv1)                   --                        --\n",
      "│    └─ConvTranspose2d (0)               [64, 128, 4, 4]           131,072\n",
      "│    └─BatchNorm2d (1)                   [64]                      128\n",
      "├─Sequential (t_conv2)                   --                        --\n",
      "│    └─ConvTranspose2d (0)               [32, 64, 4, 4]            32,768\n",
      "│    └─BatchNorm2d (1)                   [32]                      64\n",
      "├─Sequential (t_conv3)                   --                        --\n",
      "│    └─ConvTranspose2d (0)               [3, 32, 4, 4]             1,536\n",
      "==========================================================================================\n",
      "Total params: 372,416\n",
      "Trainable params: 372,416\n",
      "Non-trainable params: 0\n",
      "==========================================================================================\n"
     ]
    }
   ],
   "source": [
    "G = Generator(z_size=100, conv_dim=32)\n",
    "print(G)\n",
    "print()\n",
    "summary(G)"
   ]
  },
  {
   "cell_type": "code",
   "execution_count": null,
   "id": "1e8bc251-8d5d-4cd2-a0a8-f9c41a6b1a88",
   "metadata": {},
   "outputs": [],
   "source": []
  }
 ],
 "metadata": {
  "kernelspec": {
   "display_name": "Python 3 (ipykernel)",
   "language": "python",
   "name": "python3"
  },
  "language_info": {
   "codemirror_mode": {
    "name": "ipython",
    "version": 3
   },
   "file_extension": ".py",
   "mimetype": "text/x-python",
   "name": "python",
   "nbconvert_exporter": "python",
   "pygments_lexer": "ipython3",
   "version": "3.9.10"
  }
 },
 "nbformat": 4,
 "nbformat_minor": 5
}
