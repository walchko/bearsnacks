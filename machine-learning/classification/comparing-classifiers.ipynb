{
 "cells": [
  {
   "cell_type": "markdown",
   "metadata": {
    "colab_type": "text",
    "id": "LWd1UlMnhT2s"
   },
   "source": [
    "![](header.jpg)\n",
    "\n",
    "# Classifiers\n",
    "\n",
    "Kevin J. Walchko, Phd\n",
    "\n",
    "23 Dec 2020\n",
    "\n",
    "---\n",
    "\n",
    "## Linear Classifiers\n",
    "\n",
    "Linear classifier maps raw data:\n",
    "\n",
    "$$\n",
    "f(x_i, W, b) = Wx_i + b\n",
    "$$\n",
    "\n",
    "- $x_i$: data (kx 1), ex: image with pixels flattened\n",
    "- $W$: weight matrix (k x D), each row is a classifier\n",
    "- $b$: bias vector (k x 1)\n",
    "\n",
    "### Linear Regression\n",
    "\n",
    "$$\n",
    "y = b_0 + b_1 x_1 + ... + b_n x_n\n",
    "$$\n",
    "\n",
    "- n: n=1 is a simple linear system, n > 1 is a multiple linear system\n",
    "    - Don't need to do feature scaling for n > 1, coefficients (b's) will handle data of different sizes \n",
    "- $b_0$: bias, y-intercept\n",
    "- $b_1$: scale/slope\n",
    "\n",
    "1. `fit()`: trains the regressor\n",
    "1. `predict()`: use test data, should align with training data\n",
    "\n",
    "Assumptions of linear regression\n",
    "\n",
    "1. Linearity\n",
    "1. Homoscedasticity\n",
    "1. Multivariance normality\n",
    "1. Independence of errors\n",
    "1. Lack of multi-collinearity\n",
    "    - To handle catagorical variables, can create a dummy variable ($D_i$)\n",
    "        - Example: $y = b_0 + b_1 x_1 + b_2 D_1$\n",
    "    - If one variable can predict another variable, then during training, the algorithm cannot determine the effects of one from another, bad: $D_2 = 1 - D_1$\n",
    "    - Always omit one dummy variable in multilinear systems, $b_0$ can represent a $D_i$ when multiple dummy variables are used\n",
    "\n",
    "## Examples\n",
    "\n",
    "This notebook takes a set of data and applies several linear and non-linear classifiers. The data set is a simple one, with two independent variables (age and salary) and one dependent variable (did a customer buy a product).\n",
    "\n",
    "Below are plots of the resulting models which are trying to predict (or classify) if a customer, based on age and income, will buy a product. The outcome is not a continous value, but rather a boolean (true/false or yes/no) in this case. \n",
    "\n",
    "<table>\n",
    "  <tr>\n",
    "    <th>Training Dataset</th>\n",
    "    <th>Test Dataset</th>\n",
    "  </tr>\n",
    "  <tr>\n",
    "    <td><img src=\"logrithmic-pics/train.png\"></td>\n",
    "    <td><img src=\"logrithmic-pics/test.png\"></td>\n",
    "  </tr>\n",
    "  <tr>\n",
    "    <td><img src=\"knn-pics/training.png\"></td>\n",
    "    <td><img src=\"knn-pics/test.png\"></td>\n",
    "  </tr>\n",
    "  <tr>\n",
    "    <td><img src=\"svm-pics/train.png\"></td>\n",
    "    <td><img src=\"svm-pics/test.png\"></td>\n",
    "  </tr>\n",
    "  <tr>\n",
    "    <td><img src=\"ksvm-pics/train.png\"></td>\n",
    "    <td><img src=\"ksvm-pics/test.png\"></td>\n",
    "  </tr>\n",
    "  <tr>\n",
    "    <td><img src=\"decision-tree-pics/train.png\"></td>\n",
    "    <td><img src=\"decision-tree-pics/test.png\"></td>\n",
    "  </tr>\n",
    "  <tr>\n",
    "    <td><img src=\"random-forest-pics/train.png\"></td>\n",
    "    <td><img src=\"random-forest-pics/test.png\"></td>\n",
    "  </tr>\n",
    "</table>\n",
    "\n",
    "A summary of the results for each classifier is below. Since the data points for\n",
    "\"buy\" or \"don't buy\" are very intertwined, it is difficult to draw a straight line\n",
    "through the points separating them. Therefore it is expected that linear models\n",
    "will not perform as well as nonlinear models.\n",
    "\n",
    "| Name                | Type      |Accuracy |\n",
    "|---------------------|-----------|-----|\n",
    "| Logistic Regression | linear    | 89% |\n",
    "| K-Nearest Neighbor  | nonlinear | 93% |\n",
    "| SVM                 | linear    | 90% |\n",
    "| Kernel SVM          | nonlinear | 93% |\n",
    "| Decision Tree       | nonlinear | 91% |\n",
    "| Random Forest       | nonlinear | 91% |\n",
    "\n",
    "The last two nonlinear models do not perform as well as expected, this is probably\n",
    "due to over fitting of the training set. Notice in the pictures above, how there\n",
    "are sever \"little islands\" of different colors trying to capture all of the training\n",
    "data. However, when the test data is applied, all of those islands do not perform\n",
    "well. Here, the KNN and Kernal SVM which are able to weave a \"smooth\" line through\n",
    "the data out performs the others.\n",
    "\n",
    "## References\n",
    "\n",
    "- Stanford: [CS231n: Convolutional Neural Networks for Visual Recognition](http://cs231n.stanford.edu/)\n",
    "- Machine Learning class on udemy.com\n",
    "- wikipedia: [k-nearest neighbors algorithm](https://en.wikipedia.org/wiki/K-nearest_neighbors_algorithm)\n",
    "- [Machine Learning Basics with the K-Nearest Neighbors Algorithm](https://towardsdatascience.com/machine-learning-basics-with-the-k-nearest-neighbors-algorithm-6a6e71d01761)"
   ]
  },
  {
   "cell_type": "code",
   "execution_count": 2,
   "metadata": {
    "colab": {},
    "colab_type": "code",
    "id": "YvGPUQaHhXfL"
   },
   "outputs": [],
   "source": [
    "import numpy as np\n",
    "np.set_printoptions(precision=2)\n",
    "np.set_printoptions(suppress=True)\n",
    "\n",
    "import matplotlib.pyplot as plt\n",
    "from matplotlib.colors import ListedColormap\n",
    "\n",
    "import pandas as pd\n",
    "\n",
    "from colorama import Fore\n",
    "\n",
    "from sklearn.model_selection import train_test_split\n",
    "from sklearn.preprocessing import StandardScaler\n",
    "from sklearn.metrics import confusion_matrix, accuracy_score"
   ]
  },
  {
   "cell_type": "code",
   "execution_count": 3,
   "metadata": {},
   "outputs": [],
   "source": [
    "def evaluate(y_test, y_pred):\n",
    "    cm = confusion_matrix(y_test, y_pred)\n",
    "    print(\"Confusion Matrix:\\n\", cm)\n",
    "    print(\"-------------------\")\n",
    "    print(f\"{Fore.GREEN}True Positives (TP): {cm[0,0]}\")\n",
    "    print(f\"True Negatives (TN): {cm[1,1]}\")\n",
    "    print(f\"{Fore.RED}False Positives (FP): {cm[0,1]}\")\n",
    "    print(f\"False Negatives (FN): {cm[1,0]}{Fore.RESET}\")\n",
    "    print(\"-------------------\")\n",
    "    print(f\"Accuracy: {100*accuracy_score(y_test, y_pred)}%\")\n",
    "\n",
    "    print(f\"Prediction: {lr.predict(sc.transform([[30,87000]]))}\")"
   ]
  },
  {
   "cell_type": "markdown",
   "metadata": {
    "colab_type": "text",
    "id": "K1VMqkGvhc3-"
   },
   "source": [
    "# Data Conditioning"
   ]
  },
  {
   "cell_type": "code",
   "execution_count": 4,
   "metadata": {
    "colab": {},
    "colab_type": "code",
    "id": "M52QDmyzhh9s"
   },
   "outputs": [
    {
     "data": {
      "text/html": [
       "<div>\n",
       "<style scoped>\n",
       "    .dataframe tbody tr th:only-of-type {\n",
       "        vertical-align: middle;\n",
       "    }\n",
       "\n",
       "    .dataframe tbody tr th {\n",
       "        vertical-align: top;\n",
       "    }\n",
       "\n",
       "    .dataframe thead th {\n",
       "        text-align: right;\n",
       "    }\n",
       "</style>\n",
       "<table border=\"1\" class=\"dataframe\">\n",
       "  <thead>\n",
       "    <tr style=\"text-align: right;\">\n",
       "      <th></th>\n",
       "      <th>Age</th>\n",
       "      <th>EstimatedSalary</th>\n",
       "      <th>Purchased</th>\n",
       "    </tr>\n",
       "  </thead>\n",
       "  <tbody>\n",
       "    <tr>\n",
       "      <th>0</th>\n",
       "      <td>19</td>\n",
       "      <td>19000</td>\n",
       "      <td>0</td>\n",
       "    </tr>\n",
       "    <tr>\n",
       "      <th>1</th>\n",
       "      <td>35</td>\n",
       "      <td>20000</td>\n",
       "      <td>0</td>\n",
       "    </tr>\n",
       "    <tr>\n",
       "      <th>2</th>\n",
       "      <td>26</td>\n",
       "      <td>43000</td>\n",
       "      <td>0</td>\n",
       "    </tr>\n",
       "    <tr>\n",
       "      <th>3</th>\n",
       "      <td>27</td>\n",
       "      <td>57000</td>\n",
       "      <td>0</td>\n",
       "    </tr>\n",
       "    <tr>\n",
       "      <th>4</th>\n",
       "      <td>19</td>\n",
       "      <td>76000</td>\n",
       "      <td>0</td>\n",
       "    </tr>\n",
       "  </tbody>\n",
       "</table>\n",
       "</div>"
      ],
      "text/plain": [
       "   Age  EstimatedSalary  Purchased\n",
       "0   19            19000          0\n",
       "1   35            20000          0\n",
       "2   26            43000          0\n",
       "3   27            57000          0\n",
       "4   19            76000          0"
      ]
     },
     "execution_count": 4,
     "metadata": {},
     "output_type": "execute_result"
    }
   ],
   "source": [
    "# dataset describing the age and salary of people who\n",
    "# purchased something from an advertisement. The Purchased\n",
    "# data is just binary signifying if a purchase was made.\n",
    "dataset = pd.read_csv('../datasets/Social_Network_Ads.csv')\n",
    "dataset.head()"
   ]
  },
  {
   "cell_type": "code",
   "execution_count": 4,
   "metadata": {},
   "outputs": [
    {
     "data": {
      "text/html": [
       "<div>\n",
       "<style scoped>\n",
       "    .dataframe tbody tr th:only-of-type {\n",
       "        vertical-align: middle;\n",
       "    }\n",
       "\n",
       "    .dataframe tbody tr th {\n",
       "        vertical-align: top;\n",
       "    }\n",
       "\n",
       "    .dataframe thead th {\n",
       "        text-align: right;\n",
       "    }\n",
       "</style>\n",
       "<table border=\"1\" class=\"dataframe\">\n",
       "  <thead>\n",
       "    <tr style=\"text-align: right;\">\n",
       "      <th></th>\n",
       "      <th>Age</th>\n",
       "      <th>EstimatedSalary</th>\n",
       "    </tr>\n",
       "  </thead>\n",
       "  <tbody>\n",
       "    <tr>\n",
       "      <th>count</th>\n",
       "      <td>400.000000</td>\n",
       "      <td>400.000000</td>\n",
       "    </tr>\n",
       "    <tr>\n",
       "      <th>mean</th>\n",
       "      <td>37.655000</td>\n",
       "      <td>69742.500000</td>\n",
       "    </tr>\n",
       "    <tr>\n",
       "      <th>std</th>\n",
       "      <td>10.482877</td>\n",
       "      <td>34096.960282</td>\n",
       "    </tr>\n",
       "    <tr>\n",
       "      <th>min</th>\n",
       "      <td>18.000000</td>\n",
       "      <td>15000.000000</td>\n",
       "    </tr>\n",
       "    <tr>\n",
       "      <th>25%</th>\n",
       "      <td>29.750000</td>\n",
       "      <td>43000.000000</td>\n",
       "    </tr>\n",
       "    <tr>\n",
       "      <th>50%</th>\n",
       "      <td>37.000000</td>\n",
       "      <td>70000.000000</td>\n",
       "    </tr>\n",
       "    <tr>\n",
       "      <th>75%</th>\n",
       "      <td>46.000000</td>\n",
       "      <td>88000.000000</td>\n",
       "    </tr>\n",
       "    <tr>\n",
       "      <th>max</th>\n",
       "      <td>60.000000</td>\n",
       "      <td>150000.000000</td>\n",
       "    </tr>\n",
       "  </tbody>\n",
       "</table>\n",
       "</div>"
      ],
      "text/plain": [
       "              Age  EstimatedSalary\n",
       "count  400.000000       400.000000\n",
       "mean    37.655000     69742.500000\n",
       "std     10.482877     34096.960282\n",
       "min     18.000000     15000.000000\n",
       "25%     29.750000     43000.000000\n",
       "50%     37.000000     70000.000000\n",
       "75%     46.000000     88000.000000\n",
       "max     60.000000    150000.000000"
      ]
     },
     "execution_count": 4,
     "metadata": {},
     "output_type": "execute_result"
    }
   ],
   "source": [
    "# here we are removing the binary \"Purchased\" value\n",
    "# because the results are meaningless for it\n",
    "dataset[[\"Age\",\"EstimatedSalary\"]].describe()"
   ]
  },
  {
   "cell_type": "code",
   "execution_count": 5,
   "metadata": {
    "colab": {},
    "colab_type": "code",
    "id": "AVzJWAXIhxoC"
   },
   "outputs": [],
   "source": [
    "# so looking at the dataset, our independent variables (X) \n",
    "# are Age and Salary, while our dependent variable (Y) is\n",
    "# did they purchase a product or not.\n",
    "X = dataset.iloc[:, :-1].values # grab everything upto the last column\n",
    "y = dataset.iloc[:, -1].values  # grab the last column\n",
    "\n",
    "x_train, X_test, y_train, y_test = train_test_split(X, y,\n",
    "    test_size = 0.25, # reserve 25% of data for testing\n",
    "    random_state = 0) # random_state initializes the seed to 0 everytime"
   ]
  },
  {
   "cell_type": "code",
   "execution_count": 6,
   "metadata": {
    "colab": {
     "base_uri": "https://localhost:8080/",
     "height": 1000
    },
    "colab_type": "code",
    "executionInfo": {
     "elapsed": 2393,
     "status": "ok",
     "timestamp": 1588492962259,
     "user": {
      "displayName": "Hadelin de Ponteves",
      "photoUrl": "https://lh3.googleusercontent.com/a-/AOh14GhEuXdT7eQweUmRPW8_laJuPggSK6hfvpl5a6WBaA=s64",
      "userId": "15047218817161520419"
     },
     "user_tz": -240
    },
    "id": "P3nS3-6r1i2B",
    "outputId": "2972f900-ae1f-493b-9097-11ab9314d030"
   },
   "outputs": [
    {
     "name": "stdout",
     "output_type": "stream",
     "text": [
      "Mean values are: [   38.13 69583.33]\n"
     ]
    },
    {
     "data": {
      "image/png": "[encoded data removed]",
      "text/plain": [
       "<Figure size 432x288 with 2 Axes>"
      ]
     },
     "metadata": {
      "needs_background": "light"
     },
     "output_type": "display_data"
    }
   ],
   "source": [
    "mv = np.mean(x_train,axis=0)\n",
    "print(f\"Mean values are: {mv}\")\n",
    "\n",
    "plt.subplot(1,2,1)\n",
    "plt.hist(x_train[:,0])\n",
    "plt.grid(True)\n",
    "plt.title(\"Age\");\n",
    "\n",
    "plt.subplot(1,2,2)\n",
    "plt.hist(x_train[:,1])\n",
    "plt.grid(True)\n",
    "plt.title(\"Salary\");"
   ]
  },
  {
   "cell_type": "code",
   "execution_count": 7,
   "metadata": {
    "colab": {
     "base_uri": "https://localhost:8080/",
     "height": 171
    },
    "colab_type": "code",
    "executionInfo": {
     "elapsed": 2386,
     "status": "ok",
     "timestamp": 1588492962260,
     "user": {
      "displayName": "Hadelin de Ponteves",
      "photoUrl": "https://lh3.googleusercontent.com/a-/AOh14GhEuXdT7eQweUmRPW8_laJuPggSK6hfvpl5a6WBaA=s64",
      "userId": "15047218817161520419"
     },
     "user_tz": -240
    },
    "id": "8dpDLojm1mVG",
    "outputId": "f2afb6eb-2911-439a-d6b6-9e025bbedc75"
   },
   "outputs": [
    {
     "name": "stdout",
     "output_type": "stream",
     "text": [
      "[0 1 0 1 1 1 0 0 0 0 0 0 1 1 1 0 1 0 0 1 0 1 0 1 0 0 1 1 1 1 0 1 0 1 0 0 1\n",
      " 0 0 1 0 0 0 0 0 1 1 1 1 0 0 0 1 0 1 0 1 0 0 1 0 0 0 1 0 0 0 1 1 0 0 1 0 1\n",
      " 1 1 0 0 1 1 0 0 1 1 0 1 0 0 1 1 0 1 1 1 0 0 0 0 0 1 0 0 1 1 1 1 1 0 1 1 0\n",
      " 1 0 0 0 0 0 0 0 1 1 0 0 1 0 0 1 0 0 0 1 0 1 1 0 1 0 0 0 0 1 0 0 0 1 1 0 0\n",
      " 0 0 1 0 1 0 0 0 1 0 0 0 0 1 1 1 0 0 0 0 0 0 1 1 1 1 1 0 1 0 0 0 0 0 1 0 0\n",
      " 0 0 0 0 1 1 0 1 0 1 0 0 1 0 0 0 1 0 0 0 0 0 1 0 0 0 0 0 1 0 1 1 0 0 0 0 0\n",
      " 0 1 1 0 0 0 0 1 0 0 0 0 1 0 1 0 1 0 0 0 1 0 0 0 1 0 1 0 0 0 0 0 1 1 0 0 0\n",
      " 0 0 1 0 1 1 0 0 0 0 0 1 0 1 0 0 1 0 0 1 0 1 0 0 0 0 0 0 1 1 1 1 0 0 0 0 1\n",
      " 0 0 0 0]\n"
     ]
    }
   ],
   "source": [
    "# note again, it is just binary output of:\n",
    "#    0 - didn't purchase\n",
    "#    1 - did purchase\n",
    "print(y_train)"
   ]
  },
  {
   "cell_type": "markdown",
   "metadata": {
    "colab_type": "text",
    "id": "kW3c7UYih0hT"
   },
   "source": [
    "## Feature Scaling\n",
    "\n",
    "Below, we are going to scale the `x_train` and `x_test` datasets because the numbers within them are in completely different ranges. \n",
    "\n",
    "You might ask, \"why don't we scale the y output\" ... well look at it above. It is already scaled from \\[0,1\\] ... no need to do anything. If this data HAD other values (like \\[-30,215\\] for example) then we would have scaled it. "
   ]
  },
  {
   "cell_type": "code",
   "execution_count": 8,
   "metadata": {
    "colab": {},
    "colab_type": "code",
    "id": "9fQlDPKCh8sc"
   },
   "outputs": [],
   "source": [
    "sc = StandardScaler()\n",
    "X_train = sc.fit_transform(x_train)\n",
    "X_test = sc.transform(X_test)"
   ]
  },
  {
   "cell_type": "code",
   "execution_count": 9,
   "metadata": {
    "colab": {
     "base_uri": "https://localhost:8080/",
     "height": 1000
    },
    "colab_type": "code",
    "executionInfo": {
     "elapsed": 2367,
     "status": "ok",
     "timestamp": 1588492962261,
     "user": {
      "displayName": "Hadelin de Ponteves",
      "photoUrl": "https://lh3.googleusercontent.com/a-/AOh14GhEuXdT7eQweUmRPW8_laJuPggSK6hfvpl5a6WBaA=s64",
      "userId": "15047218817161520419"
     },
     "user_tz": -240
    },
    "id": "syrnD1Op2BSR",
    "outputId": "721c0899-23c8-42ff-dc5a-d008c774ac78"
   },
   "outputs": [
    {
     "name": "stdout",
     "output_type": "stream",
     "text": [
      "Mean values are: [0. 0.]\n"
     ]
    },
    {
     "data": {
      "image/png": "[encoded data removed]",
      "text/plain": [
       "<Figure size 432x288 with 2 Axes>"
      ]
     },
     "metadata": {
      "needs_background": "light"
     },
     "output_type": "display_data"
    }
   ],
   "source": [
    "mv = np.mean(X_train,axis=0)\n",
    "print(f\"Mean values are: {mv}\")\n",
    "\n",
    "plt.subplot(1,2,1)\n",
    "plt.hist(X_train[:,0])\n",
    "plt.grid(True)\n",
    "plt.title(\"Age\");\n",
    "\n",
    "plt.subplot(1,2,2)\n",
    "plt.hist(X_train[:,1])\n",
    "plt.grid(True)\n",
    "plt.title(\"Salary\");"
   ]
  },
  {
   "cell_type": "markdown",
   "metadata": {},
   "source": [
    "# Logistic Regression\n",
    "\n",
    "Logistic regression is used as a classifier\n",
    "\n",
    "$$\n",
    "\\ln \\frac {p}{1-p} = b_0 + b_1 x_1 \\\\\n",
    "\\hat p \\equiv \\text {probability prediction} \\to \\hat y\n",
    "$$\n",
    "\n",
    "- predicts a class: 0 or 1\n",
    "- feature scaleing is **not requried**, but will improve performance\n",
    "- since y will be categorical (0 or 1), you shouldn't need to scale it"
   ]
  },
  {
   "cell_type": "code",
   "execution_count": 10,
   "metadata": {},
   "outputs": [
    {
     "name": "stdout",
     "output_type": "stream",
     "text": [
      "Confusion Matrix:\n",
      " [[65  3]\n",
      " [ 8 24]]\n",
      "-------------------\n",
      "\u001b[32mTrue Positives (TP): 65\n",
      "True Negatives (TN): 24\n",
      "\u001b[31mFalse Positives (FP): 3\n",
      "False Negatives (FN): 8\u001b[39m\n",
      "-------------------\n",
      "Accuracy: 89.0%\n",
      "Prediction: [0]\n"
     ]
    }
   ],
   "source": [
    "from sklearn.linear_model import LogisticRegression\n",
    "lr = LogisticRegression(random_state = 0)\n",
    "lr.fit(X_train, y_train)\n",
    "\n",
    "y_pred = lr.predict(X_test)\n",
    "\n",
    "evaluate(y_test, y_pred)"
   ]
  },
  {
   "cell_type": "markdown",
   "metadata": {
    "colab_type": "text",
    "id": "bb6jCOCQiAmP"
   },
   "source": [
    "## K-Nearest Neighbor\n",
    "\n",
    "The K-nearest neighbors (KNN) algorithm is a simple, easy-to-implement supervised machine learning algorithm that can be used to solve both classification and regression problems. The algorithm assumes that similar things exist in close proximity to each other as shown below. This method is a **nonlinear** classifier.\n",
    "\n",
    "![](knn-pics/knn-plot.png)\n",
    "\n",
    "KNN works by finding the distances between a query and all the examples in the data, selecting the specified number examples (K) closest to the query, then votes for the most frequent label (in the case of classification) or averages the labels (in the case of regression).\n",
    "\n",
    "Distance functions:\n",
    "\n",
    "$$\n",
    "L1 = \\sum_P \\lvert X_1^P - X_2^p \\rvert \\\\\n",
    "L2 = \\sqrt {\\sum_P (X_1^P - X_2^p)^2}\n",
    "$$\n",
    "\n",
    "For the L2, you don't really need to do the square root, because it is monotonic and won't change the ordering of the nearest neigherbors.\n",
    "\n",
    "1. Pick K neighbors, common is 5\n",
    "1. Use the Euclidean distance to calculate K nearest neighbors\n",
    "1. Count the number of data points in each neighbor\n",
    "1. Assign points in NN\n",
    "\n",
    "If K = 1, then it becomes the nearest neighbor, which is generally not used.\n",
    "\n",
    "**Note:** it is easy to train, but expensive to use at execution because it must remember all training data. \n",
    "\n",
    "### References\n",
    "\n",
    "- wikipedia: [k-nearest neighbors algorithm](https://en.wikipedia.org/wiki/K-nearest_neighbors_algorithm)\n",
    "- [Machine Learning Basics with the K-Nearest Neighbors Algorithm](https://towardsdatascience.com/machine-learning-basics-with-the-k-nearest-neighbors-algorithm-6a6e71d01761)"
   ]
  },
  {
   "cell_type": "code",
   "execution_count": 11,
   "metadata": {
    "colab": {
     "base_uri": "https://localhost:8080/",
     "height": 68
    },
    "colab_type": "code",
    "executionInfo": {
     "elapsed": 3505,
     "status": "ok",
     "timestamp": 1588492963427,
     "user": {
      "displayName": "Hadelin de Ponteves",
      "photoUrl": "https://lh3.googleusercontent.com/a-/AOh14GhEuXdT7eQweUmRPW8_laJuPggSK6hfvpl5a6WBaA=s64",
      "userId": "15047218817161520419"
     },
     "user_tz": -240
    },
    "id": "D6bpZwUiiXic",
    "outputId": "ec9468d5-c478-4ffa-ba1c-535eb56d7304"
   },
   "outputs": [
    {
     "name": "stdout",
     "output_type": "stream",
     "text": [
      "Confusion Matrix:\n",
      " [[64  4]\n",
      " [ 3 29]]\n",
      "-------------------\n",
      "\u001b[32mTrue Positives (TP): 64\n",
      "True Negatives (TN): 29\n",
      "\u001b[31mFalse Positives (FP): 4\n",
      "False Negatives (FN): 3\u001b[39m\n",
      "-------------------\n",
      "Accuracy: 93.0%\n",
      "Prediction: [0]\n"
     ]
    }
   ],
   "source": [
    "from sklearn.neighbors import KNeighborsClassifier\n",
    "knn = KNeighborsClassifier(n_neighbors = 5, metric = 'minkowski', p = 2)\n",
    "knn.fit(X_train, y_train)\n",
    "\n",
    "y_pred = knn.predict(X_test)\n",
    "\n",
    "evaluate(y_test, y_pred)"
   ]
  },
  {
   "cell_type": "markdown",
   "metadata": {},
   "source": [
    "# Support Vector Machine (SVM)\n",
    "\n",
    "SVM are th eriskiest/extreme types of classifyers because of the support vector and often perform the best.\n",
    "\n",
    "![](https://upload.wikimedia.org/wikipedia/commons/thumb/7/72/SVM_margin.png/300px-SVM_margin.png)\n",
    "\n",
    "SVM tries to draw a linear line through the dataset with a boundry (dotted line in image above). The vectors which lie on this boundry (margin) are the supporting vectors and give this method its name. The margin are the extremes of the classes you are trying to classify\n",
    "\n",
    "$$\n",
    "f(x_i, w)_j \\to s_j \\\\\n",
    "Loss(L_i) = \\sum_{j \\ne y_i} \\max { O_j s_j - s_{y_i} + b }\n",
    "$$\n",
    "\n",
    "- L2 penalty perfers smaller and more diffuse weight vectors\n",
    "\n",
    "### References\n",
    "\n",
    "- wikipedia: [Support vector machine](https://en.wikipedia.org/wiki/Support_vector_machine)"
   ]
  },
  {
   "cell_type": "code",
   "execution_count": 12,
   "metadata": {},
   "outputs": [
    {
     "name": "stdout",
     "output_type": "stream",
     "text": [
      "Confusion Matrix:\n",
      " [[66  2]\n",
      " [ 8 24]]\n",
      "-------------------\n",
      "\u001b[32mTrue Positives (TP): 66\n",
      "True Negatives (TN): 24\n",
      "\u001b[31mFalse Positives (FP): 2\n",
      "False Negatives (FN): 8\u001b[39m\n",
      "-------------------\n",
      "Accuracy: 90.0%\n",
      "Prediction: [0]\n"
     ]
    }
   ],
   "source": [
    "from sklearn.svm import SVC\n",
    "svm = SVC(kernel = 'linear', random_state = 0)\n",
    "svm.fit(X_train, y_train)\n",
    "\n",
    "y_pred = svm.predict(X_test)\n",
    "\n",
    "evaluate(y_test, y_pred)"
   ]
  },
  {
   "cell_type": "markdown",
   "metadata": {},
   "source": [
    "# Kernel SVM\n",
    "\n",
    "![](https://upload.wikimedia.org/wikipedia/commons/thumb/f/fe/Kernel_Machine.svg/512px-Kernel_Machine.svg.png)\n",
    "\n",
    "Kernel SVM does a similar thing to the standard SVM, except, it uses a nonlinear kernel to map the dataset into a new space where the SVM method can be applied. In the picture above, the original nonlinear divide between black/white dots is transformed into a linear one via the kernel.\n",
    "\n",
    "### References\n",
    "\n",
    "- wikipedia: [Support vector machine](https://en.wikipedia.org/wiki/Support_vector_machine)"
   ]
  },
  {
   "cell_type": "code",
   "execution_count": 13,
   "metadata": {},
   "outputs": [
    {
     "name": "stdout",
     "output_type": "stream",
     "text": [
      "Confusion Matrix:\n",
      " [[64  4]\n",
      " [ 3 29]]\n",
      "-------------------\n",
      "\u001b[32mTrue Positives (TP): 64\n",
      "True Negatives (TN): 29\n",
      "\u001b[31mFalse Positives (FP): 4\n",
      "False Negatives (FN): 3\u001b[39m\n",
      "-------------------\n",
      "Accuracy: 93.0%\n",
      "Prediction: [0]\n"
     ]
    }
   ],
   "source": [
    "from sklearn.svm import SVC\n",
    "ksvm = SVC(kernel = 'rbf', random_state = 0)\n",
    "ksvm.fit(X_train, y_train)\n",
    "\n",
    "y_pred = ksvm.predict(X_test)\n",
    "\n",
    "evaluate(y_test, y_pred)"
   ]
  },
  {
   "cell_type": "markdown",
   "metadata": {},
   "source": [
    "# Decision Trees\n",
    "\n",
    "Decision tree learning is one of the predictive modelling approaches used in statistics, data mining and machine learning. It uses a decision tree (as a predictive model) to go from observations about an item (represented in the branches) to conclusions about the item's target value (represented in the leaves). \n",
    "\n",
    "![](https://miro.medium.com/max/360/1*XMId5sJqPtm8-RIwVVz2tg.png)\n",
    "\n",
    "### References\n",
    "\n",
    "- [Decision Trees in Machine Learning](https://towardsdatascience.com/decision-trees-in-machine-learning-641b9c4e8052)\n",
    "- wikipedia: [Decision tree learning](https://en.wikipedia.org/wiki/Decision_tree_learning)"
   ]
  },
  {
   "cell_type": "code",
   "execution_count": 14,
   "metadata": {},
   "outputs": [
    {
     "name": "stdout",
     "output_type": "stream",
     "text": [
      "Confusion Matrix:\n",
      " [[62  6]\n",
      " [ 3 29]]\n",
      "-------------------\n",
      "\u001b[32mTrue Positives (TP): 62\n",
      "True Negatives (TN): 29\n",
      "\u001b[31mFalse Positives (FP): 6\n",
      "False Negatives (FN): 3\u001b[39m\n",
      "-------------------\n",
      "Accuracy: 91.0%\n",
      "Prediction: [0]\n"
     ]
    }
   ],
   "source": [
    "from sklearn.tree import DecisionTreeClassifier\n",
    "dt = DecisionTreeClassifier(criterion = 'entropy', random_state = 0)\n",
    "dt.fit(X_train, y_train)\n",
    "\n",
    "y_pred = dt.predict(X_test)\n",
    "\n",
    "evaluate(y_test, y_pred)"
   ]
  },
  {
   "cell_type": "markdown",
   "metadata": {},
   "source": [
    "# Random Forest (Ensemble Learning)\n",
    "\n",
    "Random forests or random decision forests are an ensemble learning method for classification, regression and other tasks that operate by constructing a multitude of decision trees at training time and outputting the class that is the mode of the classes (classification) or mean/average prediction (regression) of the individual trees. Random decision forests correct for decision trees' habit of overfitting to their training set. Random forests generally outperform decision trees, but their accuracy is lower than gradient boosted trees. However, data characteristics can affect their performance.\n",
    "\n",
    "![](https://upload.wikimedia.org/wikipedia/commons/7/76/Random_forest_diagram_complete.png)\n",
    "\n",
    "### References\n",
    "\n",
    "- wikipedia: [Random forest](https://en.wikipedia.org/wiki/Random_forest)"
   ]
  },
  {
   "cell_type": "code",
   "execution_count": 15,
   "metadata": {},
   "outputs": [
    {
     "name": "stdout",
     "output_type": "stream",
     "text": [
      "Confusion Matrix:\n",
      " [[63  5]\n",
      " [ 4 28]]\n",
      "-------------------\n",
      "\u001b[32mTrue Positives (TP): 63\n",
      "True Negatives (TN): 28\n",
      "\u001b[31mFalse Positives (FP): 5\n",
      "False Negatives (FN): 4\u001b[39m\n",
      "-------------------\n",
      "Accuracy: 91.0%\n",
      "Prediction: [0]\n"
     ]
    }
   ],
   "source": [
    "from sklearn.ensemble import RandomForestClassifier\n",
    "rf = RandomForestClassifier(n_estimators = 10, criterion = 'entropy', random_state = 0)\n",
    "rf.fit(X_train, y_train)\n",
    "\n",
    "y_pred = rf.predict(X_test)\n",
    "\n",
    "evaluate(y_test, y_pred)"
   ]
  },
  {
   "cell_type": "code",
   "execution_count": null,
   "metadata": {},
   "outputs": [],
   "source": []
  }
 ],
 "metadata": {
  "colab": {
   "authorship_tag": "ABX9TyO/71HmJztjHpR9Q3DXpRZQ",
   "collapsed_sections": [],
   "machine_shape": "hm",
   "name": "k_nearest_neighbors.ipynb",
   "provenance": [],
   "toc_visible": true
  },
  "kernelspec": {
   "display_name": "Python 3",
   "language": "python",
   "name": "python3"
  },
  "language_info": {
   "codemirror_mode": {
    "name": "ipython",
    "version": 3
   },
   "file_extension": ".py",
   "mimetype": "text/x-python",
   "name": "python",
   "nbconvert_exporter": "python",
   "pygments_lexer": "ipython3",
   "version": "3.9.5"
  }
 },
 "nbformat": 4,
 "nbformat_minor": 1
}
