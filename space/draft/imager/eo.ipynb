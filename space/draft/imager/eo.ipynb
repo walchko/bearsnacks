{
 "cells": [
  {
   "cell_type": "markdown",
   "id": "90883685-d1df-4dd5-a7aa-8e5758d49ac9",
   "metadata": {},
   "source": [
    "# Camera Stuff"
   ]
  },
  {
   "cell_type": "markdown",
   "id": "ceed0de7-91d1-4876-b7bb-4721814bcc08",
   "metadata": {},
   "source": [
    "![](https://www.photographer.org/wp-content/uploads/2018/06/apeture-f-stop-chart.jpg)\n",
    "\n",
    "![](https://cdn-7.nikon-cdn.com/Images/Learn-Explore/Photography-Techniques/2009/Focal-Length/Media/red-barn-sequence.jpg)"
   ]
  },
  {
   "cell_type": "code",
   "execution_count": 31,
   "id": "77336d44-1a2d-43db-9aca-5ce35fa0a3af",
   "metadata": {},
   "outputs": [],
   "source": [
    "from math import pi, log10, sqrt\n",
    "from matplotlib import pyplot as plt\n",
    "import numpy as np"
   ]
  },
  {
   "cell_type": "code",
   "execution_count": 130,
   "id": "77b6c97e-6043-422e-8040-c84b28591b86",
   "metadata": {},
   "outputs": [
    {
     "name": "stdout",
     "output_type": "stream",
     "text": [
      "{'dia': 36.0, 'rows': 6388, 'cols': 9576, 'pixel': 0.4205514166666666, 'qe': 0.4, 'f': 1800, 'fnum': 5, 'fov': (1.1186667683333331, 0.7462451249074074), 'readNoise': 3.5}\n"
     ]
    }
   ],
   "source": [
    "rad2arcsec = 206265 # [arcsec/rads]\n",
    "\n",
    "def buildCamera(fpa, f, fnum):\n",
    "    \"\"\"\n",
    "    args:\n",
    "    - f: focal length [mm]\n",
    "    - fnum: f-number\n",
    "    \n",
    "    return:\n",
    "    - dia: [cm]\n",
    "    - pixel: [arcsec]\n",
    "    - side: pixel size [microns]\n",
    "    - qe: quantum efficiency [%], turning photons into electrons\n",
    "    \"\"\"\n",
    "    # scale = arcsec2rad/(1000*f)\n",
    "    # pixel = side*scale\n",
    "    side = fpa[\"side\"]\n",
    "    rows = fpa[\"rows\"]\n",
    "    cols = fpa[\"cols\"]\n",
    "    pixel = rad2arcsec*side/(1000*f) # pixel size [arcsec]; micron/1000 = mm\n",
    "    fov = (cols*pixel/3600, rows*pixel/3600) # arcsec\n",
    "    \n",
    "    return {\n",
    "        'dia': 0.1*f/fnum, # appature diameter [cm]\n",
    "        'rows': rows, # px\n",
    "        'cols': cols, # px\n",
    "        'pixel': pixel,  \n",
    "        'qe': fpa[\"qe\"],    # quantum eff, turning photons into electrons\n",
    "        'f': f,    # focal length [mm]\n",
    "        'fnum': fnum,  # f-number\n",
    "        'fov': fov, # field of view, [width, height] deg\n",
    "        'readNoise': fpa[\"readNoise\"]\n",
    "    }\n",
    "\n",
    "def buildCamera2(fpa, dia, f):\n",
    "    \"\"\"\n",
    "    args:\n",
    "    - f: focal length [mm]\n",
    "    - fnum: f-number\n",
    "    \n",
    "    return:\n",
    "    - dia: [cm]\n",
    "    - pixel: [arcsec]\n",
    "    - side: pixel size [microns]\n",
    "    - qe: quantum efficiency [%], turning photons into electrons\n",
    "    \"\"\"\n",
    "    # scale = arcsec2rad/(1000*f)\n",
    "    # pixel = side*scale\n",
    "    side = fpa[\"side\"]\n",
    "    rows = fpa[\"rows\"]\n",
    "    cols = fpa[\"cols\"]\n",
    "    pixel = rad2arcsec*side/(1000*f) # pixel size [arcsec]; micron/1000 = mm\n",
    "    fov = (cols*pixel/3600, rows*pixel/3600) # arcsec\n",
    "    \n",
    "    return {\n",
    "        'dia': dia, # appature diameter [cm]\n",
    "        'rows': rows, # px\n",
    "        'cols': cols, # px\n",
    "        'pixel': pixel,  \n",
    "        'qe': fpa[\"qe\"],    # quantum eff, turning photons into electrons\n",
    "        'f': f,    # focal length [mm]\n",
    "        'fnum': 0.1*f/dia,  # f-number\n",
    "        'fov': fov, # field of view, [width, height] deg\n",
    "        'readNoise': fpa[\"readNoise\"]\n",
    "    }\n",
    "\n",
    "# focal plane array parameters\n",
    "fpa = {\n",
    "    \"rows\": 6388, # px\n",
    "    \"cols\": 9576, # px\n",
    "    \"readNoise\": 3.5, # noise [electrons]\n",
    "    \"side\": 3.67, # [microns]\n",
    "    \"qe\": 0.4\n",
    "}\n",
    "\n",
    "\n",
    "# camera parameters\n",
    "camera = buildCamera(fpa,1800,5)\n",
    "print(camera)"
   ]
  },
  {
   "cell_type": "code",
   "execution_count": 131,
   "id": "cedc450f-b9bf-4b89-986a-9c75ee3a7fa5",
   "metadata": {},
   "outputs": [
    {
     "name": "stdout",
     "output_type": "stream",
     "text": [
      "1017876019.7630929 4.052237422021402 0.28532057032134905\n"
     ]
    }
   ],
   "source": [
    "def spaceSky(camera, band, mag, sky):\n",
    "    \"\"\"\n",
    "    camera - dictonary of camera parameters\n",
    "    band - spectrum band in Angstrom\n",
    "    mag - visual magnitude of interest\n",
    "    sky - background brightness (mV) of sky\n",
    "    \"\"\"\n",
    "    dia = camera[\"dia\"]\n",
    "    qe = camera[\"qe\"]\n",
    "    pixel = camera[\"pixel\"]\n",
    "    \n",
    "    v0 = 1000 # flux at mV=0 [photons / (cm^2-Angstrom)]\n",
    "    area = pi*(dia/2)**2    # area of imager\n",
    "    fluxv0 = v0*band*qe*area # number photons hitting lense\n",
    "    fluxmag = 10**(-mag/2.5)*fluxv0\n",
    "    \n",
    "    pixsky = sky - 2.5*log10(pixel**2)\n",
    "    fluxsky = 10**(-pixsky/2.5)*fluxv0\n",
    "    \n",
    "    return (fluxv0, fluxmag, fluxsky)\n",
    "\n",
    "fluxv0, fluxmag, fluxsky = spaceSky(camera, 2500, 21, 22)\n",
    "print(fluxv0, fluxmag, fluxsky)"
   ]
  },
  {
   "cell_type": "code",
   "execution_count": 132,
   "id": "bab87569-a57b-412a-a976-a9971dcb3265",
   "metadata": {},
   "outputs": [
    {
     "data": {
      "text/plain": [
       "(4.033421094873676, 0.20853335507228413)"
      ]
     },
     "execution_count": 132,
     "metadata": {},
     "output_type": "execute_result"
    }
   ],
   "source": [
    "def performance(cam, integrationTime, fwhm, fluxmag, fluxsky):\n",
    "    readout = cam[\"readNoise\"]\n",
    "    imsize = fwhm**2\n",
    "    signal = fluxmag*integrationTime\n",
    "    total = signal + imsize*fluxsky*integrationTime\n",
    "    noise = sqrt(total + imsize*readout**2)\n",
    "    snr = signal/noise\n",
    "    pixel = cam[\"pixel\"]\n",
    "    acc = fwhm*pixel/snr\n",
    "    # print(imsize,pixel, acc, snr)\n",
    "    return snr, acc\n",
    "    \n",
    "integrationTime = 10 # sec\n",
    "\n",
    "# full width at half maximum\n",
    "fwhm = 2 # image diameter pixel\n",
    "\n",
    "performance(camera, integrationTime, fwhm, fluxmag, fluxsky)"
   ]
  },
  {
   "cell_type": "code",
   "execution_count": null,
   "id": "e71d2733-72d6-4b97-8d8b-43400588ac9c",
   "metadata": {},
   "outputs": [],
   "source": []
  },
  {
   "cell_type": "code",
   "execution_count": null,
   "id": "e732bb78-f058-4adc-8144-507f8731d34a",
   "metadata": {},
   "outputs": [],
   "source": []
  },
  {
   "cell_type": "code",
   "execution_count": null,
   "id": "37a91403-d026-4c44-9f4b-a86d73ccc4be",
   "metadata": {},
   "outputs": [],
   "source": []
  },
  {
   "cell_type": "code",
   "execution_count": 122,
   "id": "82e1c001-9e87-403f-b7ae-a8a8b00aebc0",
   "metadata": {},
   "outputs": [],
   "source": [
    "\n",
    "integrationTime = 20 # sec\n",
    "\n",
    "# full width at half maximum\n",
    "fwhm = 2 # image diameter pixel\n",
    "\n",
    "dia = []\n",
    "focalLength = np.arange(1000,1800,10)\n",
    "fnumber = np.arange(1,4,0.1)\n",
    "snr = []\n",
    "for fl in focalLength:\n",
    "    crow = []\n",
    "    srow = []\n",
    "    for fn in fnumber:\n",
    "        c = buildCamera(fpa,fl,fn)\n",
    "        fluxv0, fluxmag, fluxsky = spaceSky(c, 2500, 21, 22)\n",
    "        s, a = performance(c, integrationTime, fwhm, fluxmag, fluxsky)\n",
    "        crow.append(c[\"dia\"])\n",
    "        srow.append(s)\n",
    "    dia.append(crow.copy())\n",
    "    snr.append(srow.copy())\n",
    "dia = np.array(dia)\n",
    "snr = np.array(snr)\n",
    "X,Y = np.meshgrid(fnumber,focalLength)"
   ]
  },
  {
   "cell_type": "code",
   "execution_count": 123,
   "id": "cda8b6f0-df13-44bf-92f4-d88b39b56426",
   "metadata": {},
   "outputs": [
    {
     "data": {
      "image/png": "[encoded data removed]",
      "text/plain": [
       "<Figure size 432x288 with 2 Axes>"
      ]
     },
     "metadata": {
      "needs_background": "light"
     },
     "output_type": "display_data"
    }
   ],
   "source": [
    "plt.contourf(X,Y,dia, cmap=\"cool\")\n",
    "plt.colorbar()\n",
    "plt.xlabel(\"F/#\")\n",
    "plt.ylabel(\"Focal Length [mm]\")\n",
    "plt.title(\"Diameter [cm]\")\n",
    "plt.grid(True);"
   ]
  },
  {
   "cell_type": "code",
   "execution_count": 124,
   "id": "66f79b06-9d0a-4ba9-b670-e2f56b9b9737",
   "metadata": {},
   "outputs": [
    {
     "data": {
      "image/png": "[encoded data removed]",
      "text/plain": [
       "<Figure size 432x288 with 2 Axes>"
      ]
     },
     "metadata": {
      "needs_background": "light"
     },
     "output_type": "display_data"
    }
   ],
   "source": [
    "plt.contourf(X,Y,snr, cmap=\"cool\")\n",
    "plt.colorbar()\n",
    "plt.xlabel(\"F/#\")\n",
    "plt.ylabel(\"Focal Length [mm]\")\n",
    "plt.title(\"SNR\")\n",
    "plt.grid(True);"
   ]
  },
  {
   "cell_type": "code",
   "execution_count": null,
   "id": "d0794026-59dc-401c-a694-d3eb3506fee8",
   "metadata": {},
   "outputs": [],
   "source": []
  },
  {
   "cell_type": "code",
   "execution_count": null,
   "id": "87ac8a54-4e84-4a90-a022-1206abee1aa9",
   "metadata": {},
   "outputs": [],
   "source": []
  },
  {
   "cell_type": "code",
   "execution_count": null,
   "id": "f3f0406a-c98d-4548-8eba-2e0e88974e60",
   "metadata": {},
   "outputs": [],
   "source": []
  },
  {
   "cell_type": "code",
   "execution_count": 147,
   "id": "6616cc1e-a7da-41ec-ae3e-4c9ea780b517",
   "metadata": {},
   "outputs": [],
   "source": [
    "integrationTime = 20 # sec\n",
    "\n",
    "# full width at half maximum\n",
    "fwhm = 2 # image diameter pixel\n",
    "\n",
    "dia = 20\n",
    "focal = 1000\n",
    "\n",
    "magV = []\n",
    "snr = []\n",
    "its = np.arange(1,30)\n",
    "mags = np.arange(17,21.5,.1)\n",
    "dia = 20\n",
    "\n",
    "for integrationTime in its:\n",
    "    srow = []\n",
    "    # vrow = []\n",
    "    for mV in mags:\n",
    "        c = buildCamera2(fpa,dia,focal)\n",
    "        fluxv0, fluxmag, fluxsky = spaceSky(c, 2500, mV, 22)\n",
    "        s, a = performance(c, integrationTime, fwhm, fluxmag, fluxsky)\n",
    "        srow.append(s)\n",
    "        # vrow.append(mV)\n",
    "    # magV.append(irow.copy())\n",
    "    snr.append(srow.copy())\n",
    "# magV = np.array(magV)\n",
    "snr = np.array(snr)\n",
    "X,Y = np.meshgrid(mags,its)"
   ]
  },
  {
   "cell_type": "code",
   "execution_count": 148,
   "id": "4c96bb83-b562-4766-8167-f2223fe10ee1",
   "metadata": {},
   "outputs": [
    {
     "data": {
      "image/png": "[encoded data removed]",
      "text/plain": [
       "<Figure size 432x288 with 2 Axes>"
      ]
     },
     "metadata": {
      "needs_background": "light"
     },
     "output_type": "display_data"
    }
   ],
   "source": [
    "plt.contourf(X,Y,snr, cmap=\"cool\")\n",
    "plt.colorbar()\n",
    "plt.xlabel(\"mV\")\n",
    "plt.ylabel(\"Integration Time [sec]\")\n",
    "plt.title(f\"SNR, f: {focal}mm dia: {dia}cm\")\n",
    "plt.grid(True);"
   ]
  },
  {
   "cell_type": "code",
   "execution_count": null,
   "id": "e721873d-07b1-4c53-b848-10547c399515",
   "metadata": {},
   "outputs": [],
   "source": []
  }
 ],
 "metadata": {
  "kernelspec": {
   "display_name": "Python 3 (ipykernel)",
   "language": "python",
   "name": "python3"
  },
  "language_info": {
   "codemirror_mode": {
    "name": "ipython",
    "version": 3
   },
   "file_extension": ".py",
   "mimetype": "text/x-python",
   "name": "python",
   "nbconvert_exporter": "python",
   "pygments_lexer": "ipython3",
   "version": "3.10.4"
  }
 },
 "nbformat": 4,
 "nbformat_minor": 5
}
