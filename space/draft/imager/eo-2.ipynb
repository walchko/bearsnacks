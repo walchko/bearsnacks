{
 "cells": [
  {
   "cell_type": "markdown",
   "id": "f2ffe252-2c0c-4c10-acde-1eda2970ecb8",
   "metadata": {},
   "source": [
    "# Stuff\n",
    "\n",
    "Kevin J. Walchko, PhD\n",
    "\n",
    "5 Mar 2022\n",
    "\n",
    "---\n",
    "\n",
    "Radiant Intensity for a diffusely reflecting sphere in W/sr is:\n",
    "\n",
    "$$\n",
    "\\begin{align}\n",
    "I &= \\frac {\\rho E A_0}{\\pi} \\frac {2}{3 \\pi} \\left[ \\sin \\sigma + (\\pi - \\sigma) \\cos \\sigma \\right] \\\\\n",
    "  &= \\frac {\\rho E D^2}{6 \\pi} \\left[ \\sin \\sigma + (\\pi - \\sigma) \\cos \\sigma \\right]\n",
    "\\end{align} \\\\\n",
    "\\sigma = 0 \\to I = \\frac {\\rho E D^2}{6 \\pi}\n",
    "$$\n",
    "\n",
    "where $\\rho$ is the reflectivity, $E$ is the irradiance at the sphere ($I/R^2$), $\\sigma$ is the phase angle, and $D$ is the aperture diameter."
   ]
  },
  {
   "cell_type": "code",
   "execution_count": 1,
   "id": "ec6237fa-adb5-4ffd-8d3e-f5c600b9216f",
   "metadata": {},
   "outputs": [],
   "source": [
    "# reload library\n",
    "%load_ext autoreload\n",
    "%autoreload 2"
   ]
  },
  {
   "cell_type": "code",
   "execution_count": 2,
   "id": "9e5a7669-bd54-4303-aadf-291639d8a9ec",
   "metadata": {},
   "outputs": [],
   "source": [
    "from math import sin, cos, pi"
   ]
  },
  {
   "cell_type": "code",
   "execution_count": null,
   "id": "681678f8-40e7-40a7-bc58-c8becb2b9024",
   "metadata": {},
   "outputs": [],
   "source": []
  }
 ],
 "metadata": {
  "kernelspec": {
   "display_name": "Python 3 (ipykernel)",
   "language": "python",
   "name": "python3"
  },
  "language_info": {
   "codemirror_mode": {
    "name": "ipython",
    "version": 3
   },
   "file_extension": ".py",
   "mimetype": "text/x-python",
   "name": "python",
   "nbconvert_exporter": "python",
   "pygments_lexer": "ipython3",
   "version": "3.9.10"
  }
 },
 "nbformat": 4,
 "nbformat_minor": 5
}
