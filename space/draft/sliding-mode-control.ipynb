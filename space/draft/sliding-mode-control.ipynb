{
 "cells": [
  {
   "cell_type": "markdown",
   "id": "f3d8ffd8",
   "metadata": {},
   "source": [
    "# Sliding Mode Control\n",
    "\n",
    "$$\n",
    "s = \\omega + \\lambda q \\\\\n",
    "\\dot s = \\dot \\omega + \\lambda \\dot q\n",
    "$$\n",
    "\n",
    "$$\n",
    "\\dot q = \\frac {1}{2} (q^x + q_4 \\bf 1) \\omega \\\\\n",
    "\\dot q_4 = - \\frac {1}{2} q^T \\omega\n",
    "$$\n",
    "\n",
    "$$\n",
    "V = \\frac {1}{2} s^T J s \\\\\n",
    "\\dot V = s^T J \\dot s = s^T(J \\dot \\omega + \\lambda J  \\dot q) = s^T [-\\omega \\cdot J \\omega + g + \\lambda J ( \\frac {1}{2} (q^x + q_4 \\bf 1) \\omega )]\n",
    "$$\n",
    "\n",
    "$$\n",
    "J \\dot \\omega + \\dot J \\omega = - \\omega \\cdot J \\omega + g \\\\\n",
    "\\dot J \\omega \\approx 0\n",
    "$$"
   ]
  },
  {
   "cell_type": "code",
   "execution_count": null,
   "id": "56d9fa62",
   "metadata": {},
   "outputs": [],
   "source": []
  }
 ],
 "metadata": {
  "kernelspec": {
   "display_name": "Python 3 (ipykernel)",
   "language": "python",
   "name": "python3"
  },
  "language_info": {
   "codemirror_mode": {
    "name": "ipython",
    "version": 3
   },
   "file_extension": ".py",
   "mimetype": "text/x-python",
   "name": "python",
   "nbconvert_exporter": "python",
   "pygments_lexer": "ipython3",
   "version": "3.9.10"
  }
 },
 "nbformat": 4,
 "nbformat_minor": 5
}
