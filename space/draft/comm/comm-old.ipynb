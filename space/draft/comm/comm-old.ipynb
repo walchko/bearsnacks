{
 "cells": [
  {
   "cell_type": "markdown",
   "id": "563769a5-5bbe-49d1-8113-aa46af28b0e7",
   "metadata": {},
   "source": [
    "# Communications\n",
    "\n",
    "- Traccking, Telemetry, and Command (TT&C)\n",
    "- USSF SCN: 1.76 - 1.84 GHz UL (L-band), 2.2-2.3 GHz (S-band)\n",
    "- Unified S-Band: 2025 - 2110 MHz\n",
    "\n",
    "$$\n",
    "x=\\pi\n",
    "$$"
   ]
  },
  {
   "cell_type": "code",
   "execution_count": 1,
   "id": "5f605e51-3949-47ec-930b-4e2984c849ad",
   "metadata": {},
   "outputs": [],
   "source": [
    "from doop.constants import Earth, rad2deg, deg2rad\n",
    "import numpy as np\n",
    "from math import pi, log10\n",
    "from matplotlib import pyplot as plt"
   ]
  },
  {
   "cell_type": "code",
   "execution_count": 2,
   "id": "60044dc1-7db7-4929-8d5b-d8c29ce756b8",
   "metadata": {},
   "outputs": [],
   "source": [
    "from collections import namedtuple"
   ]
  },
  {
   "cell_type": "code",
   "execution_count": 241,
   "id": "d7fdaeef-703f-40c5-8728-30a32b55048e",
   "metadata": {},
   "outputs": [],
   "source": [
    "P = 20\n",
    "Ll = -1\n",
    "Gt = 38.2\n",
    "La = -0.3"
   ]
  },
  {
   "cell_type": "markdown",
   "id": "2a050aa2-da61-4a51-9f0f-855f3a8ac230",
   "metadata": {
    "tags": []
   },
   "source": [
    "# Fire Sat\n",
    "\n",
    "LEO\n",
    "\n",
    "SMAD, Ed 3 example page 567"
   ]
  },
  {
   "cell_type": "code",
   "execution_count": 242,
   "id": "1d59f8ed-69a6-4787-821c-660d09b04ed9",
   "metadata": {},
   "outputs": [
    {
     "name": "stdout",
     "output_type": "stream",
     "text": [
      "-167.50116948663035 -168.32902318979484\n"
     ]
    }
   ],
   "source": [
    "# Space Loss\n",
    "c = 3*10**8 # m/s\n",
    "fs = 2.0*10**9 # Hz\n",
    "S = 2831*10**3 # m\n",
    "Lss = 10*log10((c/(4*pi*S*fs))**2)\n",
    "\n",
    "fg = 2.2e9 # Hz\n",
    "Lsg = 10*log10((c/(4*pi*S*fg))**2)\n",
    "print(Lss, Lsg)"
   ]
  },
  {
   "cell_type": "code",
   "execution_count": 243,
   "id": "90667148-1a0f-45c8-9543-fc3c9072bc25",
   "metadata": {},
   "outputs": [
    {
     "name": "stdout",
     "output_type": "stream",
     "text": [
      "Grp: Ground: 39.13817026289178  Space: 0.7267599679966283\n",
      "Lpr: Ground: -0.14814814814814817   Space: -2.6133333333333333\n",
      "Gr: Ground: 38.99002211474363  Space: -1.886573365336705\n",
      "EN: Ground: 15.92562379134742  Space: 45.61724010328791\n"
     ]
    }
   ],
   "source": [
    "# antenna gain\n",
    "def antennaGain(Dr,f, n):\n",
    "    lamda = c/f # m\n",
    "    return 10*log10((pi**2 * Dr**2 * n)/lamda**2)\n",
    "\n",
    "Grpg = antennaGain(5.3, f, 0.55)\n",
    "Grps = antennaGain(0.07, 2*10**9, 0.55)\n",
    "print(f\"Grp: Ground: {Grpg}  Space: {Grps}\")\n",
    "\n",
    "Lprg = -12*(.2/1.8)**2\n",
    "Lprs = -12*(70/150)**2\n",
    "print(f\"Lpr: Ground: {Lprg}   Space: {Lprs}\")\n",
    "\n",
    "Grg = antennaGain(5.3, f, 0.55) + Lprg\n",
    "Grs = antennaGain(0.07, 2*10**9, 0.55) + Lprs\n",
    "\n",
    "print(f\"Gr: Ground: {Grg}  Space: {Grs}\")\n",
    "\n",
    "# eqn 13-13\n",
    "Rs = 100    # data rate [bps]\n",
    "Tss = 614   # noise temp [K]\n",
    "Ps = 1      # Power [W]\n",
    "Lls = -1    # line loss [dB]\n",
    "Las = -0.3  # prop/polar loss [dB]\n",
    "Gts = 38.2  # net transmit antenna gain\n",
    "\n",
    "Rg = 85e6    # data rate [bps]\n",
    "Tsg = 135   # noise temp [K]\n",
    "Pg = 20      # Power [W]\n",
    "Llg = -1    # line loss [dB]\n",
    "Lag = -0.3  # prop/polar loss [dB]\n",
    "Gtg = 5.7  # net transmit antenna gain\n",
    "\n",
    "K = -228.60 # boltzman const\n",
    "ENs = 10*log10(Ps) + Lls + Gts + Lprs + Lss +Las + Grs - K - 10*log10(Tss) - 10*log10(Rs)\n",
    "ENg = 10*log10(Pg) + Llg + Gtg + Lprg + Lsg +Las + Grg - K - 10*log10(Tsg) - 10*log10(Rg)\n",
    "print(f\"EN: Ground: {ENg}  Space: {ENs}\")"
   ]
  },
  {
   "cell_type": "code",
   "execution_count": 220,
   "id": "756ce53d-eb38-4804-aeb9-60bb278d5a3f",
   "metadata": {},
   "outputs": [
    {
     "name": "stdout",
     "output_type": "stream",
     "text": [
      "Link(EN=15.925962318936257)\n"
     ]
    }
   ],
   "source": [
    "Link = namedtuple(\"Link\",\"EN\")\n",
    "\n",
    "def linkBudget(f, P, Ll, thetat, et, S, Dr, er, R, BER, Ts, Gt):\n",
    "    # f: frequency [Hz]\n",
    "    # P: power [W]\n",
    "    # Ll: line loss [dB]\n",
    "    # thetat: transmit antenna beamwidth [deg]\n",
    "    # et: transmit antenna pointing error [deg]\n",
    "    # S: free space link [m]\n",
    "    # Dr: receive antenna diameter [m]\n",
    "    # er: receive antenna pointing error [deg]\n",
    "    # R: data rate [bps]\n",
    "    # BER: bit error rate\n",
    "    # Ts: noise temp [K]\n",
    "    \n",
    "    # Space Loss\n",
    "    c = 3*10**8 # m/s\n",
    "    Ls = 10*log10((c/(4*pi*S*f))**2)\n",
    "    n = 0.55\n",
    "    Grp = antennaGain(Dr, f, n)\n",
    "    thetar = -21/(f/1e9*Dr)\n",
    "    Lpr = -12*(er/thetar)**2\n",
    "    Gr = Grp + Lpr\n",
    "    La = -0.3  # prop/polar loss [dB]\n",
    "    K = -228.60 # boltzman const\n",
    "    EN = 10*log10(P) + Ll + Gt + Lpr + Ls + La + Gr - K - 10*log10(Ts) - 10*log10(R)\n",
    "    \n",
    "    return Link(EN)\n",
    "\n",
    "link = linkBudget(2.2e9, 20, -1, 32, 27, 2831e3,5.3,.2,85e6,10e-5,135, 5.7)\n",
    "\n",
    "print(link) # 15.9 DL"
   ]
  },
  {
   "cell_type": "code",
   "execution_count": 221,
   "id": "855a2386-042d-4d0a-bc2c-04b231c2d771",
   "metadata": {},
   "outputs": [
    {
     "name": "stdout",
     "output_type": "stream",
     "text": [
      "Link(EN=45.61724010328791)\n"
     ]
    }
   ],
   "source": [
    "link = linkBudget(2.0e9, 1, -1, 2, .2, 2831e3,0.07,70,100,10e-5,614,38.2)\n",
    "\n",
    "print(link) # 45.5 UL"
   ]
  },
  {
   "cell_type": "code",
   "execution_count": 222,
   "id": "cfe92ce7-7876-4fde-8f09-104f50cdaa5e",
   "metadata": {},
   "outputs": [
    {
     "name": "stdout",
     "output_type": "stream",
     "text": [
      "14.19507796526924 -8.54296875 5.65210921526924\n"
     ]
    }
   ],
   "source": [
    "et=27\n",
    "thetat = 32\n",
    "Lpt = -12*(et/thetat)**2\n",
    "Dt = 0.3\n",
    "f = 2.2e9\n",
    "n=0.55\n",
    "Gpt = antennaGain(Dt,f,n)\n",
    "Gt = Gpt +Lpt\n",
    "print(Gpt, Lpt,Gt)"
   ]
  },
  {
   "cell_type": "code",
   "execution_count": 244,
   "id": "e2126ff8-4696-4c4d-b71b-1874df8f374b",
   "metadata": {},
   "outputs": [
    {
     "name": "stdout",
     "output_type": "stream",
     "text": [
      "38.19031655972727 38.99002211474363\n",
      "-1.886573365336705 5.65210921526924\n"
     ]
    }
   ],
   "source": [
    "class Antenna:\n",
    "    def __init__(self, D,f, e,t, Ll=None, n=None):\n",
    "        \"\"\"\n",
    "        D: diameter [m]\n",
    "        f: frequency [Hz]\n",
    "        e: pointing offset [deg]\n",
    "        t: 3dB bandwidth [deg]\n",
    "        Ll: Line loss [dBW], default is -1\n",
    "        n: efficiency 0 - 1, default is 0.55\n",
    "        \"\"\"\n",
    "        self.f = f\n",
    "        self.D = D\n",
    "        if Ll is None:\n",
    "            Ll = -1\n",
    "        elif Ll > 0:\n",
    "            Ll = -Ll\n",
    "        self.Ll = Ll\n",
    "        if n is None:\n",
    "            n = 0.55\n",
    "        self.n = n\n",
    "        self.Gp = self.antennaGain(f)\n",
    "        self.pointingLoss = -12*(e/t)**2\n",
    "        self.G = self.Gp + self.pointingLoss\n",
    "        \n",
    "    def antennaGain(self, f):\n",
    "        c = 3e8     # m/s\n",
    "        lamda = c/f # m\n",
    "        return 10*log10((pi**2 * self.D**2 * self.n)/lamda**2)\n",
    "    \n",
    "    def patchAntennaGain(self):\n",
    "        pass\n",
    "    \n",
    "    def eirp(self, P):\n",
    "        \"\"\"\n",
    "        EIRP is a function of transmit power and transmit antenna gain;\n",
    "        it makes no sense for a receiving antenna\n",
    "        \n",
    "        Ll: line loss between the transmitter and antenna feed [dB]\n",
    "        \"\"\"\n",
    "        return 10*log10(P) + self.Ll + self.G\n",
    "    \n",
    "gu = Antenna(5.3,2e9,.2,2)\n",
    "gd = Antenna(5.3,2.2e9,.2,1.8)\n",
    "print(gu.G, gd.G)\n",
    "\n",
    "asd = Antenna(.3,2.2e9,27,32)\n",
    "asu = Antenna(.07,2e9,70,150)\n",
    "print(asu.G, asd.G)"
   ]
  },
  {
   "cell_type": "code",
   "execution_count": 238,
   "id": "987e1a16-34bd-4f8e-af2a-c90829626f59",
   "metadata": {},
   "outputs": [
    {
     "data": {
      "text/plain": [
       "37.19031655972727"
      ]
     },
     "execution_count": 238,
     "metadata": {},
     "output_type": "execute_result"
    }
   ],
   "source": [
    "gu.eirp(1)"
   ]
  },
  {
   "cell_type": "code",
   "execution_count": 239,
   "id": "720cd447-396f-44c0-9025-486be83e36a9",
   "metadata": {},
   "outputs": [
    {
     "data": {
      "text/plain": [
       "17.662409171909054"
      ]
     },
     "execution_count": 239,
     "metadata": {},
     "output_type": "execute_result"
    }
   ],
   "source": [
    "asd.eirp(20)"
   ]
  },
  {
   "cell_type": "code",
   "execution_count": 259,
   "id": "4dc30cc8-6a32-4152-addd-7db94fc5d263",
   "metadata": {},
   "outputs": [
    {
     "data": {
      "image/png": "[encoded data removed]",
      "text/plain": [
       "<Figure size 720x360 with 1 Axes>"
      ]
     },
     "metadata": {
      "needs_background": "light"
     },
     "output_type": "display_data"
    }
   ],
   "source": [
    "pwr = list(range(1, 50))\n",
    "eirp = [asd.eirp(x) for x in pwr]\n",
    "\n",
    "plt.figure(figsize=(10,5))\n",
    "plt.plot(pwr, eirp)\n",
    "plt.xlabel(\"Power [W]\")\n",
    "plt.ylabel(\"EIRP [dBW]\")\n",
    "plt.grid(True);"
   ]
  },
  {
   "cell_type": "code",
   "execution_count": 258,
   "id": "5314fca4-57ba-4ef1-ba87-0f794b7301c1",
   "metadata": {},
   "outputs": [
    {
     "name": "stdout",
     "output_type": "stream",
     "text": [
      "50.83339201277923 70.83339201277923\n",
      "\n",
      "----------\n",
      "\n",
      "16.173197986010337 95.46738724315327\n"
     ]
    }
   ],
   "source": [
    "class LB:\n",
    "    def __init__(self,tx,rx, S, P, R, Ts,La):\n",
    "        \"\"\"\n",
    "        Calculates the RF link properties.\n",
    "        \n",
    "        tx: transmit antenna\n",
    "        rx: receive antenna\n",
    "        S: free space path range [m]\n",
    "        P: transmit power [W]\n",
    "        R: datarate [bps]\n",
    "        Ts: \n",
    "        La: \n",
    "        \"\"\"\n",
    "        if tx.f != rx.f:\n",
    "            raise Exception(\"mismatched frequencies\")\n",
    "        # self.S = S\n",
    "        self.EN = self.linkBudget(tx.f, P, tx.Ll, S, R, Ts, tx.G, rx.Gp, La)\n",
    "        \n",
    "        # print(tr.G)\n",
    "        # print(rv.G)\n",
    "    \n",
    "    def linkBudget(self,f, P, Ll, S, R, Ts, Gt, Gpr, La):\n",
    "        # f: frequency [Hz]\n",
    "        # P: power [W]\n",
    "        # Ll: line loss [dB]\n",
    "        # thetat: transmit antenna beamwidth [deg]\n",
    "        # et: transmit antenna pointing error [deg]\n",
    "        # S: free space link [m]\n",
    "        # Dr: receive antenna diameter [m]\n",
    "        # er: receive antenna pointing error [deg]\n",
    "        # R: data rate [bps]\n",
    "        # BER: bit error rate\n",
    "        # Ts: noise temp [K]\n",
    "        # print(f)\n",
    "\n",
    "        # Space Loss\n",
    "        c = 3e8 # m/s\n",
    "        Ls = 10*log10((c/(4*pi*S*f))**2)\n",
    "        # print(Ls)\n",
    "        # n = 0.55\n",
    "        # Grp = antennaGain(Dr, f, n)\n",
    "        # Rg = 85e6    # data rate [bps]\n",
    "        # Tsg = 135   # noise temp [K]\n",
    "        # Llg = -1    # line loss [dB]\n",
    "        # thetar = -21/(f/1e9*Dr)\n",
    "        # Lpr = -12*(er/thetar)**2\n",
    "        # Gr = Grp + Lpr\n",
    "        # La = -0.3  # prop/polar loss [dB]\n",
    "        k = 1.38064852e-23 # m^2 kg s^-2 K^-1\n",
    "        K = 10*log10(k)\n",
    "        # K = -228.60 # boltzman const\n",
    "        self.EN = 10*log10(P) + Ll + Gt + Ls + La + Gpr - K - 10*log10(Ts) - 10*log10(R)\n",
    "        self.CN = EN + 10*log10(R)\n",
    "    \n",
    "lb = LB(gu, asu, 2831e3,1,100,614,-0.3)\n",
    "print(lb.EN, lb.CN)\n",
    "\n",
    "print(\"\\n----------\\n\")\n",
    "\n",
    "ld = LB(asd, gd, 2831e3,20,85e6,135,-0.3)\n",
    "print(ld.EN, ld.CN)"
   ]
  },
  {
   "cell_type": "code",
   "execution_count": null,
   "id": "7a3dbbec-2533-4a91-88ed-59c722f985e4",
   "metadata": {},
   "outputs": [],
   "source": []
  },
  {
   "cell_type": "code",
   "execution_count": null,
   "id": "6a4c6710-f8ae-442e-bd36-82dd237f9a8e",
   "metadata": {},
   "outputs": [],
   "source": []
  },
  {
   "cell_type": "code",
   "execution_count": null,
   "id": "0a3f5a23-e340-41e5-8f8d-2b92aa157129",
   "metadata": {},
   "outputs": [],
   "source": []
  },
  {
   "cell_type": "code",
   "execution_count": null,
   "id": "9831d7da-a294-490e-961e-a00f5d295935",
   "metadata": {},
   "outputs": [],
   "source": []
  },
  {
   "cell_type": "markdown",
   "id": "ba179d60-b88b-4dfa-8583-cf2e44167bb6",
   "metadata": {
    "tags": []
   },
   "source": [
    "# GEO"
   ]
  },
  {
   "cell_type": "code",
   "execution_count": 213,
   "id": "88ee94e8-ad2d-4d3a-adeb-b18de4a4ce83",
   "metadata": {},
   "outputs": [
    {
     "name": "stdout",
     "output_type": "stream",
     "text": [
      "8.450249269777611 15.231761773614048 55.74599899427074\n"
     ]
    }
   ],
   "source": [
    "fg = 8e9 #2.25e9\n",
    "Rg = 4e6 #256e3\n",
    "Pg = 6\n",
    "\n",
    "st = Antenna(.045,fg,2,10)\n",
    "gr = Antenna(10,fg,.2,2)\n",
    "print(st.G, st.eirp(Pg), gr.G)"
   ]
  },
  {
   "cell_type": "code",
   "execution_count": 214,
   "id": "cd35d321-c711-4a79-aa25-b01bae50937e",
   "metadata": {},
   "outputs": [
    {
     "name": "stdout",
     "output_type": "stream",
     "text": [
      "8.950583833665007\n"
     ]
    }
   ],
   "source": [
    "link = LB(st, gr, Earth.geo*1000,Pg,Rg,135,-0.3)\n",
    "print(link.EN)"
   ]
  },
  {
   "cell_type": "code",
   "execution_count": 167,
   "id": "24f68121-704d-4da5-aafe-750264ddff52",
   "metadata": {},
   "outputs": [
    {
     "data": {
      "text/plain": [
       "42164"
      ]
     },
     "execution_count": 167,
     "metadata": {},
     "output_type": "execute_result"
    }
   ],
   "source": [
    "Earth.geo"
   ]
  },
  {
   "cell_type": "code",
   "execution_count": null,
   "id": "db80736d-0236-42fd-ba3f-3a2f4dacf067",
   "metadata": {},
   "outputs": [],
   "source": []
  }
 ],
 "metadata": {
  "kernelspec": {
   "display_name": "Python 3 (ipykernel)",
   "language": "python",
   "name": "python3"
  },
  "language_info": {
   "codemirror_mode": {
    "name": "ipython",
    "version": 3
   },
   "file_extension": ".py",
   "mimetype": "text/x-python",
   "name": "python",
   "nbconvert_exporter": "python",
   "pygments_lexer": "ipython3",
   "version": "3.9.9"
  }
 },
 "nbformat": 4,
 "nbformat_minor": 5
}
