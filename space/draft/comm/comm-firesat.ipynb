{
 "cells": [
  {
   "cell_type": "markdown",
   "id": "8017a216-6d59-458b-9f4b-279d2f813c1e",
   "metadata": {},
   "source": [
    "![](https://gdmissionsystems.com/-/media/0FFF912023C545F8AC362964AC5D8CD7.ashx)\n",
    "\n",
    "# Space Communications\n",
    "\n",
    "Kevin J. Walchko, Phd\n",
    "\n",
    "25/2/2022\n",
    "\n",
    "---\n",
    "\n",
    "Systems Mission and Design (SMAD) is a classic reference for satellite development. In the book, the authors develop a ficticious satellite called FireSat.\n",
    "\n",
    "## Link Budget Equations\n",
    "\n",
    "A link budget is the sum and losses in a communications channel between a transmitter and receiver. Generally you want a link budge with at least 3 dB of margin, where\n",
    "\n",
    "$$\n",
    "margin = E_b/N_o - E_b/N_o^* - Implementationlosses\n",
    "$$\n",
    "\n",
    "where $E_b/N_o$ is defined as the ratio of Energy per Bit ($E_b$) to the Spectral Noise Density ($N_o$), or said another way, is the measure of signal-to-noise for a digital comm system. This measurement is taken at the entrance to the receive aperture. While $E_b/N_o^*$ is the ideal needed for a given modulation format and Bit Error Rate (BER). For the ideal, you can refer to SMAD figure 13-xx.\n",
    "\n",
    "$$\n",
    "\\begin{align}\n",
    "E_b/N_o &= \\frac {P L_l G_t L_s G_r}{K Ts DR} \\\\ \n",
    "        &= EIRP + L_{pr} + L_s + L_a + (G_r - Ts) - K - DR \\\\\n",
    "EIRP &= P L_l G_t \\\\\n",
    "P &= 10 \\log_{10} P_{TX} \\\\\n",
    "Ts &= 10 \\log_{10} T_s \\\\\n",
    "DR &= 10 \\log_{10} dataRate \\\\\n",
    "K &= 10 \\log_{10} k\n",
    "\\end{align} \\\\\n",
    "$$\n",
    "\n",
    "| Symbol | Unit | Eqn | Definition                                  |\n",
    "|--------|------|-----|-------------------------------------------------------|\n",
    "| $L_{pr}$ | dB | 13-21 | Receive antenna pointing loss |\n",
    "| $L_s$    | dB | 13-23a | Space loss |\n",
    "| $L_a$    | dB | 13-10 | Propagation and polarization loss |\n",
    "| $L_l$    | dB |      | Transmitter to antenna line loss |\n",
    "| $G_r$    | dB | 13-7 | Receive antenna gain (parabolic) |\n",
    "| $G_t$    | dB | 13-7 | Transmit antenna gain (parabolic) |\n",
    "| $P_{TX}$ | W  |      | Transmitter power |\n",
    "| $T_s$    | K  | | System noise temperature\n",
    "| $K$      | dB | | Boltzman constant $10 \\log_{10} k$, where $k$ = 1.38064852 E-23 joule/K |\n",
    "| $DR$     | bps | | Communications data rate |\n",
    "\n",
    "$EIRP$ (Effective Isotropically Radiated Power) is descriptive of the transmitter's performance, while $G/T_s$ is a measure of the receiver's sensativity.\n",
    "\n",
    "## Antenna Theory\n",
    "\n",
    "A parabolic dish antenna's gain can be calculated from\n",
    "\n",
    "$$\n",
    "\\lambda = \\frac {c}{f} \\\\\n",
    "G = 10 \\log_{10} \\left( \\left( \\frac{\\pi D}{\\lambda}  \\right)^2 \\text{eff} \\right)\n",
    "$$\n",
    "\n",
    "Next, antennas amplify or antenuate a signal but not in all directions. A plot of an antenna's radiation pattern will display how it effects the RF signal as a function of direction and amplitude (typically in dB).\n",
    "\n",
    "![](pics/half-power-beamwidth.png)\n",
    "\n",
    "Half Power Beam Width or HPBW is an angular width (in degrees), measured on the major lobe of an antenna radiation pattern at half-power points i.e the points at which the signal power is half that of its peak value. In other words, The Half Power Beamwidth (HPBW) is the angular separation in which the magnitude of the radiation pattern decreases by 50% (or -3 dB) from the peak of the main beam.\n",
    "\n",
    "## RF Bands\n",
    "\n",
    "Band | Wavelengths (cm) | Frequencies\n",
    "-----|------------------|---------------------------\n",
    "UHF  | 100 - 10   | 300 - 3000 MHz\n",
    "L    | 30 - 15    | 1 - 2 GHz\n",
    "S    | 15 - 7.5   | 2 - 4 GHz\n",
    "C    | 7.5 - 3.75 | 4 - 8 GHz\n",
    "X    | 3.75 - 2.4 | 8 - 12 GHz\n",
    "K    | 2.4 - 0.75 | 12 - 40 GHz\n",
    "Ku   |            | 15 - 17 GHz\n",
    "Ka   |            | 20 - 30 GHz\n",
    "\n",
    "## Data Rate\n",
    "\n",
    "Channel capacity is given by: $dataRate \\leq 2 * BW \\cdot log_{2} M$\n",
    "\n",
    "where M is the bits per symbol.\n",
    "\n",
    "Modulation | Bits / Symbol\n",
    "-----------|---------------\n",
    "BPSK  | 1 bit / symbol\n",
    "QPSK  | 2 bits / symbol\n",
    "16QAM | 4 bis / symbol\n",
    "\n",
    "## deciBels\n",
    "\n",
    "$$\n",
    "Attenuation = 10 log_{10} \\frac {Power_{in}}{Power_{out}} \\text{dB} \\\\\n",
    "Attenuation = 20 log_{10} \\frac {Voltage_{in}}{Voltage_{out}} \\text{dB}\n",
    "$$\n",
    "\n",
    "*Note:* $Power = Voltage^2 / R$, the squared voltage is why the second equation is multiplied by 20 and not 10. \n",
    "\n",
    "## Tracking, Telemetry, and Command (TT&C)\n",
    "\n",
    "- USSF SCN: 1.76 - 1.84 GHz UL (L-band), 2.2-2.3 GHz (S-band)\n",
    "- Unified S-Band: 2025 - 2110 MHz\n",
    "\n",
    "## Lagrange Points\n",
    "\n",
    "Lagrange points are interesting locations where gravitational fields between 2 large bodies provide an equilibrium point for small body like a spacecraft. This creates interesting locations where spacecraft can *perch* in a stationary location with respect to the bodies. Below shows the Earth-Moon lagrange points, but there also exists lagrange points for Sun-Earth too that are used by various scientific missions. \n",
    "\n",
    "![](pics/eml.jpg)\n",
    "\n",
    "| Units: km | L1 | L2 | L3 | L4/5 |\n",
    "|-----------|----|----|----|------|\n",
    "| Earth-Moon | 326,000 | 448,900 | 381,680 | x |\n",
    "| Sun-Earth  | x | x | x | x |\n",
    "\n",
    "*Note:* These distances are measured from Earth's center.\n",
    "\n",
    "### ARTEMIS\n",
    "\n",
    "ARTEMIS (Acceleration, Reconnection, Turbulence and Electrodynamics of the Moon’s Interaction with the Sun) P1 spacecraft orbited EML1 and then transitioned to EML2 during its mission. \n",
    "\n",
    "<table>\n",
    "    <tr>\n",
    "        <td><img src=\"pics/p1-1.jpg\"></td>\n",
    "        <td><img src=\"pics/p1-2.jpg\"></td>\n",
    "    </tr>\n",
    "</table>\n",
    "\n",
    "## References\n",
    "\n",
    "- SMAD, third ed., Ch 13\n",
    "- [Everthing RF](https://www.everythingrf.com/community/what-is-half-power-beam-width)\n",
    "- [ARTEMIS info](https://space.stackexchange.com/a/4053)"
   ]
  },
  {
   "cell_type": "code",
   "execution_count": 1,
   "id": "28c89352-a3ea-4d07-880d-1325b0924c60",
   "metadata": {},
   "outputs": [],
   "source": [
    "# reload library\n",
    "%load_ext autoreload\n",
    "%autoreload 2"
   ]
  },
  {
   "cell_type": "code",
   "execution_count": 159,
   "id": "5e36a99c-5808-402a-917d-832f8feddc5f",
   "metadata": {},
   "outputs": [],
   "source": [
    "from doop.constants import Earth, rad2deg, deg2rad\n",
    "from doop.constants import EarthMoonLagrange as EML\n",
    "from doop.constants import speedOfLight as c\n",
    "import numpy as np\n",
    "from math import pi, log10, log2\n",
    "from matplotlib import pyplot as plt\n",
    "from tqdm import tqdm\n",
    "\n",
    "EML2 = EML.L2\n",
    "EML1 = EML.L1\n",
    "\n",
    "Sband = 2.2e9   # Hz\n",
    "Xband = 8.5e9   # Hz"
   ]
  },
  {
   "cell_type": "code",
   "execution_count": 160,
   "id": "9eaad224-0403-450d-8587-2603e6e193bc",
   "metadata": {},
   "outputs": [],
   "source": [
    "def antennaGain(Dia,freq, efficiency=0.7):\n",
    "    c = 3*10**8 # m/s\n",
    "    lamda = c/freq # m\n",
    "    return 10*log10((pi**2 * Dia**2 * efficiency)/lamda**2)\n",
    "\n",
    "def receivePointingLoss(ptError, halfPwrBW):\n",
    "    return -12*(ptError/halfPwrBW)**2\n",
    "\n",
    "def spaceLoss(frequency, distance):\n",
    "    c = 3*10**8 # m/s\n",
    "    return 10*log10((c/(4*pi*distance*frequency))**2)\n",
    "\n",
    "def EbNo(TX, RX, datarate, frequency, distance):\n",
    "    Ls = spaceLoss(frequency, distance)\n",
    "    eirp = TX[\"eirp\"]\n",
    "    \n",
    "    if \"G/T\" in RX:\n",
    "        GT = RX[\"G/T\"]\n",
    "    else:\n",
    "        Gr = RX[\"gain\"]\n",
    "        Ts = RX[\"sysNoiseTemp\"]\n",
    "        GT = Gr - 10*log10(Ts)\n",
    "        \n",
    "    ptErr = RX[\"pointingError\"]\n",
    "    hpbw = RX[\"halfPowerBW\"]\n",
    "    Lpr = receivePointingLoss(ptErr, hpbw)\n",
    "    pp = -0.3\n",
    "    K = -228.6 # Boltzman const\n",
    "    ebno = eirp + Lpr + Ls + pp - K + GT - 10*log10(datarate)\n",
    "    return ebno"
   ]
  },
  {
   "cell_type": "markdown",
   "id": "54767c44-c0fb-4145-9273-dacca85959c7",
   "metadata": {},
   "source": [
    "## SMAD Firesat\n",
    "\n",
    "To double check values, let's run the Firesat values and see if we get the same numbers! The goal is to get the same $E_b/N_o$(1) numbers in the link budget below: 45.5 dB and 15.9 dB.\n",
    "\n",
    "![](pics/smad.png)\n",
    "\n",
    "### Command Uplink"
   ]
  },
  {
   "cell_type": "code",
   "execution_count": 161,
   "id": "11dfd58c-8c50-4946-96b6-6ab989bc0172",
   "metadata": {},
   "outputs": [
    {
     "data": {
      "text/plain": [
       "45.60381346862464"
      ]
     },
     "execution_count": 161,
     "metadata": {},
     "output_type": "execute_result"
    }
   ],
   "source": [
    "TX = {\n",
    "    \"eirp\": 37.2, # dB\n",
    "}\n",
    "\n",
    "RX = {\n",
    "    \"gain\": -1.9,        # dB\n",
    "    \"sysNoiseTemp\": 614, # K\n",
    "    \"pointingError\": 70, # degree\n",
    "    \"halfPowerBW\": 150   # degree\n",
    "}\n",
    "\n",
    "EbNo(TX, RX, 100, 2e9, 2831e3)"
   ]
  },
  {
   "cell_type": "markdown",
   "id": "a02b626d-18b6-49d3-8677-10721eb3d501",
   "metadata": {},
   "source": [
    "### Mission Data Downlink"
   ]
  },
  {
   "cell_type": "code",
   "execution_count": 162,
   "id": "92ab0cf4-861e-40ae-946b-573bfb2b5e4d",
   "metadata": {},
   "outputs": [
    {
     "data": {
      "text/plain": [
       "15.925301719963983"
      ]
     },
     "execution_count": 162,
     "metadata": {},
     "output_type": "execute_result"
    }
   ],
   "source": [
    "TX = {\n",
    "    \"eirp\": 17.7, # dB\n",
    "}\n",
    "\n",
    "RX = {\n",
    "    \"gain\": 39,           # dB\n",
    "    \"sysNoiseTemp\": 135,  # K\n",
    "    \"pointingError\": 0.2, # degree\n",
    "    \"halfPowerBW\": 1.8    # degree\n",
    "}\n",
    "\n",
    "EbNo(TX, RX, 85e6, 2.2e9, 2831e3)"
   ]
  },
  {
   "cell_type": "markdown",
   "id": "fceb1aaa-f569-435e-8810-c368ab609eb5",
   "metadata": {},
   "source": [
    "# ARTEMIS\n",
    "\n",
    "Let's play with some other values around EML1/2 like NASA's ARTEMIS mission. I don't know what communications system they used or what their specs were, so I will just assume something."
   ]
  },
  {
   "cell_type": "code",
   "execution_count": 163,
   "id": "d7c20929-e1af-4e97-89da-174230ff9d51",
   "metadata": {},
   "outputs": [
    {
     "data": {
      "image/png": "[encoded data removed]",
      "text/plain": [
       "<Figure size 864x432 with 1 Axes>"
      ]
     },
     "metadata": {
      "needs_background": "light"
     },
     "output_type": "display_data"
    }
   ],
   "source": [
    "# Usually, people think geostationary is far away, but\n",
    "# Lagrange points are even farther out and you pay a\n",
    "# higher penalty in free space losses\n",
    "GEO = 42164e3 # m\n",
    "spLoss = []\n",
    "LP = np.array([GEO, EML.L1, EML.L2, EML.L3])\n",
    "for d in LP:\n",
    "    l = spaceLoss(Xband, d)\n",
    "    spLoss.append(l)\n",
    "\n",
    "LP = LP/1E3\n",
    "plt.figure(figsize=(12,6))\n",
    "plt.scatter(LP, spLoss)\n",
    "for i, label in enumerate([\"GEO\",\"EML1\",\"EML2\",\"EML3\"]):\n",
    "    label += f\": {spLoss[i]:.1f}dB\"\n",
    "    plt.annotate(label, (LP[i], spLoss[i]))\n",
    "plt.grid(True)\n",
    "plt.ylabel(\"Free Space Loss [dB]\")\n",
    "plt.xlabel(\"Distance from Earth [km]\");"
   ]
  },
  {
   "cell_type": "code",
   "execution_count": 164,
   "id": "cd689b7a-fde1-43aa-be16-fe14b6465f37",
   "metadata": {},
   "outputs": [],
   "source": [
    "# Assume this \n",
    "ebno = 10.4 # dB, this is for a BER 1E-6 and BPSK modulation"
   ]
  },
  {
   "cell_type": "code",
   "execution_count": 165,
   "id": "d50853f3-a863-4e26-beaa-d1eaf5434953",
   "metadata": {},
   "outputs": [],
   "source": [
    "# This determines Eb/No for a given data rate, frequency band, and location\n",
    "#\n",
    "def run(datarate, band, loc):\n",
    "    Sband = 2.2e9   # Hz\n",
    "    Xband = 8.5e9   # Hz\n",
    "    \n",
    "    satPoitingError = 5       # degree\n",
    "    \n",
    "    groundPointingError = 0.2 # degree\n",
    "    groundHPBW = 1.8          # degree\n",
    "    \n",
    "    if loc not in [EML.L1, EML.L2]:\n",
    "        raise Exception(f\"Invalid location: {loc}\")\n",
    "    \n",
    "    if band == Sband:\n",
    "        # Up ---------------------------------------------------\n",
    "        uTX = {\n",
    "            \"eirp\": 68, # dB\n",
    "        }\n",
    "\n",
    "        uRX = {\n",
    "            \"gain\": -4.5,        # dB\n",
    "            \"sysNoiseTemp\": 614, # K\n",
    "            \"pointingError\": satPoitingError, # degree\n",
    "            \"halfPowerBW\": 150   # degree\n",
    "        }\n",
    "        # Down ----------------------------------------------------\n",
    "        Gt = -2.9       # dB\n",
    "        Ll = -1         # dB\n",
    "        P = 10*log10(5) # dBW\n",
    "        eirp = Gt+Ll+P\n",
    "        \n",
    "        dTX = {\n",
    "            \"eirp\": eirp, # dB\n",
    "        }\n",
    "\n",
    "        dRX = {\n",
    "            \"G/T\": 37.7,\n",
    "            \"pointingError\": groundPointingError,\n",
    "            \"halfPowerBW\": groundHPBW\n",
    "        }\n",
    "        \n",
    "    elif band == Xband:\n",
    "        # Up ---------------------------------------------------\n",
    "        # parabolic high gain directional antenna\n",
    "        Dia = 1 # m\n",
    "        Gt = antennaGain(Dia, band) # dB\n",
    "\n",
    "        uTX = {\n",
    "            \"eirp\": 68, # dB\n",
    "        }\n",
    "\n",
    "        uRX = {\n",
    "            \"gain\": Gt,        # dB\n",
    "            \"sysNoiseTemp\": 614, # K\n",
    "            \"pointingError\": satPoitingError, # degree\n",
    "            \"halfPowerBW\": 5   # degree\n",
    "        }\n",
    "        # Down ----------------------------------------------------\n",
    "        lineLoss = -1     # dB\n",
    "        Pwr = 3.5         # W\n",
    "        P = 10*log10(Pwr) # dBW\n",
    "        eirp = Gt+P+lineLoss\n",
    "\n",
    "        dTX = {\n",
    "            \"eirp\": eirp, # dB\n",
    "        }\n",
    "\n",
    "        dRX = {\n",
    "            \"G/T\": 37.7,\n",
    "            \"pointingError\": groundPointingError,\n",
    "            \"halfPowerBW\": groundHPBW\n",
    "        }\n",
    "        \n",
    "    else:\n",
    "        raise Exception(f\"Invalid comm band: {band}\")\n",
    "\n",
    "    enup = EbNo(uTX, uRX, datarate, band, loc)\n",
    "    endown = EbNo(dTX, dRX, datarate, band, loc)\n",
    "\n",
    "    return enup, endown"
   ]
  },
  {
   "cell_type": "markdown",
   "id": "da368ac1-de01-4e3e-8779-5608d282a0c3",
   "metadata": {},
   "source": [
    "### S-Band Patch Antenna\n",
    "\n",
    "This assumes a simple patch antenna with a low gain and wide beam pattern."
   ]
  },
  {
   "cell_type": "code",
   "execution_count": 166,
   "id": "8a7a82b6-dd38-4ecb-bb72-0444cc61deda",
   "metadata": {},
   "outputs": [
    {
     "data": {
      "image/png": "[encoded data removed]",
      "text/plain": [
       "<Figure size 864x432 with 1 Axes>"
      ]
     },
     "metadata": {
      "needs_background": "light"
     },
     "output_type": "display_data"
    }
   ],
   "source": [
    "rates = np.arange(10e3,100e3,100) # S-band rates\n",
    "eup = []\n",
    "edown = []\n",
    "for dr in rates:\n",
    "    u,d = run(dr, Sband, EML2)\n",
    "    eup.append(u-ebno)\n",
    "    edown.append(d-ebno)\n",
    "    \n",
    "plt.figure(figsize=(12,6))\n",
    "plt.plot(rates/1e3, eup, label=\"UL\")\n",
    "plt.plot(rates/1e3, edown, label=\"DL\")\n",
    "plt.plot(rates/1e3, 3*np.ones(len(rates)), label=\"3dB\")\n",
    "plt.grid(True)\n",
    "plt.xlabel(\"Datarate [kbps]\")\n",
    "plt.ylabel(\"Margin [dB]\")\n",
    "plt.title(\"S-Band\")\n",
    "plt.legend();"
   ]
  },
  {
   "cell_type": "markdown",
   "id": "83732051-a33a-42de-8783-a1d3ae06867a",
   "metadata": {},
   "source": [
    "### X-Band Directional\n",
    "\n",
    "The assumes a directional (probably deployable) antenna with a high gain and narrow beam pattern."
   ]
  },
  {
   "cell_type": "code",
   "execution_count": 167,
   "id": "355ddaa7-9454-4e23-b6e1-f09d008f6788",
   "metadata": {},
   "outputs": [
    {
     "data": {
      "image/png": "[encoded data removed]",
      "text/plain": [
       "<Figure size 864x432 with 1 Axes>"
      ]
     },
     "metadata": {
      "needs_background": "light"
     },
     "output_type": "display_data"
    }
   ],
   "source": [
    "rates = np.arange(100e3,10e6,100) # X-band rates\n",
    "eup = []\n",
    "edown = []\n",
    "for dr in rates:\n",
    "    u,d = run(dr, Xband, EML2)\n",
    "    eup.append(u-ebno)\n",
    "    edown.append(d-ebno)\n",
    "    \n",
    "plt.figure(figsize=(12,6))\n",
    "plt.plot(rates/1e6, eup, label=\"UL\")\n",
    "plt.plot(rates/1e6, edown, label=\"DL\")\n",
    "plt.plot(rates/1e6, 3*np.ones(len(rates)), label=\"3dB\")\n",
    "plt.grid(True)\n",
    "plt.xlabel(\"Datarate [Mbps]\")\n",
    "plt.ylabel(\"Margin [dB]\")\n",
    "plt.title(\"X-Band\")\n",
    "plt.legend();"
   ]
  },
  {
   "cell_type": "code",
   "execution_count": null,
   "id": "0204b88f-45a3-4523-8b45-cf7432cebaf1",
   "metadata": {},
   "outputs": [],
   "source": []
  },
  {
   "cell_type": "code",
   "execution_count": null,
   "id": "1c75f4bc-c575-424b-9b67-de1804f2bc55",
   "metadata": {},
   "outputs": [],
   "source": []
  },
  {
   "cell_type": "code",
   "execution_count": null,
   "id": "07e17f4a-ce3a-4e20-8448-66f08cad4a7a",
   "metadata": {},
   "outputs": [],
   "source": []
  },
  {
   "cell_type": "code",
   "execution_count": null,
   "id": "3c46df63-f20c-49c6-9290-0a9e7f4795fa",
   "metadata": {},
   "outputs": [],
   "source": []
  },
  {
   "cell_type": "code",
   "execution_count": 137,
   "id": "4ab9ee93-0370-4d20-8e12-c11fa764a50b",
   "metadata": {},
   "outputs": [
    {
     "data": {
      "text/plain": [
       "3.0897000433601884"
      ]
     },
     "execution_count": 137,
     "metadata": {},
     "output_type": "execute_result"
    }
   ],
   "source": [
    "Gt = -2.9       # dB\n",
    "Ll = -1         # dB\n",
    "P = 10*log10(5) # dBW\n",
    "eirp = Gt+Ll+P\n",
    "eirp"
   ]
  },
  {
   "cell_type": "code",
   "execution_count": null,
   "id": "1bd4875d-cf98-4edd-8724-4d23f2f159a0",
   "metadata": {},
   "outputs": [],
   "source": []
  },
  {
   "cell_type": "code",
   "execution_count": null,
   "id": "3e87da78-4968-49f1-803a-c2e3d0a7a43f",
   "metadata": {},
   "outputs": [],
   "source": []
  },
  {
   "cell_type": "code",
   "execution_count": null,
   "id": "94b522f5-cc18-46f4-b5c5-de09bc98a3c2",
   "metadata": {},
   "outputs": [],
   "source": []
  },
  {
   "cell_type": "code",
   "execution_count": null,
   "id": "5db3b070-8aeb-4471-a692-e6c33c3e4618",
   "metadata": {},
   "outputs": [],
   "source": []
  },
  {
   "cell_type": "markdown",
   "id": "fd7ace15-b23f-49a5-9516-8d23dd451291",
   "metadata": {},
   "source": [
    "## Calculating Bit Error Rate (BER)\n",
    "\n",
    "For BPSK the BER is:\n",
    "\n",
    "$$\n",
    "\\DeclareMathOperator\\erf{erfc}\n",
    "BER = \\frac{1}{2} erfc \\left( \\sqrt{\\frac{E_b}{N_o}} \\right)\n",
    "$$\n",
    "\n",
    "- [BPSK bit error rate simulation in Python & Matlab](https://www.gaussianwaves.com/2020/07/bpsk-python-matlab-bit-error-rate-simulation/)\n",
    "- [BPSK Bit Error Rate Calculation Using Python](http://www.raymaps.com/index.php/bpsk-bit-error-rate-calculation-using-python/)"
   ]
  },
  {
   "cell_type": "code",
   "execution_count": 69,
   "id": "3d527895-adcb-44d8-9647-2205ba514975",
   "metadata": {},
   "outputs": [
    {
     "data": {
      "image/png": "[encoded data removed]",
      "text/plain": [
       "<Figure size 720x720 with 1 Axes>"
      ]
     },
     "metadata": {
      "needs_background": "light"
     },
     "output_type": "display_data"
    }
   ],
   "source": [
    "#Eb/N0 Vs BER for BPSK over AWGN (complex baseband model)\n",
    "# © Author: Mathuranathan Viswanathan (gaussianwaves.com)\n",
    "# https://www.gaussianwaves.com/2020/07/bpsk-python-matlab-bit-error-rate-simulation/\n",
    "from scipy.special import erfc # erfc/Q function\n",
    "\n",
    "# Eb/N0 range in dB for simulation\n",
    "ebnoStart = 2\n",
    "ebnoStop = 13\n",
    "EbN0dBs = np.arange(start=ebnoStart,stop = ebnoStop, step = .5)\n",
    "\n",
    "# fix x-axis\n",
    "ticks = np.arange(ebnoStart,ebnoStop, 1)\n",
    "\n",
    "BER_theory = 0.5*erfc(np.sqrt(10**(EbN0dBs/10)))\n",
    "\n",
    "fig, ax = plt.subplots(nrows=1,ncols = 1, figsize=(10,10))\n",
    "fig.figsize = (200,10)\n",
    "ax.semilogy(EbN0dBs,BER_theory,marker='',linestyle='-',label='BPSK')\n",
    "ax.set_xlabel('$E_b/N_0(dB)$');\n",
    "ax.set_ylabel('BER ($P_b$)')\n",
    "ax.set_title('Probability of Bit Error for BPSK over AWGN channel')\n",
    "ax.set_aspect('equal')\n",
    "ax.set_xticks(ticks)\n",
    "ax.grid(True)\n",
    "ax.legend();"
   ]
  },
  {
   "cell_type": "code",
   "execution_count": 66,
   "id": "825eaea7-afde-451a-883b-b07cca3ad0e0",
   "metadata": {},
   "outputs": [
    {
     "name": "stderr",
     "output_type": "stream",
     "text": [
      "100%|███████████████████████████████████████████| 12/12 [00:03<00:00,  3.84it/s]\n"
     ]
    },
    {
     "data": {
      "image/png": "[encoded data removed]",
      "text/plain": [
       "<Figure size 432x288 with 1 Axes>"
      ]
     },
     "metadata": {
      "needs_background": "light"
     },
     "output_type": "display_data"
    }
   ],
   "source": [
    "from numpy import sqrt\n",
    "from numpy.random import rand, randn\n",
    "\n",
    "N = 5000000\n",
    "EbNodB_range = range(0,12)\n",
    "ber = []\n",
    "\n",
    "for EbNodB in tqdm(EbNodB_range):\n",
    "    EbNo=10.0**(EbNodB/10.0)\n",
    "    x = 2 * (rand(N) >= 0.5) - 1\n",
    "    noise_std = 1/sqrt(2*EbNo)\n",
    "    y = x + noise_std * randn(N)\n",
    "    y_d = 2 * (y >= 0) - 1\n",
    "    errors = (x != y_d).sum()\n",
    "    ber_n = 1.0 * errors / N\n",
    "    ber.append(ber_n)\n",
    "    \n",
    "    # print (\"EbNodB:\", EbNodB,\"  Error bits:\", errors,\"  Error probability:\", ber[n] )\n",
    "    \n",
    "plt.plot(EbNodB_range, ber, 'bo', EbNodB_range, ber, 'k')\n",
    "plt.xscale('linear')\n",
    "plt.yscale('log')\n",
    "plt.xlabel('EbNo(dB)')\n",
    "plt.ylabel('BER')\n",
    "plt.grid(True)\n",
    "plt.title('BPSK Modulation');"
   ]
  },
  {
   "cell_type": "code",
   "execution_count": null,
   "id": "4c96f17a-af34-49c7-a822-84bed81acbed",
   "metadata": {},
   "outputs": [],
   "source": []
  },
  {
   "cell_type": "code",
   "execution_count": 123,
   "id": "fb3ba850-6249-451c-aa4f-50dbea402e8c",
   "metadata": {},
   "outputs": [],
   "source": [
    "# help(ax.scatter)"
   ]
  },
  {
   "cell_type": "code",
   "execution_count": null,
   "id": "38c0f2b9-4f7c-4316-9562-f03de56c2afb",
   "metadata": {},
   "outputs": [],
   "source": []
  },
  {
   "cell_type": "code",
   "execution_count": null,
   "id": "9243b6d5-56be-41d4-9ad2-15421cd4a3c9",
   "metadata": {},
   "outputs": [],
   "source": []
  },
  {
   "cell_type": "code",
   "execution_count": null,
   "id": "07222ed8-26e1-4918-8090-50b624d567c8",
   "metadata": {},
   "outputs": [],
   "source": []
  },
  {
   "cell_type": "code",
   "execution_count": null,
   "id": "53ef0ffa-1c66-432e-96cf-c4a3b092e817",
   "metadata": {},
   "outputs": [],
   "source": []
  },
  {
   "cell_type": "code",
   "execution_count": null,
   "id": "e55fdbe7-a884-494f-85e2-7c9b9c342e18",
   "metadata": {},
   "outputs": [],
   "source": []
  },
  {
   "cell_type": "code",
   "execution_count": null,
   "id": "0274f45d-3944-4a75-ad76-66c6fb6a5d93",
   "metadata": {},
   "outputs": [],
   "source": []
  },
  {
   "cell_type": "code",
   "execution_count": null,
   "id": "88c8f2ff-a04f-49e1-aa03-a22f5b5505bd",
   "metadata": {},
   "outputs": [],
   "source": []
  },
  {
   "cell_type": "code",
   "execution_count": null,
   "id": "9fe9b574-708a-4024-9088-cd9dacf047ee",
   "metadata": {},
   "outputs": [],
   "source": []
  },
  {
   "cell_type": "code",
   "execution_count": null,
   "id": "02728d5c-4772-49f6-814a-06071c5f2e73",
   "metadata": {},
   "outputs": [],
   "source": []
  },
  {
   "cell_type": "code",
   "execution_count": null,
   "id": "d70fe5be-0a35-451d-9d97-40d68ad3296a",
   "metadata": {},
   "outputs": [],
   "source": []
  },
  {
   "cell_type": "code",
   "execution_count": null,
   "id": "b3b1ab33-5979-4387-a16a-2e9a647d12bd",
   "metadata": {},
   "outputs": [],
   "source": []
  },
  {
   "cell_type": "code",
   "execution_count": null,
   "id": "c81d8808-9dd0-42b3-98ca-f165d37e090c",
   "metadata": {},
   "outputs": [],
   "source": []
  },
  {
   "cell_type": "code",
   "execution_count": null,
   "id": "cd918200-b6f7-4e44-80ce-5457c300cd77",
   "metadata": {},
   "outputs": [],
   "source": []
  }
 ],
 "metadata": {
  "kernelspec": {
   "display_name": "Python 3 (ipykernel)",
   "language": "python",
   "name": "python3"
  },
  "language_info": {
   "codemirror_mode": {
    "name": "ipython",
    "version": 3
   },
   "file_extension": ".py",
   "mimetype": "text/x-python",
   "name": "python",
   "nbconvert_exporter": "python",
   "pygments_lexer": "ipython3",
   "version": "3.9.10"
  }
 },
 "nbformat": 4,
 "nbformat_minor": 5
}
