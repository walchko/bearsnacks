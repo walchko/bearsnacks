{
 "cells": [
  {
   "cell_type": "markdown",
   "id": "8017a216-6d59-458b-9f4b-279d2f813c1e",
   "metadata": {},
   "source": [
    "![](https://gdmissionsystems.com/-/media/0FFF912023C545F8AC362964AC5D8CD7.ashx)\n",
    "\n",
    "# Space Communications\n",
    "\n",
    "Kevin J. Walchko, Phd\n",
    "\n",
    "25/2/2022\n",
    "\n",
    "---\n",
    "\n",
    "Systems Mission and Design (SMAD) is a classic reference for satellite development. In the book, the authors develop a ficticious satellite called FireSat.\n",
    "\n",
    "## Antenna Theory\n",
    "\n",
    "A parabolic dish antenna's gain can be calculated from\n",
    "\n",
    "$$\n",
    "G = \n",
    "$$\n",
    "\n",
    "A square patch antenna's gain can be calculated from\n",
    "\n",
    "$$\n",
    "G = \n",
    "$$\n",
    "\n",
    "![](half-power-beamwidth.png)\n",
    "\n",
    "Half Power Beam Width or HPBW is an angular width (in degrees), measured on the major lobe of an antenna radiation pattern at half-power points i.e the points at which the signal power is half that of its peak value. In other words, The Half Power Beamwidth (HPBW) is the angular separation in which the magnitude of the radiation pattern decreases by 50% (or -3 dB) from the peak of the main beam.\n",
    "\n",
    "## Traccking, Telemetry, and Command (TT&C)\n",
    "\n",
    "- USSF SCN: 1.76 - 1.84 GHz UL (L-band), 2.2-2.3 GHz (S-band)\n",
    "- Unified S-Band: 2025 - 2110 MHz\n",
    "\n",
    "## References\n",
    "\n",
    "- SMAD, third ed., Ch 13\n",
    "- [Everthing RF](https://www.everythingrf.com/community/what-is-half-power-beam-width)"
   ]
  },
  {
   "cell_type": "markdown",
   "id": "a4355eef-821f-4096-8228-aaf17a7c3c0c",
   "metadata": {
    "tags": []
   },
   "source": [
    "## Link Budget Equations\n",
    "\n",
    "A link budget is the sum and losses in a communications channel between a transmitter and receiver. Generally you want a link budge with at least 3 dB of margin, where\n",
    "\n",
    "$$\n",
    "margin = E_b/N_o - E_b/N_o^* - losses\n",
    "$$\n",
    "\n",
    "where $E_b/N_o$ is ... and $E_b/N_o^*$ is the ideal needed for a given modulation format. For the ideal, you can refer to SMAD figure 13-xx.\n",
    "\n",
    "$$\n",
    "\\begin{align}\n",
    "E_b/N_o &= \\frac {P L_l G_t L_s G_r}{K Ts DR} \\\\ \n",
    "        &= EIRP + L_{pr} + L_s + L_a + (G_r - Ts) - K - DR \\\\\n",
    "EIRP &= L_l G_t 10 \\log_{10} P \\\\\n",
    "Ts &= 10 \\log_{10} T_s \\\\\n",
    "DR &= 10 \\log_{10} dataRate \\\\\n",
    "K &= 10 \\log_{10} k\n",
    "\\end{align} \\\\\n",
    "$$\n",
    "\n",
    "| Symbol | Unit | Eqn | Definition                                  |\n",
    "|--------|------|-----|-------------------------------------------------------|\n",
    "| $L_{pr}$ | dB | 13-21 | Receive antenna pointing loss |\n",
    "| $L_s$    | dB | 13-23a | Space loss |\n",
    "| $L_a$    | dB | 13-10 | Propagation and polarization loss |\n",
    "| $L_l$    | dB |      | Transmitter to antenna line loss |\n",
    "| $G_r$    | dB | 13-7 | Receive antenna gain (parabolic) |\n",
    "| $G_t$    | dB | 13-7 | Transmit antenna gain (parabolic) |\n",
    "| $P$      | W  |      | Transmitter power |\n",
    "| $T_s$    | K  | | System noise temperature\n",
    "| $K$      | dB | | Boltzman constant $10 \\log_{10} k$, where $k$ = 1.38064852 E-23 joule/K |\n",
    "| $DR$     | bps | | Communications data rate |\n",
    "\n",
    "$EIRP$ is descriptive of the transmitter's performance, while $G/T_s$ defines the receiver's sensativity."
   ]
  },
  {
   "cell_type": "code",
   "execution_count": 39,
   "id": "5e36a99c-5808-402a-917d-832f8feddc5f",
   "metadata": {},
   "outputs": [],
   "source": [
    "from doop.constants import Earth, rad2deg, deg2rad\n",
    "import numpy as np\n",
    "from math import pi, log10\n",
    "from matplotlib import pyplot as plt\n",
    "from tqdm import tqdm\n",
    "\n",
    "c = 3*10**8 # m/s"
   ]
  },
  {
   "cell_type": "code",
   "execution_count": 46,
   "id": "9eaad224-0403-450d-8587-2603e6e193bc",
   "metadata": {},
   "outputs": [],
   "source": [
    "def antennaGain(Dia,freq, efficiency=0.7):\n",
    "    lamda = c/freq # m\n",
    "    return 10*log10((pi**2 * Dia**2 * efficiency)/lamda**2)\n",
    "\n",
    "def receivePointingLoss(ptError, halfPwrBW):\n",
    "    return -12*(ptError/halfPwrBW)**2\n",
    "\n",
    "def spaceLoss(frequency, distance):\n",
    "    return 10*log10((c/(4*pi*distance*frequency))**2)\n",
    "\n",
    "def EbNo(TX, RX, datarate, frequency, distance):\n",
    "    Ls = spaceLoss(frequency, distance)\n",
    "    eirp = TX[\"eirp\"]\n",
    "    \n",
    "    if \"G/T\" in RX:\n",
    "        GT = RX[\"G/T\"]\n",
    "    else:\n",
    "        Gr = RX[\"gain\"]\n",
    "        Ts = RX[\"sysNoiseTemp\"]\n",
    "        GT = Gr - 10*log10(Ts)\n",
    "        \n",
    "    ptErr = RX[\"pointingError\"]\n",
    "    hpbw = RX[\"halfPowerBW\"]\n",
    "    Lpr = receivePointingLoss(ptErr, hpbw)\n",
    "    pp = -0.3\n",
    "    K = -228.6 # Boltzman const\n",
    "    ebno = eirp + Lpr + Ls + pp - K + GT - 10*log10(datarate)\n",
    "    return ebno"
   ]
  },
  {
   "cell_type": "markdown",
   "id": "54767c44-c0fb-4145-9273-dacca85959c7",
   "metadata": {},
   "source": [
    "## Command Uplink"
   ]
  },
  {
   "cell_type": "code",
   "execution_count": 47,
   "id": "11dfd58c-8c50-4946-96b6-6ab989bc0172",
   "metadata": {},
   "outputs": [
    {
     "data": {
      "text/plain": [
       "45.60381346862464"
      ]
     },
     "execution_count": 47,
     "metadata": {},
     "output_type": "execute_result"
    }
   ],
   "source": [
    "TX = {\n",
    "    \"eirp\": 37.2, # dB\n",
    "}\n",
    "\n",
    "RX = {\n",
    "    \"gain\": -1.9,        # dB\n",
    "    \"sysNoiseTemp\": 614, # K\n",
    "    \"pointingError\": 70, # degree\n",
    "    \"halfPowerBW\": 150   # degree\n",
    "}\n",
    "\n",
    "EbNo(TX, RX, 100, 2e9, 2831e3)"
   ]
  },
  {
   "cell_type": "markdown",
   "id": "a02b626d-18b6-49d3-8677-10721eb3d501",
   "metadata": {},
   "source": [
    "## Mission Data Downlink"
   ]
  },
  {
   "cell_type": "code",
   "execution_count": 48,
   "id": "92ab0cf4-861e-40ae-946b-573bfb2b5e4d",
   "metadata": {},
   "outputs": [
    {
     "data": {
      "text/plain": [
       "15.925301719963983"
      ]
     },
     "execution_count": 48,
     "metadata": {},
     "output_type": "execute_result"
    }
   ],
   "source": [
    "TX = {\n",
    "    \"eirp\": 17.7, # dB\n",
    "}\n",
    "\n",
    "RX = {\n",
    "    \"gain\": 39,           # dB\n",
    "    \"sysNoiseTemp\": 135,  # K\n",
    "    \"pointingError\": 0.2, # degree\n",
    "    \"halfPowerBW\": 1.8    # degree\n",
    "}\n",
    "\n",
    "EbNo(TX, RX, 85e6, 2.2e9, 2831e3)"
   ]
  },
  {
   "cell_type": "markdown",
   "id": "fceb1aaa-f569-435e-8810-c368ab609eb5",
   "metadata": {},
   "source": [
    "# JWST"
   ]
  },
  {
   "cell_type": "code",
   "execution_count": 102,
   "id": "de0331fb-3043-4aeb-8a98-ee875c47886f",
   "metadata": {},
   "outputs": [],
   "source": [
    "EML2 = 448900e3 # m\n",
    "Sband = 2.2e9   # Hz\n",
    "Xband = 8.5e9   # Hz\n",
    "satPoitingError = 5       # degree\n",
    "groundPointingError = 0.2 # degree\n",
    "groundHPBW = 1.8          # degree"
   ]
  },
  {
   "cell_type": "markdown",
   "id": "da368ac1-de01-4e3e-8779-5608d282a0c3",
   "metadata": {},
   "source": [
    "## S-Band Patch Antenna"
   ]
  },
  {
   "cell_type": "code",
   "execution_count": 104,
   "id": "c5200937-9f81-4ea2-9a16-08b7a880ec1a",
   "metadata": {},
   "outputs": [
    {
     "name": "stdout",
     "output_type": "stream",
     "text": [
      "EIRP: 17.7\n",
      "S-band, up: 4.17 dB \t down: 11.22 dB\n"
     ]
    }
   ],
   "source": [
    "# Up\n",
    "TX = {\n",
    "    \"eirp\": 68, # dB\n",
    "}\n",
    "\n",
    "RX = {\n",
    "    \"gain\": -1.9,        # dB\n",
    "    \"sysNoiseTemp\": 614, # K\n",
    "    \"pointingError\": satPoitingError, # degree\n",
    "    \"halfPowerBW\": 150   # degree\n",
    "}\n",
    "\n",
    "enup = EbNo(TX, RX, 100e3, Sband, EML2)\n",
    "\n",
    "# Down\n",
    "eirp = 17.7\n",
    "print(f\"EIRP: {eirp}\")\n",
    "\n",
    "TX = {\n",
    "    \"eirp\": eirp, # dB\n",
    "}\n",
    "\n",
    "RX = {\n",
    "    \"G/T\": 37.7,\n",
    "    \"pointingError\": groundPointingError,\n",
    "    \"halfPowerBW\": groundHPBW\n",
    "}\n",
    "\n",
    "endown = EbNo(TX, RX, 1e6, Sband, EML2)\n",
    "\n",
    "print(f\"S-band, up: {enup:.2f} dB \\t down: {endown:.2f} dB\")"
   ]
  },
  {
   "cell_type": "markdown",
   "id": "83732051-a33a-42de-8783-a1d3ae06867a",
   "metadata": {},
   "source": [
    "## X-Band Directional"
   ]
  },
  {
   "cell_type": "code",
   "execution_count": 105,
   "id": "e8057570-a8f3-4d2e-ae10-bcd53de6120d",
   "metadata": {},
   "outputs": [
    {
     "name": "stdout",
     "output_type": "stream",
     "text": [
      "EIRP: 43.42963131727804\n",
      "X-band, up: 19.79 dB \t down: 11.22 dB\n"
     ]
    }
   ],
   "source": [
    "# Up\n",
    "Gt = antennaGain(Dia, Xband) # dB\n",
    "\n",
    "TX = {\n",
    "    \"eirp\": 68, # dB\n",
    "}\n",
    "\n",
    "RX = {\n",
    "    \"gain\": Gt,        # dB\n",
    "    \"sysNoiseTemp\": 614, # K\n",
    "    \"pointingError\": satPoitingError, # degree\n",
    "    \"halfPowerBW\": 5   # degree\n",
    "}\n",
    "\n",
    "enup = EbNo(TX, RX, 100e3, Xband, EML2)\n",
    "\n",
    "# Down\n",
    "lineLoss = -1     # dB\n",
    "Pwr = 5           # W\n",
    "P = 10*log10(Pwr) # dBW\n",
    "Dia = 1           # m\n",
    "eirp = Gt+P+lineLoss\n",
    "print(f\"EIRP: {eirp}\")\n",
    "\n",
    "TX = {\n",
    "    \"eirp\": eirp, # dB\n",
    "}\n",
    "\n",
    "RX = {\n",
    "    \"G/T\": 37.7,\n",
    "    \"pointingError\": groundPointingError,\n",
    "    \"halfPowerBW\": groundHPBW\n",
    "}\n",
    "\n",
    "EbNo(TX, RX, 10e6, Xband, EML2)\n",
    "\n",
    "print(f\"X-band, up: {enup:.2f} dB \\t down: {endown:.2f} dB\")"
   ]
  },
  {
   "cell_type": "code",
   "execution_count": null,
   "id": "f6caa6aa-f052-4fba-bfed-5477d18d6cc6",
   "metadata": {},
   "outputs": [],
   "source": []
  },
  {
   "cell_type": "code",
   "execution_count": null,
   "id": "0204b88f-45a3-4523-8b45-cf7432cebaf1",
   "metadata": {},
   "outputs": [],
   "source": []
  },
  {
   "cell_type": "code",
   "execution_count": null,
   "id": "53c52eea-1c84-4285-9e44-9e51760dd366",
   "metadata": {},
   "outputs": [],
   "source": []
  },
  {
   "cell_type": "code",
   "execution_count": null,
   "id": "1c75f4bc-c575-424b-9b67-de1804f2bc55",
   "metadata": {},
   "outputs": [],
   "source": []
  },
  {
   "cell_type": "code",
   "execution_count": null,
   "id": "07e17f4a-ce3a-4e20-8448-66f08cad4a7a",
   "metadata": {},
   "outputs": [],
   "source": []
  },
  {
   "cell_type": "code",
   "execution_count": null,
   "id": "3c46df63-f20c-49c6-9290-0a9e7f4795fa",
   "metadata": {},
   "outputs": [],
   "source": []
  },
  {
   "cell_type": "code",
   "execution_count": null,
   "id": "4ab9ee93-0370-4d20-8e12-c11fa764a50b",
   "metadata": {},
   "outputs": [],
   "source": []
  },
  {
   "cell_type": "code",
   "execution_count": null,
   "id": "1bd4875d-cf98-4edd-8724-4d23f2f159a0",
   "metadata": {},
   "outputs": [],
   "source": []
  },
  {
   "cell_type": "code",
   "execution_count": null,
   "id": "3e87da78-4968-49f1-803a-c2e3d0a7a43f",
   "metadata": {},
   "outputs": [],
   "source": []
  },
  {
   "cell_type": "code",
   "execution_count": null,
   "id": "94b522f5-cc18-46f4-b5c5-de09bc98a3c2",
   "metadata": {},
   "outputs": [],
   "source": []
  },
  {
   "cell_type": "code",
   "execution_count": null,
   "id": "5db3b070-8aeb-4471-a692-e6c33c3e4618",
   "metadata": {},
   "outputs": [],
   "source": []
  },
  {
   "cell_type": "markdown",
   "id": "fd7ace15-b23f-49a5-9516-8d23dd451291",
   "metadata": {},
   "source": [
    "## Calculating Bit Error Rate (BER)\n",
    "\n",
    "blah ...\n",
    "\n",
    "- [BPSK Bit Error Rate Calculation Using Python](http://www.raymaps.com/index.php/bpsk-bit-error-rate-calculation-using-python/)"
   ]
  },
  {
   "cell_type": "code",
   "execution_count": 78,
   "id": "825eaea7-afde-451a-883b-b07cca3ad0e0",
   "metadata": {},
   "outputs": [
    {
     "name": "stderr",
     "output_type": "stream",
     "text": [
      "100%|███████████████████████████████████████████| 12/12 [00:02<00:00,  4.04it/s]\n"
     ]
    }
   ],
   "source": [
    "from numpy import sqrt\n",
    "from numpy.random import rand, randn\n",
    "\n",
    "N = 5000000\n",
    "EbNodB_range = range(0,12)\n",
    "ber = []\n",
    "\n",
    "for EbNodB in tqdm(EbNodB_range):\n",
    "    EbNo=10.0**(EbNodB/10.0)\n",
    "    x = 2 * (rand(N) >= 0.5) - 1\n",
    "    noise_std = 1/sqrt(2*EbNo)\n",
    "    y = x + noise_std * randn(N)\n",
    "    y_d = 2 * (y >= 0) - 1\n",
    "    errors = (x != y_d).sum()\n",
    "    ber_n = 1.0 * errors / N\n",
    "    ber.append(ber_n)\n",
    "    \n",
    "    # print (\"EbNodB:\", EbNodB,\"  Error bits:\", errors,\"  Error probability:\", ber[n] )"
   ]
  },
  {
   "cell_type": "code",
   "execution_count": 80,
   "id": "653ba085-fee3-4df5-a343-e603dcd32726",
   "metadata": {},
   "outputs": [
    {
     "data": {
      "image/png": "[encoded data removed]",
      "text/plain": [
       "<Figure size 432x288 with 1 Axes>"
      ]
     },
     "metadata": {
      "needs_background": "light"
     },
     "output_type": "display_data"
    }
   ],
   "source": [
    "plt.plot(EbNodB_range, ber, 'bo', EbNodB_range, ber, 'k')\n",
    "plt.xscale('linear')\n",
    "plt.yscale('log')\n",
    "plt.xlabel('EbNo(dB)')\n",
    "plt.ylabel('BER')\n",
    "plt.grid(True)\n",
    "plt.title('BPSK Modulation');"
   ]
  },
  {
   "cell_type": "code",
   "execution_count": null,
   "id": "3d527895-adcb-44d8-9647-2205ba514975",
   "metadata": {},
   "outputs": [],
   "source": []
  },
  {
   "cell_type": "code",
   "execution_count": null,
   "id": "4c96f17a-af34-49c7-a822-84bed81acbed",
   "metadata": {},
   "outputs": [],
   "source": []
  },
  {
   "cell_type": "code",
   "execution_count": null,
   "id": "fb3ba850-6249-451c-aa4f-50dbea402e8c",
   "metadata": {},
   "outputs": [],
   "source": []
  },
  {
   "cell_type": "code",
   "execution_count": null,
   "id": "38c0f2b9-4f7c-4316-9562-f03de56c2afb",
   "metadata": {},
   "outputs": [],
   "source": []
  }
 ],
 "metadata": {
  "kernelspec": {
   "display_name": "Python 3 (ipykernel)",
   "language": "python",
   "name": "python3"
  },
  "language_info": {
   "codemirror_mode": {
    "name": "ipython",
    "version": 3
   },
   "file_extension": ".py",
   "mimetype": "text/x-python",
   "name": "python",
   "nbconvert_exporter": "python",
   "pygments_lexer": "ipython3",
   "version": "3.9.10"
  }
 },
 "nbformat": 4,
 "nbformat_minor": 5
}
