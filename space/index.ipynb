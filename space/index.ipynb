{
 "cells": [
  {
   "cell_type": "markdown",
   "id": "nearby-silence",
   "metadata": {},
   "source": [
    "![](header.jpg)\n",
    "\n",
    "# Space\n",
    "\n",
    "Kevin J. Walchko, Phd\n",
    "\n",
    "---\n",
    "\n",
    "1. [Attitude Control](attitude-control/satellite-attitude.ipynb)\n",
    "1. [Classical Orbital Elements](orbital-elements/orbital-elements.ipynb)\n",
    "1. [Two Line Elements](tle/tle.ipynb)\n",
    "1. [RF Communications Link Budget](comm/comm-firesat.ipynb)\n",
    "    - [Bit Error Rate (BER)](comm/ber.ipynb)\n",
    "1. [Orbital Simulation](orbit-sim/orbit-simulation.ipynb)"
   ]
  },
  {
   "cell_type": "markdown",
   "id": "lesbian-boundary",
   "metadata": {},
   "source": []
  }
 ],
 "metadata": {
  "kernelspec": {
   "display_name": "Python 3 (ipykernel)",
   "language": "python",
   "name": "python3"
  },
  "language_info": {
   "codemirror_mode": {
    "name": "ipython",
    "version": 3
   },
   "file_extension": ".py",
   "mimetype": "text/x-python",
   "name": "python",
   "nbconvert_exporter": "python",
   "pygments_lexer": "ipython3",
   "version": "3.10.4"
  }
 },
 "nbformat": 4,
 "nbformat_minor": 5
}
