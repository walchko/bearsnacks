{
 "cells": [
  {
   "cell_type": "markdown",
   "metadata": {},
   "source": [
    "![](header.jpg)\n",
    "\n",
    "# Orbital Elements\n",
    "\n",
    "Kevin J. Walchko, Phd\n",
    "\n",
    "---\n",
    "\n",
    "## Classical Orbital Elements (COE)\n",
    "\n",
    "The classical orbital elements are defined by 6 parameters.Two elements define the shape and size of the ellipse:\n",
    "\n",
    "![](https://upload.wikimedia.org/wikipedia/commons/f/fa/Animation_of_Orbital_eccentricity.gif)\n",
    "\n",
    "- **Eccentricity (e):** shape of the ellipse compared to a circle \n",
    "    - e = 0: circle\n",
    "    - 0 < e < 1: ellipse\n",
    "    - e = 1: parabolic\n",
    "    - e > 1: hyperbolic\n",
    "- **Semimajor axis (a):** the sum of the periapsis and apoapsis distances divided by two. For classic two-body orbits, the semimajor axis is the distance between the centers of the bodies, not the distance of the bodies from the center of mass.\n",
    "\n",
    "![](https://upload.wikimedia.org/wikipedia/commons/thumb/e/eb/Orbit1.svg/500px-Orbit1.svg.png)\n",
    "\n",
    "Two elements define the orientation of the orbital plane in which the ellipse is embedded:\n",
    "\n",
    "- **Inclination (i):** vertical tilt of the ellipse with respect to the reference plane, measured at the ascending node. \n",
    "- **Longitude of the ascending node ($\\Omega$ or RAAN):** the angle measured CCW from the vernal equinox to the asending node (where the orbit plane crosses the reference plane)\n",
    "\n",
    "The remaining two elements are as follows:\n",
    "\n",
    "- **Argument of periapsis ($\\omega$):** defines the orientation of the ellipse in the orbital plane, as an angle measured from the ascending node to the periapsis\n",
    "- **True anomaly ($\\theta$):** at epoch (t0) defines the position of the orbiting body along the ellipse at a specific time (the \"epoch\")\n",
    "\n",
    "## References\n",
    "\n",
    "- Wikipedia: [Orbital elements](https://en.wikipedia.org/wiki/Orbital_elements)"
   ]
  },
  {
   "cell_type": "markdown",
   "metadata": {},
   "source": [
    "## `doop`\n",
    "\n",
    "Let's play with some classical orbital elements (COEs) and pull some two line elements (TLEs) from www.celestrak.com."
   ]
  },
  {
   "cell_type": "code",
   "execution_count": 11,
   "metadata": {},
   "outputs": [],
   "source": [
    "# auto reload doop as we make changes to it\n",
    "%load_ext autoreload\n",
    "%autoreload 2"
   ]
  },
  {
   "cell_type": "code",
   "execution_count": 4,
   "metadata": {},
   "outputs": [],
   "source": [
    "from doop import COE\n",
    "from doop.objects import get_coes\n",
    "from doop.constants import Earth"
   ]
  },
  {
   "cell_type": "code",
   "execution_count": 12,
   "metadata": {},
   "outputs": [
    {
     "name": "stdout",
     "output_type": "stream",
     "text": [
      ">> COE R: 6930.0 km   Vel: 7.6 km/sec   Altitude: 551.6 km\n",
      ">> Pos[km]: [6930.    0.    0.]   Vel[km/s]: [0.         7.62189493 0.        ]\n"
     ]
    }
   ],
   "source": [
    "coe = COE(7000, 0.01, 0, 0, 0,0)\n",
    "rr = coe.r\n",
    "vv = coe.velocity\n",
    "print(f\">> COE R: {rr:.1f} km   Vel: {vv:.1f} km/sec   Altitude: {rr-Earth.radius:.1f} km\")\n",
    "\n",
    "r,v = coe.to_rv()\n",
    "print(f\">> Pos[km]: {r}   Vel[km/s]: {v}\")"
   ]
  },
  {
   "cell_type": "code",
   "execution_count": 13,
   "metadata": {},
   "outputs": [
    {
     "name": "stdout",
     "output_type": "stream",
     "text": [
      "a: 7000.0km e: 0.0100 i: 0.0° RAAN: 0.0° w: 360.0° v: 0.0°\n",
      ">> Pos[km]: 6930.000000000001   Vel[km/s]: 7.621894927282825\n",
      ">> Period: 5828.5 sec  97.1 mins\n"
     ]
    }
   ],
   "source": [
    "cc = COE.from_rv(r,v)\n",
    "print(cc)\n",
    "print(f\">> Pos[km]: {cc.r}   Vel[km/s]: {cc.velocity}\")\n",
    "print(f\">> Period: {cc.period:.1f} sec  {cc.period/60:.1f} mins\")"
   ]
  },
  {
   "cell_type": "code",
   "execution_count": 14,
   "metadata": {},
   "outputs": [
    {
     "name": "stdout",
     "output_type": "stream",
     "text": [
      "a: 6797.2km e: 0.0005 i: 51.6° RAAN: 165.7° w: 332.7° v: 228.1°\n",
      ">> Pos[km]: 6799.647326920644   Vel[km/s]: 7.655034624168856\n",
      ">> Period: 5577.1 sec  93.0 mins\n"
     ]
    }
   ],
   "source": [
    "tle = \"\"\"ISS (ZARYA)\n",
    "1 25544U 98067A   20060.61908565  .00000737  00000-0  21434-4 0  9993\n",
    "2 25544  51.6436 165.6500 0005418 332.6966 228.1099 15.49204316215186\"\"\"\n",
    "\n",
    "cc = COE.from_tle(tle)\n",
    "print(cc)\n",
    "print(f\">> Pos[km]: {cc.r}   Vel[km/s]: {cc.velocity}\")\n",
    "print(f\">> Period: {cc.period:.1f} sec  {cc.period/60:.1f} mins\")"
   ]
  },
  {
   "cell_type": "code",
   "execution_count": 7,
   "metadata": {},
   "outputs": [
    {
     "name": "stdout",
     "output_type": "stream",
     "text": [
      ">> Found 32 TLEs\n",
      "\u001b[36m\u001b[39m\n",
      "\u001b[31m*** not enough values to unpack (expected 3, got 1) ***\u001b[39m\n",
      "GPS BIIR-2  (PRN 13)     a: 26560.2km e: 0.0039 i: 55.5° RAAN: 185.2° w: 60.6° v: 299.9°\n",
      "GPS BIIR-3  (PRN 11)     a: 26560.8km e: 0.0158 i: 52.3° RAAN: 31.1° w: 114.1° v: 356.9°\n",
      "GPS BIIR-4  (PRN 20)     a: 26560.1km e: 0.0050 i: 53.5° RAAN: 110.2° w: 154.8° v: 272.6°\n",
      "GPS BIIR-5  (PRN 28)     a: 26560.2km e: 0.0186 i: 56.0° RAAN: 303.2° w: 279.3° v: 262.2°\n",
      "GPS BIIR-6  (PRN 14)     a: 26560.1km e: 0.0116 i: 55.0° RAAN: 182.5° w: 250.6° v: 120.8°\n",
      "GPS BIIR-8  (PRN 16)     a: 26561.2km e: 0.0114 i: 56.1° RAAN: 303.0° w: 35.3° v: 146.8°\n",
      "GPS BIIR-9  (PRN 21)     a: 26575.5km e: 0.0242 i: 54.6° RAAN: 54.0° w: 283.9° v: 292.6°\n",
      "GPS BIIR-10 (PRN 22)     a: 26558.6km e: 0.0074 i: 53.3° RAAN: 113.0° w: 292.7° v: 66.5°\n",
      "GPS BIIR-11 (PRN 19)     a: 26560.4km e: 0.0092 i: 56.3° RAAN: 3.8° w: 92.9° v: 78.8°\n",
      "GPS BIIR-12 (PRN 23)     a: 26575.5km e: 0.0144 i: 54.1° RAAN: 176.5° w: 235.2° v: 4.7°\n"
     ]
    }
   ],
   "source": [
    "coes = get_coes(\"gps\")\n",
    "for c in coes[:10]:\n",
    "    print(c.tle.object.name, c)"
   ]
  },
  {
   "cell_type": "code",
   "execution_count": 8,
   "metadata": {},
   "outputs": [
    {
     "name": "stdout",
     "output_type": "stream",
     "text": [
      ">> Found 71 TLEs\n",
      "\u001b[36mCYGNUS NG-13            \n",
      "1 45175U 20011A   20145.65484343 -.00007419  00000-0 -24901-3 0  9997\n",
      "2 45175  51.6476 106.6303 0005501  15.0687 143.8857 15.28773067 15299\u001b[39m\n",
      "\u001b[31m*** list index out of range ***\u001b[39m\n",
      "\u001b[36m\u001b[39m\n",
      "\u001b[31m*** not enough values to unpack (expected 3, got 1) ***\u001b[39m\n",
      "ISS (ZARYA)              a: 6796.6km e: 0.0001 i: 51.6° RAAN: 103.8° w: 350.9° v: 115.9°\n",
      "KESTREL EYE IIM (KE2M)   a: 6738.4km e: 0.0003 i: 51.6° RAAN: 45.5° w: 18.7° v: 341.4°\n",
      "DELLINGR (RBLE)          a: 6736.6km e: 0.0001 i: 51.6° RAAN: 44.1° w: 19.5° v: 340.6°\n",
      "1KUNS-PF                 a: 6643.5km e: 0.0004 i: 51.6° RAAN: 19.8° w: 225.1° v: 135.0°\n",
      "UBAKUSAT                 a: 6724.9km e: 0.0001 i: 51.6° RAAN: 47.6° w: 92.3° v: 267.9°\n",
      "CUBERRT                  a: 6729.3km e: 0.0003 i: 51.6° RAAN: 47.2° w: 18.3° v: 341.8°\n",
      "TEMPEST-D                a: 6759.3km e: 0.0005 i: 51.6° RAAN: 75.1° w: 335.5° v: 24.6°\n",
      "RAINCUBE                 a: 6728.3km e: 0.0004 i: 51.6° RAAN: 56.2° w: 20.6° v: 339.5°\n",
      "HALOSAT                  a: 6730.2km e: 0.0003 i: 51.6° RAAN: 56.0° w: 27.4° v: 332.7°\n",
      "ENDUROSAT ONE            a: 6710.4km e: 0.0003 i: 51.6° RAAN: 45.8° w: 44.6° v: 315.6°\n"
     ]
    }
   ],
   "source": [
    "coes = get_coes(\"stations\")\n",
    "for c in coes[:10]:\n",
    "    print(c.tle.object.name, c)"
   ]
  },
  {
   "cell_type": "code",
   "execution_count": 10,
   "metadata": {},
   "outputs": [
    {
     "data": {
      "text/plain": [
       "TLE(object=Object(name='ISS (ZARYA)             ', number=25544, classification='Unclassified'), id=ID(launch_year=1998, launch_number='067', piece='A'), coe=OE(a=6796.64696846535, e=0.0001451, i=51.6447, raan=103.8037, w=350.917, v=115.8527), ballistic_coeffecient=1.418e-05, bstar=3.3452, line1='1 25544U 98067A   20145.88454948  .00001418  00000-0  33452-4 0  9997', line2='2 25544  51.6447 103.8037 0001451 350.9170 115.8527 15.49389803228402')"
      ]
     },
     "execution_count": 10,
     "metadata": {},
     "output_type": "execute_result"
    }
   ],
   "source": [
    "coes[0].tle"
   ]
  },
  {
   "cell_type": "code",
   "execution_count": null,
   "metadata": {},
   "outputs": [],
   "source": []
  }
 ],
 "metadata": {
  "kernelspec": {
   "display_name": "Python 3 (ipykernel)",
   "language": "python",
   "name": "python3"
  },
  "language_info": {
   "codemirror_mode": {
    "name": "ipython",
    "version": 3
   },
   "file_extension": ".py",
   "mimetype": "text/x-python",
   "name": "python",
   "nbconvert_exporter": "python",
   "pygments_lexer": "ipython3",
   "version": "3.10.4"
  }
 },
 "nbformat": 4,
 "nbformat_minor": 4
}
