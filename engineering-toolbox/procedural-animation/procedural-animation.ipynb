{
 "cells": [
  {
   "cell_type": "markdown",
   "id": "ef312e6a-358b-4b26-8ecb-0e0b6a65400f",
   "metadata": {},
   "source": [
    "# Procedural Animation\n",
    "\n",
    "Kevin Walchko\n",
    "\n",
    "---\n",
    "\n",
    "## References\n",
    "\n",
    "- youtube: [Giving Personality to Procedural Animations using Math](https://www.youtube.com/watch?v=KPoeNZZ6H4s)\n",
    "- wiki: [Semi-implicit Euler method](https://en.wikipedia.org/wiki/Semi-implicit_Euler_method)"
   ]
  },
  {
   "cell_type": "markdown",
   "id": "d7b81e98-af86-4451-ba07-a85f886f80fe",
   "metadata": {},
   "source": [
    "$$\n",
    "y + k_1 \\dot y + k_2 \\ddot y = x + k_3 \\dot x \\\\\n",
    "y + \\frac {\\zeta}{\\pi f} \\dot y + \\frac {1}{(2 \\pi f)^2} \\ddot y = x + \\frac {r \\zeta} {2 \\pi f} \\dot x\n",
    "$$\n",
    "\n",
    "| Parameter | Units | Description |\n",
    "|-----------|-------|-------------|\n",
    "| $f$       | Hz    | frequency |\n",
    "| $\\zeta$   |       | dampening ratio |\n",
    "| $r$       |       | initial response of system |"
   ]
  },
  {
   "cell_type": "markdown",
   "id": "84962245-7224-4a82-807c-6d4fd85f979a",
   "metadata": {},
   "source": [
    "```c\n",
    "y[n+1] = y[n] + T * yd[n]\n",
    "yd[n+1] = yd[n] + T*ydd[n]\n",
    "```\n",
    "\n",
    "Substitude in for ydd[n]:\n",
    "\n",
    "```c\n",
    "yd[n+1] = yd[n] + T (x[n+1] + k3*xd[n+1] - y[n+1]-k1*yd[n])/k2\n",
    "```\n",
    "\n",
    "Now substitute in for y[n+1] from the first equation:\n",
    "\n",
    "```c\n",
    "y[n+1] = y[n] + T*yd[n]\n",
    "yd[n+1] = yd[n] + T (x[n+1] + k3*xd[n+1] - (y[n] + T*yd[n]) - k1*yd[n])/k2\n",
    "```\n",
    "\n",
    "You can collect terms and put it into a state space form:\n",
    "\n",
    "$$\n",
    "\\begin{bmatrix} \n",
    "    y \\\\ \n",
    "    \\dot y \n",
    "\\end{bmatrix}^{n+1} = \n",
    "\\begin{bmatrix}\n",
    "    1 && T \\\\\n",
    "    \\frac{-T}{k_2} && \\frac{k_2 - T^2-Tk_1}{k_2}\n",
    "\\end{bmatrix} \n",
    "\\begin{bmatrix} \n",
    "    y \\\\ \n",
    "    \\dot y \n",
    "\\end{bmatrix}^{n} +\n",
    "\\begin{bmatrix}\n",
    "    0 && 0 \\\\\n",
    "    \\frac{T}{k_2} && \\frac{Tk_3}{k_2}\n",
    "\\end{bmatrix} \n",
    "\\begin{bmatrix} \n",
    "    x \\\\ \n",
    "    \\dot x \n",
    "\\end{bmatrix}^{n+1}\n",
    "$$"
   ]
  },
  {
   "cell_type": "code",
   "execution_count": 3,
   "id": "94e40690-6a4c-4cd8-83a9-f7a99e5cc8ac",
   "metadata": {},
   "outputs": [],
   "source": [
    "import numpy as np\n",
    "from matplotlib import pyplot as plt"
   ]
  },
  {
   "cell_type": "code",
   "execution_count": 75,
   "id": "d9726004-1969-41e5-be78-5ec241cadb29",
   "metadata": {},
   "outputs": [],
   "source": [
    "class SecondOrderDynamics:\n",
    "    \n",
    "    def __init__(self, f,z,r,x0,yd=0):\n",
    "        self.k1 = z / (np.pi * f)\n",
    "        self.k2 = 1 / (2 * np.pi * f)**2\n",
    "        self.k3 = r * z / (2 * np.pi * f)\n",
    "        self.xp = x0\n",
    "        self.y = x0\n",
    "        self.yd = yd\n",
    "        \n",
    "    def update(self,T, x):\n",
    "        xd = (x - self.xp) / T\n",
    "        self.xp = x\n",
    "        k2stable = max(self.k2, 1.1*(T*T/4 + T*self.k1/2))\n",
    "        k2 = k2stable\n",
    "        k2 = self.k2\n",
    "        self.y += T*self.yd\n",
    "        self.yd += T*(x + self.k3*xd - self.y - self.k1*self.yd) / k2"
   ]
  },
  {
   "cell_type": "code",
   "execution_count": 78,
   "id": "56df36b4-9055-4f70-81b1-840c65577f9e",
   "metadata": {},
   "outputs": [],
   "source": [
    "def step(x, value, number):\n",
    "    for i in range(number):\n",
    "        x.append(value)\n",
    "    return x\n",
    "\n",
    "def linear(x, slope, number):\n",
    "    v = x[-1]\n",
    "    for i in range(number):\n",
    "        v += slope\n",
    "        x.append(v)\n",
    "    return x\n",
    "\n",
    "x = []\n",
    "x = step(x,0,20)\n",
    "x = step(x,2,50)\n",
    "x = step(x,-1,40)\n",
    "x = step(x,0,50)\n",
    "x = linear(x,.1,20)\n",
    "x = step(x,2,50)\n",
    "x = linear(x,-.1,30)"
   ]
  },
  {
   "cell_type": "code",
   "execution_count": 79,
   "id": "211a9ceb-66e0-4b18-b908-e0cd491d9771",
   "metadata": {},
   "outputs": [
    {
     "data": {
      "image/png": "[encoded data removed]",
      "text/plain": [
       "<Figure size 640x480 with 1 Axes>"
      ]
     },
     "metadata": {},
     "output_type": "display_data"
    }
   ],
   "source": [
    "x0 = 0\n",
    "f = .5\n",
    "z = .75\n",
    "r = 2\n",
    "sod = SecondOrderDynamics(f,z,r,x0)\n",
    "\n",
    "y = []\n",
    "yd = []\n",
    "\n",
    "for i in x:\n",
    "    sod.update(.1, i)\n",
    "    y.append(sod.y)\n",
    "    yd.append(sod.yd)\n",
    "    \n",
    "plt.plot(x)\n",
    "plt.plot(y)\n",
    "plt.grid(True)"
   ]
  },
  {
   "cell_type": "code",
   "execution_count": 62,
   "id": "b4e0354e-1b56-40f5-a56e-b310cb8509bf",
   "metadata": {},
   "outputs": [
    {
     "data": {
      "text/plain": [
       "3"
      ]
     },
     "execution_count": 62,
     "metadata": {},
     "output_type": "execute_result"
    }
   ],
   "source": [
    "max(3,2)"
   ]
  },
  {
   "cell_type": "code",
   "execution_count": null,
   "id": "48996680-5ecc-40ce-bd09-d736d3cf8514",
   "metadata": {},
   "outputs": [],
   "source": []
  }
 ],
 "metadata": {
  "kernelspec": {
   "display_name": "Python 3 (ipykernel)",
   "language": "python",
   "name": "python3"
  },
  "language_info": {
   "codemirror_mode": {
    "name": "ipython",
    "version": 3
   },
   "file_extension": ".py",
   "mimetype": "text/x-python",
   "name": "python",
   "nbconvert_exporter": "python",
   "pygments_lexer": "ipython3",
   "version": "3.10.9"
  }
 },
 "nbformat": 4,
 "nbformat_minor": 5
}
