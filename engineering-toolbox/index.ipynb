{
 "cells": [
  {
   "cell_type": "markdown",
   "id": "crude-blend",
   "metadata": {},
   "source": [
    "![](header.jpg)\n",
    "\n",
    "# Mathematics and Engineering Toolbox\n",
    "\n",
    "Kevin J. Walchko, Phd\n",
    "\n",
    "---\n",
    "\n",
    "1. Mathematics\n",
    "    1. [Rung-Kutta](rk4/rk4.ipynb)\n",
    "    1. [Determining Points within a Triangle](points-in-triangle/point-in-triangle.ipynb)\n",
    "    1. [Jacobian](jacobian/jacobian.ipybn)\n",
    "    1. [Simple Statistics](stats/stats.ipynb)\n",
    "1. Engineering Toolbox\n",
    "    1. [Controls Simulation](controls-sim/controls-sim.ipynb)\n",
    "    1. [SciPy Signal Toolbox](scipy-signal/scipy-signal.ipynb)"
   ]
  },
  {
   "cell_type": "markdown",
   "id": "running-prisoner",
   "metadata": {},
   "source": [
    "[![](https://camo.githubusercontent.com/e170e276291254896665fa8f612b99fe5b7dd005/68747470733a2f2f692e6372656174697665636f6d6d6f6e732e6f72672f6c2f62792d73612f342e302f38387833312e706e67)](https://creativecommons.org/licenses/by-sa/4.0/)"
   ]
  }
 ],
 "metadata": {
  "kernelspec": {
   "display_name": "Python 3 (ipykernel)",
   "language": "python",
   "name": "python3"
  },
  "language_info": {
   "codemirror_mode": {
    "name": "ipython",
    "version": 3
   },
   "file_extension": ".py",
   "mimetype": "text/x-python",
   "name": "python",
   "nbconvert_exporter": "python",
   "pygments_lexer": "ipython3",
   "version": "3.9.10"
  }
 },
 "nbformat": 4,
 "nbformat_minor": 5
}
