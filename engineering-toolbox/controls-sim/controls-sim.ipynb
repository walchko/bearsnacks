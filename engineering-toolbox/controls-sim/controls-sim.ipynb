{
 "cells": [
  {
   "cell_type": "markdown",
   "metadata": {},
   "source": [
    "![](../header.jpg)\n",
    "\n",
    "# Simulating Non-linear Systems with Control Inputs\n",
    "\n",
    "Kevin J. Walchko, Phd\n",
    "\n",
    "20 Nov 2019\n",
    "\n",
    "---\n",
    "\n",
    "Most matematical solvers only look at unforced solutions. But what if you want to input a control signal? "
   ]
  },
  {
   "cell_type": "code",
   "execution_count": 1,
   "metadata": {},
   "outputs": [],
   "source": [
    "%load_ext autoreload\n",
    "%autoreload 2"
   ]
  },
  {
   "cell_type": "code",
   "execution_count": 2,
   "metadata": {},
   "outputs": [],
   "source": [
    "import numpy as np\n",
    "import matplotlib.pyplot as plt\n",
    "from math import pi, sin, sqrt\n",
    "from pyrk import RK4\n",
    "from thundercougarfalconbird import Vanderpol, MassSpringDamper"
   ]
  },
  {
   "cell_type": "code",
   "execution_count": 3,
   "metadata": {},
   "outputs": [],
   "source": [
    "def clamp(x, a, b):\n",
    "    x = x if x>=a else a\n",
    "    x = x if x<=b else b\n",
    "    return x"
   ]
  },
  {
   "cell_type": "code",
   "execution_count": 10,
   "metadata": {},
   "outputs": [],
   "source": [
    "def crit(m,k,c):\n",
    "    \"\"\"\n",
    "    k: spring const\n",
    "    c: dampenig coeff\n",
    "    m: mass\n",
    "    \"\"\"\n",
    "    tau = sqrt(k/m)\n",
    "    zeta = sqrt((c**2) / (4*m*k))\n",
    "    print(f\"Natural freq: {k/m} rad/sec\")\n",
    "    print(f\"Time const: {tau} sec\")\n",
    "    print(f\"zeta (critical damping if 1.0): {zeta}\")\n",
    "    # print(f\"Dampening System: {D}\")\n",
    "    print(f\"Critical dampening coeff for mass and spring const: {2*sqrt(k*m)}\")"
   ]
  },
  {
   "cell_type": "markdown",
   "metadata": {},
   "source": [
    "# Vanderpol Oscillator\n",
    "\n",
    "Now this doesn't use a controls input, but I know what the output plot should look like, so it is just a test of `pyrk` to ensure it is working correctly."
   ]
  },
  {
   "cell_type": "code",
   "execution_count": 5,
   "metadata": {},
   "outputs": [
    {
     "data": {
      "image/png": "[encoded data removed]",
      "text/plain": [
       "<Figure size 432x288 with 1 Axes>"
      ]
     },
     "metadata": {
      "needs_background": "light"
     },
     "output_type": "display_data"
    }
   ],
   "source": [
    "vanderpol = Vanderpol(4.0)\n",
    "\n",
    "rk = RK4(vanderpol.eqns)\n",
    "t, y = rk.solve(np.array([0, 1]), .01, 200)\n",
    "\n",
    "y1 = [x[0] for x in y]\n",
    "y2 = [x[1] for x in y]\n",
    "\n",
    "plt.plot(y1, y2)\n",
    "plt.ylabel('velocity')\n",
    "plt.xlabel('position')\n",
    "plt.grid(True)\n",
    "plt.show()"
   ]
  },
  {
   "cell_type": "markdown",
   "metadata": {},
   "source": [
    "# Simple Mass-Spring-Damper\n",
    "\n",
    "Here we set a goal position for the MSD and force it to that position"
   ]
  },
  {
   "cell_type": "code",
   "execution_count": 13,
   "metadata": {},
   "outputs": [
    {
     "name": "stdout",
     "output_type": "stream",
     "text": [
      "Natural freq: 0.6666666666666666 rad/sec\n",
      "Time const: 0.816496580927726 sec\n",
      "zeta (critical damping if 1.0): 1.0002083116364646\n",
      "Critical dampening coeff for mass and spring const: 4.898979485566356\n"
     ]
    }
   ],
   "source": [
    "k = 2.\n",
    "d = 4.9\n",
    "m = 3\n",
    "\n",
    "crit(m,k,d)\n",
    "\n",
    "msd = MassSpringDamper(m,k,d)"
   ]
  },
  {
   "cell_type": "code",
   "execution_count": 14,
   "metadata": {},
   "outputs": [],
   "source": [
    "y_start = np.array([0,1])\n",
    "goal = 4\n",
    "step = 0.01"
   ]
  },
  {
   "cell_type": "code",
   "execution_count": 15,
   "metadata": {},
   "outputs": [
    {
     "data": {
      "image/png": "[encoded data removed]",
      "text/plain": [
       "<Figure size 432x288 with 2 Axes>"
      ]
     },
     "metadata": {
      "needs_background": "light"
     },
     "output_type": "display_data"
    }
   ],
   "source": [
    "rk = RK4(msd.eqns)\n",
    "y = y_start\n",
    "t = 0.0\n",
    "ierr = 0\n",
    "last_err = 0\n",
    "\n",
    "yi = []\n",
    "ti = []\n",
    "\n",
    "for i in range(200):\n",
    "    err = goal - y[1]\n",
    "    ierr += err*step\n",
    "    derr = (err - last_err)/step\n",
    "    u = 5*err + .4*ierr + 10*derr\n",
    "    \n",
    "    y = rk(t,y,u,step)\n",
    "    t += step\n",
    "    \n",
    "    ti.append(t)\n",
    "    yi.append(y)\n",
    "    last_err = err\n",
    "\n",
    "v = [x[0] for x in yi] # velocity\n",
    "p = [x[1] for x in yi] # position\n",
    "\n",
    "plt.subplot(1,2,1)\n",
    "plt.plot(ti,p)\n",
    "plt.title('position')\n",
    "plt.grid(True)\n",
    "\n",
    "plt.subplot(1,2,2)\n",
    "plt.plot(ti,v)\n",
    "plt.title('velocity')\n",
    "plt.grid(True)"
   ]
  },
  {
   "cell_type": "markdown",
   "metadata": {},
   "source": [
    "# Scipy - broke?\n",
    "\n",
    "Basically do the same with `scipy` to verify we get the same result as RK45 above."
   ]
  },
  {
   "cell_type": "code",
   "execution_count": 16,
   "metadata": {},
   "outputs": [],
   "source": [
    "from scipy.integrate import solve_ivp as ode"
   ]
  },
  {
   "cell_type": "code",
   "execution_count": 19,
   "metadata": {},
   "outputs": [
    {
     "name": "stderr",
     "output_type": "stream",
     "text": [
      "/Users/kevin/github/thundercougarfalconbird/thundercougarfalconbird/simple.py:51: RuntimeWarning: invalid value encountered in double_scalars\n",
      "  accel = (u - c*vel - k*pos)/m\n"
     ]
    },
    {
     "name": "stdout",
     "output_type": "stream",
     "text": [
      "Oops\n",
      "Oops\n",
      "Oops\n",
      "Oops\n",
      "Oops\n",
      "Oops\n",
      "Oops\n",
      "Oops\n",
      "Oops\n",
      "Oops\n",
      "Oops\n",
      "Oops\n",
      "Oops\n",
      "Oops\n",
      "Oops\n",
      "Oops\n",
      "Oops\n",
      "Oops\n",
      "Oops\n",
      "Oops\n",
      "Oops\n",
      "Oops\n",
      "Oops\n",
      "Oops\n",
      "Oops\n",
      "Oops\n",
      "Oops\n",
      "Oops\n",
      "Oops\n",
      "Oops\n",
      "Oops\n",
      "Oops\n",
      "Oops\n",
      "Oops\n",
      "Oops\n",
      "Oops\n",
      "Oops\n",
      "Oops\n",
      "Oops\n",
      "Oops\n",
      "Oops\n",
      "Oops\n",
      "Oops\n",
      "Oops\n",
      "Oops\n",
      "Oops\n",
      "Oops\n",
      "Oops\n",
      "Oops\n"
     ]
    },
    {
     "data": {
      "image/png": "[encoded data removed]",
      "text/plain": [
       "<Figure size 432x288 with 2 Axes>"
      ]
     },
     "metadata": {
      "needs_background": "light"
     },
     "output_type": "display_data"
    }
   ],
   "source": [
    "y = y_start\n",
    "t = 0.0\n",
    "ierr = 0\n",
    "last_err = 0\n",
    "\n",
    "yi = []\n",
    "ti = []\n",
    "\n",
    "for i in range(100):\n",
    "    err = goal - y[1]\n",
    "    ierr += err*step\n",
    "    derr = (err - last_err)/step\n",
    "    u = 5*err + .4*ierr + 10*derr\n",
    "    \n",
    "    yy = ode(msd.eqns, y, [t, t+step], args=(u, ))\n",
    "    if yy.success == False:\n",
    "        print(\"Oops\")\n",
    "        \n",
    "    t += step\n",
    "    \n",
    "    y = yy.y[:,-1]\n",
    "    \n",
    "    ti.append(t)\n",
    "    yi.append(y)\n",
    "    last_err = err\n",
    "\n",
    "v = [x[0] for x in yi] # velocity\n",
    "p = [x[1] for x in yi] # position\n",
    "\n",
    "plt.subplot(1,2,1)\n",
    "plt.plot(ti,p)\n",
    "plt.title('position')\n",
    "plt.grid(True)\n",
    "\n",
    "plt.subplot(1,2,2)\n",
    "plt.plot(ti,v)\n",
    "plt.title('velocity')\n",
    "plt.grid(True)"
   ]
  },
  {
   "cell_type": "code",
   "execution_count": 61,
   "metadata": {},
   "outputs": [
    {
     "data": {
      "text/plain": [
       "array([0, 1])"
      ]
     },
     "execution_count": 61,
     "metadata": {},
     "output_type": "execute_result"
    }
   ],
   "source": [
    "y_start"
   ]
  },
  {
   "cell_type": "markdown",
   "metadata": {},
   "source": [
    "# Conclusion\n",
    "\n",
    "So I have shown how to simulate EOM with a controls input using python. Both `scipy` and `pyrk` produce similar results."
   ]
  },
  {
   "cell_type": "code",
   "execution_count": null,
   "metadata": {},
   "outputs": [],
   "source": []
  }
 ],
 "metadata": {
  "kernelspec": {
   "display_name": "Python 3 (ipykernel)",
   "language": "python",
   "name": "python3"
  },
  "language_info": {
   "codemirror_mode": {
    "name": "ipython",
    "version": 3
   },
   "file_extension": ".py",
   "mimetype": "text/x-python",
   "name": "python",
   "nbconvert_exporter": "python",
   "pygments_lexer": "ipython3",
   "version": "3.10.5"
  }
 },
 "nbformat": 4,
 "nbformat_minor": 4
}
