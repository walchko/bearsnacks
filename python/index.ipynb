{
 "cells": [
  {
   "cell_type": "markdown",
   "id": "impressed-mirror",
   "metadata": {},
   "source": [
    "![](header.jpg)\n",
    "\n",
    "# Python\n",
    "\n",
    "Kevin J. Walchko, Phd\n",
    "\n",
    "---\n",
    "\n",
    "1. [Slicing Binary Data with Memoryview](memoryview/memoryview.ipynb)\n",
    "1. [Logging](logging/logging.ipynb)\n",
    "1. [Yet Another Sparkling](sparkling/sparkline.ipynb)\n",
    "1. Python Classes and Data\n",
    "    1. [`Enums` and `IntFlags`](enums/enums.ipynb)\n",
    "    1. [Simplifying Classes with `dataclass`](data-types/dataclass/dataclass.ipynb)\n",
    "    1. [Simplifying Classes with `attr`](data-types/attr/attr.ipynb)\n",
    "    1. [`namedtuple`](data-types/nametuple/namedtuple.ipynb)\n",
    "1. Engineering\n",
    "    1. [Controls Simulations](controls-sim/controls-sim.ipynb)\n",
    "    1. [Signals with SciPy](scipy-signal/scipy-signal.ipynb)\n",
    "    1. [Fake serial port for testing](fake-serial/fake-serial.ipynb)\n",
    "1. Files and Storage\n",
    "    1. [Storage Comparison](file-storage/storage-comparison/storage-comparison.ipynb)\n",
    "    1. [Streaming data to disk](file-storage/stream-to-disk/stream-to-disk.ipynb)\n",
    "    1. [Temporary files and folders](file-storage/temp-files-and-folders/)\n",
    "    1. [Pathlib](file-storage/pathlib/pathlib/ipynb)\n",
    "1. Networks and Data Transmission\n",
    "    1. [TCP vs UDP](networking/tcp-udp/tcp-udp.ipynb)\n",
    "    1. [Finding Roku's on the network](networking/ssdp/)\n",
    "1. Serialization\n",
    "    1. [Serialization Comparison](serialization/serialization.ipynb)\n",
    "    1. [Protobuf](serialization/protobuf/protobuf.ipynb)\n",
    "    1. Msgpack\n",
    "    1. [Structs](serialization/structs/structs.ipynb)\n",
    "    1. [Base64](serialization/base64/)\n",
    "1. Geographic Information System\n",
    "    1. [Plotting on Maps with Plotly](gis/maps/maps.ipynb)\n",
    "    1. [GeoJSON](gis/geojson/geojson.ipynb)\n",
    "    1. [Calculating Distance with Haversine](gis/haversine/haversine.ipynb)"
   ]
  },
  {
   "cell_type": "markdown",
   "id": "removed-album",
   "metadata": {},
   "source": [
    "-----------\n",
    "\n",
    "<a rel=\"license\" href=\"http://creativecommons.org/licenses/by-sa/4.0/\"><img alt=\"Creative Commons License\" style=\"border-width:0\" src=\"https://i.creativecommons.org/l/by-sa/4.0/88x31.png\" /></a><br />This work is licensed under a <a rel=\"license\" href=\"http://creativecommons.org/licenses/by-sa/4.0/\">Creative Commons Attribution-ShareAlike 4.0 International License</a>."
   ]
  }
 ],
 "metadata": {
  "kernelspec": {
   "display_name": "Python 3 (ipykernel)",
   "language": "python",
   "name": "python3"
  },
  "language_info": {
   "codemirror_mode": {
    "name": "ipython",
    "version": 3
   },
   "file_extension": ".py",
   "mimetype": "text/x-python",
   "name": "python",
   "nbconvert_exporter": "python",
   "pygments_lexer": "ipython3",
   "version": "3.9.10"
  }
 },
 "nbformat": 4,
 "nbformat_minor": 5
}
