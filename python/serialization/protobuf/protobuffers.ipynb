{
 "cells": [
  {
   "cell_type": "markdown",
   "metadata": {},
   "source": [
    "![](../header.jpg)\n",
    "\n",
    "# Python Protobuffers\n",
    "\n",
    "Kevin J. Walchko\n",
    "\n",
    "22 Mar 2020\n",
    "\n",
    "---\n",
    "\n",
    "Install python module: `pip install protobuf`\n",
    "\n",
    "However, you won't actually import that library directly, it will be\n",
    "done behind the scenes.\n",
    "\n",
    "You will need access to `protoc` to create the proper libraries from\n",
    "schemas. On Ubuntu you can do: \n",
    "\n",
    "```\n",
    "sudo apt install libprotobuf-dev protobuf-compiler\n",
    "```\n",
    "\n",
    "There is another way to get `protoc`, you can install it via the gRPC\n",
    "tools: `pip install grpcio-tools`. I have not done this. However, once\n",
    "you install them, you can make a alias to the actual tool: \n",
    "`alias protoc='python -m grpc_tools.protoc'`\n",
    "\n",
    "**WARNING:** If you make changes to the protobuf and recompile it, you\n",
    "should add the following to ensure the library is re-loaded. Otherwise\n",
    "python caches the library and doesn't reload it for efficiency.\n",
    "\n",
    "```\n",
    "%load_ext autoreload\n",
    "%autoreload 2\n",
    "```\n",
    "\n",
    "## References\n",
    "\n",
    "- [Simple python tutorial](https://planspace.org/20170329-protocol_buffers_in_python/)\n",
    "- [google's python documentation](https://developers.google.com/protocol-buffers/docs/pythontutorial)"
   ]
  },
  {
   "cell_type": "code",
   "execution_count": 1,
   "metadata": {},
   "outputs": [
    {
     "name": "stdout",
     "output_type": "stream",
     "text": [
      "syntax = \"proto3\";\n",
      "\n",
      "message Vector {\n",
      "  double x = 1;\n",
      "  double y = 2;\n",
      "  double z = 3;\n",
      "  double timestamp = 4;\n",
      "}"
     ]
    }
   ],
   "source": [
    "!cat vector.proto"
   ]
  },
  {
   "cell_type": "markdown",
   "metadata": {},
   "source": [
    "Now compile with: `protoc --proto_path=./ --python_out=./ vector.proto`\n",
    "\n",
    "A new library should appear that you can import and use: `vector_pb2.py`"
   ]
  },
  {
   "cell_type": "code",
   "execution_count": 2,
   "metadata": {},
   "outputs": [],
   "source": [
    "!protoc --proto_path=./ --python_out=./ vector.proto"
   ]
  },
  {
   "cell_type": "code",
   "execution_count": 3,
   "metadata": {},
   "outputs": [
    {
     "name": "stdout",
     "output_type": "stream",
     "text": [
      "protobuffers.ipynb  __pycache__  vector_pb2.py\tvector.proto\n"
     ]
    }
   ],
   "source": [
    "!ls"
   ]
  },
  {
   "cell_type": "code",
   "execution_count": 4,
   "metadata": {},
   "outputs": [],
   "source": [
    "from vector_pb2 import Vector\n",
    "from datetime import datetime\n",
    "\n",
    "v = Vector()\n",
    "v.x = 1\n",
    "v.y = -0.00002\n",
    "v.z = 3.14\n",
    "v.timestamp = datetime.now().timestamp()"
   ]
  },
  {
   "cell_type": "code",
   "execution_count": 5,
   "metadata": {},
   "outputs": [
    {
     "name": "stdout",
     "output_type": "stream",
     "text": [
      "str[36]: b'\\t\\x00\\x00\\x00\\x00\\x00\\x00\\xf0?\\x11\\xf1h\\xe3\\x88\\xb5\\xf8\\xf4\\xbe\\x19\\x1f\\x85\\xebQ\\xb8\\x1e\\t@!\\x15\\xa8 \\xb14\\xa9\\xd7A'\n"
     ]
    }
   ],
   "source": [
    "s = v.SerializeToString()\n",
    "print(f\"str[{len(s)}]: {s}\")"
   ]
  },
  {
   "cell_type": "code",
   "execution_count": 6,
   "metadata": {},
   "outputs": [
    {
     "name": "stdout",
     "output_type": "stream",
     "text": [
      "x: 1.0\n",
      "y: -2e-05\n",
      "z: 3.14\n",
      "timestamp: 1587860164.510259\n",
      "\n",
      "True\n"
     ]
    }
   ],
   "source": [
    "m = Vector.FromString(s)\n",
    "print(m)\n",
    "print(m == v)"
   ]
  },
  {
   "cell_type": "code",
   "execution_count": null,
   "metadata": {},
   "outputs": [],
   "source": []
  }
 ],
 "metadata": {
  "kernelspec": {
   "display_name": "Python 3 (ipykernel)",
   "language": "python",
   "name": "python3"
  },
  "language_info": {
   "codemirror_mode": {
    "name": "ipython",
    "version": 3
   },
   "file_extension": ".py",
   "mimetype": "text/x-python",
   "name": "python",
   "nbconvert_exporter": "python",
   "pygments_lexer": "ipython3",
   "version": "3.9.10"
  }
 },
 "nbformat": 4,
 "nbformat_minor": 4
}
