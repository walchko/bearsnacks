{
 "cells": [
  {
   "cell_type": "markdown",
   "metadata": {},
   "source": [
    "![](../header.jpg)\n",
    "\n",
    "\n",
    "# Serialization: MsgPack vs Pickle\n",
    "\n",
    "Kevin J. Walchko, Phd\n",
    "\n",
    "23 Feb 2019\n",
    "\n",
    "---"
   ]
  },
  {
   "cell_type": "code",
   "execution_count": 84,
   "metadata": {},
   "outputs": [],
   "source": [
    "import msgpack\n",
    "import pickle\n",
    "import time\n",
    "import timeit\n",
    "from collections import namedtuple\n",
    "\n",
    "class vec_t(namedtuple('vec_t', 'x y z')):\n",
    "    __slots__ = ()\n",
    "\n",
    "    def __new__(cls, x,y,z):\n",
    "        cls.id = 0\n",
    "        return cls.__bases__[0].__new__(cls,x,y,z)\n",
    "\n",
    "class imu_st(namedtuple('imu_st', 'linear_accel angular_vel magnetic_field timestamp')):\n",
    "    \"\"\"\n",
    "    Inertial measurement unit\n",
    "    \"\"\"\n",
    "    __slots__ = ()\n",
    "\n",
    "    def __new__(cls, a, g, m, ts=None):\n",
    "        cls.id = 10\n",
    "        if ts:\n",
    "            return cls.__bases__[0].__new__(cls, a, g, m, ts)\n",
    "        else:\n",
    "            return cls.__bases__[0].__new__(cls, a, g, m, time.time())\n",
    "\n",
    "# data\n",
    "v = vec_t(-1,1000,0.123456)\n",
    "imu = imu_st(v,v,v)\n",
    "\n",
    "# performance function\n",
    "def perf(proto, data):\n",
    "    o = proto.dumps(imu)\n",
    "    sz = len(o)\n",
    "    print(\">> packed len:\", sz, \"bytes\")\n",
    "    print(\">> The same:\",imu == proto.loads(o))\n",
    "#     print(proto.loads(o))\n",
    "    \n",
    "    loops = 100000\n",
    "    start = time.time()\n",
    "    for i in range(loops):\n",
    "        assert(data == proto.loads(proto.dumps(data)))\n",
    "    totaltime = time.time() - start\n",
    "    print(\">> time: {:.2f} sec {} loops: {:.2f} msg/sec bandwidth: {} kb\".format(\n",
    "        totaltime,\n",
    "        loops,\n",
    "        loops/totaltime,\n",
    "        sz*loops/1000)\n",
    "    )"
   ]
  },
  {
   "cell_type": "markdown",
   "metadata": {},
   "source": [
    "# Pickle\n",
    "\n",
    "The pickle module implements binary protocols for serializing and de-serializing a Python object structure. Unfortunately, pickle is **python only**. [ref](https://docs.python.org/3/library/pickle.html)"
   ]
  },
  {
   "cell_type": "code",
   "execution_count": 85,
   "metadata": {},
   "outputs": [
    {
     "name": "stdout",
     "output_type": "stream",
     "text": [
      ">> packed len: 83 bytes\n",
      ">> The same: True\n",
      ">> time: 1.16 sec 100000 loops: 85982.68 msg/sec bandwidth: 8300.0 kb\n"
     ]
    }
   ],
   "source": [
    "perf(pickle, imu)"
   ]
  },
  {
   "cell_type": "markdown",
   "metadata": {},
   "source": [
    "# MsgPack\n",
    "\n",
    "MessagePack is an efficient binary serialization format. MessagePack is also **cross platform**. [ref](https://msgpack.org/index.html)"
   ]
  },
  {
   "cell_type": "code",
   "execution_count": 86,
   "metadata": {},
   "outputs": [],
   "source": [
    "class MsgPack(object):\n",
    "    msgs = {\n",
    "        0: vec_t,\n",
    "        10: imu_st\n",
    "    }\n",
    "\n",
    "    def ext_pack2(self, x):\n",
    "        try:\n",
    "#             return msgpack.ExtType(x.id, msgpack.packb(list(x[:]), default=self.ext_pack2, strict_types=True))\n",
    "            return msgpack.ExtType(x.id, msgpack.packb(x[:], default=self.ext_pack2, strict_types=True))\n",
    "        except:\n",
    "            return x\n",
    "\n",
    "    def ext_unpack2(self, code, data):\n",
    "        if code in self.msgs.keys():\n",
    "            d = msgpack.unpackb(data, ext_hook=self.ext_unpack2, use_list=False,raw=False)\n",
    "            return self.msgs[code](*d)\n",
    "        return msgpack.ExtType(code, data)\n",
    "\n",
    "    def dumps(self, data):\n",
    "        return msgpack.packb(data, use_bin_type=True, strict_types=True,default=self.ext_pack2)\n",
    "\n",
    "    def loads(self, data):\n",
    "        return msgpack.unpackb(data, use_list=False,raw=False, ext_hook=self.ext_unpack2)\n"
   ]
  },
  {
   "cell_type": "code",
   "execution_count": 87,
   "metadata": {},
   "outputs": [
    {
     "name": "stdout",
     "output_type": "stream",
     "text": [
      ">> packed len: 64 bytes\n",
      ">> The same: True\n",
      ">> time: 3.23 sec 100000 loops: 30962.28 msg/sec bandwidth: 6400.0 kb\n"
     ]
    }
   ],
   "source": [
    "perf(mp, imu)"
   ]
  },
  {
   "cell_type": "markdown",
   "metadata": {},
   "source": [
    "# Results\n",
    "\n",
    "**Each time the cells above are run, you will get a slightly different answer**\n",
    "\n",
    "Using the numbers below and using `pickle` as the standard python serialization method, we see `msgpack` is **2.8 times slower** but produces serialized data **23% smaller** than `pickle`. Now this makes sense, you typically get smaller data compression the more time you spend packing it.\n",
    "\n",
    "| Protocol|Msg Size (b)|100k msgs (sec)|Speed (msg/sec)|Bandwidth (kb)|20Hz (kbps)|20Hz (usec)|\n",
    "|---------|------------|----------------|-----------------|----------------|---|---|\n",
    "|`pickle` | 83 | 1.16 | 85,983 | 8300 | 1.66 | 232.60 |\n",
    "|`msgpack`| 64 | 3.24 | 30,227 | 6400 | 1.28 | 661.66 |\n"
   ]
  },
  {
   "cell_type": "code",
   "execution_count": 102,
   "metadata": {},
   "outputs": [
    {
     "name": "stdout",
     "output_type": "stream",
     "text": [
      "speed ratio: 2.82\n",
      "size ratio: 0.77\n",
      "----------------------------------------\n",
      "pickle max (~86k) bw/sec: 7155.17 kbps\n",
      "msgpack max (~30k) bw/sec: 1975.31 kbps\n",
      "----------------------------------------\n",
      "pickle 20Hz: 1.66 kbps   232.60 usec\n",
      "msgpack 20Hz: 1.28 kbps   661.66 usec\n"
     ]
    }
   ],
   "source": [
    "speed = 3.24/1.15\n",
    "size = 64/83\n",
    "\n",
    "print(\"speed ratio: {:.2f}\".format(speed))\n",
    "print(\"size ratio: {:.2f}\".format(size))\n",
    "print('-'*40)\n",
    "# these are for a different number of messages/sec ... meaningless?\n",
    "print(\"pickle max (~86k) bw/sec: {:.2f} kbps\".format(8300/1.16))\n",
    "print(\"msgpack max (~30k) bw/sec: {:.2f} kbps\".format(6400/3.24))\n",
    "print('-'*40)\n",
    "print(\"pickle 20Hz: {:.2f} kbps   {:.2f} usec\".format(83*20/1000, 20/85983*1e6))\n",
    "print(\"msgpack 20Hz: {:.2f} kbps   {:.2f} usec\".format(64*20/1000, 20/30227*1e6))"
   ]
  },
  {
   "cell_type": "code",
   "execution_count": null,
   "metadata": {},
   "outputs": [],
   "source": []
  }
 ],
 "metadata": {
  "kernelspec": {
   "display_name": "Python 3 (ipykernel)",
   "language": "python",
   "name": "python3"
  },
  "language_info": {
   "codemirror_mode": {
    "name": "ipython",
    "version": 3
   },
   "file_extension": ".py",
   "mimetype": "text/x-python",
   "name": "python",
   "nbconvert_exporter": "python",
   "pygments_lexer": "ipython3",
   "version": "3.9.10"
  }
 },
 "nbformat": 4,
 "nbformat_minor": 4
}
