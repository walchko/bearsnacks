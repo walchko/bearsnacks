{
 "cells": [
  {
   "cell_type": "markdown",
   "id": "1ef286b5",
   "metadata": {},
   "source": [
    "![](../header.jpg)\n",
    "\n",
    "# Base64 Encoding\n",
    "\n",
    "Kevin J. Walchko, Phd\n",
    "\n",
    "8 Apr 2021\n",
    "\n",
    "---\n",
    "\n",
    "Base64 is used to transmit binary data safely as Ascii.\n",
    "\n",
    "- encoding binary into text formats like XML\n",
    "- Multipurpose Internet Mail Extensions (MIME), to attach binary to emails"
   ]
  },
  {
   "cell_type": "code",
   "execution_count": 8,
   "id": "adace90b",
   "metadata": {},
   "outputs": [],
   "source": [
    "import base64\n",
    "import numpy as np\n",
    "from matplotlib import pyplot as plt"
   ]
  },
  {
   "cell_type": "code",
   "execution_count": 46,
   "id": "c788760e",
   "metadata": {},
   "outputs": [
    {
     "data": {
      "image/png": "[encoded data removed]",
      "text/plain": [
       "<Figure size 432x288 with 1 Axes>"
      ]
     },
     "metadata": {
      "needs_background": "light"
     },
     "output_type": "display_data"
    }
   ],
   "source": [
    "# create a fake image: img.size = 307200\n",
    "img = np.random.randint(256, size=(5, 5), dtype=np.uint8)\n",
    "plt.imshow(img)\n",
    "plt.title(\"Original Data\");"
   ]
  },
  {
   "cell_type": "code",
   "execution_count": 53,
   "id": "104d7a4f",
   "metadata": {},
   "outputs": [
    {
     "name": "stdout",
     "output_type": "stream",
     "text": [
      "Original: \n",
      "[[ 33 197 110  93  74]\n",
      " [222 105 141  63 135]\n",
      " [139 173  48  73  49]\n",
      " [185 193 248 114 114]\n",
      " [189 106 108  61   6]]\n",
      "\n",
      "Serial bytes: b'!\\xc5n]J\\xdei\\x8d?\\x87\\x8b\\xad0I1\\xb9\\xc1\\xf8rr\\xbdjl=\\x06'\n",
      "\n",
      "B64 encoded: b'IcVuXUreaY0/h4utMEkxucH4cnK9amw9Bg=='\n"
     ]
    }
   ],
   "source": [
    "# reshape the 2x2 array into a serial string of data\n",
    "simg = img.reshape((1, img.size)).ravel().tobytes()\n",
    "print(f\"Original: \\n{img}\\n\")\n",
    "print(f\"Serial bytes: {simg}\\n\")\n",
    "\n",
    "# encode image, len(image_string) = 409600\n",
    "b = base64.b64encode(simg)\n",
    "print(f\"B64 encoded: {b}\")"
   ]
  },
  {
   "cell_type": "code",
   "execution_count": 54,
   "id": "94b1d59f",
   "metadata": {},
   "outputs": [
    {
     "name": "stdout",
     "output_type": "stream",
     "text": [
      "Decoded b64: b'!\\xc5n]J\\xdei\\x8d?\\x87\\x8b\\xad0I1\\xb9\\xc1\\xf8rr\\xbdjl=\\x06'\n"
     ]
    }
   ],
   "source": [
    "oimg = base64.b64decode(b)\n",
    "print(f\"Decoded b64: {oimg}\") # same as serial bytes"
   ]
  },
  {
   "cell_type": "code",
   "execution_count": 51,
   "id": "ad0b4592",
   "metadata": {},
   "outputs": [
    {
     "name": "stdout",
     "output_type": "stream",
     "text": [
      "Numpy array: [ 33 197 110  93  74 222 105 141  63 135 139 173  48  73  49 185 193 248\n",
      " 114 114 189 106 108  61   6]\n",
      "\n",
      "Reshaped numpy array: \n",
      "[[ 33 197 110  93  74]\n",
      " [222 105 141  63 135]\n",
      " [139 173  48  73  49]\n",
      " [185 193 248 114 114]\n",
      " [189 106 108  61   6]]\n"
     ]
    }
   ],
   "source": [
    "# convert bytes to numpy array\n",
    "narray = np.frombuffer(oimg,np.uint8)\n",
    "print(f\"Numpy array: {narray}\\n\")\n",
    "\n",
    "rimg = narray.reshape((5,5))\n",
    "print(f\"Reshaped numpy array: \\n{rimg}\")"
   ]
  },
  {
   "cell_type": "code",
   "execution_count": 52,
   "id": "622a05b5",
   "metadata": {},
   "outputs": [
    {
     "data": {
      "image/png": "[encoded data removed]",
      "text/plain": [
       "<Figure size 432x288 with 1 Axes>"
      ]
     },
     "metadata": {
      "needs_background": "light"
     },
     "output_type": "display_data"
    }
   ],
   "source": [
    "plt.imshow(rimg)\n",
    "plt.title(\"Re-created 2D Numpy Array\");"
   ]
  },
  {
   "cell_type": "code",
   "execution_count": null,
   "id": "1a443d3d",
   "metadata": {},
   "outputs": [],
   "source": []
  }
 ],
 "metadata": {
  "kernelspec": {
   "display_name": "Python 3 (ipykernel)",
   "language": "python",
   "name": "python3"
  },
  "language_info": {
   "codemirror_mode": {
    "name": "ipython",
    "version": 3
   },
   "file_extension": ".py",
   "mimetype": "text/x-python",
   "name": "python",
   "nbconvert_exporter": "python",
   "pygments_lexer": "ipython3",
   "version": "3.9.10"
  }
 },
 "nbformat": 4,
 "nbformat_minor": 5
}
