{
 "cells": [
  {
   "cell_type": "markdown",
   "id": "2e2e424b",
   "metadata": {},
   "source": [
    "![](https://images.pexels.com/photos/3803517/pexels-photo-3803517.jpeg)\n",
    "\n",
    "# Temporary Files and Folders\n",
    "\n",
    "Kevin J. Walchko, Phd\n",
    "\n",
    "8 Apr 2021\n",
    "\n",
    "---\n",
    "\n",
    "Create a simple temp files and folders with `tempfile`.\n",
    "\n",
    "\n",
    "## References\n",
    "\n",
    "- python module of the week: [tempfile examples](https://pymotw.com/2/tempfile/)"
   ]
  },
  {
   "cell_type": "code",
   "execution_count": 1,
   "id": "b4184829",
   "metadata": {},
   "outputs": [],
   "source": [
    "import os\n",
    "import tempfile"
   ]
  },
  {
   "cell_type": "code",
   "execution_count": 2,
   "id": "98c3d510",
   "metadata": {},
   "outputs": [
    {
     "name": "stdout",
     "output_type": "stream",
     "text": [
      "TemporaryFile:\n",
      "temp: <_io.BufferedRandom name=44>\n",
      "temp.name: 44\n",
      "Temp dir: /tmp/tmp2fsl3i3v\n"
     ]
    }
   ],
   "source": [
    "print('TemporaryFile:')\n",
    "temp = tempfile.TemporaryFile()\n",
    "try:\n",
    "    print('temp:', temp)\n",
    "    print('temp.name:', temp.name)\n",
    "finally:\n",
    "    # Automatically cleans up the file\n",
    "    temp.close()\n",
    "\n",
    "directory_name = tempfile.mkdtemp()\n",
    "print('Temp dir:', directory_name)\n",
    "\n",
    "# Clean up the directory yourself\n",
    "os.removedirs(directory_name)"
   ]
  },
  {
   "cell_type": "code",
   "execution_count": null,
   "id": "4452e73c",
   "metadata": {},
   "outputs": [],
   "source": []
  }
 ],
 "metadata": {
  "kernelspec": {
   "display_name": "Python 3 (ipykernel)",
   "language": "python",
   "name": "python3"
  },
  "language_info": {
   "codemirror_mode": {
    "name": "ipython",
    "version": 3
   },
   "file_extension": ".py",
   "mimetype": "text/x-python",
   "name": "python",
   "nbconvert_exporter": "python",
   "pygments_lexer": "ipython3",
   "version": "3.9.6"
  }
 },
 "nbformat": 4,
 "nbformat_minor": 5
}
