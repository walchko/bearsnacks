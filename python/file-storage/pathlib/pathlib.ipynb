{
 "cells": [
  {
   "cell_type": "markdown",
   "id": "2c4a2e0a",
   "metadata": {},
   "source": [
    "![](../header.jpg)\n",
    "\n",
    "# Pathlib\n",
    "\n",
    "Kevin J. Walchko, PhD\n",
    "\n",
    "9 May 2021\n",
    "\n",
    "---\n",
    "\n",
    "`pathlib` has a lot of cool stuff\n",
    "\n",
    "- `Path.parts`\n",
    "- `Path.parents` & `Path.parent`\n",
    "- `Path.name`\n",
    "- `Path.suffixes` & `Path.suffix`\n",
    "- `Path.stem`\n",
    "- `Path.is_absolute`\n",
    "- `Path.joinpath(*other)`\n",
    "- `Path.cwd()`\n",
    "- `Path.home()`\n",
    "- `Path.exists()`\n",
    "- `Path.expanduser()`\n",
    "- `Path.glob()`\n",
    "- `Path.rglob(pattern)`\n",
    "- `Path.is_dir()`\n",
    "- `Path.is_file()`\n",
    "- `Path.is_absolute()`\n",
    "- `Path.iterdir()`\n",
    "- `Path.mkdir(mode=0o777, parents=False, exist_ok=False)`\n",
    "- `Path.open(mode=’r’, buffering=-1, encoding=None, errors=None, newline=None)`\n",
    "- `Path.rename(target)`\n",
    "- `Path.replace(target)`\n",
    "- `Path.resolve(strict=False)`\n",
    "- `Path.rmdir()`\n",
    "\n",
    "## References\n",
    "\n",
    "- python docs: [pathlib](https://docs.python.org/3/library/pathlib.html)\n",
    "- more [pathlib examples](https://rednafi.github.io/digressions/python/2020/04/13/python-pathlib.html)"
   ]
  },
  {
   "cell_type": "markdown",
   "id": "108fd4d5-8d20-4037-bb7f-375528915b12",
   "metadata": {},
   "source": [
    "## Paths and Glob"
   ]
  },
  {
   "cell_type": "code",
   "execution_count": 1,
   "id": "ce167680",
   "metadata": {},
   "outputs": [],
   "source": [
    "from pathlib import Path"
   ]
  },
  {
   "cell_type": "code",
   "execution_count": 26,
   "id": "0cfbd015",
   "metadata": {},
   "outputs": [
    {
     "name": "stdout",
     "output_type": "stream",
     "text": [
      "<generator object Path.glob at 0x106410e40>\n"
     ]
    },
    {
     "data": {
      "text/plain": [
       "[PosixPath('files/file2.txt'),\n",
       " PosixPath('files/file3.txt'),\n",
       " PosixPath('files/file1.txt'),\n",
       " PosixPath('files/file12.txt'),\n",
       " PosixPath('files/file13.txt')]"
      ]
     },
     "execution_count": 26,
     "metadata": {},
     "output_type": "execute_result"
    }
   ],
   "source": [
    "# find all text files, BUT they are out of order\n",
    "p = Path(\"./files\").glob(\"*.txt\")\n",
    "print(p)\n",
    "list(p)"
   ]
  },
  {
   "cell_type": "code",
   "execution_count": 20,
   "id": "2011ca8c",
   "metadata": {},
   "outputs": [
    {
     "data": {
      "text/plain": [
       "[PosixPath('files/file1.txt'),\n",
       " PosixPath('files/file2.txt'),\n",
       " PosixPath('files/file3.txt'),\n",
       " PosixPath('files/file12.txt'),\n",
       " PosixPath('files/file13.txt')]"
      ]
     },
     "execution_count": 20,
     "metadata": {},
     "output_type": "execute_result"
    }
   ],
   "source": [
    "# Now using sorted, we can put these in order\n",
    "p = Path(\"./files\").glob(\"*.txt\")\n",
    "\n",
    "# cut off \"file\" and return number as int\n",
    "func = lambda f: int(f.stem[4:])\n",
    "\n",
    "list(sorted(p, key=func))"
   ]
  },
  {
   "cell_type": "code",
   "execution_count": 27,
   "id": "fe2eee16-da5d-4932-8533-b2c8038c7cfa",
   "metadata": {},
   "outputs": [
    {
     "data": {
      "text/plain": [
       "[PosixPath('/Users/kevin/github/pull-all.sh')]"
      ]
     },
     "execution_count": 27,
     "metadata": {},
     "output_type": "execute_result"
    }
   ],
   "source": [
    "list(Path.home().joinpath(\"github\").glob(\"*.sh\"))"
   ]
  },
  {
   "cell_type": "code",
   "execution_count": 34,
   "id": "df52e506-2767-40f9-aa7d-3e34fbfddab6",
   "metadata": {},
   "outputs": [
    {
     "data": {
      "text/plain": [
       "('/', 'Users', 'kevin')"
      ]
     },
     "execution_count": 34,
     "metadata": {},
     "output_type": "execute_result"
    }
   ],
   "source": [
    "# drive, root, folder(s)\n",
    "Path.home().parts"
   ]
  },
  {
   "cell_type": "markdown",
   "id": "38c7a22c-a721-435b-8d73-fa5f7d0946e9",
   "metadata": {},
   "source": [
    "## File Types"
   ]
  },
  {
   "cell_type": "code",
   "execution_count": 22,
   "id": "951b106a-4b93-44f4-ad48-6e446dc95536",
   "metadata": {},
   "outputs": [
    {
     "data": {
      "text/plain": [
       "True"
      ]
     },
     "execution_count": 22,
     "metadata": {},
     "output_type": "execute_result"
    }
   ],
   "source": [
    "Path(\"./files\").is_dir()"
   ]
  },
  {
   "cell_type": "code",
   "execution_count": 23,
   "id": "0b133063-b2af-4b29-a2e4-677eff8fa464",
   "metadata": {},
   "outputs": [
    {
     "data": {
      "text/plain": [
       "True"
      ]
     },
     "execution_count": 23,
     "metadata": {},
     "output_type": "execute_result"
    }
   ],
   "source": [
    "Path(\"./files/file1.txt\").is_file()"
   ]
  },
  {
   "cell_type": "code",
   "execution_count": 28,
   "id": "65178e37-63d0-4900-8cdc-6b9be8b4e89e",
   "metadata": {},
   "outputs": [
    {
     "data": {
      "text/plain": [
       "False"
      ]
     },
     "execution_count": 28,
     "metadata": {},
     "output_type": "execute_result"
    }
   ],
   "source": [
    "file_path = Path(\"./files/thisismissing.txt\")\n",
    "file_path.exists()"
   ]
  },
  {
   "cell_type": "markdown",
   "id": "df61745c-1f6f-4f65-a451-9877f5972043",
   "metadata": {},
   "source": [
    "## Reading Files"
   ]
  },
  {
   "cell_type": "code",
   "execution_count": 30,
   "id": "58000f22-3c46-4215-94c3-7b75f0629396",
   "metadata": {},
   "outputs": [
    {
     "name": "stdout",
     "output_type": "stream",
     "text": [
      "['line one\\n', 'line two\\n', 'line three\\n', 'line four\\n', '\\n']\n"
     ]
    }
   ],
   "source": [
    "p = Path('test.txt')\n",
    "with p.open() as f:\n",
    "    msg = f.readlines()\n",
    "    \n",
    "print(msg)"
   ]
  },
  {
   "cell_type": "code",
   "execution_count": 31,
   "id": "ac4c7989-f6b4-4439-b5a2-5798d5bbc958",
   "metadata": {},
   "outputs": [
    {
     "name": "stdout",
     "output_type": "stream",
     "text": [
      "line one\n",
      "line two\n",
      "line three\n",
      "line four\n",
      "\n",
      "\n"
     ]
    }
   ],
   "source": [
    "p = Path('test.txt')\n",
    "with p.open() as f:\n",
    "    msg = f.read()\n",
    "    \n",
    "print(msg)"
   ]
  },
  {
   "cell_type": "code",
   "execution_count": 33,
   "id": "418b4287-23cb-4d96-b08d-5b99b97bf4d6",
   "metadata": {},
   "outputs": [
    {
     "name": "stdout",
     "output_type": "stream",
     "text": [
      "['line one\\n', 'line two\\n', 'line three\\n', 'line four\\n', '\\n']\n"
     ]
    }
   ],
   "source": [
    "p = Path('test.txt')\n",
    "msg = []\n",
    "with p.open() as f:\n",
    "    for line in f:\n",
    "        msg.append(line)\n",
    "        \n",
    "print(msg)"
   ]
  },
  {
   "cell_type": "code",
   "execution_count": null,
   "id": "65071db5-a08f-4a20-9eb8-99125680e300",
   "metadata": {},
   "outputs": [],
   "source": []
  }
 ],
 "metadata": {
  "kernelspec": {
   "display_name": "Python 3 (ipykernel)",
   "language": "python",
   "name": "python3"
  },
  "language_info": {
   "codemirror_mode": {
    "name": "ipython",
    "version": 3
   },
   "file_extension": ".py",
   "mimetype": "text/x-python",
   "name": "python",
   "nbconvert_exporter": "python",
   "pygments_lexer": "ipython3",
   "version": "3.9.10"
  }
 },
 "nbformat": 4,
 "nbformat_minor": 5
}
