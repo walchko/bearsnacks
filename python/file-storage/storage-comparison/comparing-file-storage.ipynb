{
 "cells": [
  {
   "cell_type": "markdown",
   "metadata": {},
   "source": [
    "![](header.jpg)\n",
    "\n",
    "# Comparing File Storeage\n",
    "\n",
    "Kevin J. Walchko, Phd\n",
    "\n",
    "9 Aug 2017\n",
    "\n",
    "---\n",
    "\n",
    "Ok, this is far from complete, but I was interested in looking at simple protocols like `gzip`, `pickle`, `msgpack`, and classic `json`. Wait, what about XML? I hate parsing XML and it is old ... if you really like ASCII, then use `json`."
   ]
  },
  {
   "cell_type": "code",
   "execution_count": 6,
   "metadata": {},
   "outputs": [],
   "source": [
    "import pickle\n",
    "import gzip\n",
    "import os\n",
    "import simplejson as json\n",
    "import msgpack"
   ]
  },
  {
   "cell_type": "code",
   "execution_count": 7,
   "metadata": {},
   "outputs": [],
   "source": [
    "# create a bunch of data\n",
    "a = {}\n",
    "a['a'] = list(range(10000))\n",
    "a['b'] = list(range(20000))\n",
    "a['c'] = list(range(30000))\n",
    "# a['d'] = bytearray(2000000) # json won't handle binary data"
   ]
  },
  {
   "cell_type": "code",
   "execution_count": 8,
   "metadata": {},
   "outputs": [
    {
     "name": "stdout",
     "output_type": "stream",
     "text": [
      "2.43 ms ± 123 µs per loop (mean ± std. dev. of 7 runs, 100 loops each)\n"
     ]
    }
   ],
   "source": [
    "%%timeit\n",
    "with open(\"data.pickle\", 'wb') as f:\n",
    "    f.write(pickle.dumps(a, pickle.HIGHEST_PROTOCOL))"
   ]
  },
  {
   "cell_type": "code",
   "execution_count": 9,
   "metadata": {},
   "outputs": [
    {
     "name": "stdout",
     "output_type": "stream",
     "text": [
      "8.27 ms ± 457 µs per loop (mean ± std. dev. of 7 runs, 100 loops each)\n"
     ]
    }
   ],
   "source": [
    "%%timeit\n",
    "with gzip.open(\"data.pickle.gz\", 'wb') as f:\n",
    "    f.write(pickle.dumps(a, pickle.HIGHEST_PROTOCOL))"
   ]
  },
  {
   "cell_type": "code",
   "execution_count": 10,
   "metadata": {},
   "outputs": [
    {
     "name": "stdout",
     "output_type": "stream",
     "text": [
      "104 ms ± 3.16 ms per loop (mean ± std. dev. of 7 runs, 10 loops each)\n"
     ]
    }
   ],
   "source": [
    "%%timeit\n",
    "with open(\"data.json\", 'w') as f:\n",
    "    json.dump(a,f)"
   ]
  },
  {
   "cell_type": "code",
   "execution_count": 17,
   "metadata": {},
   "outputs": [
    {
     "name": "stdout",
     "output_type": "stream",
     "text": [
      "53.1 ms ± 6.45 ms per loop (mean ± std. dev. of 7 runs, 10 loops each)\n"
     ]
    }
   ],
   "source": [
    "%%timeit\n",
    "with gzip.open(\"data.json.gz\", 'wb') as f:\n",
    "    f.write(json.dumps(a).encode(\"utf-8\"))"
   ]
  },
  {
   "cell_type": "code",
   "execution_count": 18,
   "metadata": {},
   "outputs": [
    {
     "name": "stdout",
     "output_type": "stream",
     "text": [
      "3.93 ms ± 724 µs per loop (mean ± std. dev. of 7 runs, 100 loops each)\n"
     ]
    }
   ],
   "source": [
    "%%timeit\n",
    "with open(\"data.msgpack\", 'wb') as f:\n",
    "    f.write(msgpack.packb(a, use_bin_type=True))"
   ]
  },
  {
   "cell_type": "code",
   "execution_count": 19,
   "metadata": {},
   "outputs": [
    {
     "name": "stdout",
     "output_type": "stream",
     "text": [
      "Pickle: 175 kb\n",
      "Pickle gzip: 103 kb\n",
      "Json: 377 kb\n",
      "Json gzip: 130 kb\n",
      "Msgpack: 174 kb\n"
     ]
    }
   ],
   "source": [
    "print(f\"Pickle: {os.path.getsize('data.pickle')//1024} kb\")\n",
    "print(f\"Pickle gzip: {os.path.getsize('data.pickle.gz')//1024} kb\")\n",
    "print(f\"Json: {os.path.getsize('data.json')//1024} kb\")\n",
    "print(f\"Json gzip: {os.path.getsize('data.json.gz')//1024} kb\")\n",
    "print(f\"Msgpack: {os.path.getsize('data.msgpack')//1024} kb\")"
   ]
  },
  {
   "cell_type": "markdown",
   "metadata": {},
   "source": [
    "So best (smallest/fastest) is `pickle` while worst (largest/slowest) is `json`. `msgpack` came close to `pickle` but it has the issue of not handling both `lists` and `tuples` at the same time (you have to pick one) while `pickle` handles anything.\n",
    "\n",
    "| Protocol | Size (kb) | Time (ms) | Cross Platform |\n",
    "|----------|-----------|-----------|----------------|\n",
    "| json     | 377       | 104       | x |\n",
    "| json-gz  | 130       | 53.1      | x |\n",
    "| pickle   | 175       | 2.4       | |\n",
    "| pickle-gz| 103       | 8.2       | |\n",
    "| msgpack  | 174       | 4         | x |\n",
    "\n",
    "**Not:** re-running the above will give small changes in times due to computer OS"
   ]
  },
  {
   "cell_type": "code",
   "execution_count": null,
   "metadata": {},
   "outputs": [],
   "source": []
  }
 ],
 "metadata": {
  "kernelspec": {
   "display_name": "Python 3 (ipykernel)",
   "language": "python",
   "name": "python3"
  },
  "language_info": {
   "codemirror_mode": {
    "name": "ipython",
    "version": 3
   },
   "file_extension": ".py",
   "mimetype": "text/x-python",
   "name": "python",
   "nbconvert_exporter": "python",
   "pygments_lexer": "ipython3",
   "version": "3.9.10"
  }
 },
 "nbformat": 4,
 "nbformat_minor": 4
}
