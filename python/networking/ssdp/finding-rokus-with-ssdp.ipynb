{
 "cells": [
  {
   "cell_type": "markdown",
   "id": "530cb653",
   "metadata": {},
   "source": [
    "![](https://images.pexels.com/photos/1194713/pexels-photo-1194713.jpeg)\n",
    "\n",
    "# Using SSDP to Find Rokus on a Network\n",
    "\n",
    "Kevin Walchko, Phd\n",
    "\n",
    "8 Apr 2021\n",
    "\n",
    "---\n",
    "\n",
    "The Simple Service Discovery Protocol (SSDP) is a network protocol based on the Internet Protocol Suite for advertisement and discovery of network services and presence information. It accomplishes this without assistance of server-based configuration mechanisms, such as DHCP or DNS, and without special static configuration of a network host. SSDP is the basis of the discovery protocol of Universal Plug and Play (UPnP) and is intended for use in residential or small office environments. It was formally described in an IETF Internet draft by Microsoft and Hewlett-Packard in 1999. Although the IETF proposal has since expired (April, 2000), SSDP was incorporated into the UPnP protocol stack, and a description of the final implementation is included in UPnP standards documents."
   ]
  },
  {
   "cell_type": "code",
   "execution_count": 34,
   "id": "7fc61105",
   "metadata": {},
   "outputs": [],
   "source": [
    "import socket\n",
    "import http\n",
    "from io import StringIO, BytesIO\n",
    "from colorama import Fore"
   ]
  },
  {
   "cell_type": "code",
   "execution_count": 39,
   "id": "f7a16270",
   "metadata": {},
   "outputs": [],
   "source": [
    "# Modified version of Dan Krause (2014) example for Python3\n",
    "# Licensed under the Apache License, Version 2.0 (the \"License\");\n",
    "class SSDPResponse(object):\n",
    "    class _FakeSocket(BytesIO):\n",
    "        def makefile(self, *args, **kw):\n",
    "            return self\n",
    "    def __init__(self, response):\n",
    "        r = http.client.HTTPResponse(self._FakeSocket(response))\n",
    "        r.begin()\n",
    "        self.location = r.getheader(\"location\") # host\n",
    "        self.usn = r.getheader(\"usn\")           # uuid\n",
    "        self.st = r.getheader(\"st\")             # service\n",
    "        self.cache = r.getheader(\"cache-control\").split(\"=\")[1]\n",
    "\n",
    "def discover(service, timeout=5, retries=1, mx=3):\n",
    "    # Roku's use a defined multicast address and port \n",
    "    group = (\"239.255.255.250\", 1900)\n",
    "    \n",
    "    # standard message to find them\n",
    "    message = \"\\r\\n\".join([\n",
    "        'M-SEARCH * HTTP/1.1',\n",
    "        f'HOST: {group[0]}:{group[1]}',\n",
    "        'MAN: \"ssdp:discover\"',\n",
    "        f'ST: {service}',\n",
    "        f'MX: {mx}','',''])\n",
    "    \n",
    "    socket.setdefaulttimeout(timeout)\n",
    "    responses = {}\n",
    "    for _ in range(retries):\n",
    "        # create a UDP multicast socket and repeat in this for loop\n",
    "        sock = socket.socket(\n",
    "            socket.AF_INET, \n",
    "            socket.SOCK_DGRAM, \n",
    "            socket.IPPROTO_UDP)\n",
    "        # enable reuse on the socket, so others can use it too\n",
    "        sock.setsockopt(\n",
    "            socket.SOL_SOCKET, \n",
    "            socket.SO_REUSEADDR, \n",
    "            1)\n",
    "        # set the time-to-live for the UDP packet\n",
    "        sock.setsockopt(\n",
    "            socket.IPPROTO_IP, \n",
    "            socket.IP_MULTICAST_TTL, \n",
    "            2)\n",
    "        # broadcast it out to the network\n",
    "        sock.sendto(\n",
    "            message.encode(\"utf-8\"), \n",
    "            group)\n",
    "        \n",
    "        # keep trying to read until the socket timesout\n",
    "        while True:\n",
    "            try:\n",
    "                response = SSDPResponse(sock.recv(1024))\n",
    "                responses[response.location] = response\n",
    "            except socket.timeout:\n",
    "                break\n",
    "    return responses"
   ]
  },
  {
   "cell_type": "code",
   "execution_count": 40,
   "id": "2974afea",
   "metadata": {},
   "outputs": [],
   "source": [
    "resp = discover(\"roku:ecp\")"
   ]
  },
  {
   "cell_type": "code",
   "execution_count": 41,
   "id": "4db4ee32",
   "metadata": {},
   "outputs": [
    {
     "name": "stdout",
     "output_type": "stream",
     "text": [
      "Roku found on: \u001b[34m10.0.1.50\u001b[39m\n",
      "Roku found on: \u001b[34m10.0.1.24\u001b[39m\n",
      "Roku found on: \u001b[34m10.0.1.46\u001b[39m\n",
      "Roku found on: \u001b[34m10.0.1.29\u001b[39m\n"
     ]
    }
   ],
   "source": [
    "for k in resp.keys():\n",
    "    v = k.split(\"//\")[1].split(\":\")[0]\n",
    "    print(f\"Roku found on: {Fore.BLUE}{v}{Fore.RESET}\")\n",
    "    "
   ]
  },
  {
   "cell_type": "code",
   "execution_count": null,
   "id": "5bade733",
   "metadata": {},
   "outputs": [],
   "source": []
  },
  {
   "cell_type": "code",
   "execution_count": null,
   "id": "d323199c",
   "metadata": {},
   "outputs": [],
   "source": []
  }
 ],
 "metadata": {
  "kernelspec": {
   "display_name": "Python 3",
   "language": "python",
   "name": "python3"
  },
  "language_info": {
   "codemirror_mode": {
    "name": "ipython",
    "version": 3
   },
   "file_extension": ".py",
   "mimetype": "text/x-python",
   "name": "python",
   "nbconvert_exporter": "python",
   "pygments_lexer": "ipython3",
   "version": "3.8.5"
  }
 },
 "nbformat": 4,
 "nbformat_minor": 5
}
