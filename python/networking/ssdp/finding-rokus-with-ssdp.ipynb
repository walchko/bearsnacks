{
 "cells": [
  {
   "cell_type": "markdown",
   "id": "530cb653",
   "metadata": {},
   "source": [
    "![](https://images.pexels.com/photos/1194713/pexels-photo-1194713.jpeg)\n",
    "\n",
    "# Using SSDP to Find Rokus on a Network\n",
    "\n",
    "Kevin Walchko, Phd\n",
    "\n",
    "8 Apr 2021\n",
    "\n",
    "---\n",
    "\n",
    "The Simple Service Discovery Protocol (SSDP) is a network protocol based on the Internet Protocol Suite for advertisement and discovery of network services and presence information. It accomplishes this without assistance of server-based configuration mechanisms, such as DHCP or DNS, and without special static configuration of a network host. SSDP is the basis of the discovery protocol of Universal Plug and Play (UPnP) and is intended for use in residential or small office environments. It was formally described in an IETF Internet draft by Microsoft and Hewlett-Packard in 1999. Although the IETF proposal has since expired (April, 2000), SSDP was incorporated into the UPnP protocol stack, and a description of the final implementation is included in UPnP standards documents."
   ]
  },
  {
   "cell_type": "code",
   "execution_count": 1,
   "id": "7fc61105",
   "metadata": {},
   "outputs": [],
   "source": [
    "import socket\n",
    "import http\n",
    "from io import StringIO, BytesIO\n",
    "from colorama import Fore"
   ]
  },
  {
   "cell_type": "code",
   "execution_count": 122,
   "id": "f7a16270",
   "metadata": {},
   "outputs": [],
   "source": [
    "# Modified version of Dan Krause (2014) example for Python3\n",
    "# Licensed under the Apache License, Version 2.0 (the \"License\");\n",
    "class SSDPResponse(object):\n",
    "    class _FakeSocket(BytesIO):\n",
    "        def makefile(self, *args, **kw):\n",
    "            return self\n",
    "    def __init__(self, response):\n",
    "        print(response)\n",
    "        r = http.client.HTTPResponse(self._FakeSocket(response))\n",
    "        r.begin()\n",
    "        self.resp = r\n",
    "        h = r.getheaders()\n",
    "        # print(h)\n",
    "        for (k,v) in h:\n",
    "            # fix keys\n",
    "            k=k.replace('-','_')\n",
    "            k=k.replace('.','_')\n",
    "            setattr(self, k, v)\n",
    "\n",
    "def discover(service, timeout=1, retries=2, mx=1):\n",
    "    # Roku's use a defined multicast address and port \n",
    "    group = (\"239.255.255.250\", 1900)\n",
    "    \n",
    "    # standard message to find them\n",
    "    message = \"\\r\\n\".join([\n",
    "        'M-SEARCH * HTTP/1.1',\n",
    "        f'HOST: {group[0]}:{group[1]}',\n",
    "        'MAN: \"ssdp:discover\"',\n",
    "        f'ST: {service}',\n",
    "        f'MX: {mx}','',''])\n",
    "    \n",
    "    socket.setdefaulttimeout(timeout)\n",
    "    responses = {}\n",
    "    for _ in range(retries):\n",
    "        # create a UDP multicast socket and repeat in this for loop\n",
    "        sock = socket.socket(\n",
    "            socket.AF_INET, \n",
    "            socket.SOCK_DGRAM, \n",
    "            socket.IPPROTO_UDP)\n",
    "        # enable reuse on the socket, so others can use it too\n",
    "        sock.setsockopt(\n",
    "            socket.SOL_SOCKET, \n",
    "            socket.SO_REUSEADDR, \n",
    "            1)\n",
    "        # set the time-to-live for the UDP packet\n",
    "        sock.setsockopt(\n",
    "            socket.IPPROTO_IP, \n",
    "            socket.IP_MULTICAST_TTL, \n",
    "            2)\n",
    "        # broadcast it out to the network\n",
    "        sock.sendto(\n",
    "            message.encode(\"utf-8\"), \n",
    "            group)\n",
    "        \n",
    "        # keep trying to read until the socket timesout\n",
    "        while True:\n",
    "            try:\n",
    "                response = SSDPResponse(sock.recv(1024))\n",
    "                responses[response.USN] = response\n",
    "            except socket.timeout:\n",
    "                break\n",
    "    return responses"
   ]
  },
  {
   "cell_type": "code",
   "execution_count": 129,
   "id": "2974afea",
   "metadata": {},
   "outputs": [
    {
     "name": "stdout",
     "output_type": "stream",
     "text": [
      "b'HTTP/1.1 200 OK\\r\\nCache-Control: max-age=3600\\r\\nST: roku:ecp\\r\\nUSN: uuid:roku:ecp:YG00AE380198\\r\\nExt: \\r\\nServer: Roku/10.5.0 UPnP/1.0 Roku/10.5.0\\r\\nLOCATION: http://10.0.1.101:8060/\\r\\ndevice-group.roku.com: 429ED23BAD44850BC822\\r\\n\\r\\n'\n",
      "b'HTTP/1.1 200 OK\\r\\nCache-Control: max-age=3600\\r\\nST: roku:ecp\\r\\nUSN: uuid:roku:ecp:YG00CM052475\\r\\nExt: \\r\\nServer: Roku/10.5.0 UPnP/1.0 Roku/10.5.0\\r\\nLOCATION: http://10.0.1.24:8060/\\r\\ndevice-group.roku.com: 429ED23BAD44850BC822\\r\\n\\r\\n'\n",
      "b'HTTP/1.1 200 OK\\r\\nCache-Control: max-age=3600\\r\\nST: roku:ecp\\r\\nUSN: uuid:roku:ecp:YG00CM052475\\r\\nExt: \\r\\nServer: Roku/10.5.0 UPnP/1.0 Roku/10.5.0\\r\\nLOCATION: http://10.0.1.24:8060/\\r\\ndevice-group.roku.com: 429ED23BAD44850BC822\\r\\n\\r\\n'\n",
      "b'HTTP/1.1 200 OK\\r\\nCache-Control: max-age=3600\\r\\nST: roku:ecp\\r\\nUSN: uuid:roku:ecp:YG00AE380198\\r\\nExt: \\r\\nServer: Roku/10.5.0 UPnP/1.0 Roku/10.5.0\\r\\nLOCATION: http://10.0.1.101:8060/\\r\\ndevice-group.roku.com: 429ED23BAD44850BC822\\r\\n\\r\\n'\n",
      "{'uuid:roku:ecp:YG00AE380198': <__main__.SSDPResponse object at 0x10ba62f70>, 'uuid:roku:ecp:YG00CM052475': <__main__.SSDPResponse object at 0x10a3ffd60>}\n"
     ]
    }
   ],
   "source": [
    "resp = discover(\"roku:ecp\")\n",
    "print(resp)"
   ]
  },
  {
   "cell_type": "code",
   "execution_count": 124,
   "id": "5bade733",
   "metadata": {},
   "outputs": [
    {
     "name": "stdout",
     "output_type": "stream",
     "text": [
      "Roku found on: uuid:roku:ecp:YG00CM052475\n",
      "\tmax-age=3600\n",
      "\thttp://10.0.1.24:8060/\n",
      "\troku:ecp\n",
      "\tRoku/10.5.0 UPnP/1.0 Roku/10.5.0\n",
      "\tuuid:roku:ecp:YG00CM052475\n",
      "\t429ED23BAD44850BC822\n",
      "Roku found on: uuid:roku:ecp:YG00AE380198\n",
      "\tmax-age=3600\n",
      "\thttp://10.0.1.101:8060/\n",
      "\troku:ecp\n",
      "\tRoku/10.5.0 UPnP/1.0 Roku/10.5.0\n",
      "\tuuid:roku:ecp:YG00AE380198\n",
      "\t429ED23BAD44850BC822\n"
     ]
    }
   ],
   "source": [
    "for k,v in resp.items():\n",
    "    print(f\"Roku found on: {k}\")\n",
    "    # print(f\"  {dir(v)}\")\n",
    "    print(f\"\\t{v.Cache_Control}\")\n",
    "    # print(f\"\\t{v.Ext}\")\n",
    "    print(f\"\\t{v.LOCATION}\")\n",
    "    print(f\"\\t{v.ST}\")\n",
    "    print(f\"\\t{v.Server}\")\n",
    "    print(f\"\\t{v.USN}\")\n",
    "    print(f\"\\t{v.device_group_roku_com}\")\n",
    "    # print(f\"\\t{v.resp}\")"
   ]
  },
  {
   "cell_type": "code",
   "execution_count": null,
   "id": "9d13bd62-7726-4b1a-8f99-4465abb6922e",
   "metadata": {},
   "outputs": [],
   "source": []
  },
  {
   "cell_type": "code",
   "execution_count": null,
   "id": "b00af5ae-2425-48c0-a310-e486ac756678",
   "metadata": {},
   "outputs": [],
   "source": []
  }
 ],
 "metadata": {
  "kernelspec": {
   "display_name": "Python 3 (ipykernel)",
   "language": "python",
   "name": "python3"
  },
  "language_info": {
   "codemirror_mode": {
    "name": "ipython",
    "version": 3
   },
   "file_extension": ".py",
   "mimetype": "text/x-python",
   "name": "python",
   "nbconvert_exporter": "python",
   "pygments_lexer": "ipython3",
   "version": "3.9.10"
  }
 },
 "nbformat": 4,
 "nbformat_minor": 5
}
