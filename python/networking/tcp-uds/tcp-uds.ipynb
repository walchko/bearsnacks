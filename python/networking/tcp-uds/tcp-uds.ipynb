{
 "cells": [
  {
   "cell_type": "markdown",
   "metadata": {},
   "source": [
    "![](header.jpg)\n",
    "\n",
    "\n",
    "# Unix Domain Sockets vs TCP\n",
    "\n",
    "Kevin J. Walchko, Phd\n",
    "\n",
    "---\n",
    "\n",
    "This is inspired by [Myhro Blog](https://blog.myhro.info/2017/01/how-fast-are-unix-domain-sockets)"
   ]
  },
  {
   "cell_type": "code",
   "execution_count": 78,
   "metadata": {},
   "outputs": [],
   "source": [
    "import multiprocessing as mp\n",
    "import socket\n",
    "import time\n",
    "import os"
   ]
  },
  {
   "cell_type": "markdown",
   "metadata": {},
   "source": [
    "# Server and Client\n",
    "\n",
    "Communicating via TCP or UDS is very similar, so here are some functions that create a server and a client. Each takes arguments to determine if communications is via TCP or UDS.\n",
    "\n",
    "- Their address family: `socket.AF_INET` (IP) and `socket.AF_UNIX` (Unix sockets).\n",
    "- To bind a process using `socket.AF_UNIX`, the socket file should be removed and created again if it already exists.\n",
    "- When using `socket.AF_INET`, the `socket.SO_REUSEADDR` flag have to be set in order to avoid `socket.error: [Errno 98] Address already in use` errors that may occur even when the socket is properly closed. This option tells the kernel to reuse the same port if there are connections in the `TIME_WAIT` state.\n",
    "\n",
    "## TCP\n",
    "\n",
    "- allows communications between processes running on different machines\n",
    "- all messages have to pass through the TCP/IP stack, so this should be slower\n",
    "\n",
    "## UDS\n",
    "\n",
    "- since the communications is through a file handler, the processes have to be on the same machine\n",
    "    - I wouldn't use a file associated with a network share, then you are doing some sort of tcp/uds thing"
   ]
  },
  {
   "cell_type": "code",
   "execution_count": 68,
   "metadata": {},
   "outputs": [],
   "source": [
    "def server(e,**kwargs):\n",
    "    AF = kwargs['af']\n",
    "    addr = kwargs['addr']\n",
    "    \n",
    "    duration = 5\n",
    "    end = time.time() + duration\n",
    "\n",
    "    sock = socket.socket(AF, socket.SOCK_STREAM)\n",
    "    sock.setsockopt(socket.SOL_SOCKET, socket.SO_REUSEADDR, 1)\n",
    "    sock.bind(addr)\n",
    "    sock.listen(0)\n",
    "    \n",
    "    print(\"Server ready\")\n",
    "\n",
    "    conn, _ = sock.accept()\n",
    "    \n",
    "    while (time.time() < end) and e.is_set():\n",
    "        conn.send(b'Hello there!')\n",
    "\n",
    "    conn.close()\n",
    "    print('*** Server is done ***')\n",
    "    e.clear()"
   ]
  },
  {
   "cell_type": "code",
   "execution_count": 69,
   "metadata": {},
   "outputs": [],
   "source": [
    "def client(e,**kwargs):\n",
    "    AF = kwargs['af']\n",
    "    addr = kwargs['addr']\n",
    "    msgs = 0\n",
    "\n",
    "    print('Receiving messages...')\n",
    "\n",
    "    sock = socket.socket(AF, socket.SOCK_STREAM)\n",
    "    sock.connect(addr)\n",
    "    \n",
    "    while e.is_set():\n",
    "        data = sock.recv(32)\n",
    "        msgs += 1\n",
    "        \n",
    "    sock.close()\n",
    "\n",
    "    print('Received {} messages.'.format(msgs))"
   ]
  },
  {
   "cell_type": "markdown",
   "metadata": {},
   "source": [
    "# TCP"
   ]
  },
  {
   "cell_type": "code",
   "execution_count": 89,
   "metadata": {},
   "outputs": [
    {
     "name": "stdout",
     "output_type": "stream",
     "text": [
      "host computer: 192.168.86.213\n",
      "Started server[37995]\n",
      "Server ready\n",
      "*** Server is done ***\n"
     ]
    }
   ],
   "source": [
    "event = mp.Event()\n",
    "event.set()\n",
    "\n",
    "host = socket.gethostbyname(socket.gethostname())\n",
    "print(\"host computer: {}\".format(host))\n",
    "\n",
    "kw = {\n",
    "    'af': socket.AF_INET,\n",
    "    'addr': (host, 5000,)\n",
    "}\n",
    "\n",
    "s = mp.Process(target=server, args=(event,), name=\"server\", kwargs=kw)\n",
    "s.start()\n",
    "print('Started {}[{}]'.format(s.name, s.pid))"
   ]
  },
  {
   "cell_type": "code",
   "execution_count": 90,
   "metadata": {},
   "outputs": [
    {
     "name": "stdout",
     "output_type": "stream",
     "text": [
      "Started client[37996]\n",
      "Receiving messages...\n",
      "Received 64492 messages.\n"
     ]
    }
   ],
   "source": [
    "c = mp.Process(target=client, args=(event,), name=\"client\", kwargs=kw)\n",
    "c.start()\n",
    "print('Started {}[{}]'.format(c.name, c.pid))"
   ]
  },
  {
   "cell_type": "code",
   "execution_count": 91,
   "metadata": {},
   "outputs": [
    {
     "name": "stdout",
     "output_type": "stream",
     "text": [
      "server is alive: False\n",
      "client is alive: False\n"
     ]
    }
   ],
   "source": [
    "event.clear()\n",
    "\n",
    "for p in [s, c]:\n",
    "    p.join(0.1)\n",
    "    if p.is_alive():\n",
    "        p.terminate()\n",
    "    print('{} is alive: {}'.format(p.name, p.is_alive()))"
   ]
  },
  {
   "cell_type": "markdown",
   "metadata": {},
   "source": [
    "# UDS"
   ]
  },
  {
   "cell_type": "code",
   "execution_count": 95,
   "metadata": {},
   "outputs": [
    {
     "name": "stdout",
     "output_type": "stream",
     "text": [
      "Started server[37999]\n",
      "Server ready\n",
      "*** Server is done ***\n"
     ]
    }
   ],
   "source": [
    "event.set()\n",
    "\n",
    "kw = {\n",
    "    'af': socket.AF_UNIX,\n",
    "    'addr': '/tmp/uds_test'\n",
    "}\n",
    "\n",
    "# if the file already exists, you will get an address in use error\n",
    "if os.path.exists(kw['addr']):\n",
    "    os.remove(kw['addr'])\n",
    "\n",
    "s = mp.Process(target=server, args=(event,), name=\"server\", kwargs=kw)\n",
    "s.start()\n",
    "print('Started {}[{}]'.format(s.name, s.pid))"
   ]
  },
  {
   "cell_type": "code",
   "execution_count": 96,
   "metadata": {},
   "outputs": [
    {
     "name": "stdout",
     "output_type": "stream",
     "text": [
      "Started client[38000]\n",
      "Receiving messages...\n",
      "Received 95507 messages.\n"
     ]
    }
   ],
   "source": [
    "c = mp.Process(target=client, args=(event,), name=\"client\", kwargs=kw)\n",
    "c.start()\n",
    "print('Started {}[{}]'.format(c.name, c.pid))"
   ]
  },
  {
   "cell_type": "code",
   "execution_count": 97,
   "metadata": {},
   "outputs": [
    {
     "name": "stdout",
     "output_type": "stream",
     "text": [
      "server is alive: False\n",
      "client is alive: False\n"
     ]
    }
   ],
   "source": [
    "event.clear()\n",
    "\n",
    "for p in [s, c]:\n",
    "    p.join(0.1)\n",
    "    if p.is_alive():\n",
    "        p.terminate()\n",
    "    print('{} is alive: {}'.format(p.name, p.is_alive()))"
   ]
  },
  {
   "cell_type": "markdown",
   "metadata": {},
   "source": [
    "# Results\n",
    "\n",
    "These tests seem to be all over the place ... not sure if jupyter is interfering with the execution or not.\n",
    "\n",
    "The original author listed above showed UDS consistantly being twice as fast as TCP."
   ]
  },
  {
   "cell_type": "code",
   "execution_count": null,
   "metadata": {},
   "outputs": [],
   "source": []
  }
 ],
 "metadata": {
  "kernelspec": {
   "display_name": "Python 3 (ipykernel)",
   "language": "python",
   "name": "python3"
  },
  "language_info": {
   "codemirror_mode": {
    "name": "ipython",
    "version": 3
   },
   "file_extension": ".py",
   "mimetype": "text/x-python",
   "name": "python",
   "nbconvert_exporter": "python",
   "pygments_lexer": "ipython3",
   "version": "3.9.10"
  }
 },
 "nbformat": 4,
 "nbformat_minor": 4
}
