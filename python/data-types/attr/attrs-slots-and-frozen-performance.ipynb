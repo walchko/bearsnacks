{
 "cells": [
  {
   "cell_type": "markdown",
   "metadata": {},
   "source": [
    "![](../header.jpg)\n",
    "\n",
    "# Classes with `attr.slots` and `attr.frozen`\n",
    "\n",
    "Kevin J. Walchko\n",
    "\n",
    "25 Apr 2020\n",
    "\n",
    "---\n",
    "\n",
    "After writing a lot of python and classes, `attr` module is *attractive* because\n",
    "it promises the ability to write less and provide some simple things that make\n",
    "`collections.namedtuple` *attractive*.\n",
    "\n",
    "- `slots`: increase memory efficiency of the class\n",
    "- `frozen`: produce an immutable data class like a `namedtuple`\n",
    "\n",
    "This is just me playing around with 2 attractive aspects of `attr`."
   ]
  },
  {
   "cell_type": "markdown",
   "metadata": {},
   "source": [
    "I am going to use `timeit` and save off a few simple runs. The data structure gives me:\n",
    "\n",
    "```python\n",
    "dir(timeit) =>\n",
    "[...\n",
    " 'all_runs',\n",
    " 'average',\n",
    " 'best',\n",
    " 'compile_time',\n",
    " 'loops',\n",
    " 'repeat',\n",
    " 'stdev',\n",
    " 'timings',\n",
    " 'worst']\n",
    "```"
   ]
  },
  {
   "cell_type": "code",
   "execution_count": 1,
   "metadata": {},
   "outputs": [],
   "source": [
    "import attr\n",
    "from pprint import pprint\n",
    "import pandas as pd"
   ]
  },
  {
   "cell_type": "code",
   "execution_count": 2,
   "metadata": {
    "scrolled": true
   },
   "outputs": [],
   "source": [
    "def go(p=False):\n",
    "    m = (1,2,3,4,5,6)\n",
    "    a = Vec(1,2,3)\n",
    "    for i in a:\n",
    "        x = i + 5\n",
    "    assert a + (1,2,3) == Vec(2,4,6)\n",
    "    assert a + m[3:] == Vec(5,7,9)\n",
    "    assert a.km == (0.001,0.002,0.003)"
   ]
  },
  {
   "cell_type": "code",
   "execution_count": 3,
   "metadata": {},
   "outputs": [],
   "source": [
    "# resets everything\n",
    "results = {}\n",
    "states = [(False, False), (True, False), (False, True), (True, True)]\n",
    "cnt = 0"
   ]
  },
  {
   "cell_type": "code",
   "execution_count": 16,
   "metadata": {},
   "outputs": [
    {
     "name": "stdout",
     "output_type": "stream",
     "text": [
      "4.54 µs ± 47.3 ns per loop (mean ± std. dev. of 7 runs, 100000 loops each)\n",
      "slots: False   frozen: False\n"
     ]
    }
   ],
   "source": [
    "# just run this cell, it will increment through the above cases\n",
    "# and record the results ... do it 4 times\n",
    "s, f = states[cnt]\n",
    "cnt = (cnt + 1)%4\n",
    "\n",
    "@attr.s(slots=s, frozen=f)\n",
    "class Vec:\n",
    "    x=attr.ib()\n",
    "    y=attr.ib()\n",
    "    z=attr.ib()\n",
    "    def __add__(self, b):\n",
    "        if isinstance(b, tuple) and len(b) >= 3:\n",
    "            x = self.x + b[0]\n",
    "            y = self.y + b[1]\n",
    "            z = self.z + b[2]\n",
    "        else:\n",
    "            x = self.x + b.x\n",
    "            y = self.y + b.y\n",
    "            z = self.z + b.z\n",
    "        return Vec(x,y,z)\n",
    "    def __iter__(self):\n",
    "        for i in (self.x, self.y, self.z):\n",
    "            yield i\n",
    "    @property\n",
    "    def km(self):\n",
    "        return (self.x/1000, self.y/1000, self.z/1000)\n",
    "    \n",
    "a = %timeit -o go()\n",
    "print(f\"slots: {s}   frozen: {f}\")\n",
    "results[(s,f)] = (a, Vec(1000,-2.36,33e-19).__sizeof__())\n",
    "go()"
   ]
  },
  {
   "cell_type": "code",
   "execution_count": 17,
   "metadata": {},
   "outputs": [
    {
     "data": {
      "text/plain": [
       "[[False, False, 4.537398820061104, 0.047251657054162614, 32],\n",
       " [True, False, 4.493983608803579, 0.15467765628270982, 48],\n",
       " [False, True, 5.88142144718274, 0.197940296719409, 32],\n",
       " [True, True, 6.071228478519645, 0.03178768713132294, 48]]"
      ]
     },
     "execution_count": 17,
     "metadata": {},
     "output_type": "execute_result"
    }
   ],
   "source": [
    "# build a list of performance\n",
    "# ave = usec\n",
    "# stdev = nsec\n",
    "m = [[s,f,a.average*1e6, a.stdev*1e6, sz] for (s,f),(a,sz) in results.items()]\n",
    "m"
   ]
  },
  {
   "cell_type": "code",
   "execution_count": 18,
   "metadata": {},
   "outputs": [
    {
     "data": {
      "text/html": [
       "<div>\n",
       "<style scoped>\n",
       "    .dataframe tbody tr th:only-of-type {\n",
       "        vertical-align: middle;\n",
       "    }\n",
       "\n",
       "    .dataframe tbody tr th {\n",
       "        vertical-align: top;\n",
       "    }\n",
       "\n",
       "    .dataframe thead th {\n",
       "        text-align: right;\n",
       "    }\n",
       "</style>\n",
       "<table border=\"1\" class=\"dataframe\">\n",
       "  <thead>\n",
       "    <tr style=\"text-align: right;\">\n",
       "      <th></th>\n",
       "      <th>slots</th>\n",
       "      <th>frozen</th>\n",
       "      <th>ave</th>\n",
       "      <th>stdev</th>\n",
       "      <th>size</th>\n",
       "    </tr>\n",
       "  </thead>\n",
       "  <tbody>\n",
       "    <tr>\n",
       "      <th>0</th>\n",
       "      <td>False</td>\n",
       "      <td>False</td>\n",
       "      <td>4.537399</td>\n",
       "      <td>0.047252</td>\n",
       "      <td>32</td>\n",
       "    </tr>\n",
       "    <tr>\n",
       "      <th>1</th>\n",
       "      <td>True</td>\n",
       "      <td>False</td>\n",
       "      <td>4.493984</td>\n",
       "      <td>0.154678</td>\n",
       "      <td>48</td>\n",
       "    </tr>\n",
       "    <tr>\n",
       "      <th>2</th>\n",
       "      <td>False</td>\n",
       "      <td>True</td>\n",
       "      <td>5.881421</td>\n",
       "      <td>0.197940</td>\n",
       "      <td>32</td>\n",
       "    </tr>\n",
       "    <tr>\n",
       "      <th>3</th>\n",
       "      <td>True</td>\n",
       "      <td>True</td>\n",
       "      <td>6.071228</td>\n",
       "      <td>0.031788</td>\n",
       "      <td>48</td>\n",
       "    </tr>\n",
       "  </tbody>\n",
       "</table>\n",
       "</div>"
      ],
      "text/plain": [
       "   slots  frozen       ave     stdev  size\n",
       "0  False   False  4.537399  0.047252    32\n",
       "1   True   False  4.493984  0.154678    48\n",
       "2  False    True  5.881421  0.197940    32\n",
       "3   True    True  6.071228  0.031788    48"
      ]
     },
     "execution_count": 18,
     "metadata": {},
     "output_type": "execute_result"
    }
   ],
   "source": [
    "df = pd.DataFrame(m, columns=['slots','frozen','ave','stdev','size'])\n",
    "df.head()"
   ]
  },
  {
   "cell_type": "markdown",
   "metadata": {},
   "source": [
    "Looking at the table, we can say:\n",
    "\n",
    "- `slots` are smaller and `frozen` is bigger\n",
    "- `frozen` `slots` are  big and slow\n",
    "- `slots` by them selves are the fastest\n",
    "- Doing nothing, is really close to the fastest/smallest\n",
    "\n",
    "Baically, `slots` only seem to bring limited performance improvement and `frozen` gives you decent performance at a larger memory foot print. However, **never ever** use `frozen` `slots` ... they suck! "
   ]
  }
 ],
 "metadata": {
  "kernelspec": {
   "display_name": "Python 3 (ipykernel)",
   "language": "python",
   "name": "python3"
  },
  "language_info": {
   "codemirror_mode": {
    "name": "ipython",
    "version": 3
   },
   "file_extension": ".py",
   "mimetype": "text/x-python",
   "name": "python",
   "nbconvert_exporter": "python",
   "pygments_lexer": "ipython3",
   "version": "3.9.10"
  }
 },
 "nbformat": 4,
 "nbformat_minor": 4
}
