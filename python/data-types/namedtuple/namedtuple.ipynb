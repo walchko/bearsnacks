{
 "cells": [
  {
   "cell_type": "markdown",
   "id": "e7f8a886",
   "metadata": {},
   "source": [
    "![](../header.jpg)\n",
    "\n",
    "# Namedtuple\n",
    "\n",
    "Kevin J. Walchko, PhD\n",
    "\n",
    "9 May 2021\n",
    "\n",
    "---\n",
    "\n",
    "`namedtuple` is a great and fast way to build a class that: \n",
    "\n",
    "- indexing like a `tuple` or by attributes\n",
    "- pretty print capability\n",
    "- `frozen` class like a tuple\n",
    "- identifies a either  a `tuple` or its class name\n",
    "- can had default values\n",
    "- fast and light weight\n",
    "- very little code needed to create\n",
    "\n",
    "## `namedtuple`"
   ]
  },
  {
   "cell_type": "code",
   "execution_count": 28,
   "id": "a01a4d38",
   "metadata": {},
   "outputs": [],
   "source": [
    "from collections import namedtuple\n",
    "from colorama import Fore\n",
    "import sys"
   ]
  },
  {
   "cell_type": "code",
   "execution_count": 21,
   "id": "503705b6",
   "metadata": {},
   "outputs": [
    {
     "name": "stdout",
     "output_type": "stream",
     "text": [
      "\u001b[31m** No default values set ** \u001b[39m\n",
      "Bird(color='white', name='dove', size='medium')\n"
     ]
    }
   ],
   "source": [
    "# Simple namedtuple, but you MUST (in this example) set all values\n",
    "Bird = namedtuple(\"Bird\",\"color name size\")\n",
    "\n",
    "try:\n",
    "    bird = Bird() # FAIL, must have values\n",
    "except:\n",
    "    print(f\"{Fore.RED}** No default values set ** {Fore.RESET}\")\n",
    "    bird = Bird(\"white\", \"dove\", \"medium\") \n",
    "    \n",
    "print(bird)"
   ]
  },
  {
   "cell_type": "code",
   "execution_count": 7,
   "id": "e53dff1f",
   "metadata": {},
   "outputs": [
    {
     "name": "stdout",
     "output_type": "stream",
     "text": [
      "Cat(color='orange', name='tabby', size='medium')\n"
     ]
    }
   ],
   "source": [
    "# let's set some default values\n",
    "Cat = namedtuple(\"Cat\",\"color name size\", defaults=(\"orange\", \"tabby\", \"medium\"))\n",
    "\n",
    "try:\n",
    "    cat = Cat() # OK, defaults are setup\n",
    "except:\n",
    "    print(f\"{Fore.RED}** No default values set ... wait not true now ** {Fore.RESET}\")\n",
    "    cat = cat(\"white\", \"tiger\", \"large\") \n",
    "    \n",
    "print(cat)"
   ]
  },
  {
   "cell_type": "code",
   "execution_count": 16,
   "id": "c7334713",
   "metadata": {},
   "outputs": [
    {
     "name": "stdout",
     "output_type": "stream",
     "text": [
      "a == b: False\n",
      "a == a: True  b == b: True\n",
      "type(a): <class '__main__.Bird'>  sizeof: 48\n"
     ]
    }
   ],
   "source": [
    "# Let's test the comparison operator\n",
    "a = Bird(\"green\",\"parrot\",\"small\")\n",
    "b = Bird(\"orange\",\"parrot\",\"large\")\n",
    "print(\"a == b:\", a==b)\n",
    "print(\"a == a:\", a==a, \" b == b:\", b==b)\n",
    "print(\"type(a):\", type(a), \" sizeof:\", a.__sizeof__())"
   ]
  },
  {
   "cell_type": "code",
   "execution_count": 22,
   "id": "22b20b83",
   "metadata": {},
   "outputs": [
    {
     "name": "stdout",
     "output_type": "stream",
     "text": [
      "nPoint(x=10, y=20)\n",
      "p.x = 10 or p[0] = 10\n",
      "<class 'int'> <class 'int'>\n",
      "isinstance(p, tuple): True\n",
      "isinstance(p, nPoint): True\n",
      "isinstance(p, Bird): False\n"
     ]
    }
   ],
   "source": [
    "nPoint = namedtuple(\"nPoint\",\"x y\")\n",
    "p = nPoint(10,20)\n",
    "print(p)\n",
    "\n",
    "print(f\"p.x = {p.x} or p[0] = {p[0]}\")\n",
    "\n",
    "print(type(p.x), type(p.y))\n",
    "\n",
    "print(f\"isinstance(p, tuple): {isinstance(p, tuple)}\")   # works\n",
    "print(f\"isinstance(p, nPoint): {isinstance(p, nPoint)}\") # works\n",
    "print(f\"isinstance(p, Bird): {isinstance(p, Bird)}\")     # won't work"
   ]
  },
  {
   "cell_type": "markdown",
   "id": "7189521d",
   "metadata": {},
   "source": [
    "## `namedtuple` Size\n",
    "\n",
    "Ok, this doesn't work, but this is broken across all of python. For some stupid reason, there is no easy way to figure out how big an object is at runtime ... why? I guess\n",
    "memory consumption isn't important.\n",
    "\n",
    "Here are some ways to fail at this:"
   ]
  },
  {
   "cell_type": "code",
   "execution_count": 25,
   "id": "543d51ef",
   "metadata": {},
   "outputs": [
    {
     "name": "stdout",
     "output_type": "stream",
     "text": [
      "Point sizeof: 40  x.sizeof: 28\n",
      "Bird sizeof: 48\n"
     ]
    }
   ],
   "source": [
    "# Let's look at sizes\n",
    "# ok, this doesn't work ... python doesn't seem to know object sizes. \n",
    "# Probably some kind of pointer thing (cPython) ... whatever :P\n",
    "print(\"Point sizeof:\", p.__sizeof__(), \" x.sizeof:\", p.x.__sizeof__()) # doesn't add up\n",
    "print(\"Bird sizeof:\", bird.__sizeof__())"
   ]
  },
  {
   "cell_type": "code",
   "execution_count": 29,
   "id": "c400ee69",
   "metadata": {},
   "outputs": [
    {
     "data": {
      "text/plain": [
       "56"
      ]
     },
     "execution_count": 29,
     "metadata": {},
     "output_type": "execute_result"
    }
   ],
   "source": [
    "sys.getsizeof(p) # 2 x int(of size 28) = 56 ... ok, but isn't there more?"
   ]
  },
  {
   "cell_type": "code",
   "execution_count": 30,
   "id": "9ad58db2",
   "metadata": {},
   "outputs": [
    {
     "data": {
      "text/plain": [
       "56"
      ]
     },
     "execution_count": 30,
     "metadata": {},
     "output_type": "execute_result"
    }
   ],
   "source": [
    "pp = nPoint(10.0,20.0)\n",
    "sys.getsizeof(pp)"
   ]
  },
  {
   "cell_type": "code",
   "execution_count": 35,
   "id": "72daec39",
   "metadata": {},
   "outputs": [
    {
     "name": "stdout",
     "output_type": "stream",
     "text": [
      "Bird(color='white', name='dove', size='medium')\n",
      "Bird 64\n",
      "parts: 54 53 55\n"
     ]
    }
   ],
   "source": [
    "# this doesn't work either ... crap!\n",
    "print(bird)\n",
    "print(\"Bird\", sys.getsizeof(bird)) \n",
    "print(\"parts:\", sys.getsizeof(bird.color), sys.getsizeof(bird.name), sys.getsizeof(bird.size))"
   ]
  },
  {
   "cell_type": "code",
   "execution_count": null,
   "id": "d8a3fda0",
   "metadata": {},
   "outputs": [],
   "source": []
  }
 ],
 "metadata": {
  "kernelspec": {
   "display_name": "Python 3 (ipykernel)",
   "language": "python",
   "name": "python3"
  },
  "language_info": {
   "codemirror_mode": {
    "name": "ipython",
    "version": 3
   },
   "file_extension": ".py",
   "mimetype": "text/x-python",
   "name": "python",
   "nbconvert_exporter": "python",
   "pygments_lexer": "ipython3",
   "version": "3.9.10"
  }
 },
 "nbformat": 4,
 "nbformat_minor": 5
}
