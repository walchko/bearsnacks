{
 "cells": [
  {
   "cell_type": "markdown",
   "metadata": {},
   "source": [
    "![](../header.jpg)\n",
    "\n",
    "# DataClass\n",
    "\n",
    "Kevin J. Walchko, Phd\n",
    "\n",
    "19 July 2020\n",
    "\n",
    "---\n",
    "\n",
    "`dataclass` compared to other alternatives:\n",
    "\n",
    "- `namedtuple`: is an alternative, but has the issue of\n",
    "    - immutable\n",
    "    - doesn't know what type it is except for type `tuple`\n",
    "    - difficult to add default values (sort of)\n",
    "- `attrs`: have been around a long time and an inspiration with a lot of similarities\n",
    "    - mutable, supports `frozen` also\n",
    "    - not in the standard library, need to do: `pip install attrs`\n",
    "    - supported by python 2.7 and >3.4 \n",
    "- `dataclass`\n",
    "    - mutable but can create `frozen` class\n",
    "    - supported by python >=3.7\n",
    "    - if parent class has a default value, child class *must* have defaults\n",
    "\n",
    "There is a backport of `dataclass` to 3.6, install with: `pip install dataclasses`\n",
    "\n",
    "## References\n",
    "\n",
    "- Python docs: [dataclasses](https://docs.python.org/3/library/dataclasses.html)\n",
    "- Real Python: [dataclasses](https://realpython.com/python-data-classes/)"
   ]
  },
  {
   "cell_type": "markdown",
   "metadata": {},
   "source": [
    "# `dataclass`"
   ]
  },
  {
   "cell_type": "code",
   "execution_count": 33,
   "metadata": {},
   "outputs": [],
   "source": [
    "from dataclasses import dataclass, field\n",
    "from dataclasses import asdict, astuple\n",
    "from dataclasses import InitVar\n",
    "import time"
   ]
  },
  {
   "cell_type": "code",
   "execution_count": 34,
   "metadata": {},
   "outputs": [
    {
     "name": "stdout",
     "output_type": "stream",
     "text": [
      "C(a=1, b=0)\n"
     ]
    }
   ],
   "source": [
    "@dataclass\n",
    "class C:\n",
    "    a: int       # 'a' has no default value\n",
    "    b: int = 0   # assign a default value for 'b'\n",
    "        \n",
    "c = C(1)\n",
    "print(c)"
   ]
  },
  {
   "cell_type": "code",
   "execution_count": 35,
   "metadata": {},
   "outputs": [],
   "source": [
    "@dataclass\n",
    "class Point:\n",
    "    x: int\n",
    "    y: int"
   ]
  },
  {
   "cell_type": "code",
   "execution_count": 45,
   "metadata": {},
   "outputs": [
    {
     "name": "stdout",
     "output_type": "stream",
     "text": [
      "Point(x=10, y=20)\n",
      "32\n",
      "<class 'int'> <class 'int'>\n",
      "{'x': 10, 'y': 20}\n"
     ]
    }
   ],
   "source": [
    "p = Point(10, 20)\n",
    "print(p)\n",
    "print(p.__sizeof__()) # always 32\n",
    "print(type(p.x), type(p.y))\n",
    "print(asdict(p))\n",
    "\n",
    "# represent objects as dicts or tuples\n",
    "assert asdict(p) == {'x': 10, 'y': 20}\n",
    "assert astuple(p) == (10, 20)"
   ]
  },
  {
   "cell_type": "code",
   "execution_count": 37,
   "metadata": {},
   "outputs": [
    {
     "name": "stdout",
     "output_type": "stream",
     "text": [
      "(10, 20)\n",
      "Point(x=10, y=20)\n"
     ]
    }
   ],
   "source": [
    "pp = astuple(p)\n",
    "print(pp)\n",
    "ppp = Point(*pp)\n",
    "print(ppp)"
   ]
  },
  {
   "cell_type": "code",
   "execution_count": 6,
   "metadata": {},
   "outputs": [
    {
     "name": "stdout",
     "output_type": "stream",
     "text": [
      "CircleArea(r=3, pi=3.14)\n",
      "28.26\n"
     ]
    }
   ],
   "source": [
    "@dataclass\n",
    "class CircleArea:\n",
    "    r: int\n",
    "    pi: float = 3.14\n",
    "\n",
    "    @property\n",
    "    def area(self):\n",
    "        return self.pi * (self.r ** 2)\n",
    "    \n",
    "cir = CircleArea(3)\n",
    "print(cir)\n",
    "print(cir.area)"
   ]
  },
  {
   "cell_type": "markdown",
   "metadata": {},
   "source": [
    "## Inheritance"
   ]
  },
  {
   "cell_type": "code",
   "execution_count": 7,
   "metadata": {},
   "outputs": [
    {
     "name": "stdout",
     "output_type": "stream",
     "text": [
      "H(x=15, y=0, z=10)\n",
      "H(x=15, y=22, z=5)\n"
     ]
    }
   ],
   "source": [
    "from typing import Any\n",
    "\n",
    "@dataclass\n",
    "class Base:\n",
    "    x: Any = 15.0\n",
    "    y: int = 0\n",
    "\n",
    "@dataclass\n",
    "class H(Base):\n",
    "    z: int = 10\n",
    "    x: int = 15\n",
    "        \n",
    "h = H()\n",
    "print(h)\n",
    "\n",
    "# order is base, then derived\n",
    "# H(x,y,z)\n",
    "hh = H(15,22,5)\n",
    "print(hh)"
   ]
  },
  {
   "cell_type": "code",
   "execution_count": 23,
   "metadata": {},
   "outputs": [
    {
     "name": "stdout",
     "output_type": "stream",
     "text": [
      "FAIL here!\n"
     ]
    }
   ],
   "source": [
    "@dataclass\n",
    "class Position:\n",
    "    name: str\n",
    "    lon: float = 0.0\n",
    "    lat: float = 0.0\n",
    "\n",
    "try:\n",
    "    @dataclass\n",
    "    class Capital(Position):\n",
    "        country: str # this will FAIL, no default\n",
    "except:\n",
    "    print(\"FAIL here ... this needs a default param!\")\n",
    "        \n",
    "# the constructor would look like this ... FAIL, need a default after other defaults\n",
    "@dataclass\n",
    "class Capital(Position):\n",
    "    def __init__(self, name: str, lon: float, lat: float, country: str):\n",
    "        pass"
   ]
  },
  {
   "cell_type": "code",
   "execution_count": 15,
   "metadata": {},
   "outputs": [
    {
     "name": "stdout",
     "output_type": "stream",
     "text": [
      "Position(name='here', lon=1.1, lat=2.2)\n"
     ]
    },
    {
     "ename": "AttributeError",
     "evalue": "'Capital' object has no attribute 'name'",
     "output_type": "error",
     "traceback": [
      "\u001b[0;31m---------------------------------------------------------------------------\u001b[0m",
      "\u001b[0;31mAttributeError\u001b[0m                            Traceback (most recent call last)",
      "\u001b[0;32m<ipython-input-15-43cc0f5d5c5c>\u001b[0m in \u001b[0;36m<module>\u001b[0;34m\u001b[0m\n\u001b[1;32m      3\u001b[0m \u001b[0;34m\u001b[0m\u001b[0m\n\u001b[1;32m      4\u001b[0m \u001b[0mcap\u001b[0m \u001b[0;34m=\u001b[0m \u001b[0mCapital\u001b[0m\u001b[0;34m(\u001b[0m\u001b[0;34m\"seatle\"\u001b[0m\u001b[0;34m,\u001b[0m\u001b[0;36m1.1\u001b[0m\u001b[0;34m,\u001b[0m\u001b[0;36m2.2\u001b[0m\u001b[0;34m,\u001b[0m\u001b[0;34m\"usa\"\u001b[0m\u001b[0;34m)\u001b[0m\u001b[0;34m\u001b[0m\u001b[0;34m\u001b[0m\u001b[0m\n\u001b[0;32m----> 5\u001b[0;31m \u001b[0mprint\u001b[0m\u001b[0;34m(\u001b[0m\u001b[0mcap\u001b[0m\u001b[0;34m)\u001b[0m\u001b[0;34m\u001b[0m\u001b[0;34m\u001b[0m\u001b[0m\n\u001b[0m",
      "\u001b[0;32m/usr/local/Cellar/python@3.9/3.9.4/Frameworks/Python.framework/Versions/3.9/lib/python3.9/dataclasses.py\u001b[0m in \u001b[0;36mwrapper\u001b[0;34m(self)\u001b[0m\n\u001b[1;32m    368\u001b[0m         \u001b[0mrepr_running\u001b[0m\u001b[0;34m.\u001b[0m\u001b[0madd\u001b[0m\u001b[0;34m(\u001b[0m\u001b[0mkey\u001b[0m\u001b[0;34m)\u001b[0m\u001b[0;34m\u001b[0m\u001b[0;34m\u001b[0m\u001b[0m\n\u001b[1;32m    369\u001b[0m         \u001b[0;32mtry\u001b[0m\u001b[0;34m:\u001b[0m\u001b[0;34m\u001b[0m\u001b[0;34m\u001b[0m\u001b[0m\n\u001b[0;32m--> 370\u001b[0;31m             \u001b[0mresult\u001b[0m \u001b[0;34m=\u001b[0m \u001b[0muser_function\u001b[0m\u001b[0;34m(\u001b[0m\u001b[0mself\u001b[0m\u001b[0;34m)\u001b[0m\u001b[0;34m\u001b[0m\u001b[0;34m\u001b[0m\u001b[0m\n\u001b[0m\u001b[1;32m    371\u001b[0m         \u001b[0;32mfinally\u001b[0m\u001b[0;34m:\u001b[0m\u001b[0;34m\u001b[0m\u001b[0;34m\u001b[0m\u001b[0m\n\u001b[1;32m    372\u001b[0m             \u001b[0mrepr_running\u001b[0m\u001b[0;34m.\u001b[0m\u001b[0mdiscard\u001b[0m\u001b[0;34m(\u001b[0m\u001b[0mkey\u001b[0m\u001b[0;34m)\u001b[0m\u001b[0;34m\u001b[0m\u001b[0;34m\u001b[0m\u001b[0m\n",
      "\u001b[0;32m<string>\u001b[0m in \u001b[0;36m__repr__\u001b[0;34m(self)\u001b[0m\n",
      "\u001b[0;31mAttributeError\u001b[0m: 'Capital' object has no attribute 'name'"
     ]
    }
   ],
   "source": [
    "pos = Position(\"here\",1.1,2.2)\n",
    "print(pos)\n",
    "\n",
    "cap = Capital(\"seatle\",1.1,2.2,\"usa\")\n",
    "print(cap)"
   ]
  },
  {
   "cell_type": "markdown",
   "metadata": {},
   "source": [
    "## `field`\n",
    "\n",
    "There are also `fields` for multiple fields and `Field` (not sure why). Additionally, you can add `default_factory` to create things from `list` or do `__post_init__()` to set a class member."
   ]
  },
  {
   "cell_type": "code",
   "execution_count": 48,
   "metadata": {},
   "outputs": [
    {
     "name": "stdout",
     "output_type": "stream",
     "text": [
      "J(x=[1, 2, 3, 4, 5])\n",
      "32 104\n",
      "J(x=[])\n"
     ]
    }
   ],
   "source": [
    "@dataclass\n",
    "class J:\n",
    "    x: list = field(default_factory=list)\n",
    "        \n",
    "j = J([1,2,3,4,5])\n",
    "print(j)\n",
    "print(j.__sizeof__(), j.x.__sizeof__()) # not measuring correctly\n",
    "print(J())"
   ]
  },
  {
   "cell_type": "code",
   "execution_count": 10,
   "metadata": {},
   "outputs": [
    {
     "name": "stdout",
     "output_type": "stream",
     "text": [
      "K(mylist=[1, 2, 3])\n"
     ]
    }
   ],
   "source": [
    "from typing import List\n",
    "\n",
    "@dataclass\n",
    "class K:\n",
    "    mylist: List[int] = field(default_factory=list)\n",
    "\n",
    "k = K()\n",
    "k.mylist += [1, 2, 3]\n",
    "print(k)"
   ]
  },
  {
   "cell_type": "code",
   "execution_count": 11,
   "metadata": {},
   "outputs": [
    {
     "name": "stdout",
     "output_type": "stream",
     "text": [
      "R(a=defaultdict(<class 'list'>, {'bob': [5]}))\n",
      "R(a=defaultdict(<class 'list'>, {'a': [1, 2, 3, 4, 5], 'b': [5]}))\n"
     ]
    }
   ],
   "source": [
    "from collections import defaultdict\n",
    "from typing import DefaultDict\n",
    "\n",
    "@dataclass\n",
    "class R:\n",
    "    a: DefaultDict[str, List] = field(init=False, default_factory=defaultdict)\n",
    "    \n",
    "    def __post_init__(self):\n",
    "        self.a = defaultdict(list)\n",
    "\n",
    "r = R()\n",
    "r.a[\"bob\"].append(5)\n",
    "print(r)\n",
    "\n",
    "# print(R({'a':[1,2,3,4]}))  # FAIL\n",
    "\n",
    "rr = R()\n",
    "rr.a['a'] = [1,2,3,4,5]\n",
    "rr.a[\"b\"].append(5)\n",
    "print(rr)"
   ]
  },
  {
   "cell_type": "code",
   "execution_count": 12,
   "metadata": {},
   "outputs": [
    {
     "name": "stdout",
     "output_type": "stream",
     "text": [
      "F(a=3.1, b=4, c=7.1, ts=1614479851.377162)\n"
     ]
    }
   ],
   "source": [
    "@dataclass\n",
    "class F:\n",
    "    a: float\n",
    "    b: float\n",
    "    c: float = field(init=False)\n",
    "    ts: float = field(init=False, default=time.time())\n",
    "\n",
    "    def __post_init__(self):\n",
    "        self.c = self.a + self.b\n",
    "\n",
    "f = F(3.1,4)\n",
    "print(f)"
   ]
  },
  {
   "cell_type": "code",
   "execution_count": 13,
   "metadata": {},
   "outputs": [
    {
     "name": "stdout",
     "output_type": "stream",
     "text": [
      "D(x=1, t=20)\n",
      "D(x=1, t=4)\n",
      "D(x=1, t=20)\n",
      "2 2 10 20\n"
     ]
    }
   ],
   "source": [
    "@dataclass\n",
    "class D:\n",
    "    x: int\n",
    "    y: int = field(repr=False)\n",
    "    z: int = field(repr=False, default=10)\n",
    "    t: int = 20\n",
    "        \n",
    "print(D(1,2))\n",
    "print(D(1,2,3,4))\n",
    "print(D(1,1))\n",
    "\n",
    "d = D(2,2)\n",
    "print(d.x,d.y,d.z,d.t)"
   ]
  },
  {
   "cell_type": "markdown",
   "metadata": {},
   "source": [
    "## Immutable (Frozen)\n",
    "\n",
    "Not as good as `attr`, has unexpected results"
   ]
  },
  {
   "cell_type": "code",
   "execution_count": 15,
   "metadata": {},
   "outputs": [
    {
     "name": "stdout",
     "output_type": "stream",
     "text": [
      "Position(name='a', lon=1, lat=2)\n"
     ]
    },
    {
     "ename": "FrozenInstanceError",
     "evalue": "cannot assign to field 'lon'",
     "output_type": "error",
     "traceback": [
      "\u001b[0;31m---------------------------------------------------------------------------\u001b[0m",
      "\u001b[0;31mFrozenInstanceError\u001b[0m                       Traceback (most recent call last)",
      "\u001b[0;32m<ipython-input-15-16263b0b0b6c>\u001b[0m in \u001b[0;36m<module>\u001b[0;34m\u001b[0m\n\u001b[1;32m      7\u001b[0m \u001b[0mp\u001b[0m \u001b[0;34m=\u001b[0m \u001b[0mPosition\u001b[0m\u001b[0;34m(\u001b[0m\u001b[0;34m\"a\"\u001b[0m\u001b[0;34m,\u001b[0m\u001b[0;36m1\u001b[0m\u001b[0;34m,\u001b[0m\u001b[0;36m2\u001b[0m\u001b[0;34m)\u001b[0m\u001b[0;34m\u001b[0m\u001b[0;34m\u001b[0m\u001b[0m\n\u001b[1;32m      8\u001b[0m \u001b[0mprint\u001b[0m\u001b[0;34m(\u001b[0m\u001b[0mp\u001b[0m\u001b[0;34m)\u001b[0m\u001b[0;34m\u001b[0m\u001b[0;34m\u001b[0m\u001b[0m\n\u001b[0;32m----> 9\u001b[0;31m \u001b[0mp\u001b[0m\u001b[0;34m.\u001b[0m\u001b[0mlon\u001b[0m \u001b[0;34m=\u001b[0m \u001b[0;36m4\u001b[0m \u001b[0;31m# this will FAIL\u001b[0m\u001b[0;34m\u001b[0m\u001b[0;34m\u001b[0m\u001b[0m\n\u001b[0m",
      "\u001b[0;32m<string>\u001b[0m in \u001b[0;36m__setattr__\u001b[0;34m(self, name, value)\u001b[0m\n",
      "\u001b[0;31mFrozenInstanceError\u001b[0m: cannot assign to field 'lon'"
     ]
    }
   ],
   "source": [
    "@dataclass(frozen=True)\n",
    "class Position:\n",
    "    name: str\n",
    "    lon: float = 0.0\n",
    "    lat: float = 0.0\n",
    "\n",
    "p = Position(\"a\",1,2)\n",
    "print(p)\n",
    "p.lon = 4 # this will FAIL"
   ]
  },
  {
   "cell_type": "code",
   "execution_count": 16,
   "metadata": {},
   "outputs": [
    {
     "name": "stdout",
     "output_type": "stream",
     "text": [
      "Position(name='a', lon=1, lat=2, ww=[])\n",
      "Position(name='a', lon=1, lat=2, ww=[5])\n"
     ]
    },
    {
     "ename": "FrozenInstanceError",
     "evalue": "cannot assign to field 'name'",
     "output_type": "error",
     "traceback": [
      "\u001b[0;31m---------------------------------------------------------------------------\u001b[0m",
      "\u001b[0;31mFrozenInstanceError\u001b[0m                       Traceback (most recent call last)",
      "\u001b[0;32m<ipython-input-16-66a27e0e4bf8>\u001b[0m in \u001b[0;36m<module>\u001b[0;34m\u001b[0m\n\u001b[1;32m     12\u001b[0m \u001b[0mprint\u001b[0m\u001b[0;34m(\u001b[0m\u001b[0mp\u001b[0m\u001b[0;34m)\u001b[0m\u001b[0;34m\u001b[0m\u001b[0;34m\u001b[0m\u001b[0m\n\u001b[1;32m     13\u001b[0m \u001b[0;34m\u001b[0m\u001b[0m\n\u001b[0;32m---> 14\u001b[0;31m \u001b[0mp\u001b[0m\u001b[0;34m.\u001b[0m\u001b[0mname\u001b[0m \u001b[0;34m=\u001b[0m \u001b[0;34m\"bob\"\u001b[0m \u001b[0;31m# this will FAIL\u001b[0m\u001b[0;34m\u001b[0m\u001b[0;34m\u001b[0m\u001b[0m\n\u001b[0m",
      "\u001b[0;32m<string>\u001b[0m in \u001b[0;36m__setattr__\u001b[0;34m(self, name, value)\u001b[0m\n",
      "\u001b[0;31mFrozenInstanceError\u001b[0m: cannot assign to field 'name'"
     ]
    }
   ],
   "source": [
    "@dataclass(frozen=True)\n",
    "class Position:\n",
    "    name: str\n",
    "    lon: float = 0.0\n",
    "    lat: float = 0.0\n",
    "    ww: List[int] = field(default_factory=list)\n",
    "\n",
    "p = Position(\"a\",1,2)\n",
    "print(p)\n",
    "\n",
    "p.ww.append(5)  # expect to FAIL, but PASS ... list isn't immutable\n",
    "print(p)\n",
    "\n",
    "p.name = \"bob\" # this will FAIL"
   ]
  },
  {
   "cell_type": "markdown",
   "metadata": {},
   "source": [
    "## Slots\n",
    "\n",
    "`dataclass` uses a `dict` to store everything, but we can use slots to reduce memory and speed up performance. However, `attr` does it better."
   ]
  },
  {
   "cell_type": "code",
   "execution_count": 17,
   "metadata": {},
   "outputs": [],
   "source": [
    "@dataclass\n",
    "class SimplePosition:\n",
    "    name: str\n",
    "    lon: float\n",
    "    lat: float\n",
    "\n",
    "# WARNING: for some reason, you cannot have default values for slots!!\n",
    "@dataclass\n",
    "class SlotPosition:\n",
    "    __slots__ = ['name', 'lon', 'lat']\n",
    "    name: str\n",
    "    lon: float\n",
    "    lat: float"
   ]
  },
  {
   "cell_type": "code",
   "execution_count": null,
   "metadata": {},
   "outputs": [],
   "source": []
  }
 ],
 "metadata": {
  "kernelspec": {
   "display_name": "Python 3 (ipykernel)",
   "language": "python",
   "name": "python3"
  },
  "language_info": {
   "codemirror_mode": {
    "name": "ipython",
    "version": 3
   },
   "file_extension": ".py",
   "mimetype": "text/x-python",
   "name": "python",
   "nbconvert_exporter": "python",
   "pygments_lexer": "ipython3",
   "version": "3.9.10"
  }
 },
 "nbformat": 4,
 "nbformat_minor": 4
}
