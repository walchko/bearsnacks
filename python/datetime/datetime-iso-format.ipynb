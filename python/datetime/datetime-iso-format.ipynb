{
 "cells": [
  {
   "cell_type": "markdown",
   "id": "5ebece08",
   "metadata": {},
   "source": [
    "\n",
    "![](../header.jpg)\n",
    "\n",
    "# Using ISO 8601 for Dates\n",
    "\n",
    "Kevin J. Walchko, Phd\n",
    "\n",
    "4 Apr 2021\n",
    "\n",
    "---\n",
    "\n",
    "Python allows you to format your dates easily and in an agreed upon\n",
    "way by following the ISO 8601 format.\n",
    "\n",
    "![](https://imgs.xkcd.com/comics/iso_8601.png)\n",
    "\n",
    "# References\n",
    "\n",
    "- Python docs: [datetime](https://docs.python.org/3/library/datetime.html)\n",
    "- stackexchange: [Generating Unique ID's](https://codereview.stackexchange.com/a/141419)\n",
    "- wikipedia: [ISO 8601](https://en.wikipedia.org/wiki/ISO_8601)\n"
   ]
  },
  {
   "cell_type": "code",
   "execution_count": 11,
   "id": "3d4de11e",
   "metadata": {},
   "outputs": [],
   "source": [
    "import datetime as dt\n",
    "import time"
   ]
  },
  {
   "cell_type": "markdown",
   "id": "f8469964",
   "metadata": {},
   "source": [
    "## Date"
   ]
  },
  {
   "cell_type": "code",
   "execution_count": 12,
   "id": "e770de7c",
   "metadata": {},
   "outputs": [
    {
     "name": "stdout",
     "output_type": "stream",
     "text": [
      "From timestamp: 2021-04-08\n",
      "Today: 2021-04-08\n",
      "Today in ISO: 2021-04-08\n"
     ]
    }
   ],
   "source": [
    "print(f\"From timestamp: {dt.date.fromtimestamp(time.time())}\")\n",
    "print(f\"Today: {dt.date.today()}\") # returns same as above at midnight\n",
    "print(f\"Today in ISO: {dt.date.today().isoformat()}\") # same format"
   ]
  },
  {
   "cell_type": "markdown",
   "id": "7718081c",
   "metadata": {},
   "source": [
    "## Datetime"
   ]
  },
  {
   "cell_type": "code",
   "execution_count": 23,
   "id": "da9f3ae3",
   "metadata": {},
   "outputs": [
    {
     "name": "stdout",
     "output_type": "stream",
     "text": [
      "Current timestamp: 1617915647.857592\n",
      "From timestamp: 2021-04-08 17:00:47.857592\n",
      "As struct: time.struct_time(tm_year=2021, tm_mon=4, tm_mday=8, tm_hour=17, tm_min=0, tm_sec=47, tm_wday=3, tm_yday=98, tm_isdst=-1)\n"
     ]
    }
   ],
   "source": [
    "ts = time.time()\n",
    "print(f\"Current timestamp: {ts}\")\n",
    "print(f\"From timestamp: {dt.datetime.fromtimestamp(ts)}\")\n",
    "print(f\"As struct: {dt.datetime.fromtimestamp(ts).timetuple()}\")"
   ]
  },
  {
   "cell_type": "code",
   "execution_count": 17,
   "id": "98e0e04d",
   "metadata": {},
   "outputs": [
    {
     "data": {
      "text/plain": [
       "time.struct_time(tm_year=2021, tm_mon=4, tm_mday=8, tm_hour=16, tm_min=56, tm_sec=2, tm_wday=3, tm_yday=98, tm_isdst=-1)"
      ]
     },
     "execution_count": 17,
     "metadata": {},
     "output_type": "execute_result"
    }
   ],
   "source": [
    "# put current date/time into a tuple\n",
    "dt.datetime.now().timetuple()"
   ]
  },
  {
   "cell_type": "code",
   "execution_count": 28,
   "id": "f57697cb",
   "metadata": {},
   "outputs": [
    {
     "data": {
      "text/plain": [
       "time.struct_time(tm_year=2021, tm_mon=4, tm_mday=8, tm_hour=21, tm_min=9, tm_sec=56, tm_wday=3, tm_yday=98, tm_isdst=-1)"
      ]
     },
     "execution_count": 28,
     "metadata": {},
     "output_type": "execute_result"
    }
   ],
   "source": [
    "# put current UTC date/time into a tuple\n",
    "dt.datetime.utcnow().timetuple()"
   ]
  },
  {
   "cell_type": "markdown",
   "id": "b7ec84ff",
   "metadata": {},
   "source": [
    "## File Names"
   ]
  },
  {
   "cell_type": "code",
   "execution_count": 30,
   "id": "a7286da1",
   "metadata": {},
   "outputs": [
    {
     "name": "stdout",
     "output_type": "stream",
     "text": [
      "temp-file-2021-04-08-17:11:19.058637\n"
     ]
    }
   ],
   "source": [
    "print(f\"temp file {dt.datetime.now()}\".replace(\" \", \"-\"))"
   ]
  },
  {
   "cell_type": "code",
   "execution_count": null,
   "id": "5472bc1d",
   "metadata": {},
   "outputs": [],
   "source": []
  }
 ],
 "metadata": {
  "kernelspec": {
   "display_name": "Python 3 (ipykernel)",
   "language": "python",
   "name": "python3"
  },
  "language_info": {
   "codemirror_mode": {
    "name": "ipython",
    "version": 3
   },
   "file_extension": ".py",
   "mimetype": "text/x-python",
   "name": "python",
   "nbconvert_exporter": "python",
   "pygments_lexer": "ipython3",
   "version": "3.9.10"
  }
 },
 "nbformat": 4,
 "nbformat_minor": 5
}
