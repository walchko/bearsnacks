{
 "cells": [
  {
   "cell_type": "markdown",
   "metadata": {},
   "source": [
    "![](../header.jpg)\n",
    "\n",
    "# Sparkline\n",
    "\n",
    "Kevin J. Walchko\n",
    "\n",
    "23 Apr 2020\n",
    "\n",
    "---\n",
    "\n",
    "This is just playing around with unicode characters for fun!"
   ]
  },
  {
   "cell_type": "code",
   "execution_count": 1,
   "metadata": {},
   "outputs": [],
   "source": [
    "import time\n",
    "from colorama import Fore\n",
    "\n",
    "# https://www.unicode.org/charts/"
   ]
  },
  {
   "cell_type": "code",
   "execution_count": 43,
   "metadata": {},
   "outputs": [
    {
     "name": "stdout",
     "output_type": "stream",
     "text": [
      "█████████\r"
     ]
    }
   ],
   "source": [
    "for i in range(1,10):\n",
    "    d = [chr(0x2588)]*i\n",
    "    print(''.join(d[:i]), end='\\r', flush=True)\n",
    "    time.sleep(0.5)"
   ]
  },
  {
   "cell_type": "code",
   "execution_count": 44,
   "metadata": {},
   "outputs": [
    {
     "name": "stdout",
     "output_type": "stream",
     "text": [
      "█\n"
     ]
    }
   ],
   "source": [
    "c = chr(0x2588)\n",
    "print(c)"
   ]
  },
  {
   "cell_type": "code",
   "execution_count": 45,
   "metadata": {},
   "outputs": [
    {
     "name": "stdout",
     "output_type": "stream",
     "text": [
      "😀 ☠ ☢ ♖\n"
     ]
    }
   ],
   "source": [
    "print(chr(0x1F600), chr(0x2620), chr(0x2622),chr(0x2656))"
   ]
  },
  {
   "cell_type": "code",
   "execution_count": 3,
   "metadata": {},
   "outputs": [
    {
     "name": "stdout",
     "output_type": "stream",
     "text": [
      "🀀🀁🀂🀃🀄🀅🀆🀇🀈🀉🀊🀋🀌🀍🀎🀏🀐🀑🀒🀓🀔🀕🀖🀗🀘🀙🀚🀛🀜🀝🀞🀟🀠🀡🀢🀣🀤🀥🀦🀧🀨🀩\r"
     ]
    }
   ],
   "source": [
    "for i in range(1,43):\n",
    "    print(''.join(b[:i]), end='\\r', flush=True)\n",
    "    time.sleep(0.5)"
   ]
  },
  {
   "cell_type": "code",
   "execution_count": 42,
   "metadata": {},
   "outputs": [
    {
     "name": "stdout",
     "output_type": "stream",
     "text": [
      "   100% ⬗⬗⬗⬗⬗⬗⬗⬗⬗⬗⬗⬗⬗⬗⬗⬗⬗⬗⬗⬗▏\r"
     ]
    }
   ],
   "source": [
    "# bar = 0x2589\n",
    "# bar = 0x2622\n",
    "# bar = 0x2656\n",
    "# bar = 0x263A # smile\n",
    "bar = 0x2B17# diamond\n",
    "# bar = 0x2BC5\n",
    "bars = 20\n",
    "for i in range(1,bars+1):\n",
    "    d = [chr(bar)]*i\n",
    "    p = int(100*i/bars)\n",
    "    blank = [' ']*(bars-i)\n",
    "    sprites = d[:i] + blank + [chr(0x258F)]\n",
    "#     print(Fore.RED,f\"{p:>6}%\", ''.join(sprites), Fore.RESET, end='\\r', flush=True)\n",
    "    print(f\"{p:>6}%\", ''.join(sprites), end='\\r', flush=True)\n",
    "    time.sleep(0.5)"
   ]
  },
  {
   "cell_type": "code",
   "execution_count": 9,
   "metadata": {},
   "outputs": [
    {
     "name": "stdout",
     "output_type": "stream",
     "text": [
      "   100% ▟\r"
     ]
    }
   ],
   "source": [
    "mm = 20\n",
    "for i in range(mm+1):\n",
    "    p = int(100*i/mm)\n",
    "    print(f\"{p:>6}%\", chr(0x2596 + i%11), end='\\r', flush=True)\n",
    "    time.sleep(0.25)"
   ]
  },
  {
   "cell_type": "code",
   "execution_count": 47,
   "metadata": {},
   "outputs": [
    {
     "name": "stdout",
     "output_type": "stream",
     "text": [
      "⬆\r"
     ]
    }
   ],
   "source": [
    "for i in range(20):\n",
    "    print(chr(0x2B05 + i%9), end='\\r', flush=True)\n",
    "    time.sleep(0.25)"
   ]
  },
  {
   "cell_type": "code",
   "execution_count": 48,
   "metadata": {},
   "outputs": [
    {
     "name": "stdout",
     "output_type": "stream",
     "text": [
      "⬕\r"
     ]
    }
   ],
   "source": [
    "for i in range(20):\n",
    "    print(chr(0x2B12 + i%8), end='\\r', flush=True)\n",
    "    time.sleep(0.25)"
   ]
  },
  {
   "cell_type": "code",
   "execution_count": 8,
   "metadata": {},
   "outputs": [
    {
     "data": {
      "text/plain": [
       "['▖', '▗', '▘', '▙', '▚', '▛', '▜', '▝', '▞', '▟', '■', '□']"
      ]
     },
     "execution_count": 8,
     "metadata": {},
     "output_type": "execute_result"
    }
   ],
   "source": [
    "[chr(0x2596 + i) for i in range(12)]"
   ]
  },
  {
   "cell_type": "code",
   "execution_count": 41,
   "metadata": {},
   "outputs": [
    {
     "name": "stdout",
     "output_type": "stream",
     "text": [
      "■\r"
     ]
    }
   ],
   "source": [
    "ii = [0,1,7,2,4,3,4,6,8,9,8,5,10]\n",
    "mm = len(ii)\n",
    "for cnt,i in enumerate(ii):\n",
    "#     p = int(100*(cnt+1)/mm)\n",
    "    print(chr(0x2596 + i%mm), end='\\r', flush=True)\n",
    "    time.sleep(0.5)"
   ]
  },
  {
   "cell_type": "code",
   "execution_count": 20,
   "metadata": {},
   "outputs": [
    {
     "data": {
      "text/plain": [
       "['▖', '▗', '▝', '▘', '▚', '▙', '▚', '▜', '▞', '▟', '▞', '▛', '■']"
      ]
     },
     "execution_count": 20,
     "metadata": {},
     "output_type": "execute_result"
    }
   ],
   "source": [
    "[chr(0x2596 + i) for i in [0,1,7,2,4,3,4,6,8,9,8,5,10]]"
   ]
  },
  {
   "cell_type": "code",
   "execution_count": null,
   "metadata": {},
   "outputs": [],
   "source": []
  }
 ],
 "metadata": {
  "kernelspec": {
   "display_name": "Python 3 (ipykernel)",
   "language": "python",
   "name": "python3"
  },
  "language_info": {
   "codemirror_mode": {
    "name": "ipython",
    "version": 3
   },
   "file_extension": ".py",
   "mimetype": "text/x-python",
   "name": "python",
   "nbconvert_exporter": "python",
   "pygments_lexer": "ipython3",
   "version": "3.9.10"
  }
 },
 "nbformat": 4,
 "nbformat_minor": 4
}
