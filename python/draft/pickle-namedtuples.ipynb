{
 "cells": [
  {
   "cell_type": "code",
   "execution_count": 1,
   "id": "8c5dc271-3102-457a-85a6-2fe33aef5fca",
   "metadata": {},
   "outputs": [],
   "source": [
    "from pathlib import Path\n",
    "import gzip\n",
    "import pickle\n",
    "\n",
    "\n",
    "def compression(path):\n",
    "    \"\"\"\n",
    "    Based on filename, is compression being used?\n",
    "    \"\"\"\n",
    "    compress = None\n",
    "    ext = path.suffix\n",
    "    if ext == \".gz\":\n",
    "        compress = True\n",
    "    elif ext == \".pkl\":\n",
    "        compress = False\n",
    "    else:\n",
    "        raise Exception(f\"invalid file extension [{ext}], must be .dil or .dil.gz\")\n",
    "\n",
    "    return compress\n",
    "\n",
    "def write(info, data, fname, compressionlevel=3):\n",
    "    \"\"\"\n",
    "    Stores data in a binary file using dill. This is better than pickle when\n",
    "    using namedtuples to store data.\n",
    "    info: dict holding sensor info/settings\n",
    "    data: sensor data, [{},{},...,{}]\n",
    "    fname: file name, file extension: *.dil=uncompressess, *.dil.gz=compressed\n",
    "    compressionlevel: [low,fastest] 1-9 [highest,slowest]\n",
    "    \"\"\"\n",
    "    bag = {\n",
    "        \"info\": info,\n",
    "        \"data\": data\n",
    "    }\n",
    "\n",
    "    path = Path(fname).expanduser()\n",
    "    compress = compression(path)\n",
    "\n",
    "    with path.open(\"wb\") as fd:\n",
    "        if compress:\n",
    "            d = pickle.dumps(bag)\n",
    "            d = gzip.compress(d, compresslevel=compressionlevel)\n",
    "            fd.write(d)\n",
    "        else:\n",
    "            pickle.dump(bag, fd)\n",
    "\n",
    "def read(fname):\n",
    "    \"\"\"\n",
    "    Opens and reads a data file.\n",
    "    fname: file name, file extension: *.dil=uncompressess, *.dil.gz=compressed\n",
    "    \"\"\"\n",
    "    path = Path(fname).expanduser()\n",
    "    compress = compression(path)\n",
    "\n",
    "    with path.open(\"rb\") as fd:\n",
    "        if compress:\n",
    "            d = fd.read()\n",
    "            d = gzip.decompress(d)\n",
    "            data = pickle.loads(d)\n",
    "        else:\n",
    "            data = pickle.load(fd)\n",
    "\n",
    "    return data"
   ]
  },
  {
   "cell_type": "code",
   "execution_count": 2,
   "id": "8b131f98-572d-485f-adae-ea99b12c5cf6",
   "metadata": {},
   "outputs": [],
   "source": [
    "from collections import namedtuple\n",
    "\n",
    "Sensor = namedtuple(\"Sensor\",\"x y z\")\n",
    "\n",
    "data = []\n",
    "for i in range(10):\n",
    "    data.append(Sensor(i,i,i))\n",
    "    \n",
    "write({\"a\": \"hello\"}, data, \"test.pkl\")\n",
    "read(\"test.pkl\")"
   ]
  },
  {
   "cell_type": "code",
   "execution_count": 5,
   "id": "9cc76144-0102-4d72-8a8e-1606d90adb8a",
   "metadata": {},
   "outputs": [
    {
     "data": {
      "text/plain": [
       "{'info': {'a': 'hello'},\n",
       " 'data': [Sensor(x=0, y=0, z=0),\n",
       "  Sensor(x=1, y=1, z=1),\n",
       "  Sensor(x=2, y=2, z=2),\n",
       "  Sensor(x=3, y=3, z=3),\n",
       "  Sensor(x=4, y=4, z=4),\n",
       "  Sensor(x=5, y=5, z=5),\n",
       "  Sensor(x=6, y=6, z=6),\n",
       "  Sensor(x=7, y=7, z=7),\n",
       "  Sensor(x=8, y=8, z=8),\n",
       "  Sensor(x=9, y=9, z=9)]}"
      ]
     },
     "execution_count": 5,
     "metadata": {},
     "output_type": "execute_result"
    }
   ],
   "source": [
    "write({\"a\": \"hello\"}, data, \"test.pkl.gz\")\n",
    "read(\"test.pkl.gz\")"
   ]
  },
  {
   "cell_type": "code",
   "execution_count": null,
   "id": "f50bf17c-3908-42a0-8dba-f30e16ec8fdd",
   "metadata": {},
   "outputs": [],
   "source": []
  }
 ],
 "metadata": {
  "kernelspec": {
   "display_name": "Python 3 (ipykernel)",
   "language": "python",
   "name": "python3"
  },
  "language_info": {
   "codemirror_mode": {
    "name": "ipython",
    "version": 3
   },
   "file_extension": ".py",
   "mimetype": "text/x-python",
   "name": "python",
   "nbconvert_exporter": "python",
   "pygments_lexer": "ipython3",
   "version": "3.9.10"
  }
 },
 "nbformat": 4,
 "nbformat_minor": 5
}
