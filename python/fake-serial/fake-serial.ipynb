{
 "cells": [
  {
   "cell_type": "markdown",
   "metadata": {},
   "source": [
    "![](header.jpg)\n",
    "\n",
    "# Creating a Fake Serial Port for Testing\n",
    "\n",
    "Kevin Walchko, Phd\n",
    "\n",
    "---"
   ]
  },
  {
   "cell_type": "markdown",
   "metadata": {},
   "source": [
    "## Option 1\n",
    "\n",
    "This is cross platform as far as I have found"
   ]
  },
  {
   "cell_type": "code",
   "execution_count": 2,
   "metadata": {},
   "outputs": [
    {
     "name": "stdout",
     "output_type": "stream",
     "text": [
      "b'hi'\n"
     ]
    }
   ],
   "source": [
    "from serial import serial_for_url\n",
    "\n",
    "loop_addr = 'loop://'\n",
    "serial = serial_for_url(loop_addr, timeout=0.1)\n",
    "\n",
    "serial.write(b\"hi\")   # send hi\n",
    "ans = serial.read(10) # returns the same hi\n",
    "print(ans)"
   ]
  },
  {
   "cell_type": "markdown",
   "metadata": {},
   "source": [
    "## Option 2\n",
    "\n",
    "You can create a fake serial port you can read/write on **Unix/Linux** by:"
   ]
  },
  {
   "cell_type": "code",
   "execution_count": 3,
   "metadata": {},
   "outputs": [],
   "source": [
    "import pty\n",
    "import os\n",
    "from serial import Serial\n",
    "\n",
    "master, slave = pty.openpty()\n",
    "port = os.ttyname(slave)\n",
    "serial = Serial(port)"
   ]
  },
  {
   "cell_type": "code",
   "execution_count": 10,
   "metadata": {},
   "outputs": [
    {
     "name": "stdout",
     "output_type": "stream",
     "text": [
      ">> wrote: 2\n"
     ]
    },
    {
     "data": {
      "text/plain": [
       "b'hi'"
      ]
     },
     "execution_count": 10,
     "metadata": {},
     "output_type": "execute_result"
    }
   ],
   "source": [
    "# becareful, os.read will block until all bytes read\n",
    "n = serial.write(b\"hi\")\n",
    "print(\">> wrote:\", n)\n",
    "os.read(master,2)"
   ]
  },
  {
   "cell_type": "code",
   "execution_count": null,
   "metadata": {},
   "outputs": [],
   "source": []
  }
 ],
 "metadata": {
  "kernelspec": {
   "display_name": "Python 3 (ipykernel)",
   "language": "python",
   "name": "python3"
  },
  "language_info": {
   "codemirror_mode": {
    "name": "ipython",
    "version": 3
   },
   "file_extension": ".py",
   "mimetype": "text/x-python",
   "name": "python",
   "nbconvert_exporter": "python",
   "pygments_lexer": "ipython3",
   "version": "3.9.10"
  }
 },
 "nbformat": 4,
 "nbformat_minor": 4
}
