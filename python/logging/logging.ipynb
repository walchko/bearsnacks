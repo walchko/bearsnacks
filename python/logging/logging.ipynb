{
 "cells": [
  {
   "cell_type": "markdown",
   "metadata": {},
   "source": [
    "![](../header.jpg)\n",
    "\n",
    "# Logging\n",
    "\n",
    "Kevin J. Walchko\n",
    "\n",
    "26 Apr 2020\n",
    "\n",
    "---\n",
    "\n",
    "| Level\t       | Value | Function |\n",
    "|--------------|-------|----------|\n",
    "| **CRITICAL** | 50\t| `logging.critical()` | \n",
    "| **ERROR**\t   | 40\t| `logging.error()` | \n",
    "| **WARNING**  | 30\t| `logging.warning()` | \n",
    "| **INFO**     | 20\t| `logging.info()` | \n",
    "| **DEBUG**    | 10\t| `logging.debug()` | \n",
    "\n",
    "You can also dynamically determine the log level and call `logging.log(level, msg)`.\n",
    "\n",
    "## References\n",
    "\n",
    "- [Python3 Cookbook](https://docs.python.org/3/howto/logging-cookbook.html): has some good stuff like tcp/zmq log server"
   ]
  },
  {
   "cell_type": "code",
   "execution_count": 8,
   "metadata": {},
   "outputs": [],
   "source": [
    "import logging\n",
    "\n",
    "logging.basicConfig(\n",
    "    filename=\"test.log\",\n",
    "    level=logging.DEBUG,\n",
    "    format=\"%(asctime)s:%(name)s:%(levelname)s:%(message)s\"\n",
    "    )"
   ]
  },
  {
   "cell_type": "code",
   "execution_count": 9,
   "metadata": {},
   "outputs": [],
   "source": [
    "class Foo:\n",
    "    def __init__(self, a):\n",
    "        self.logger = logging.getLogger(f\"Foo{a}\")\n",
    "        self.logger.info(f\"init: {a}\")\n",
    "        \n",
    "    def __del__(self):\n",
    "        self.logger.info(\"bye ...\")"
   ]
  },
  {
   "cell_type": "code",
   "execution_count": 10,
   "metadata": {},
   "outputs": [],
   "source": [
    "a = Foo(5)"
   ]
  },
  {
   "cell_type": "code",
   "execution_count": 11,
   "metadata": {},
   "outputs": [
    {
     "name": "stdout",
     "output_type": "stream",
     "text": [
      "2020-04-26 21:48:55,003:INFO:init: 5\n",
      "2020-04-26 21:52:28,131:INFO:init: 5\n",
      "2020-04-26 21:52:28,131:INFO:bye ...\n",
      "2020-04-26 21:56:09,584:INFO:bye ...\n",
      "2020-04-26 21:57:14,502:INFO:init: 5\n",
      "2020-04-26 21:57:14,502:INFO:bye ...\n",
      "2020-04-26 21:59:33,842:INFO:init: 5\n",
      "2020-04-26 21:59:33,842:INFO:bye ...\n",
      "2020-04-26 22:01:11,083:INFO:init: 5\n",
      "2020-04-26 22:01:11,083:INFO:bye ...\n",
      "2020-04-26 22:02:38,427:INFO:init: 5\n",
      "2020-04-26 22:02:38,427:INFO:bye ...\n",
      "2020-04-26 22:03:04,833:INFO:init: 5\n",
      "2020-04-26 22:03:04,833:INFO:bye ...\n",
      "2020-04-26 22:03:47,589:INFO:bye ...\n",
      "INFO:Foo5:init: 5\n",
      "INFO:Foo5:init: 5\n",
      "INFO:Foo5:bye ...\n",
      "INFO:Foo5:bye ...\n",
      "2020-04-26 22:04:45,297:Foo5:INFO:init: 5\n",
      "2020-04-26 22:09:07,316:Foo5:INFO:init: 5\n",
      "2020-04-26 22:09:07,316:Foo5:INFO:bye ...\n",
      "2020-04-26 22:09:18,085:Foo5:INFO:init: 5\n",
      "2020-04-26 22:09:18,086:Foo5:INFO:bye ...\n"
     ]
    }
   ],
   "source": [
    "!cat test.log"
   ]
  },
  {
   "cell_type": "code",
   "execution_count": null,
   "metadata": {},
   "outputs": [],
   "source": []
  }
 ],
 "metadata": {
  "kernelspec": {
   "display_name": "Python 3 (ipykernel)",
   "language": "python",
   "name": "python3"
  },
  "language_info": {
   "codemirror_mode": {
    "name": "ipython",
    "version": 3
   },
   "file_extension": ".py",
   "mimetype": "text/x-python",
   "name": "python",
   "nbconvert_exporter": "python",
   "pygments_lexer": "ipython3",
   "version": "3.9.10"
  }
 },
 "nbformat": 4,
 "nbformat_minor": 4
}
