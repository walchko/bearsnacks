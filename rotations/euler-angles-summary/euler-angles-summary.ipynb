{
 "cells": [
  {
   "cell_type": "markdown",
   "id": "3acfade8-84bb-45f9-b6f3-0d532aefce21",
   "metadata": {
    "tags": []
   },
   "source": [
    "![](header.webp)\n",
    "\n",
    "# Euler Angles Summary\n",
    "\n",
    "Kevin Walchko\n",
    "\n",
    "---\n",
    "\n",
    "## R321 Definition\n",
    "\n",
    "- Common one used\n",
    "- Tait-Bryan angle\n",
    "- R321 is inertial-to-body\n",
    "- Order of rotation:\n",
    "    - $\\psi$,$\\theta$,$\\phi$\n",
    "    - Yaw, pitch, roll\n",
    "- z positive down\n",
    "- singularity at $\\theta$ = $\\pi$/2 [Hughes]\n",
    "- $R321^T \\ne R123$, these are different\n",
    "\n",
    "$$\n",
    "\\begin{align*}\n",
    "x^{body} &= R_1(\\phi) R_2(\\theta) R_3(\\psi) x^{nav} \\\\ \n",
    "         &= \\left[ R_x R_y R_z \\right] x^{nav} \\\\\n",
    "         &= R_{321}(\\psi,\\theta,\\phi) x^{nav} \\\\\n",
    "\\\\\n",
    "x^{nav}  &= R_1^T(\\phi) R_2^T(\\theta) R_3^T(\\psi) \\\\\n",
    "         &= R_{321}^T x^{body}\n",
    "\\end{align*}\n",
    "$$\n",
    "\n",
    "## R313 Definition\n",
    "\n",
    "- Don't use this one \n",
    "- Proper Euler angle\n",
    "- inertial-to-body\n",
    "- Order of rotation:\n",
    "    - $\\psi$,$\\theta$,$\\phi$\n",
    "    - $\\alpha$, $\\beta$, $\\gamma$ (wikipedia notation) \n",
    "    - Precenssion, nutation, intrinsic rotation\n",
    "- z positive up\n",
    "- singularity at $\\theta$ = 0 [Hughes]\n",
    "\n",
    "$$\n",
    "\\begin{align*}\n",
    "x^{body} &= R_3(\\phi) R_1(\\theta) R_3(\\psi) x^{nav} \\\\ \n",
    "         &= \\left[ R_z R_x R_z \\right] x^{nav} \\\\\n",
    "         &= R_{313}(\\psi,\\theta,\\phi) x^{nav} \\\\\n",
    "\\\\\n",
    "x^{nav}  &= R_{313}^T x^{body}\n",
    "\\end{align*}\n",
    "$$\n",
    "\n",
    "## References\n",
    "\n",
    "- Peter C. Hughes, \"Spacecraft Attitude Dynamics,\" Dover Books on Engineering, 2004, p19.\n",
    "- wikipedia: [Euler angles](https://en.wikipedia.org/wiki/Euler_angles#Rotation_matrix)\n",
    "- Bearsnacks: [Euler angles and quaternions](https://nbviewer.org/github/walchko/bearsnacks/blob/main/navigation-and-mapping/euler-quaternion/euler-quaternion.ipynb)"
   ]
  },
  {
   "cell_type": "code",
   "execution_count": 1,
   "id": "2cc309e5-ea96-428f-abcd-61e70a0a68a4",
   "metadata": {},
   "outputs": [],
   "source": [
    "%load_ext autoreload\n",
    "%autoreload 2"
   ]
  },
  {
   "cell_type": "code",
   "execution_count": 15,
   "id": "f05b5202-5b3e-4057-9bce-69204d005b7f",
   "metadata": {},
   "outputs": [],
   "source": [
    "# for symbolic mathematics\n",
    "import sympy\n",
    "from sympy import symbols, simplify\n",
    "from sympy import latex\n",
    "from sympy import Matrix\n",
    "from sympy import cos, sin\n",
    "\n",
    "import numpy as np"
   ]
  },
  {
   "cell_type": "code",
   "execution_count": 16,
   "id": "db8cbdfa-197c-4e6a-98a9-44f7d2e6b9b4",
   "metadata": {},
   "outputs": [],
   "source": [
    "x,y,z = symbols(\"x y z\")"
   ]
  },
  {
   "cell_type": "code",
   "execution_count": 17,
   "id": "02b642bb-b1be-4c59-b08a-323201c4c2a4",
   "metadata": {},
   "outputs": [],
   "source": [
    "# x,y,z = symbols(\"x y z\")\n",
    "\n",
    "# rotate about z-axis\n",
    "Rz = np.array([\n",
    "    [cos(z), sin(z), 0],\n",
    "    [-sin(z), cos(z),0],\n",
    "    [0,0,1]\n",
    "])\n",
    "\n",
    "# rotate about y-axis\n",
    "Ry = np.array([\n",
    "    [cos(y), 0, -sin(y)],\n",
    "    [0,1,0],\n",
    "    [sin(y),0,cos(y)]\n",
    "])\n",
    "\n",
    "# rotate about the x-axis\n",
    "Rx = np.array([\n",
    "    [1,0,0],\n",
    "    [0,cos(x),sin(x)],\n",
    "    [0, -sin(x),cos(x)]\n",
    "])"
   ]
  },
  {
   "cell_type": "code",
   "execution_count": 18,
   "id": "528e2afb-9746-47a7-a5d8-9b94b0277772",
   "metadata": {},
   "outputs": [
    {
     "data": {
      "text/latex": [
       "$\\displaystyle \\left[\\begin{matrix}\\cos{\\left(y \\right)} \\cos{\\left(z \\right)} & \\sin{\\left(z \\right)} \\cos{\\left(y \\right)} & - \\sin{\\left(y \\right)}\\\\\\sin{\\left(x \\right)} \\sin{\\left(y \\right)} \\cos{\\left(z \\right)} - \\sin{\\left(z \\right)} \\cos{\\left(x \\right)} & \\sin{\\left(x \\right)} \\sin{\\left(y \\right)} \\sin{\\left(z \\right)} + \\cos{\\left(x \\right)} \\cos{\\left(z \\right)} & \\sin{\\left(x \\right)} \\cos{\\left(y \\right)}\\\\\\sin{\\left(x \\right)} \\sin{\\left(z \\right)} + \\sin{\\left(y \\right)} \\cos{\\left(x \\right)} \\cos{\\left(z \\right)} & - \\sin{\\left(x \\right)} \\cos{\\left(z \\right)} + \\sin{\\left(y \\right)} \\sin{\\left(z \\right)} \\cos{\\left(x \\right)} & \\cos{\\left(x \\right)} \\cos{\\left(y \\right)}\\end{matrix}\\right]$"
      ],
      "text/plain": [
       "Matrix([\n",
       "[                       cos(y)*cos(z),                         sin(z)*cos(y),       -sin(y)],\n",
       "[sin(x)*sin(y)*cos(z) - sin(z)*cos(x),  sin(x)*sin(y)*sin(z) + cos(x)*cos(z), sin(x)*cos(y)],\n",
       "[sin(x)*sin(z) + sin(y)*cos(x)*cos(z), -sin(x)*cos(z) + sin(y)*sin(z)*cos(x), cos(x)*cos(y)]])"
      ]
     },
     "execution_count": 18,
     "metadata": {},
     "output_type": "execute_result"
    }
   ],
   "source": [
    "R321 = Matrix(Rx @ Ry @ Rz)\n",
    "R321"
   ]
  },
  {
   "cell_type": "code",
   "execution_count": 19,
   "id": "5572c6cc-a18e-4df7-b9a8-e756f573fa59",
   "metadata": {},
   "outputs": [
    {
     "data": {
      "text/latex": [
       "$\\displaystyle \\left[\\begin{matrix}\\cos{\\left(y \\right)} \\cos{\\left(z \\right)} & \\sin{\\left(x \\right)} \\sin{\\left(y \\right)} \\cos{\\left(z \\right)} + \\sin{\\left(z \\right)} \\cos{\\left(x \\right)} & \\sin{\\left(x \\right)} \\sin{\\left(z \\right)} - \\sin{\\left(y \\right)} \\cos{\\left(x \\right)} \\cos{\\left(z \\right)}\\\\- \\sin{\\left(z \\right)} \\cos{\\left(y \\right)} & - \\sin{\\left(x \\right)} \\sin{\\left(y \\right)} \\sin{\\left(z \\right)} + \\cos{\\left(x \\right)} \\cos{\\left(z \\right)} & \\sin{\\left(x \\right)} \\cos{\\left(z \\right)} + \\sin{\\left(y \\right)} \\sin{\\left(z \\right)} \\cos{\\left(x \\right)}\\\\\\sin{\\left(y \\right)} & - \\sin{\\left(x \\right)} \\cos{\\left(y \\right)} & \\cos{\\left(x \\right)} \\cos{\\left(y \\right)}\\end{matrix}\\right]$"
      ],
      "text/plain": [
       "Matrix([\n",
       "[ cos(y)*cos(z),  sin(x)*sin(y)*cos(z) + sin(z)*cos(x), sin(x)*sin(z) - sin(y)*cos(x)*cos(z)],\n",
       "[-sin(z)*cos(y), -sin(x)*sin(y)*sin(z) + cos(x)*cos(z), sin(x)*cos(z) + sin(y)*sin(z)*cos(x)],\n",
       "[        sin(y),                        -sin(x)*cos(y),                        cos(x)*cos(y)]])"
      ]
     },
     "execution_count": 19,
     "metadata": {},
     "output_type": "execute_result"
    }
   ],
   "source": [
    "# often, people think this is the opposite/inverse/transpose of R321, but is is not\n",
    "R123 = Matrix(Rz @ Ry @ Rx)\n",
    "R123"
   ]
  },
  {
   "cell_type": "code",
   "execution_count": 20,
   "id": "862d742f-56ce-47ee-9bab-9916aa848890",
   "metadata": {},
   "outputs": [
    {
     "data": {
      "text/plain": [
       "False"
      ]
     },
     "execution_count": 20,
     "metadata": {},
     "output_type": "execute_result"
    }
   ],
   "source": [
    "# these are not equal and will fail with \"False\"\n",
    "R321 == R123.T"
   ]
  },
  {
   "cell_type": "code",
   "execution_count": 21,
   "id": "69bec372-b907-4ab4-892a-8a84ef65624b",
   "metadata": {},
   "outputs": [
    {
     "data": {
      "text/latex": [
       "$\\displaystyle \\left[\\begin{matrix}\\cos{\\left(y \\right)} \\cos{\\left(z \\right)} & \\sin{\\left(x \\right)} \\sin{\\left(y \\right)} \\cos{\\left(z \\right)} - \\sin{\\left(z \\right)} \\cos{\\left(x \\right)} & \\sin{\\left(x \\right)} \\sin{\\left(z \\right)} + \\sin{\\left(y \\right)} \\cos{\\left(x \\right)} \\cos{\\left(z \\right)}\\\\\\sin{\\left(z \\right)} \\cos{\\left(y \\right)} & \\sin{\\left(x \\right)} \\sin{\\left(y \\right)} \\sin{\\left(z \\right)} + \\cos{\\left(x \\right)} \\cos{\\left(z \\right)} & - \\sin{\\left(x \\right)} \\cos{\\left(z \\right)} + \\sin{\\left(y \\right)} \\sin{\\left(z \\right)} \\cos{\\left(x \\right)}\\\\- \\sin{\\left(y \\right)} & \\sin{\\left(x \\right)} \\cos{\\left(y \\right)} & \\cos{\\left(x \\right)} \\cos{\\left(y \\right)}\\end{matrix}\\right]$"
      ],
      "text/plain": [
       "Matrix([\n",
       "[cos(y)*cos(z), sin(x)*sin(y)*cos(z) - sin(z)*cos(x),  sin(x)*sin(z) + sin(y)*cos(x)*cos(z)],\n",
       "[sin(z)*cos(y), sin(x)*sin(y)*sin(z) + cos(x)*cos(z), -sin(x)*cos(z) + sin(y)*sin(z)*cos(x)],\n",
       "[      -sin(y),                        sin(x)*cos(y),                         cos(x)*cos(y)]])"
      ]
     },
     "execution_count": 21,
     "metadata": {},
     "output_type": "execute_result"
    }
   ],
   "source": [
    "# this is the proper way to do this\n",
    "R321T = Matrix(Rz.T @ Ry.T @ Rx.T)\n",
    "R321T"
   ]
  },
  {
   "cell_type": "code",
   "execution_count": 22,
   "id": "6ba4187f-e156-4c58-a07f-9bbc71e6a0e7",
   "metadata": {},
   "outputs": [
    {
     "data": {
      "text/plain": [
       "True"
      ]
     },
     "execution_count": 22,
     "metadata": {},
     "output_type": "execute_result"
    }
   ],
   "source": [
    "# now this should give you a \"True\"\n",
    "R321.T == R321T"
   ]
  },
  {
   "cell_type": "markdown",
   "id": "2bcc2369-0860-47dc-9bdd-fb8bdbc7a4c5",
   "metadata": {},
   "source": [
    "# Numerical\n",
    "\n",
    "Just verifying the order of the rotations is correct."
   ]
  },
  {
   "cell_type": "code",
   "execution_count": 23,
   "id": "2d8cada0-8160-4499-b608-ea55c37e73e9",
   "metadata": {},
   "outputs": [],
   "source": [
    "import numpy as np  # matrix manipulations\n",
    "np.set_printoptions(precision=4, suppress=True)\n",
    "\n",
    "from rotations import R1, R2, R3\n",
    "from rotations import R321, R313"
   ]
  },
  {
   "cell_type": "code",
   "execution_count": 24,
   "id": "2acc46f2-d0bc-4043-a7af-1b260de59532",
   "metadata": {},
   "outputs": [
    {
     "name": "stdout",
     "output_type": "stream",
     "text": [
      "True\n"
     ]
    }
   ],
   "source": [
    "# since these are in degrees, I will use True in\n",
    "# the following functions\n",
    "one, two, three = 90, 135,-190\n",
    "\n",
    "rzyx = R1(three, True) @ R2(two,True) @ R3(one,True)\n",
    "r321 = R321(one,two,three,True)\n",
    "\n",
    "print(np.allclose(r321, rzyx))"
   ]
  },
  {
   "cell_type": "code",
   "execution_count": 25,
   "id": "1a1c809d-4b2f-4a7c-8d94-6673b1488398",
   "metadata": {},
   "outputs": [
    {
     "name": "stdout",
     "output_type": "stream",
     "text": [
      "True\n"
     ]
    }
   ],
   "source": [
    "rzxz = R3(three, True) @ R1(two,True) @ R3(one,True)\n",
    "r313 = R313(one,two,three,True)\n",
    "\n",
    "print(np.allclose(r313, rzxz))"
   ]
  },
  {
   "cell_type": "code",
   "execution_count": null,
   "id": "a4bc7ae3-ef6f-458c-981d-fd2dc9b265e8",
   "metadata": {},
   "outputs": [],
   "source": []
  }
 ],
 "metadata": {
  "kernelspec": {
   "display_name": "Python 3 (ipykernel)",
   "language": "python",
   "name": "python3"
  },
  "language_info": {
   "codemirror_mode": {
    "name": "ipython",
    "version": 3
   },
   "file_extension": ".py",
   "mimetype": "text/x-python",
   "name": "python",
   "nbconvert_exporter": "python",
   "pygments_lexer": "ipython3",
   "version": "3.10.5"
  }
 },
 "nbformat": 4,
 "nbformat_minor": 5
}
