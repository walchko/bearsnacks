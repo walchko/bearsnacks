{
 "cells": [
  {
   "cell_type": "markdown",
   "id": "3acfade8-84bb-45f9-b6f3-0d532aefce21",
   "metadata": {
    "tags": []
   },
   "source": [
    "![](header.webp)\n",
    "\n",
    "# Euler Angles Summary\n",
    "\n",
    "Kevin Walchko\n",
    "\n",
    "---\n",
    "\n",
    "## R321 Definition\n",
    "\n",
    "- Tait-Bryan angle\n",
    "- inertial-to-body\n",
    "- Order of rotation:\n",
    "    - $\\psi$,$\\theta$,$\\phi$\n",
    "    - Yaw, pitch, roll\n",
    "- z positive down\n",
    "- singularity at $\\theta$ = $\\pi$/2 [Hughes]\n",
    "\n",
    "$$\n",
    "\\begin{align*}\n",
    "x^{body} &= R_1(\\phi) R_2(\\theta) R_3(\\psi) x^{nav} \\\\ \n",
    "         &= \\left[ R_x R_y R_z \\right] x^{nav} \\\\\n",
    "         &= R_{321}(\\psi,\\theta,\\phi) x^{nav} \\\\\n",
    "\\\\\n",
    "x^{nav}  &= R_{321}^T x^{body}\n",
    "\\end{align*}\n",
    "$$\n",
    "\n",
    "## R313 Definition\n",
    "\n",
    "- Proper Euler angle\n",
    "- inertial-to-body\n",
    "- Order of rotation:\n",
    "    - $\\psi$,$\\theta$,$\\phi$\n",
    "    - $\\alpha$, $\\beta$, $\\gamma$ (wikipedia notation) \n",
    "    - Precenssion, nutation, intrinsic rotation\n",
    "- z positive up\n",
    "- singularity at $\\theta$ = 0 [Hughes]\n",
    "\n",
    "$$\n",
    "\\begin{align*}\n",
    "x^{body} &= R_3(\\phi) R_1(\\theta) R_3(\\psi) x^{nav} \\\\ \n",
    "         &= \\left[ R_z R_x R_z \\right] x^{nav} \\\\\n",
    "         &= R_{313}(\\psi,\\theta,\\phi) x^{nav} \\\\\n",
    "\\\\\n",
    "x^{nav}  &= R_{313}^T x^{body}\n",
    "\\end{align*}\n",
    "$$\n",
    "\n",
    "## References\n",
    "\n",
    "- Peter C. Hughes, \"Spacecraft Attitude Dynamics,\" Dover Books on Engineering, 2004, p19.\n",
    "- [wikipedia: Euler angles](https://en.wikipedia.org/wiki/Euler_angles#Rotation_matrix)"
   ]
  },
  {
   "cell_type": "code",
   "execution_count": 1,
   "id": "2cc309e5-ea96-428f-abcd-61e70a0a68a4",
   "metadata": {},
   "outputs": [],
   "source": [
    "%load_ext autoreload\n",
    "%autoreload 2"
   ]
  },
  {
   "cell_type": "code",
   "execution_count": 2,
   "id": "d84e04f9-4d5a-45a3-bb0a-52f660fe9b19",
   "metadata": {},
   "outputs": [],
   "source": [
    "import numpy as np  # matrix manipulations\n",
    "np.set_printoptions(precision=4, suppress=True)"
   ]
  },
  {
   "cell_type": "code",
   "execution_count": 3,
   "id": "6a2b4138-8fe9-465c-9910-f221071b7356",
   "metadata": {},
   "outputs": [],
   "source": [
    "from rotations import R1, R2, R3\n",
    "from rotations import R321, R313"
   ]
  },
  {
   "cell_type": "code",
   "execution_count": 8,
   "id": "2acc46f2-d0bc-4043-a7af-1b260de59532",
   "metadata": {},
   "outputs": [
    {
     "name": "stdout",
     "output_type": "stream",
     "text": [
      "True\n"
     ]
    }
   ],
   "source": [
    "# since these are in degrees, I will use True in\n",
    "# the following functions\n",
    "one, two, three = 90, 135,-190\n",
    "\n",
    "rzyx = R1(three, True) @ R2(two,True) @ R3(one,True)\n",
    "r321 = R321(one,two,three,True)\n",
    "\n",
    "print(np.allclose(r321, rzyx))"
   ]
  },
  {
   "cell_type": "code",
   "execution_count": 16,
   "id": "1a1c809d-4b2f-4a7c-8d94-6673b1488398",
   "metadata": {},
   "outputs": [
    {
     "name": "stdout",
     "output_type": "stream",
     "text": [
      "True\n"
     ]
    }
   ],
   "source": [
    "rzxz = R3(three, True) @ R1(two,True) @ R3(one,True)\n",
    "r313 = R313(one,two,three,True)\n",
    "\n",
    "print(np.allclose(r313, rzxz))"
   ]
  },
  {
   "cell_type": "code",
   "execution_count": null,
   "id": "a4bc7ae3-ef6f-458c-981d-fd2dc9b265e8",
   "metadata": {},
   "outputs": [],
   "source": []
  }
 ],
 "metadata": {
  "kernelspec": {
   "display_name": "Python 3 (ipykernel)",
   "language": "python",
   "name": "python3"
  },
  "language_info": {
   "codemirror_mode": {
    "name": "ipython",
    "version": 3
   },
   "file_extension": ".py",
   "mimetype": "text/x-python",
   "name": "python",
   "nbconvert_exporter": "python",
   "pygments_lexer": "ipython3",
   "version": "3.10.5"
  }
 },
 "nbformat": 4,
 "nbformat_minor": 5
}
