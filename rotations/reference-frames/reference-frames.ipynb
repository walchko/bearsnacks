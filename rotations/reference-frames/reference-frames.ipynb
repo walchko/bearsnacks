{
 "cells": [
  {
   "cell_type": "markdown",
   "id": "a0c69e66-52ab-4c59-985f-310f061d7423",
   "metadata": {},
   "source": [
    "![](../header.jpg)\n",
    "\n",
    "# Reference Frames\n",
    "\n",
    "Kevin Walchko\n",
    "\n",
    "21 May 2022\n",
    "\n",
    "---\n",
    "\n",
    "Using local tangental frames to the Earth's surface is useful for navigational purposes, especially in robotics. There are two common frames used, NED and ENU. Below we will convert between geodetic frame (GPS), ECEF (global) and the local frames."
   ]
  },
  {
   "cell_type": "code",
   "execution_count": 1,
   "id": "a8fcd415-7e1b-4f31-b865-ad48337dab8a",
   "metadata": {},
   "outputs": [],
   "source": [
    "%load_ext autoreload\n",
    "%autoreload 2"
   ]
  },
  {
   "cell_type": "code",
   "execution_count": 19,
   "id": "da1c5f87-c93f-4fe0-84c7-9b006910ae7e",
   "metadata": {},
   "outputs": [],
   "source": [
    "from ins_nav import NavigationFrame\n",
    "from ins_nav import WGS84\n",
    "import numpy as np\n",
    "from numpy.linalg import norm\n",
    "np.set_printoptions(precision=4, suppress=True)\n",
    "\n",
    "rad2deg = 180 / np.pi"
   ]
  },
  {
   "cell_type": "code",
   "execution_count": 27,
   "id": "a515f2b2-8466-4cea-9b0d-73d47f71df9f",
   "metadata": {},
   "outputs": [],
   "source": [
    "ref = (40,-90, 0) # (lat, lon, altitude)\n",
    "\n",
    "wgs = WGS84()\n",
    "frame = NavigationFrame(ref)"
   ]
  },
  {
   "cell_type": "code",
   "execution_count": 12,
   "id": "1f00bfdc-99b6-44a1-bb1e-f71267f8477b",
   "metadata": {},
   "outputs": [
    {
     "name": "stdout",
     "output_type": "stream",
     "text": [
      "Frame origin ll: 40.00, -90.00\n",
      "Frame origin ECEF: [       0.     -4892707.6001  4077985.5722]\n"
     ]
    }
   ],
   "source": [
    "print(f\"Frame origin ll: {frame.latr*rad2deg:.2f}, {frame.lonr*rad2deg:.2f}\")\n",
    "print(f\"Frame origin ECEF: {frame.ecefr}\")"
   ]
  },
  {
   "cell_type": "code",
   "execution_count": 16,
   "id": "a6ea744a-8e9d-4e41-9d4a-dc307b079379",
   "metadata": {},
   "outputs": [
    {
     "data": {
      "text/plain": [
       "array([-0., -0.,  0.])"
      ]
     },
     "execution_count": 16,
     "metadata": {},
     "output_type": "execute_result"
    }
   ],
   "source": [
    "# convert origin to NED ... should be [0,0,0]\n",
    "refecef = wgs.llh2ecef(ref)\n",
    "frame.ecef2ned(refecef)"
   ]
  },
  {
   "cell_type": "code",
   "execution_count": 21,
   "id": "13932223-1e79-4779-8046-cb50061f4f4e",
   "metadata": {},
   "outputs": [
    {
     "name": "stdout",
     "output_type": "stream",
     "text": [
      "[       0.     -4892643.3213  4078062.1766]\n"
     ]
    }
   ],
   "source": [
    "# let's say we move 100 m in NED frame\n",
    "pos = [100,0,0]\n",
    "posecef = frame.ned2ecef(pos)\n",
    "print(posecef)"
   ]
  },
  {
   "cell_type": "code",
   "execution_count": 22,
   "id": "2f269587-6af8-4c78-8fbb-3b8c5bdd1985",
   "metadata": {},
   "outputs": [
    {
     "name": "stdout",
     "output_type": "stream",
     "text": [
      "Change in distance: 100.00000000006042\n"
     ]
    }
   ],
   "source": [
    "# lets see if we have moved 100m in ECEF frame too? should be \"YES\"\n",
    "print(f\"Change in distance: {norm(posecef - frame.ecefr)} m\")"
   ]
  },
  {
   "cell_type": "code",
   "execution_count": 24,
   "id": "d765fefc-7dda-4e8b-bcd1-c5ef7cc0797e",
   "metadata": {},
   "outputs": [
    {
     "name": "stdout",
     "output_type": "stream",
     "text": [
      "NED: [500, 600, -400]\n",
      "ENU: [600. 500. 400.]\n"
     ]
    }
   ],
   "source": [
    "# going to do this the long way first\n",
    "#\n",
    "# NED -> ECEF -> ENU\n",
    "ned = [500, 600, -400]\n",
    "tmp = frame.ned2ecef(ned)\n",
    "enu = frame.ecef2enu(tmp)\n",
    "\n",
    "print(f\"NED: {ned}\")\n",
    "print(f\"ENU: {enu}\")"
   ]
  },
  {
   "cell_type": "code",
   "execution_count": 25,
   "id": "864c7b2f-f009-4a39-b158-524d257f3650",
   "metadata": {},
   "outputs": [],
   "source": [
    "# Also notice this matrix is the same when transposed!\n",
    "#\n",
    "# Rned2enu == Rned2enu.T\n",
    "#\n",
    "# Thus it could be used for both conversions without transpose\n",
    "Rned2enu = np.array([\n",
    "    [0,1,0],\n",
    "    [1,0,0],\n",
    "    [0,0,-1]\n",
    "])"
   ]
  },
  {
   "cell_type": "code",
   "execution_count": 26,
   "id": "0f1b4c22-60b3-47ae-8c36-aedd50283a4a",
   "metadata": {},
   "outputs": [
    {
     "name": "stdout",
     "output_type": "stream",
     "text": [
      "Now using the matrix, ENU: [600 500 400]\n",
      "And back to NED: [ 500.  600. -400.]\n"
     ]
    }
   ],
   "source": [
    "# this should give the originals above\n",
    "print(f\"Now using the matrix, ENU: {Rned2enu @ ned}\")\n",
    "print(f\"And back to NED: {Rned2enu.T @ enu}\")"
   ]
  },
  {
   "cell_type": "code",
   "execution_count": 28,
   "id": "ba7b14fd-c41a-46c9-9809-84ca36315344",
   "metadata": {},
   "outputs": [
    {
     "name": "stdout",
     "output_type": "stream",
     "text": [
      "Now using the matrix, ENU: [600 500 400]\n",
      "And back to NED: [ 500.  600. -400.]\n"
     ]
    }
   ],
   "source": [
    "# we can also do this with NaviagtionalFrame\n",
    "# this should give the originals above\n",
    "print(f\"Now using the matrix, ENU: {frame.ned2enu(ned)}\")\n",
    "print(f\"And back to NED: {frame.enu2ned(enu)}\")"
   ]
  },
  {
   "cell_type": "code",
   "execution_count": null,
   "id": "7f747e1d-a8e2-45f3-a011-d75fb20ee51a",
   "metadata": {},
   "outputs": [],
   "source": []
  }
 ],
 "metadata": {
  "kernelspec": {
   "display_name": "Python 3 (ipykernel)",
   "language": "python",
   "name": "python3"
  },
  "language_info": {
   "codemirror_mode": {
    "name": "ipython",
    "version": 3
   },
   "file_extension": ".py",
   "mimetype": "text/x-python",
   "name": "python",
   "nbconvert_exporter": "python",
   "pygments_lexer": "ipython3",
   "version": "3.10.5"
  }
 },
 "nbformat": 4,
 "nbformat_minor": 5
}
